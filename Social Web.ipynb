{
 "cells": [
  {
   "cell_type": "code",
   "execution_count": 258,
   "metadata": {},
   "outputs": [
    {
     "name": "stderr",
     "output_type": "stream",
     "text": [
      "[nltk_data] Downloading package vader_lexicon to C:\\nltk_data...\n",
      "[nltk_data]   Package vader_lexicon is already up-to-date!\n"
     ]
    }
   ],
   "source": [
    "import pandas as pd\n",
    "import nltk\n",
    "import matplotlib.pyplot as plt\n",
    "import os\n",
    "import glob\n",
    "from nltk.sentiment.vader import SentimentIntensityAnalyzer\n",
    "nltk.download('vader_lexicon')\n",
    "sid = SentimentIntensityAnalyzer()\n",
    "pd.options.display.max_colwidth = 10000\n",
    "#2020-11-02-01"
   ]
  },
  {
   "cell_type": "code",
   "execution_count": 352,
   "metadata": {},
   "outputs": [
    {
     "name": "stderr",
     "output_type": "stream",
     "text": [
      "<ipython-input-352-82583a72a102>:3: DtypeWarning: Columns (0,5,6,7,8,11) have mixed types.Specify dtype option on import or set low_memory=False.\n",
      "  df = pd.concat((pd.read_csv(f, sep=';') for f in all_files), ignore_index=True)\n"
     ]
    }
   ],
   "source": [
    "path = 'hydrated_tweets/2020-11'\n",
    "all_files = glob.glob(os.path.join(path, \"*.csv\"))\n",
    "df = pd.concat((pd.read_csv(f, sep=';') for f in all_files), ignore_index=True)\n",
    "df = df.dropna(subset=['location'], how='all')\n",
    "df['text'] = df['text'].str.lower()"
   ]
  },
  {
   "cell_type": "code",
   "execution_count": 353,
   "metadata": {},
   "outputs": [],
   "source": [
    "states = ['Alabama', 'Alaska', 'Arizona', 'Arkansas', 'California', 'Colorado', 'Connecticut', 'Delaware', 'Florida', 'Georgia', 'Hawaii', 'Idaho', 'Illinois', 'Indiana', 'Iowa', 'Kansas', 'Kentucky', 'Louisiana', 'Maine', 'Maryland', 'Massachusetts', 'Michigan', 'Minnesota', 'Mississippi', 'Missouri', 'Montana', 'Nebraska', 'Nevada', 'New Hampshire', 'New Jersey', 'New York', 'New Mexico', 'North Carolina', 'North Dakota', 'Ohio', 'Oklahoma', 'Oregon', 'Pennsylvania', 'Rhode Island', 'South Carolina', 'South Dakota', 'Tennessee', 'Texas', 'Utah', 'Vermont', 'Virginia', 'Washington', 'West Virginia', 'Wisconsin', 'Wyoming']\n",
    "stateCodes = ['AL', 'AK', 'AZ', 'AR', 'CA', 'CO', 'CT', 'DE', 'FL', 'GA', 'HI', 'ID', 'IL', 'IN', 'IA', 'KS', 'KY', 'LA', 'ME', 'MD', 'MA', 'MI', 'MN', 'MS', 'MO', 'MT', 'NE', 'NV', 'NH', 'NJ', 'NM', 'NY', 'NC', 'ND', 'OH', 'OK', 'OR', 'PA', 'RI', 'SC', 'SD', 'TN', 'TX', 'UT', 'VT', 'VA', 'WA', 'WV', 'WI', 'WY']\n",
    "stateMapping = {'AL': 'Alabama', 'AK': 'Alaska', 'AZ': 'Arizona', 'AR': 'Arkansas', 'CA': 'California', 'CO': 'Colorado', 'CT': 'Connecticut', 'DE': 'Delaware', 'FL': 'Florida', 'GA': 'Georgia', 'HI': 'Hawaii', 'ID': 'Idaho', 'IL': 'Illinois', 'IN': 'Indiana', 'IA': 'Iowa', 'KS': 'Kansas', 'KY': 'Kentucky', 'LA': 'Louisiana', 'ME': 'Maine', 'MD': 'Maryland', 'MA': 'Massachusetts', 'MI': 'Michigan', 'MN': 'Minnesota', 'MS': 'Mississippi', 'MO': 'Missouri', 'MT': 'Montana', 'NE': 'Nebraska', 'NV': 'Nevada', 'NH': 'New Hampshire', 'NJ': 'New Jersey', 'NY': 'New York', 'NM': 'New Mexico', 'NC': 'North Carolina', 'ND': 'North Dakota', 'OH': 'Ohio', 'OK': 'Oklahoma', 'OR': 'Oregon', 'PA': 'Pennsylvania', 'RI': 'Rhode Island', 'SC': 'South Carolina', 'SD': 'South Dakota', 'TN': 'Tennessee', 'TX': 'Texas', 'UT':  'Utah', 'VT': 'Vermont', 'VA': 'Virginia', 'WA': 'Washington', 'WV':  'West Virginia', 'WI': 'Wisconsin', 'WY': 'Wyoming'}"
   ]
  },
  {
   "cell_type": "code",
   "execution_count": 354,
   "metadata": {},
   "outputs": [
    {
     "data": {
      "text/html": [
       "<div>\n",
       "<style scoped>\n",
       "    .dataframe tbody tr th:only-of-type {\n",
       "        vertical-align: middle;\n",
       "    }\n",
       "\n",
       "    .dataframe tbody tr th {\n",
       "        vertical-align: top;\n",
       "    }\n",
       "\n",
       "    .dataframe thead th {\n",
       "        text-align: right;\n",
       "    }\n",
       "</style>\n",
       "<table border=\"1\" class=\"dataframe\">\n",
       "  <thead>\n",
       "    <tr style=\"text-align: right;\">\n",
       "      <th></th>\n",
       "      <th>term</th>\n",
       "      <th>party</th>\n",
       "    </tr>\n",
       "  </thead>\n",
       "  <tbody>\n",
       "    <tr>\n",
       "      <th>54</th>\n",
       "      <td>ballot</td>\n",
       "      <td>N</td>\n",
       "    </tr>\n",
       "    <tr>\n",
       "      <th>55</th>\n",
       "      <td>mailin</td>\n",
       "      <td>N</td>\n",
       "    </tr>\n",
       "    <tr>\n",
       "      <th>56</th>\n",
       "      <td>mail-in</td>\n",
       "      <td>N</td>\n",
       "    </tr>\n",
       "    <tr>\n",
       "      <th>57</th>\n",
       "      <td>mail in</td>\n",
       "      <td>N</td>\n",
       "    </tr>\n",
       "    <tr>\n",
       "      <th>89</th>\n",
       "      <td>presidential debate</td>\n",
       "      <td>N</td>\n",
       "    </tr>\n",
       "    <tr>\n",
       "      <th>90</th>\n",
       "      <td>#debates</td>\n",
       "      <td>N</td>\n",
       "    </tr>\n",
       "    <tr>\n",
       "      <th>91</th>\n",
       "      <td>presidentialdebate</td>\n",
       "      <td>N</td>\n",
       "    </tr>\n",
       "    <tr>\n",
       "      <th>92</th>\n",
       "      <td>electoral vote</td>\n",
       "      <td>N</td>\n",
       "    </tr>\n",
       "    <tr>\n",
       "      <th>93</th>\n",
       "      <td>debates2020</td>\n",
       "      <td>N</td>\n",
       "    </tr>\n",
       "    <tr>\n",
       "      <th>94</th>\n",
       "      <td>elections2020</td>\n",
       "      <td>N</td>\n",
       "    </tr>\n",
       "    <tr>\n",
       "      <th>95</th>\n",
       "      <td>ivoted</td>\n",
       "      <td>N</td>\n",
       "    </tr>\n",
       "    <tr>\n",
       "      <th>96</th>\n",
       "      <td>#vote</td>\n",
       "      <td>N</td>\n",
       "    </tr>\n",
       "    <tr>\n",
       "      <th>97</th>\n",
       "      <td>vpdebate</td>\n",
       "      <td>N</td>\n",
       "    </tr>\n",
       "    <tr>\n",
       "      <th>98</th>\n",
       "      <td>vp debate</td>\n",
       "      <td>N</td>\n",
       "    </tr>\n",
       "    <tr>\n",
       "      <th>102</th>\n",
       "      <td>debate2020</td>\n",
       "      <td>N</td>\n",
       "    </tr>\n",
       "    <tr>\n",
       "      <th>103</th>\n",
       "      <td>presidentialdebate2020</td>\n",
       "      <td>N</td>\n",
       "    </tr>\n",
       "    <tr>\n",
       "      <th>104</th>\n",
       "      <td>debatetonight</td>\n",
       "      <td>N</td>\n",
       "    </tr>\n",
       "    <tr>\n",
       "      <th>107</th>\n",
       "      <td>electionday</td>\n",
       "      <td>N</td>\n",
       "    </tr>\n",
       "    <tr>\n",
       "      <th>108</th>\n",
       "      <td>electionnight</td>\n",
       "      <td>N</td>\n",
       "    </tr>\n",
       "    <tr>\n",
       "      <th>109</th>\n",
       "      <td>election day</td>\n",
       "      <td>N</td>\n",
       "    </tr>\n",
       "    <tr>\n",
       "      <th>110</th>\n",
       "      <td>election night</td>\n",
       "      <td>N</td>\n",
       "    </tr>\n",
       "    <tr>\n",
       "      <th>111</th>\n",
       "      <td>electionresult</td>\n",
       "      <td>N</td>\n",
       "    </tr>\n",
       "    <tr>\n",
       "      <th>112</th>\n",
       "      <td>election result</td>\n",
       "      <td>N</td>\n",
       "    </tr>\n",
       "    <tr>\n",
       "      <th>113</th>\n",
       "      <td>decision2020</td>\n",
       "      <td>N</td>\n",
       "    </tr>\n",
       "    <tr>\n",
       "      <th>116</th>\n",
       "      <td>postelection</td>\n",
       "      <td>N</td>\n",
       "    </tr>\n",
       "    <tr>\n",
       "      <th>121</th>\n",
       "      <td>exitpoll</td>\n",
       "      <td>N</td>\n",
       "    </tr>\n",
       "    <tr>\n",
       "      <th>122</th>\n",
       "      <td>exit poll</td>\n",
       "      <td>N</td>\n",
       "    </tr>\n",
       "    <tr>\n",
       "      <th>129</th>\n",
       "      <td>racecall</td>\n",
       "      <td>N</td>\n",
       "    </tr>\n",
       "    <tr>\n",
       "      <th>130</th>\n",
       "      <td>race call</td>\n",
       "      <td>N</td>\n",
       "    </tr>\n",
       "    <tr>\n",
       "      <th>131</th>\n",
       "      <td>46th president</td>\n",
       "      <td>N</td>\n",
       "    </tr>\n",
       "    <tr>\n",
       "      <th>149</th>\n",
       "      <td>second gentleman</td>\n",
       "      <td>N</td>\n",
       "    </tr>\n",
       "    <tr>\n",
       "      <th>151</th>\n",
       "      <td>46thpresident</td>\n",
       "      <td>N</td>\n",
       "    </tr>\n",
       "    <tr>\n",
       "      <th>154</th>\n",
       "      <td>@transition46</td>\n",
       "      <td>N</td>\n",
       "    </tr>\n",
       "  </tbody>\n",
       "</table>\n",
       "</div>"
      ],
      "text/plain": [
       "                       term party\n",
       "54                   ballot     N\n",
       "55                   mailin     N\n",
       "56                  mail-in     N\n",
       "57                  mail in     N\n",
       "89      presidential debate     N\n",
       "90                 #debates     N\n",
       "91       presidentialdebate     N\n",
       "92           electoral vote     N\n",
       "93              debates2020     N\n",
       "94            elections2020     N\n",
       "95                   ivoted     N\n",
       "96                    #vote     N\n",
       "97                 vpdebate     N\n",
       "98                vp debate     N\n",
       "102              debate2020     N\n",
       "103  presidentialdebate2020     N\n",
       "104           debatetonight     N\n",
       "107             electionday     N\n",
       "108           electionnight     N\n",
       "109            election day     N\n",
       "110          election night     N\n",
       "111          electionresult     N\n",
       "112         election result     N\n",
       "113            decision2020     N\n",
       "116            postelection     N\n",
       "121                exitpoll     N\n",
       "122               exit poll     N\n",
       "129                racecall     N\n",
       "130               race call     N\n",
       "131          46th president     N\n",
       "149        second gentleman     N\n",
       "151           46thpresident     N\n",
       "154           @transition46     N"
      ]
     },
     "execution_count": 354,
     "metadata": {},
     "output_type": "execute_result"
    }
   ],
   "source": [
    "df_terms = pd.read_csv('search_terms.csv', sep=';')\n",
    "df_terms['term'] = df_terms ['term'].str.lower()\n",
    "df_terms[(df_terms['party'].str.contains('N'))]"
   ]
  },
  {
   "cell_type": "code",
   "execution_count": 355,
   "metadata": {},
   "outputs": [],
   "source": [
    "# Check terms\n",
    "df_trump = df[(df['text'].str.contains('trump')) | (df['text'].str.contains('maga')) | (df['text'].str.contains('fraud'))]\n",
    "df_biden = df[(df['text'].str.contains('biden')) | (df['text'].str.contains('kamala'))| (df['text'].str.contains('harris'))]"
   ]
  },
  {
   "cell_type": "code",
   "execution_count": 356,
   "metadata": {},
   "outputs": [],
   "source": [
    "# Check state locations\n",
    "states_dict_trump = {}\n",
    "for state in stateCodes:\n",
    "    states_dict_trump[stateMapping[state]] = df_trump[df_trump['location'].str.contains(state+ '|' + stateMapping[state])]\n",
    "    \n",
    "    \n",
    "states_dict_biden = {}\n",
    "for state in stateCodes:\n",
    "    states_dict_biden[stateMapping[state]] = df_biden[df_biden['location'].str.contains(state+ '|' + stateMapping[state])]"
   ]
  },
  {
   "cell_type": "code",
   "execution_count": 357,
   "metadata": {},
   "outputs": [
    {
     "data": {
      "text/plain": [
       "259408"
      ]
     },
     "execution_count": 357,
     "metadata": {},
     "output_type": "execute_result"
    }
   ],
   "source": [
    "count = 0\n",
    "for state in states:\n",
    "    count+= len(states_dict_biden[state])\n",
    "count"
   ]
  },
  {
   "cell_type": "code",
   "execution_count": 358,
   "metadata": {},
   "outputs": [
    {
     "data": {
      "text/plain": [
       "488479"
      ]
     },
     "execution_count": 358,
     "metadata": {},
     "output_type": "execute_result"
    }
   ],
   "source": [
    "count = 0\n",
    "for state in states:\n",
    "    count+= len(states_dict_trump[state])\n",
    "count"
   ]
  },
  {
   "cell_type": "code",
   "execution_count": 359,
   "metadata": {},
   "outputs": [
    {
     "data": {
      "text/plain": [
       "1618341"
      ]
     },
     "execution_count": 359,
     "metadata": {},
     "output_type": "execute_result"
    }
   ],
   "source": [
    "len(df)"
   ]
  },
  {
   "cell_type": "code",
   "execution_count": 360,
   "metadata": {},
   "outputs": [
    {
     "name": "stderr",
     "output_type": "stream",
     "text": [
      "<ipython-input-360-25aa2a8aa70d>:10: SettingWithCopyWarning: \n",
      "A value is trying to be set on a copy of a slice from a DataFrame.\n",
      "Try using .loc[row_indexer,col_indexer] = value instead\n",
      "\n",
      "See the caveats in the documentation: https://pandas.pydata.org/pandas-docs/stable/user_guide/indexing.html#returning-a-view-versus-a-copy\n",
      "  states_dict_biden[state]['sentiment_scores'] = states_dict_biden[state]['text'].apply(lambda x: sid.polarity_scores(x))\n",
      "<ipython-input-360-25aa2a8aa70d>:11: SettingWithCopyWarning: \n",
      "A value is trying to be set on a copy of a slice from a DataFrame.\n",
      "Try using .loc[row_indexer,col_indexer] = value instead\n",
      "\n",
      "See the caveats in the documentation: https://pandas.pydata.org/pandas-docs/stable/user_guide/indexing.html#returning-a-view-versus-a-copy\n",
      "  states_dict_biden[state]['sentiment'] = states_dict_biden[state]['sentiment_scores'].apply(lambda x: sentimentVerdict(x))\n",
      "<ipython-input-360-25aa2a8aa70d>:12: SettingWithCopyWarning: \n",
      "A value is trying to be set on a copy of a slice from a DataFrame.\n",
      "Try using .loc[row_indexer,col_indexer] = value instead\n",
      "\n",
      "See the caveats in the documentation: https://pandas.pydata.org/pandas-docs/stable/user_guide/indexing.html#returning-a-view-versus-a-copy\n",
      "  states_dict_trump[state]['sentiment_scores'] = states_dict_trump[state]['text'].apply(lambda x: sid.polarity_scores(x))\n",
      "<ipython-input-360-25aa2a8aa70d>:13: SettingWithCopyWarning: \n",
      "A value is trying to be set on a copy of a slice from a DataFrame.\n",
      "Try using .loc[row_indexer,col_indexer] = value instead\n",
      "\n",
      "See the caveats in the documentation: https://pandas.pydata.org/pandas-docs/stable/user_guide/indexing.html#returning-a-view-versus-a-copy\n",
      "  states_dict_trump[state]['sentiment'] = states_dict_trump[state]['sentiment_scores'].apply(lambda x: sentimentVerdict(x))\n"
     ]
    }
   ],
   "source": [
    "def sentimentVerdict(sentiment):\n",
    "    if sentiment['compound'] >= 0.05:\n",
    "        return \"Positive\"\n",
    "    elif sentiment['compound'] <= -0.05:\n",
    "        return \"Negative\"\n",
    "    else:\n",
    "        return \"Neutral\"\n",
    "    \n",
    "for state in states:\n",
    "    states_dict_biden[state]['sentiment_scores'] = states_dict_biden[state]['text'].apply(lambda x: sid.polarity_scores(x))\n",
    "    states_dict_biden[state]['sentiment'] = states_dict_biden[state]['sentiment_scores'].apply(lambda x: sentimentVerdict(x))\n",
    "    states_dict_trump[state]['sentiment_scores'] = states_dict_trump[state]['text'].apply(lambda x: sid.polarity_scores(x))\n",
    "    states_dict_trump[state]['sentiment'] = states_dict_trump[state]['sentiment_scores'].apply(lambda x: sentimentVerdict(x)) "
   ]
  },
  {
   "cell_type": "code",
   "execution_count": 361,
   "metadata": {},
   "outputs": [],
   "source": [
    "# Election data\n",
    "df_elec = pd.read_csv('election_data.csv', sep=',')\n",
    "df_elec = df_elec[['state', 'candidate', 'total_votes', 'won']]\n",
    "df_elec = df_elec[((df_elec.candidate == 'Joe Biden') | (df_elec.candidate == 'Donald Trump')) & (df_elec.state != 'District of Columbia')]\n",
    "df_elec = df_elec.groupby(['state', 'candidate'])['total_votes'].apply(sum).reset_index()"
   ]
  },
  {
   "cell_type": "code",
   "execution_count": 362,
   "metadata": {},
   "outputs": [],
   "source": [
    "percentagelist = []\n",
    "for state in states:\n",
    "    bidentot = df_elec.loc[(df_elec['state'] == state) & (df_elec['candidate'] == 'Joe Biden')]['total_votes']\n",
    "    trumptot = df_elec.loc[(df_elec['state'] == state) & (df_elec['candidate'] == 'Donald Trump')]['total_votes']\n",
    "    bidenpercentage = int(bidentot) / (int(bidentot) + int(trumptot))\n",
    "    trumppercentage = int(trumptot) / (int(bidentot) + int(trumptot))\n",
    "    percentagelist.append(trumppercentage)\n",
    "    percentagelist.append(bidenpercentage)\n",
    "    \n",
    "df_elec['ratio of votes'] = percentagelist"
   ]
  },
  {
   "cell_type": "code",
   "execution_count": 363,
   "metadata": {},
   "outputs": [],
   "source": [
    "# Percentage sentiment per state\n",
    "state_sentiment_trump = {}\n",
    "state_sentiment_biden = {}\n",
    "for state in states:\n",
    "    # Trump\n",
    "    d_t = dict(states_dict_trump[state]['sentiment'].value_counts())\n",
    "    tot = d_t['Positive']+d_t['Negative']#+d_t['Neutral']\n",
    "    post= d_t['Positive'] / tot\n",
    "    negt= d_t['Negative'] / tot\n",
    "    # Biden\n",
    "    d_b = dict(states_dict_biden[state]['sentiment'].value_counts())\n",
    "    tot = d_b['Positive']+d_b['Negative']#+d_b['Neutral']\n",
    "    posb= d_b['Positive'] / tot\n",
    "    negb= d_b['Negative'] / tot\n",
    "       \n",
    "    state_sentiment_trump[state] = {'positive' : post, 'negative': negt}\n",
    "    state_sentiment_biden[state] = {'positive' : posb, 'negative': negb}\n"
   ]
  },
  {
   "cell_type": "code",
   "execution_count": 364,
   "metadata": {},
   "outputs": [],
   "source": [
    "# put sentiments and election outcomes in list for plotting\n",
    "positive_sentiments_states_trump = []\n",
    "elec_result_states_trump = []\n",
    "positive_sentiments_states_biden = []\n",
    "elec_result_states_biden = []\n",
    "for state in states:\n",
    "    positive_sentiments_states_trump.append(state_sentiment_trump[state]['positive'])\n",
    "    elec_result_states_trump.append(list(df_elec.loc[(df_elec['state'] == state) & (df_elec['candidate'] == 'Donald Trump')]['ratio of votes'])[0])\n",
    "    positive_sentiments_states_biden.append(state_sentiment_biden[state]['positive'])\n",
    "    elec_result_states_biden.append(list(df_elec.loc[(df_elec['state'] == state) & (df_elec['candidate'] == 'Joe Biden')]['ratio of votes'])[0])"
   ]
  },
  {
   "cell_type": "code",
   "execution_count": 365,
   "metadata": {},
   "outputs": [],
   "source": [
    "negative_sentiments_states_trump = []\n",
    "elec_result_states_trump = []\n",
    "negative_sentiments_states_biden = []\n",
    "elec_result_states_biden = []\n",
    "for state in states:\n",
    "    negative_sentiments_states_trump.append(state_sentiment_trump[state]['negative'])\n",
    "    elec_result_states_trump.append(list(df_elec.loc[(df_elec['state'] == state) & (df_elec['candidate'] == 'Donald Trump')]['ratio of votes'])[0])\n",
    "    negative_sentiments_states_biden.append(state_sentiment_biden[state]['negative'])\n",
    "    elec_result_states_biden.append(list(df_elec.loc[(df_elec['state'] == state) & (df_elec['candidate'] == 'Joe Biden')]['ratio of votes'])[0])"
   ]
  },
  {
   "cell_type": "code",
   "execution_count": 368,
   "metadata": {},
   "outputs": [
    {
     "data": {
      "image/png": "[encoded data removed]",
      "text/plain": [
       "<Figure size 432x288 with 1 Axes>"
      ]
     },
     "metadata": {
      "needs_background": "light"
     },
     "output_type": "display_data"
    }
   ],
   "source": [
    "plt.bar(states, positive_sentiments_states_biden, alpha = 0.5, label=\"Positive sentiment\")\n",
    "plt.bar(states, elec_result_states_biden, alpha = 0.5, label = 'Percentage of votes')\n",
    "plt.xticks(rotation=90)\n",
    "plt.ylabel(\"Percentage positive/votes\")\n",
    "plt.xlabel(\"States\")\n",
    "plt.legend()\n",
    "plt.show()"
   ]
  },
  {
   "cell_type": "code",
   "execution_count": 367,
   "metadata": {},
   "outputs": [
    {
     "data": {
      "image/png": "[encoded data removed]",
      "text/plain": [
       "<Figure size 432x288 with 1 Axes>"
      ]
     },
     "metadata": {
      "needs_background": "light"
     },
     "output_type": "display_data"
    }
   ],
   "source": [
    "plt.bar(states, positive_sentiments_states_trump, alpha = 0.5, label=\"Positive sentiment\")\n",
    "plt.bar(states, elec_result_states_trump, alpha = 0.5, label = 'Percentage of votes')\n",
    "plt.xticks(rotation=90)\n",
    "plt.ylabel(\"Percentage positive/votes\")\n",
    "plt.xlabel(\"States\")\n",
    "plt.legend()\n",
    "plt.show()"
   ]
  },
  {
   "cell_type": "code",
   "execution_count": null,
   "metadata": {},
   "outputs": [],
   "source": []
  }
 ],
 "metadata": {
  "kernelspec": {
   "display_name": "Python 3",
   "language": "python",
   "name": "python3"
  },
  "language_info": {
   "codemirror_mode": {
    "name": "ipython",
    "version": 3
   },
   "file_extension": ".py",
   "mimetype": "text/x-python",
   "name": "python",
   "nbconvert_exporter": "python",
   "pygments_lexer": "ipython3",
   "version": "3.8.5"
  },
  "varInspector": {
   "cols": {
    "lenName": 16,
    "lenType": 16,
    "lenVar": 40
   },
   "kernels_config": {
    "python": {
     "delete_cmd_postfix": "",
     "delete_cmd_prefix": "del ",
     "library": "var_list.py",
     "varRefreshCmd": "print(var_dic_list())"
    },
    "r": {
     "delete_cmd_postfix": ") ",
     "delete_cmd_prefix": "rm(",
     "library": "var_list.r",
     "varRefreshCmd": "cat(var_dic_list()) "
    }
   },
   "types_to_exclude": [
    "module",
    "function",
    "builtin_function_or_method",
    "instance",
    "_Feature"
   ],
   "window_display": false
  }
 },
 "nbformat": 4,
 "nbformat_minor": 4
}
