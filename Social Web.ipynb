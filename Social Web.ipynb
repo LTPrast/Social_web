{
 "cells": [
  {
   "cell_type": "code",
   "execution_count": null,
   "metadata": {},
   "outputs": [
    {
     "name": "stdout",
     "output_type": "stream",
     "text": [
      "2020-08/us-presidential-tweet-id-2020-08-01-00.txt\n",
      "Number of tweets hydrated:5000\n",
      "Number of tweets hydrated:15000\n",
      "Number of tweets hydrated:20000\n"
     ]
    },
    {
     "name": "stderr",
     "output_type": "stream",
     "text": [
      "WARNING:twarc:rate limit exceeded: sleeping 414.9573349952698 secs\n"
     ]
    },
    {
     "name": "stdout",
     "output_type": "stream",
     "text": [
      "Number of tweets hydrated:25000\n",
      "Number of tweets hydrated:30000\n",
      "Number of tweets hydrated:40000\n",
      "Number of tweets hydrated:45000\n"
     ]
    },
    {
     "name": "stderr",
     "output_type": "stream",
     "text": [
      "WARNING:twarc:rate limit exceeded: sleeping 513.384480714798 secs\n"
     ]
    },
    {
     "name": "stdout",
     "output_type": "stream",
     "text": [
      "Number of tweets hydrated:60000\n",
      "Number of tweets hydrated:70000\n"
     ]
    },
    {
     "name": "stderr",
     "output_type": "stream",
     "text": [
      "WARNING:twarc:rate limit exceeded: sleeping 522.3816833496094 secs\n"
     ]
    },
    {
     "name": "stdout",
     "output_type": "stream",
     "text": [
      "Number of tweets hydrated:75000\n",
      "Number of tweets hydrated:80000\n",
      "2020-08/us-presidential-tweet-id-2020-08-01-01.txt\n",
      "Number of tweets hydrated:85000\n",
      "Number of tweets hydrated:90000\n",
      "Number of tweets hydrated:95000\n"
     ]
    },
    {
     "name": "stderr",
     "output_type": "stream",
     "text": [
      "WARNING:twarc:rate limit exceeded: sleeping 521.2766695022583 secs\n"
     ]
    },
    {
     "name": "stdout",
     "output_type": "stream",
     "text": [
      "Number of tweets hydrated:115000\n",
      "Number of tweets hydrated:120000\n"
     ]
    },
    {
     "name": "stderr",
     "output_type": "stream",
     "text": [
      "WARNING:twarc:rate limit exceeded: sleeping 522.1202921867371 secs\n"
     ]
    },
    {
     "name": "stdout",
     "output_type": "stream",
     "text": [
      "Number of tweets hydrated:125000\n",
      "Number of tweets hydrated:130000\n",
      "Number of tweets hydrated:135000\n"
     ]
    },
    {
     "name": "stderr",
     "output_type": "stream",
     "text": [
      "WARNING:twarc:rate limit exceeded: sleeping 518.2244668006897 secs\n"
     ]
    },
    {
     "name": "stdout",
     "output_type": "stream",
     "text": [
      "Number of tweets hydrated:150000\n",
      "Number of tweets hydrated:160000\n",
      "2020-08/us-presidential-tweet-id-2020-08-01-02.txt\n",
      "Number of tweets hydrated:175000\n"
     ]
    },
    {
     "name": "stderr",
     "output_type": "stream",
     "text": [
      "WARNING:twarc:rate limit exceeded: sleeping 515.5235233306885 secs\n"
     ]
    },
    {
     "name": "stdout",
     "output_type": "stream",
     "text": [
      "Number of tweets hydrated:180000\n",
      "Number of tweets hydrated:190000\n",
      "Number of tweets hydrated:195000\n"
     ]
    },
    {
     "name": "stderr",
     "output_type": "stream",
     "text": [
      "WARNING:twarc:rate limit exceeded: sleeping 487.1699275970459 secs\n"
     ]
    },
    {
     "name": "stdout",
     "output_type": "stream",
     "text": [
      "Number of tweets hydrated:205000\n",
      "Number of tweets hydrated:215000\n",
      "Number of tweets hydrated:220000\n"
     ]
    },
    {
     "name": "stderr",
     "output_type": "stream",
     "text": [
      "WARNING:twarc:rate limit exceeded: sleeping 520.7136175632477 secs\n"
     ]
    },
    {
     "name": "stdout",
     "output_type": "stream",
     "text": [
      "2020-08/us-presidential-tweet-id-2020-08-01-03.txt\n",
      "Number of tweets hydrated:235000\n"
     ]
    },
    {
     "name": "stderr",
     "output_type": "stream",
     "text": [
      "WARNING:twarc:rate limit exceeded: sleeping 540.9127244949341 secs\n"
     ]
    }
   ],
   "source": [
    "from twarc import Twarc\n",
    "import pandas as pd\n",
    "import os\n",
    "import json\n",
    "\n",
    "consumer_key = 'rS6Uk2wrCB5v5TlwvtwM5bo5B'\n",
    "consumer_secret = 'qyPDlCUROwwc2DMvbQARzdv6TQ4wyzMFQ3h5bKXRp6qTc8i3aM'\n",
    "access_token = '267086736-4mMLPnPDux7r6djSuPHmd1NvlV4vZtj5Aq7DrIeH'\n",
    "access_token_secret = '9kqN1ADnT6MB2Y9f24EdiDBxQ3oMRS7zQKZV0sGpEuXIZ'\n",
    "\n",
    "t_inst = Twarc(consumer_key,consumer_secret,access_token, access_token_secret)\n",
    "\n",
    "num_tweets=0\n",
    "test = 0\n",
    "# change this to different month such as 'tweets_ids/.../2020-10'\n",
    "folder = '2020-08/'\n",
    "for filename in os.listdir(folder):\n",
    "    f = os.path.join(folder, filename)\n",
    "    hour = filename[-6:-4]\n",
    "    day = filename[-9:-7]\n",
    "    month = filename[-12:-10]\n",
    "    print(f)\n",
    "    data = []\n",
    "    for tweet in t_inst.hydrate(open(f)):\n",
    "        num_tweets += 1\n",
    "        # skips tweet if it doesn't have any location info \n",
    "        if tweet['place'] is None and tweet['user']['location'] == '':\n",
    "            continue\n",
    "        if tweet['place'] is None:\n",
    "            place = None\n",
    "            country = None\n",
    "        else:\n",
    "            place = tweet['place']['full_name']\n",
    "            country = tweet['place']['country']\n",
    "\n",
    "        data.append([tweet['id'], tweet['full_text'], tweet['user']['location'],place,country,tweet['retweeted'],tweet['retweet_count'],tweet['favorited'],tweet['favorite_count'],tweet['lang'],f'{month}-{day}-{hour}',tweet['user']['verified']])\n",
    "        if num_tweets % 5000 == 0:\n",
    "            print('Number of tweets hydrated:{}'.format(num_tweets))\n",
    "           \n",
    "    \n",
    "    tweetdf = pd.DataFrame(data,columns=['id', 'text', 'location','place','country','retweeted','retweet_count','favorited','favorite_count','language','date','verified'])\n",
    "    tweetdf.to_csv(f'df{month}-{day}-{hour}.csv',sep=';',index=False,header=True,encoding='utf-8')"
   ]
  },
  {
   "cell_type": "code",
   "execution_count": 2,
   "metadata": {},
   "outputs": [
    {
     "name": "stderr",
     "output_type": "stream",
     "text": [
      "[nltk_data] Downloading package vader_lexicon to C:\\nltk_data...\n",
      "[nltk_data]   Package vader_lexicon is already up-to-date!\n"
     ]
    }
   ],
   "source": [
    "import pandas as pd\n",
    "import nltk\n",
    "import os\n",
    "from nltk.sentiment.vader import SentimentIntensityAnalyzer\n",
    "nltk.download('vader_lexicon')\n",
    "sid = SentimentIntensityAnalyzer()\n",
    "pd.options.display.max_colwidth = 10000\n"
   ]
  },
  {
   "cell_type": "code",
   "execution_count": 24,
   "metadata": {},
   "outputs": [],
   "source": [
    "df = pd.read_csv('df11-02-12.csv', sep=';').dropna(subset=['location'])\n",
    "df['text'] = df['text'].str.lower()"
   ]
  },
  {
   "cell_type": "code",
   "execution_count": 25,
   "metadata": {},
   "outputs": [],
   "source": [
    "states = ['Alabama', 'Alaska', 'Arizona', 'Arkansas', 'California', 'Colorado', 'Connecticut', 'Delaware', 'Florida', 'Georgia', 'Hawaii', 'Idaho', 'Illinois', 'Indiana', 'Iowa', 'Kansas', 'Kentucky', 'Louisiana', 'Maine', 'Maryland', 'Massachusetts', 'Michigan', 'Minnesota', 'Mississippi', 'Missouri', 'Montana', 'Nebraska', 'Nevada', 'New Hampshire', 'New Jersey', 'New York', 'New Mexico', 'North Carolina', 'North Dakota', 'Ohio', 'Oklahoma', 'Oregon', 'Pennsylvania', 'Rhode Island', 'South Carolina', 'South Dakota', 'Tennessee', 'Texas', 'Utah', 'Vermont', 'Virginia', 'Washington', 'West Virginia', 'Wisconsin', 'Wyoming']\n",
    "stateCodes = ['AL', 'AK', 'AZ', 'AR', 'CA', 'CO', 'CT', 'DE', 'FL', 'GA', 'HI', 'ID', 'IL', 'IN', 'IA', 'KS', 'KY', 'LA', 'ME', 'MD', 'MA', 'MI', 'MN', 'MS', 'MO', 'MT', 'NE', 'NV', 'NH', 'NJ', 'NM', 'NY', 'NC', 'ND', 'OH', 'OK', 'OR', 'PA', 'RI', 'SC', 'SD', 'TN', 'TX', 'UT', 'VT', 'VA', 'WA', 'WV', 'WI', 'WY']\n",
    "stateMapping = {'AL': 'Alabama', 'AK': 'Alaska', 'AZ': 'Arizona', 'AR': 'Arkansas', 'CA': 'California', 'CO': 'Colorado', 'CT': 'Connecticut', 'DE': 'Delaware', 'FL': 'Florida', 'GA': 'Georgia', 'HI': 'Hawaii', 'ID': 'Idaho', 'IL': 'Illinois', 'IN': 'Indiana', 'IA': 'Iowa', 'KS': 'Kansas', 'KY': 'Kentucky', 'LA': 'Louisiana', 'ME': 'Maine', 'MD': 'Maryland', 'MA': 'Massachusetts', 'MI': 'Michigan', 'MN': 'Minnesota', 'MS': 'Mississippi', 'MO': 'Missouri', 'MT': 'Montana', 'NE': 'Nebraska', 'NV': 'Nevada', 'NH': 'New Hampshire', 'NJ': 'New Jersey', 'NY': 'New York', 'NM': 'New Mexico', 'NC': 'North Carolina', 'ND': 'North Dakota', 'OH': 'Ohio', 'OK': 'Oklahoma', 'OR': 'Oregon', 'PA': 'Pennsylvania', 'RI': 'Rhode Island', 'SC': 'South Carolina', 'SD': 'South Dakota', 'TN': 'Tennessee', 'TX': 'Texas', 'UT':  'Utah', 'VT': 'Vermont', 'VA': 'Virginia', 'WA': 'Washington', 'WV':  'West Virginia', 'WI': 'Wisconsin', 'WY': 'Wyoming'}"
   ]
  },
  {
   "cell_type": "code",
   "execution_count": 26,
   "metadata": {},
   "outputs": [],
   "source": [
    "def sentimentVerdict(sentiment):\n",
    "    if sentiment['compound'] >= 0.05:\n",
    "        return \"Positive\"\n",
    "    elif sentiment['compound'] <= -0.05:\n",
    "        return \"Negative\"\n",
    "    else:\n",
    "        return \"Neutral\""
   ]
  },
  {
   "cell_type": "code",
   "execution_count": 27,
   "metadata": {},
   "outputs": [
    {
     "name": "stdout",
     "output_type": "stream",
     "text": [
      "Positive    14359\n",
      "Neutral     13774\n",
      "Negative    13381\n",
      "Name: sentiment, dtype: int64\n"
     ]
    }
   ],
   "source": [
    "df['sentiment_scores'] = df['text'].apply(lambda x: sid.polarity_scores(x))\n",
    "df['sentiment'] = df['sentiment_scores'].apply(lambda x: sentimentVerdict(x))\n",
    "print(df['sentiment'].value_counts())"
   ]
  },
  {
   "cell_type": "code",
   "execution_count": 28,
   "metadata": {},
   "outputs": [
    {
     "data": {
      "text/html": [
       "<div>\n",
       "<style scoped>\n",
       "    .dataframe tbody tr th:only-of-type {\n",
       "        vertical-align: middle;\n",
       "    }\n",
       "\n",
       "    .dataframe tbody tr th {\n",
       "        vertical-align: top;\n",
       "    }\n",
       "\n",
       "    .dataframe thead th {\n",
       "        text-align: right;\n",
       "    }\n",
       "</style>\n",
       "<table border=\"1\" class=\"dataframe\">\n",
       "  <thead>\n",
       "    <tr style=\"text-align: right;\">\n",
       "      <th></th>\n",
       "      <th>term</th>\n",
       "      <th>party</th>\n",
       "    </tr>\n",
       "  </thead>\n",
       "  <tbody>\n",
       "    <tr>\n",
       "      <th>54</th>\n",
       "      <td>ballot</td>\n",
       "      <td>N</td>\n",
       "    </tr>\n",
       "    <tr>\n",
       "      <th>55</th>\n",
       "      <td>mailin</td>\n",
       "      <td>N</td>\n",
       "    </tr>\n",
       "    <tr>\n",
       "      <th>56</th>\n",
       "      <td>mail-in</td>\n",
       "      <td>N</td>\n",
       "    </tr>\n",
       "    <tr>\n",
       "      <th>57</th>\n",
       "      <td>mail in</td>\n",
       "      <td>N</td>\n",
       "    </tr>\n",
       "    <tr>\n",
       "      <th>89</th>\n",
       "      <td>presidential debate</td>\n",
       "      <td>N</td>\n",
       "    </tr>\n",
       "    <tr>\n",
       "      <th>90</th>\n",
       "      <td>#debates</td>\n",
       "      <td>N</td>\n",
       "    </tr>\n",
       "    <tr>\n",
       "      <th>91</th>\n",
       "      <td>presidentialdebate</td>\n",
       "      <td>N</td>\n",
       "    </tr>\n",
       "    <tr>\n",
       "      <th>92</th>\n",
       "      <td>electoral vote</td>\n",
       "      <td>N</td>\n",
       "    </tr>\n",
       "    <tr>\n",
       "      <th>93</th>\n",
       "      <td>debates2020</td>\n",
       "      <td>N</td>\n",
       "    </tr>\n",
       "    <tr>\n",
       "      <th>94</th>\n",
       "      <td>elections2020</td>\n",
       "      <td>N</td>\n",
       "    </tr>\n",
       "    <tr>\n",
       "      <th>95</th>\n",
       "      <td>ivoted</td>\n",
       "      <td>N</td>\n",
       "    </tr>\n",
       "    <tr>\n",
       "      <th>96</th>\n",
       "      <td>#vote</td>\n",
       "      <td>N</td>\n",
       "    </tr>\n",
       "    <tr>\n",
       "      <th>97</th>\n",
       "      <td>vpdebate</td>\n",
       "      <td>N</td>\n",
       "    </tr>\n",
       "    <tr>\n",
       "      <th>98</th>\n",
       "      <td>vp debate</td>\n",
       "      <td>N</td>\n",
       "    </tr>\n",
       "    <tr>\n",
       "      <th>102</th>\n",
       "      <td>debate2020</td>\n",
       "      <td>N</td>\n",
       "    </tr>\n",
       "    <tr>\n",
       "      <th>103</th>\n",
       "      <td>presidentialdebate2020</td>\n",
       "      <td>N</td>\n",
       "    </tr>\n",
       "    <tr>\n",
       "      <th>104</th>\n",
       "      <td>debatetonight</td>\n",
       "      <td>N</td>\n",
       "    </tr>\n",
       "    <tr>\n",
       "      <th>107</th>\n",
       "      <td>electionday</td>\n",
       "      <td>N</td>\n",
       "    </tr>\n",
       "    <tr>\n",
       "      <th>108</th>\n",
       "      <td>electionnight</td>\n",
       "      <td>N</td>\n",
       "    </tr>\n",
       "    <tr>\n",
       "      <th>109</th>\n",
       "      <td>election day</td>\n",
       "      <td>N</td>\n",
       "    </tr>\n",
       "    <tr>\n",
       "      <th>110</th>\n",
       "      <td>election night</td>\n",
       "      <td>N</td>\n",
       "    </tr>\n",
       "    <tr>\n",
       "      <th>111</th>\n",
       "      <td>electionresult</td>\n",
       "      <td>N</td>\n",
       "    </tr>\n",
       "    <tr>\n",
       "      <th>112</th>\n",
       "      <td>election result</td>\n",
       "      <td>N</td>\n",
       "    </tr>\n",
       "    <tr>\n",
       "      <th>113</th>\n",
       "      <td>decision2020</td>\n",
       "      <td>N</td>\n",
       "    </tr>\n",
       "    <tr>\n",
       "      <th>116</th>\n",
       "      <td>postelection</td>\n",
       "      <td>N</td>\n",
       "    </tr>\n",
       "    <tr>\n",
       "      <th>121</th>\n",
       "      <td>exitpoll</td>\n",
       "      <td>N</td>\n",
       "    </tr>\n",
       "    <tr>\n",
       "      <th>122</th>\n",
       "      <td>exit poll</td>\n",
       "      <td>N</td>\n",
       "    </tr>\n",
       "    <tr>\n",
       "      <th>129</th>\n",
       "      <td>racecall</td>\n",
       "      <td>N</td>\n",
       "    </tr>\n",
       "    <tr>\n",
       "      <th>130</th>\n",
       "      <td>race call</td>\n",
       "      <td>N</td>\n",
       "    </tr>\n",
       "    <tr>\n",
       "      <th>131</th>\n",
       "      <td>46th president</td>\n",
       "      <td>N</td>\n",
       "    </tr>\n",
       "    <tr>\n",
       "      <th>149</th>\n",
       "      <td>second gentleman</td>\n",
       "      <td>N</td>\n",
       "    </tr>\n",
       "    <tr>\n",
       "      <th>151</th>\n",
       "      <td>46thpresident</td>\n",
       "      <td>N</td>\n",
       "    </tr>\n",
       "    <tr>\n",
       "      <th>154</th>\n",
       "      <td>@transition46</td>\n",
       "      <td>N</td>\n",
       "    </tr>\n",
       "  </tbody>\n",
       "</table>\n",
       "</div>"
      ],
      "text/plain": [
       "                       term party\n",
       "54                   ballot     N\n",
       "55                   mailin     N\n",
       "56                  mail-in     N\n",
       "57                  mail in     N\n",
       "89      presidential debate     N\n",
       "90                 #debates     N\n",
       "91       presidentialdebate     N\n",
       "92           electoral vote     N\n",
       "93              debates2020     N\n",
       "94            elections2020     N\n",
       "95                   ivoted     N\n",
       "96                    #vote     N\n",
       "97                 vpdebate     N\n",
       "98                vp debate     N\n",
       "102              debate2020     N\n",
       "103  presidentialdebate2020     N\n",
       "104           debatetonight     N\n",
       "107             electionday     N\n",
       "108           electionnight     N\n",
       "109            election day     N\n",
       "110          election night     N\n",
       "111          electionresult     N\n",
       "112         election result     N\n",
       "113            decision2020     N\n",
       "116            postelection     N\n",
       "121                exitpoll     N\n",
       "122               exit poll     N\n",
       "129                racecall     N\n",
       "130               race call     N\n",
       "131          46th president     N\n",
       "149        second gentleman     N\n",
       "151           46thpresident     N\n",
       "154           @transition46     N"
      ]
     },
     "execution_count": 28,
     "metadata": {},
     "output_type": "execute_result"
    }
   ],
   "source": [
    "df_terms = pd.read_csv('search_terms.csv', sep=';')\n",
    "df_terms['term'] = df_terms ['term'].str.lower()\n",
    "df_terms[(df_terms['party'].str.contains('N'))]"
   ]
  },
  {
   "cell_type": "code",
   "execution_count": 29,
   "metadata": {},
   "outputs": [],
   "source": [
    "df_trump = df[(df['text'].str.contains('trump')) | (df['text'].str.contains('maga')) | (df['text'].str.contains('fraud'))]\n",
    "df_biden = df[(df['text'].str.contains('biden')) | (df['text'].str.contains('kamala'))| (df['text'].str.contains('harris'))]"
   ]
  },
  {
   "cell_type": "code",
   "execution_count": 30,
   "metadata": {},
   "outputs": [],
   "source": [
    "df_topic = df[(df['text'].str.contains('abortion'))]"
   ]
  },
  {
   "cell_type": "code",
   "execution_count": 31,
   "metadata": {},
   "outputs": [],
   "source": [
    "states_dict_trump = {}\n",
    "for state in stateCodes:\n",
    "    states_dict_trump[stateMapping[state]] = df_trump[df_trump['location'].str.contains(state+ '|' + stateMapping[state])]\n",
    "    \n",
    "    \n",
    "states_dict_biden = {}\n",
    "for state in stateCodes:\n",
    "    states_dict_biden[stateMapping[state]] = df_biden[df_biden['location'].str.contains(state+ '|' + stateMapping[state])]"
   ]
  },
  {
   "cell_type": "code",
   "execution_count": 32,
   "metadata": {},
   "outputs": [
    {
     "data": {
      "text/plain": [
       "6.8"
      ]
     },
     "execution_count": 32,
     "metadata": {},
     "output_type": "execute_result"
    }
   ],
   "source": [
    "(170 * 40000) / 1000000"
   ]
  },
  {
   "cell_type": "code",
   "execution_count": 33,
   "metadata": {},
   "outputs": [
    {
     "data": {
      "text/plain": [
       "6390"
      ]
     },
     "execution_count": 33,
     "metadata": {},
     "output_type": "execute_result"
    }
   ],
   "source": [
    "count = 0\n",
    "for state in states:\n",
    "    count+= len(states_dict_biden[state])\n",
    "count"
   ]
  },
  {
   "cell_type": "code",
   "execution_count": 34,
   "metadata": {},
   "outputs": [
    {
     "data": {
      "text/plain": [
       "12040"
      ]
     },
     "execution_count": 34,
     "metadata": {},
     "output_type": "execute_result"
    }
   ],
   "source": [
    "count = 0\n",
    "for state in states:\n",
    "    count+= len(states_dict_trump[state])\n",
    "count"
   ]
  },
  {
   "cell_type": "code",
   "execution_count": 21,
   "metadata": {},
   "outputs": [
    {
     "data": {
      "text/html": [
       "<div>\n",
       "<style scoped>\n",
       "    .dataframe tbody tr th:only-of-type {\n",
       "        vertical-align: middle;\n",
       "    }\n",
       "\n",
       "    .dataframe tbody tr th {\n",
       "        vertical-align: top;\n",
       "    }\n",
       "\n",
       "    .dataframe thead th {\n",
       "        text-align: right;\n",
       "    }\n",
       "</style>\n",
       "<table border=\"1\" class=\"dataframe\">\n",
       "  <thead>\n",
       "    <tr style=\"text-align: right;\">\n",
       "      <th></th>\n",
       "      <th>id</th>\n",
       "      <th>text</th>\n",
       "      <th>location</th>\n",
       "      <th>place</th>\n",
       "      <th>country</th>\n",
       "      <th>retweeted</th>\n",
       "      <th>retweet_count</th>\n",
       "      <th>favorited</th>\n",
       "      <th>favorite_count</th>\n",
       "      <th>language</th>\n",
       "      <th>date</th>\n",
       "      <th>verified</th>\n",
       "      <th>sentiment_scores</th>\n",
       "      <th>sentiment</th>\n",
       "    </tr>\n",
       "  </thead>\n",
       "  <tbody>\n",
       "    <tr>\n",
       "      <th>14</th>\n",
       "      <td>1289350111017881600</td>\n",
       "      <td>@realjohnbriscoe @realdonaldtrump yup the greatest mass murder in history</td>\n",
       "      <td>Manhattan, NY</td>\n",
       "      <td>NaN</td>\n",
       "      <td>NaN</td>\n",
       "      <td>False</td>\n",
       "      <td>0</td>\n",
       "      <td>False</td>\n",
       "      <td>5</td>\n",
       "      <td>en</td>\n",
       "      <td>08-01-00</td>\n",
       "      <td>False</td>\n",
       "      <td>{'neg': 0.296, 'neu': 0.44, 'pos': 0.264, 'compound': -0.128}</td>\n",
       "      <td>Negative</td>\n",
       "    </tr>\n",
       "    <tr>\n",
       "      <th>21</th>\n",
       "      <td>1289350111986778114</td>\n",
       "      <td>rt @mmpadellan: @realdonaldtrump you are doing putin's bidding by moving our troops out of germany and weakening nato.\\n\\nyou are a traitorou…</td>\n",
       "      <td>New York, Cape Cod MA</td>\n",
       "      <td>NaN</td>\n",
       "      <td>NaN</td>\n",
       "      <td>False</td>\n",
       "      <td>2787</td>\n",
       "      <td>False</td>\n",
       "      <td>0</td>\n",
       "      <td>en</td>\n",
       "      <td>08-01-00</td>\n",
       "      <td>True</td>\n",
       "      <td>{'neg': 0.103, 'neu': 0.897, 'pos': 0.0, 'compound': -0.3182}</td>\n",
       "      <td>Negative</td>\n",
       "    </tr>\n",
       "    <tr>\n",
       "      <th>116</th>\n",
       "      <td>1289350143259447297</td>\n",
       "      <td>@dpwimm @realdonaldtrump china owes the world a lot!!!!</td>\n",
       "      <td>Brooklyn, NY</td>\n",
       "      <td>NaN</td>\n",
       "      <td>NaN</td>\n",
       "      <td>False</td>\n",
       "      <td>0</td>\n",
       "      <td>False</td>\n",
       "      <td>0</td>\n",
       "      <td>en</td>\n",
       "      <td>08-01-00</td>\n",
       "      <td>False</td>\n",
       "      <td>{'neg': 0.0, 'neu': 1.0, 'pos': 0.0, 'compound': 0.0}</td>\n",
       "      <td>Neutral</td>\n",
       "    </tr>\n",
       "    <tr>\n",
       "      <th>136</th>\n",
       "      <td>1289350148829507584</td>\n",
       "      <td>rt @jelle_simons: @mmpadellan @realdonaldtrump man who thinks windmills cause cancer, suggested bleach cures covid, confused nepal and bhut…</td>\n",
       "      <td>New York, Cape Cod MA</td>\n",
       "      <td>NaN</td>\n",
       "      <td>NaN</td>\n",
       "      <td>False</td>\n",
       "      <td>841</td>\n",
       "      <td>False</td>\n",
       "      <td>0</td>\n",
       "      <td>en</td>\n",
       "      <td>08-01-00</td>\n",
       "      <td>True</td>\n",
       "      <td>{'neg': 0.295, 'neu': 0.705, 'pos': 0.0, 'compound': -0.7717}</td>\n",
       "      <td>Negative</td>\n",
       "    </tr>\n",
       "    <tr>\n",
       "      <th>141</th>\n",
       "      <td>1289350127111606278</td>\n",
       "      <td>@realdonaldtrump don't let trump fool you, dems passed an additional $1,200 stimulus check + $600 unemployment enhancement back in may (2 months ago!) \\n\\nit's the republicans who have been dragging their feet and only started on their bill this week. https://t.co/mio0m0aztn</td>\n",
       "      <td>New York, NY</td>\n",
       "      <td>NaN</td>\n",
       "      <td>NaN</td>\n",
       "      <td>False</td>\n",
       "      <td>1</td>\n",
       "      <td>False</td>\n",
       "      <td>3</td>\n",
       "      <td>en</td>\n",
       "      <td>08-01-00</td>\n",
       "      <td>False</td>\n",
       "      <td>{'neg': 0.073, 'neu': 0.872, 'pos': 0.055, 'compound': -0.1989}</td>\n",
       "      <td>Negative</td>\n",
       "    </tr>\n",
       "    <tr>\n",
       "      <th>...</th>\n",
       "      <td>...</td>\n",
       "      <td>...</td>\n",
       "      <td>...</td>\n",
       "      <td>...</td>\n",
       "      <td>...</td>\n",
       "      <td>...</td>\n",
       "      <td>...</td>\n",
       "      <td>...</td>\n",
       "      <td>...</td>\n",
       "      <td>...</td>\n",
       "      <td>...</td>\n",
       "      <td>...</td>\n",
       "      <td>...</td>\n",
       "      <td>...</td>\n",
       "    </tr>\n",
       "    <tr>\n",
       "      <th>49690</th>\n",
       "      <td>1289365168724627456</td>\n",
       "      <td>rt @hkrassenstein: @realdonaldtrump no, you never beat obama!  you never could and never will.  you can’t even hold obama’s jock strap.</td>\n",
       "      <td>New York, USA</td>\n",
       "      <td>NaN</td>\n",
       "      <td>NaN</td>\n",
       "      <td>False</td>\n",
       "      <td>1108</td>\n",
       "      <td>False</td>\n",
       "      <td>0</td>\n",
       "      <td>en</td>\n",
       "      <td>08-01-00</td>\n",
       "      <td>False</td>\n",
       "      <td>{'neg': 0.111, 'neu': 0.889, 'pos': 0.0, 'compound': -0.3595}</td>\n",
       "      <td>Negative</td>\n",
       "    </tr>\n",
       "    <tr>\n",
       "      <th>49730</th>\n",
       "      <td>1289365180867125248</td>\n",
       "      <td>@gop @realdonaldtrump https://t.co/6wztb8ptuf</td>\n",
       "      <td>NYC</td>\n",
       "      <td>NaN</td>\n",
       "      <td>NaN</td>\n",
       "      <td>False</td>\n",
       "      <td>0</td>\n",
       "      <td>False</td>\n",
       "      <td>0</td>\n",
       "      <td>qme</td>\n",
       "      <td>08-01-00</td>\n",
       "      <td>False</td>\n",
       "      <td>{'neg': 0.0, 'neu': 1.0, 'pos': 0.0, 'compound': 0.0}</td>\n",
       "      <td>Neutral</td>\n",
       "    </tr>\n",
       "    <tr>\n",
       "      <th>49733</th>\n",
       "      <td>1289365181596803072</td>\n",
       "      <td>rt @projectlincoln: @realdonaldtrump https://t.co/gmjfa79b6j</td>\n",
       "      <td>New York, NY</td>\n",
       "      <td>NaN</td>\n",
       "      <td>NaN</td>\n",
       "      <td>False</td>\n",
       "      <td>4572</td>\n",
       "      <td>False</td>\n",
       "      <td>0</td>\n",
       "      <td>qme</td>\n",
       "      <td>08-01-00</td>\n",
       "      <td>False</td>\n",
       "      <td>{'neg': 0.0, 'neu': 1.0, 'pos': 0.0, 'compound': 0.0}</td>\n",
       "      <td>Neutral</td>\n",
       "    </tr>\n",
       "    <tr>\n",
       "      <th>49817</th>\n",
       "      <td>1289365198021652480</td>\n",
       "      <td>rt @realdonaldtrump: the democrats are holding back the $1,200 to $3,400 (family of four) checks that were ready to be sent out!</td>\n",
       "      <td>New York, USA</td>\n",
       "      <td>NaN</td>\n",
       "      <td>NaN</td>\n",
       "      <td>False</td>\n",
       "      <td>32721</td>\n",
       "      <td>False</td>\n",
       "      <td>0</td>\n",
       "      <td>en</td>\n",
       "      <td>08-01-00</td>\n",
       "      <td>False</td>\n",
       "      <td>{'neg': 0.0, 'neu': 0.883, 'pos': 0.117, 'compound': 0.4199}</td>\n",
       "      <td>Positive</td>\n",
       "    </tr>\n",
       "    <tr>\n",
       "      <th>49821</th>\n",
       "      <td>1289365198856314880</td>\n",
       "      <td>@realdonaldtrump jim jordan couldn’t grill a hot dog...no brains just yelling.</td>\n",
       "      <td>Metro NY</td>\n",
       "      <td>NaN</td>\n",
       "      <td>NaN</td>\n",
       "      <td>False</td>\n",
       "      <td>0</td>\n",
       "      <td>False</td>\n",
       "      <td>0</td>\n",
       "      <td>en</td>\n",
       "      <td>08-01-00</td>\n",
       "      <td>False</td>\n",
       "      <td>{'neg': 0.0, 'neu': 1.0, 'pos': 0.0, 'compound': 0.0}</td>\n",
       "      <td>Neutral</td>\n",
       "    </tr>\n",
       "  </tbody>\n",
       "</table>\n",
       "<p>1536 rows × 14 columns</p>\n",
       "</div>"
      ],
      "text/plain": [
       "                        id  \\\n",
       "14     1289350111017881600   \n",
       "21     1289350111986778114   \n",
       "116    1289350143259447297   \n",
       "136    1289350148829507584   \n",
       "141    1289350127111606278   \n",
       "...                    ...   \n",
       "49690  1289365168724627456   \n",
       "49730  1289365180867125248   \n",
       "49733  1289365181596803072   \n",
       "49817  1289365198021652480   \n",
       "49821  1289365198856314880   \n",
       "\n",
       "                                                                                                                                                                                                                                                                                      text  \\\n",
       "14                                                                                                                                                                                                               @realjohnbriscoe @realdonaldtrump yup the greatest mass murder in history   \n",
       "21                                                                                                                                          rt @mmpadellan: @realdonaldtrump you are doing putin's bidding by moving our troops out of germany and weakening nato.\\n\\nyou are a traitorou…   \n",
       "116                                                                                                                                                                                                                                @dpwimm @realdonaldtrump china owes the world a lot!!!!   \n",
       "136                                                                                                                                           rt @jelle_simons: @mmpadellan @realdonaldtrump man who thinks windmills cause cancer, suggested bleach cures covid, confused nepal and bhut…   \n",
       "141    @realdonaldtrump don't let trump fool you, dems passed an additional $1,200 stimulus check + $600 unemployment enhancement back in may (2 months ago!) \\n\\nit's the republicans who have been dragging their feet and only started on their bill this week. https://t.co/mio0m0aztn   \n",
       "...                                                                                                                                                                                                                                                                                    ...   \n",
       "49690                                                                                                                                              rt @hkrassenstein: @realdonaldtrump no, you never beat obama!  you never could and never will.  you can’t even hold obama’s jock strap.   \n",
       "49730                                                                                                                                                                                                                                        @gop @realdonaldtrump https://t.co/6wztb8ptuf   \n",
       "49733                                                                                                                                                                                                                         rt @projectlincoln: @realdonaldtrump https://t.co/gmjfa79b6j   \n",
       "49817                                                                                                                                                     rt @realdonaldtrump: the democrats are holding back the $1,200 to $3,400 (family of four) checks that were ready to be sent out!   \n",
       "49821                                                                                                                                                                                                       @realdonaldtrump jim jordan couldn’t grill a hot dog...no brains just yelling.   \n",
       "\n",
       "                    location place country  retweeted  retweet_count  \\\n",
       "14             Manhattan, NY   NaN     NaN      False              0   \n",
       "21     New York, Cape Cod MA   NaN     NaN      False           2787   \n",
       "116             Brooklyn, NY   NaN     NaN      False              0   \n",
       "136    New York, Cape Cod MA   NaN     NaN      False            841   \n",
       "141             New York, NY   NaN     NaN      False              1   \n",
       "...                      ...   ...     ...        ...            ...   \n",
       "49690          New York, USA   NaN     NaN      False           1108   \n",
       "49730                    NYC   NaN     NaN      False              0   \n",
       "49733           New York, NY   NaN     NaN      False           4572   \n",
       "49817          New York, USA   NaN     NaN      False          32721   \n",
       "49821               Metro NY   NaN     NaN      False              0   \n",
       "\n",
       "       favorited  favorite_count language      date  verified  \\\n",
       "14         False               5       en  08-01-00     False   \n",
       "21         False               0       en  08-01-00      True   \n",
       "116        False               0       en  08-01-00     False   \n",
       "136        False               0       en  08-01-00      True   \n",
       "141        False               3       en  08-01-00     False   \n",
       "...          ...             ...      ...       ...       ...   \n",
       "49690      False               0       en  08-01-00     False   \n",
       "49730      False               0      qme  08-01-00     False   \n",
       "49733      False               0      qme  08-01-00     False   \n",
       "49817      False               0       en  08-01-00     False   \n",
       "49821      False               0       en  08-01-00     False   \n",
       "\n",
       "                                                      sentiment_scores  \\\n",
       "14       {'neg': 0.296, 'neu': 0.44, 'pos': 0.264, 'compound': -0.128}   \n",
       "21       {'neg': 0.103, 'neu': 0.897, 'pos': 0.0, 'compound': -0.3182}   \n",
       "116              {'neg': 0.0, 'neu': 1.0, 'pos': 0.0, 'compound': 0.0}   \n",
       "136      {'neg': 0.295, 'neu': 0.705, 'pos': 0.0, 'compound': -0.7717}   \n",
       "141    {'neg': 0.073, 'neu': 0.872, 'pos': 0.055, 'compound': -0.1989}   \n",
       "...                                                                ...   \n",
       "49690    {'neg': 0.111, 'neu': 0.889, 'pos': 0.0, 'compound': -0.3595}   \n",
       "49730            {'neg': 0.0, 'neu': 1.0, 'pos': 0.0, 'compound': 0.0}   \n",
       "49733            {'neg': 0.0, 'neu': 1.0, 'pos': 0.0, 'compound': 0.0}   \n",
       "49817     {'neg': 0.0, 'neu': 0.883, 'pos': 0.117, 'compound': 0.4199}   \n",
       "49821            {'neg': 0.0, 'neu': 1.0, 'pos': 0.0, 'compound': 0.0}   \n",
       "\n",
       "      sentiment  \n",
       "14     Negative  \n",
       "21     Negative  \n",
       "116     Neutral  \n",
       "136    Negative  \n",
       "141    Negative  \n",
       "...         ...  \n",
       "49690  Negative  \n",
       "49730   Neutral  \n",
       "49733   Neutral  \n",
       "49817  Positive  \n",
       "49821   Neutral  \n",
       "\n",
       "[1536 rows x 14 columns]"
      ]
     },
     "execution_count": 21,
     "metadata": {},
     "output_type": "execute_result"
    }
   ],
   "source": [
    "states_dict_trump['New York']"
   ]
  },
  {
   "cell_type": "code",
   "execution_count": 17,
   "metadata": {},
   "outputs": [
    {
     "data": {
      "text/plain": [
       "4"
      ]
     },
     "execution_count": 17,
     "metadata": {},
     "output_type": "execute_result"
    }
   ],
   "source": [
    "df_topic = df[(df['text'].str.contains('abortion'))]\n",
    "states_dict_topic = {}\n",
    "for state in stateCodes:\n",
    "    states_dict_topic[stateMapping[state]] = df_topic[df_topic['location'].str.contains(state+ '|' + stateMapping[state])]\n",
    "count = 0\n",
    "for state in states:\n",
    "    count+= len(states_dict_topic[state])\n",
    "count"
   ]
  },
  {
   "cell_type": "code",
   "execution_count": 67,
   "metadata": {},
   "outputs": [
    {
     "data": {
      "text/plain": [
       "49627"
      ]
     },
     "execution_count": 67,
     "metadata": {},
     "output_type": "execute_result"
    }
   ],
   "source": [
    "len(df)"
   ]
  },
  {
   "cell_type": "code",
   "execution_count": 18,
   "metadata": {},
   "outputs": [
    {
     "data": {
      "text/plain": [
       "11"
      ]
     },
     "execution_count": 18,
     "metadata": {},
     "output_type": "execute_result"
    }
   ],
   "source": [
    "len(df[(df['text'].str.contains('abortion'))])"
   ]
  },
  {
   "cell_type": "code",
   "execution_count": null,
   "metadata": {},
   "outputs": [],
   "source": []
  }
 ],
 "metadata": {
  "kernelspec": {
   "display_name": "Python 3",
   "language": "python",
   "name": "python3"
  },
  "language_info": {
   "codemirror_mode": {
    "name": "ipython",
    "version": 3
   },
   "file_extension": ".py",
   "mimetype": "text/x-python",
   "name": "python",
   "nbconvert_exporter": "python",
   "pygments_lexer": "ipython3",
   "version": "3.8.5"
  },
  "varInspector": {
   "cols": {
    "lenName": 16,
    "lenType": 16,
    "lenVar": 40
   },
   "kernels_config": {
    "python": {
     "delete_cmd_postfix": "",
     "delete_cmd_prefix": "del ",
     "library": "var_list.py",
     "varRefreshCmd": "print(var_dic_list())"
    },
    "r": {
     "delete_cmd_postfix": ") ",
     "delete_cmd_prefix": "rm(",
     "library": "var_list.r",
     "varRefreshCmd": "cat(var_dic_list()) "
    }
   },
   "types_to_exclude": [
    "module",
    "function",
    "builtin_function_or_method",
    "instance",
    "_Feature"
   ],
   "window_display": false
  }
 },
 "nbformat": 4,
 "nbformat_minor": 4
}
