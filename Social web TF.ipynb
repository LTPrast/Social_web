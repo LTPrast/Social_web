{
 "cells": [
  {
   "cell_type": "code",
   "execution_count": 1,
   "metadata": {},
   "outputs": [],
   "source": [
    "\n",
    "import tensorflow as tf\n",
    "import pandas as pd\n",
    "\n",
    "from tqdm.auto import tqdm\n",
    "import tensorflow as tf"
   ]
  },
  {
   "cell_type": "code",
   "execution_count": 2,
   "metadata": {},
   "outputs": [
    {
     "name": "stdout",
     "output_type": "stream",
     "text": [
      "Collecting transformers\n",
      "  Downloading transformers-4.25.1-py3-none-any.whl (5.8 MB)\n",
      "Collecting command\n",
      "  Downloading Command-0.1.0.tar.gz (5.3 kB)\n",
      "  Preparing metadata (setup.py): started\n",
      "  Preparing metadata (setup.py): finished with status 'done'\n",
      "Collecting tokenizers!=0.11.3,<0.14,>=0.11.1\n",
      "  Downloading tokenizers-0.13.2-cp38-cp38-win_amd64.whl (3.3 MB)\n",
      "Requirement already satisfied: numpy>=1.17 in c:\\users\\mx\\anaconda3\\lib\\site-packages (from transformers) (1.19.2)\n",
      "Requirement already satisfied: pyyaml>=5.1 in c:\\users\\mx\\anaconda3\\lib\\site-packages (from transformers) (5.3.1)\n",
      "Requirement already satisfied: requests in c:\\users\\mx\\anaconda3\\lib\\site-packages (from transformers) (2.28.1)\n",
      "Requirement already satisfied: packaging>=20.0 in c:\\users\\mx\\anaconda3\\lib\\site-packages (from transformers) (20.4)\n",
      "Requirement already satisfied: tqdm>=4.27 in c:\\users\\mx\\anaconda3\\lib\\site-packages (from transformers) (4.64.1)\n",
      "Requirement already satisfied: filelock in c:\\users\\mx\\anaconda3\\lib\\site-packages (from transformers) (3.0.12)\n",
      "Requirement already satisfied: regex!=2019.12.17 in c:\\users\\mx\\anaconda3\\lib\\site-packages (from transformers) (2020.10.15)\n",
      "Collecting huggingface-hub<1.0,>=0.10.0\n",
      "  Downloading huggingface_hub-0.11.1-py3-none-any.whl (182 kB)\n",
      "Requirement already satisfied: setuptools in c:\\users\\mx\\anaconda3\\lib\\site-packages (from command) (50.3.1.post20201107)\n",
      "Requirement already satisfied: typing-extensions>=3.7.4.3 in c:\\users\\mx\\anaconda3\\lib\\site-packages (from huggingface-hub<1.0,>=0.10.0->transformers) (3.7.4.3)\n",
      "Collecting packaging>=20.0\n",
      "  Downloading packaging-22.0-py3-none-any.whl (42 kB)\n",
      "Requirement already satisfied: colorama in c:\\users\\mx\\anaconda3\\lib\\site-packages (from tqdm>=4.27->transformers) (0.4.4)\n",
      "Requirement already satisfied: certifi>=2017.4.17 in c:\\users\\mx\\anaconda3\\lib\\site-packages (from requests->transformers) (2020.6.20)\n",
      "Requirement already satisfied: charset-normalizer<3,>=2 in c:\\users\\mx\\anaconda3\\lib\\site-packages (from requests->transformers) (2.1.1)\n",
      "Requirement already satisfied: idna<4,>=2.5 in c:\\users\\mx\\anaconda3\\lib\\site-packages (from requests->transformers) (2.10)\n",
      "Requirement already satisfied: urllib3<1.27,>=1.21.1 in c:\\users\\mx\\anaconda3\\lib\\site-packages (from requests->transformers) (1.25.11)\n",
      "Building wheels for collected packages: command\n",
      "  Building wheel for command (setup.py): started\n",
      "  Building wheel for command (setup.py): finished with status 'done'\n",
      "  Created wheel for command: filename=Command-0.1.0-py3-none-any.whl size=6411 sha256=0d5a253d6bb15c0bcc69d87a2787b322655308450849bb8ce6ec146ca4287e61\n",
      "  Stored in directory: c:\\users\\mx\\appdata\\local\\pip\\cache\\wheels\\a0\\cb\\b7\\42f704db922b07a850570be67e5f92888d132e3b30a914d69e\n",
      "Successfully built command"
     ]
    },
    {
     "name": "stderr",
     "output_type": "stream",
     "text": [
      "WARNING: Ignoring invalid distribution -yspark (c:\\users\\mx\\anaconda3\\lib\\site-packages)\n",
      "WARNING: Ignoring invalid distribution -yspark (c:\\users\\mx\\anaconda3\\lib\\site-packages)\n",
      "WARNING: Ignoring invalid distribution -yspark (c:\\users\\mx\\anaconda3\\lib\\site-packages)\n",
      "    WARNING: Ignoring invalid distribution -yspark (c:\\users\\mx\\anaconda3\\lib\\site-packages)\n",
      "WARNING: Ignoring invalid distribution -yspark (c:\\users\\mx\\anaconda3\\lib\\site-packages)\n",
      "WARNING: Ignoring invalid distribution -yspark (c:\\users\\mx\\anaconda3\\lib\\site-packages)\n",
      "WARNING: Ignoring invalid distribution -yspark (c:\\users\\mx\\anaconda3\\lib\\site-packages)\n",
      "WARNING: Ignoring invalid distribution -yspark (c:\\users\\mx\\anaconda3\\lib\\site-packages)\n",
      "WARNING: Ignoring invalid distribution -yspark (c:\\users\\mx\\anaconda3\\lib\\site-packages)\n",
      "WARNING: Ignoring invalid distribution -yspark (c:\\users\\mx\\anaconda3\\lib\\site-packages)\n",
      "WARNING: Ignoring invalid distribution -yspark (c:\\users\\mx\\anaconda3\\lib\\site-packages)\n",
      "WARNING: Ignoring invalid distribution -yspark (c:\\users\\mx\\anaconda3\\lib\\site-packages)\n",
      "WARNING: You are using pip version 21.3.1; however, version 22.3.1 is available.\n",
      "You should consider upgrading via the 'c:\\users\\mx\\anaconda3\\python.exe -m pip install --upgrade pip' command.\n"
     ]
    },
    {
     "name": "stdout",
     "output_type": "stream",
     "text": [
      "\n",
      "Installing collected packages: packaging, tokenizers, huggingface-hub, transformers, command\n",
      "  Attempting uninstall: packaging\n",
      "    Found existing installation: packaging 20.4\n",
      "    Uninstalling packaging-20.4:\n",
      "      Successfully uninstalled packaging-20.4\n",
      "Successfully installed command-0.1.0 huggingface-hub-0.11.1 packaging-22.0 tokenizers-0.13.2 transformers-4.25.1\n"
     ]
    }
   ],
   "source": [
    "\n",
    "!pip install transformers command"
   ]
  },
  {
   "cell_type": "code",
   "execution_count": null,
   "metadata": {},
   "outputs": [],
   "source": [
    "\n",
    "biden_df = pd.read_csv('cleaned_sample_100_biden.csv')\n",
    "trump_df = pd.read_csv('cleaned_sample_100_trump.csv')\n",
    "     \n",
    "biden_df.loc[:,'who'] = 'biden'\n",
    "trump_df.loc[:,'who'] = 'trump'\n",
    "\n",
    "balance_data_df = pd.DataFrame(columns=biden_df.columns)\n",
    "balance_data_df\n",
    "\n",
    "\n",
    "biden_df = pd.read_csv('cleaned_sample_100_biden.csv')\n",
    "trump_df = pd.read_csv('cleaned_sample_100_trump.csv')\n",
    "     \n",
    "biden_df.loc[:,'who'] = 'biden'\n",
    "trump_df.loc[:,'who'] = 'trump'\n",
    "\n",
    "balance_data_df = pd.DataFrame(columns=biden_df.columns)\n",
    "balance_data_df\n",
    "     \n",
    "     \n",
    "    \n",
    "for state in states_list:\n",
    "    trump_df_state = trump_df[trump_df['state_code']==state]\n",
    "    biden_df_state = biden_df[biden_df['state_code']==state]\n",
    "    \n",
    "    n_sample = len(trump_df_state) if len(trump_df_state) < len(biden_df_state) else len(biden_df_state)\n",
    "    \n",
    "    if len(trump_df_state) < len(biden_df_state):\n",
    "        balance_data_df = pd.concat([balance_data_df, trump_df_state])\n",
    "        balance_data_df = pd.concat([balance_data_df, biden_df_state.sample(len(trump_df_state))])\n",
    "    else:\n",
    "        balance_data_df = pd.concat([balance_data_df, biden_df_state])\n",
    "        balance_data_df = pd.concat([balance_data_df, trump_df_state.sample(len(biden_df_state))])"
   ]
  },
  {
   "cell_type": "code",
   "execution_count": 2,
   "metadata": {},
   "outputs": [
    {
     "name": "stderr",
     "output_type": "stream",
     "text": [
      "All model checkpoint layers were used when initializing TFBertForSequenceClassification.\n",
      "\n",
      "Some layers of TFBertForSequenceClassification were not initialized from the model checkpoint at bert-base-uncased and are newly initialized: ['classifier']\n",
      "You should probably TRAIN this model on a down-stream task to be able to use it for predictions and inference.\n"
     ]
    }
   ],
   "source": [
    "\n",
    "from transformers import BertTokenizer, TFBertForSequenceClassification\n",
    "from transformers import InputExample, InputFeatures\n",
    "\n",
    "model = TFBertForSequenceClassification.from_pretrained(\"bert-base-uncased\")\n",
    "tokenizer = BertTokenizer.from_pretrained(\"bert-base-uncased\")"
   ]
  },
  {
   "cell_type": "markdown",
   "metadata": {},
   "source": [
    "# This is for training model, don't have to run this"
   ]
  },
  {
   "cell_type": "code",
   "execution_count": 57,
   "metadata": {},
   "outputs": [
    {
     "name": "stdout",
     "output_type": "stream",
     "text": [
      "Downloading data from https://ai.stanford.edu/~amaas/data/sentiment/aclImdb_v1.tar.gz\n",
      "84131840/84125825 [==============================] - 198s 2us/step\n"
     ]
    }
   ],
   "source": [
    "URL = \"https://ai.stanford.edu/~amaas/data/sentiment/aclImdb_v1.tar.gz\"\n",
    "\n",
    "dataset = tf.keras.utils.get_file(fname=\"aclImdb_v1.tar.gz\", \n",
    "                                  origin=URL,\n",
    "                                  untar=True,\n",
    "                                  cache_dir='.',\n",
    "                                  cache_subdir='')"
   ]
  },
  {
   "cell_type": "code",
   "execution_count": 59,
   "metadata": {},
   "outputs": [
    {
     "name": "stdout",
     "output_type": "stream",
     "text": [
      "['labeledBow.feat', 'neg', 'pos', 'unsupBow.feat', 'urls_neg.txt', 'urls_pos.txt', 'urls_unsup.txt']\n"
     ]
    }
   ],
   "source": [
    "# The shutil module offers a number of high-level \n",
    "# operations on files and collections of files.\n",
    "import os\n",
    "import shutil\n",
    "# Create main directory path (\"/aclImdb\")\n",
    "main_dir = os.path.join(os.path.dirname(dataset), 'aclImdb')\n",
    "# Create sub directory path (\"/aclImdb/train\")\n",
    "train_dir = os.path.join(main_dir, 'train')\n",
    "# Remove unsup folder since this is a supervised learning task\n",
    "remove_dir = os.path.join(train_dir, 'unsup')\n",
    "shutil.rmtree(remove_dir)\n",
    "# View the final train folder\n",
    "print(os.listdir(train_dir))"
   ]
  },
  {
   "cell_type": "code",
   "execution_count": 30,
   "metadata": {},
   "outputs": [
    {
     "name": "stdout",
     "output_type": "stream",
     "text": [
      "Found 25000 files belonging to 2 classes.\n",
      "Using 20000 files for training.\n",
      "Found 25000 files belonging to 2 classes.\n",
      "Using 5000 files for validation.\n"
     ]
    }
   ],
   "source": [
    "train = tf.keras.preprocessing.text_dataset_from_directory(\n",
    "    'aclImdb/train', batch_size=30000, validation_split=0.2, \n",
    "    subset='training', seed=123)\n",
    "test = tf.keras.preprocessing.text_dataset_from_directory(\n",
    "    'aclImdb/train', batch_size=30000, validation_split=0.2, \n",
    "    subset='validation', seed=123)"
   ]
  },
  {
   "cell_type": "code",
   "execution_count": 31,
   "metadata": {},
   "outputs": [
    {
     "data": {
      "text/html": [
       "<div>\n",
       "<style scoped>\n",
       "    .dataframe tbody tr th:only-of-type {\n",
       "        vertical-align: middle;\n",
       "    }\n",
       "\n",
       "    .dataframe tbody tr th {\n",
       "        vertical-align: top;\n",
       "    }\n",
       "\n",
       "    .dataframe thead th {\n",
       "        text-align: right;\n",
       "    }\n",
       "</style>\n",
       "<table border=\"1\" class=\"dataframe\">\n",
       "  <thead>\n",
       "    <tr style=\"text-align: right;\">\n",
       "      <th></th>\n",
       "      <th>DATA_COLUMN</th>\n",
       "      <th>LABEL_COLUMN</th>\n",
       "    </tr>\n",
       "  </thead>\n",
       "  <tbody>\n",
       "    <tr>\n",
       "      <th>0</th>\n",
       "      <td>Canadian director Vincenzo Natali took the art...</td>\n",
       "      <td>1</td>\n",
       "    </tr>\n",
       "    <tr>\n",
       "      <th>1</th>\n",
       "      <td>I gave this film 10 not because it is a superb...</td>\n",
       "      <td>1</td>\n",
       "    </tr>\n",
       "    <tr>\n",
       "      <th>2</th>\n",
       "      <td>I admit to being somewhat jaded about the movi...</td>\n",
       "      <td>1</td>\n",
       "    </tr>\n",
       "    <tr>\n",
       "      <th>3</th>\n",
       "      <td>For a long time, 'The Menagerie' was my favori...</td>\n",
       "      <td>1</td>\n",
       "    </tr>\n",
       "    <tr>\n",
       "      <th>4</th>\n",
       "      <td>A truly frightening film. Feels as if it were ...</td>\n",
       "      <td>0</td>\n",
       "    </tr>\n",
       "  </tbody>\n",
       "</table>\n",
       "</div>"
      ],
      "text/plain": [
       "                                         DATA_COLUMN LABEL_COLUMN\n",
       "0  Canadian director Vincenzo Natali took the art...            1\n",
       "1  I gave this film 10 not because it is a superb...            1\n",
       "2  I admit to being somewhat jaded about the movi...            1\n",
       "3  For a long time, 'The Menagerie' was my favori...            1\n",
       "4  A truly frightening film. Feels as if it were ...            0"
      ]
     },
     "execution_count": 31,
     "metadata": {},
     "output_type": "execute_result"
    }
   ],
   "source": [
    "\n",
    "for i in train.take(1):\n",
    "  train_feat = i[0].numpy()\n",
    "  train_lab = i[1].numpy()\n",
    "\n",
    "train = pd.DataFrame([train_feat, train_lab]).T\n",
    "train.columns = ['DATA_COLUMN', 'LABEL_COLUMN']\n",
    "train['DATA_COLUMN'] = train['DATA_COLUMN'].str.decode(\"utf-8\")\n",
    "train.head()\n",
    "     "
   ]
  },
  {
   "cell_type": "code",
   "execution_count": 32,
   "metadata": {},
   "outputs": [
    {
     "data": {
      "text/html": [
       "<div>\n",
       "<style scoped>\n",
       "    .dataframe tbody tr th:only-of-type {\n",
       "        vertical-align: middle;\n",
       "    }\n",
       "\n",
       "    .dataframe tbody tr th {\n",
       "        vertical-align: top;\n",
       "    }\n",
       "\n",
       "    .dataframe thead th {\n",
       "        text-align: right;\n",
       "    }\n",
       "</style>\n",
       "<table border=\"1\" class=\"dataframe\">\n",
       "  <thead>\n",
       "    <tr style=\"text-align: right;\">\n",
       "      <th></th>\n",
       "      <th>DATA_COLUMN</th>\n",
       "      <th>LABEL_COLUMN</th>\n",
       "    </tr>\n",
       "  </thead>\n",
       "  <tbody>\n",
       "    <tr>\n",
       "      <th>0</th>\n",
       "      <td>I can't believe that so much talent can be was...</td>\n",
       "      <td>0</td>\n",
       "    </tr>\n",
       "    <tr>\n",
       "      <th>1</th>\n",
       "      <td>This movie blows - let's get that straight rig...</td>\n",
       "      <td>0</td>\n",
       "    </tr>\n",
       "    <tr>\n",
       "      <th>2</th>\n",
       "      <td>The saddest thing about this \"tribute\" is that...</td>\n",
       "      <td>0</td>\n",
       "    </tr>\n",
       "    <tr>\n",
       "      <th>3</th>\n",
       "      <td>I'm only rating this film as a 3 out of pity b...</td>\n",
       "      <td>0</td>\n",
       "    </tr>\n",
       "    <tr>\n",
       "      <th>4</th>\n",
       "      <td>Something surprised me about this movie - it w...</td>\n",
       "      <td>1</td>\n",
       "    </tr>\n",
       "  </tbody>\n",
       "</table>\n",
       "</div>"
      ],
      "text/plain": [
       "                                         DATA_COLUMN LABEL_COLUMN\n",
       "0  I can't believe that so much talent can be was...            0\n",
       "1  This movie blows - let's get that straight rig...            0\n",
       "2  The saddest thing about this \"tribute\" is that...            0\n",
       "3  I'm only rating this film as a 3 out of pity b...            0\n",
       "4  Something surprised me about this movie - it w...            1"
      ]
     },
     "execution_count": 32,
     "metadata": {},
     "output_type": "execute_result"
    }
   ],
   "source": [
    "\n",
    "for j in test.take(1):\n",
    "  test_feat = j[0].numpy()\n",
    "  test_lab = j[1].numpy()\n",
    "\n",
    "test = pd.DataFrame([test_feat, test_lab]).T\n",
    "test.columns = ['DATA_COLUMN', 'LABEL_COLUMN']\n",
    "test['DATA_COLUMN'] = test['DATA_COLUMN'].str.decode(\"utf-8\")\n",
    "test.head()"
   ]
  },
  {
   "cell_type": "code",
   "execution_count": 63,
   "metadata": {},
   "outputs": [
    {
     "data": {
      "text/plain": [
       "InputExample(guid=None, text_a='Hello, world', text_b=None, label=1)"
      ]
     },
     "execution_count": 63,
     "metadata": {},
     "output_type": "execute_result"
    }
   ],
   "source": [
    "\n",
    "InputExample(guid=None,\n",
    "             text_a = \"Hello, world\",\n",
    "             text_b = None,\n",
    "             label = 1)\n",
    "     "
   ]
  },
  {
   "cell_type": "code",
   "execution_count": 33,
   "metadata": {},
   "outputs": [],
   "source": [
    "def convert_data_to_examples(train, test, DATA_COLUMN, LABEL_COLUMN): \n",
    "  train_InputExamples = train.apply(lambda x: InputExample(guid=None, # Globally unique ID for bookkeeping, unused in this case\n",
    "                                                          text_a = x[DATA_COLUMN], \n",
    "                                                          text_b = None,\n",
    "                                                          label = x[LABEL_COLUMN]), axis = 1)\n",
    "\n",
    "  validation_InputExamples = test.apply(lambda x: InputExample(guid=None, # Globally unique ID for bookkeeping, unused in this case\n",
    "                                                          text_a = x[DATA_COLUMN], \n",
    "                                                          text_b = None,\n",
    "                                                          label = x[LABEL_COLUMN]), axis = 1)\n",
    "  \n",
    "  return train_InputExamples, validation_InputExamples\n",
    "  \n",
    "def convert_examples_to_tf_dataset(examples, tokenizer, max_length=128):\n",
    "    features = [] # -> will hold InputFeatures to be converted later\n",
    "\n",
    "    for e in examples:\n",
    "        # Documentation is really strong for this method, so please take a look at it\n",
    "        input_dict = tokenizer.encode_plus(\n",
    "            e.text_a,\n",
    "            add_special_tokens=True,\n",
    "            max_length=max_length, # truncates if len(s) > max_length\n",
    "            return_token_type_ids=True,\n",
    "            return_attention_mask=True,\n",
    "            pad_to_max_length=True, # pads to the right by default # CHECK THIS for pad_to_max_length\n",
    "            truncation=True\n",
    "        )\n",
    "\n",
    "        input_ids, token_type_ids, attention_mask = (input_dict[\"input_ids\"],\n",
    "            input_dict[\"token_type_ids\"], input_dict['attention_mask'])\n",
    "\n",
    "        features.append(\n",
    "            InputFeatures(\n",
    "                input_ids=input_ids, attention_mask=attention_mask, token_type_ids=token_type_ids, label=e.label\n",
    "            )\n",
    "        )\n",
    "\n",
    "    def gen():\n",
    "        for f in features:\n",
    "            yield (\n",
    "                {\n",
    "                    \"input_ids\": f.input_ids,\n",
    "                    \"attention_mask\": f.attention_mask,\n",
    "                    \"token_type_ids\": f.token_type_ids,\n",
    "                },\n",
    "                f.label,\n",
    "            )\n",
    "\n",
    "    return tf.data.Dataset.from_generator(\n",
    "        gen,\n",
    "        ({\"input_ids\": tf.int32, \"attention_mask\": tf.int32, \"token_type_ids\": tf.int32}, tf.int64),\n",
    "        (\n",
    "            {\n",
    "                \"input_ids\": tf.TensorShape([None]),\n",
    "                \"attention_mask\": tf.TensorShape([None]),\n",
    "                \"token_type_ids\": tf.TensorShape([None]),\n",
    "            },\n",
    "            tf.TensorShape([]),\n",
    "        ),\n",
    "    )\n",
    "\n",
    "\n",
    "DATA_COLUMN = 'DATA_COLUMN'\n",
    "LABEL_COLUMN = 'LABEL_COLUMN'\n",
    "     "
   ]
  },
  {
   "cell_type": "code",
   "execution_count": 34,
   "metadata": {},
   "outputs": [
    {
     "name": "stderr",
     "output_type": "stream",
     "text": [
      "C:\\Users\\Mx\\anaconda3\\lib\\site-packages\\transformers\\tokenization_utils_base.py:2336: FutureWarning: The `pad_to_max_length` argument is deprecated and will be removed in a future version, use `padding=True` or `padding='longest'` to pad to the longest sequence in the batch, or use `padding='max_length'` to pad to a max length. In this case, you can give a specific length with `max_length` (e.g. `max_length=45`) or leave max_length to None to pad to the maximal input size of the model (e.g. 512 for Bert).\n",
      "  warnings.warn(\n"
     ]
    }
   ],
   "source": [
    "train_InputExamples, validation_InputExamples = convert_data_to_examples(train, test, DATA_COLUMN, LABEL_COLUMN)\n",
    "\n",
    "train_data = convert_examples_to_tf_dataset(list(train_InputExamples), tokenizer)\n",
    "train_data = train_data.shuffle(100).batch(16).repeat(2)\n",
    "\n",
    "validation_data = convert_examples_to_tf_dataset(list(validation_InputExamples), tokenizer)\n",
    "validation_data = validation_data.batch(16)"
   ]
  },
  {
   "cell_type": "code",
   "execution_count": 40,
   "metadata": {},
   "outputs": [],
   "source": [
    "\n",
    "model.compile(optimizer=tf.keras.optimizers.Adam(learning_rate=3e-5, epsilon=1e-08, clipnorm=1.0), \n",
    "              loss=tf.keras.losses.SparseCategoricalCrossentropy(from_logits=True), \n",
    "              metrics=[tf.keras.metrics.SparseCategoricalAccuracy('accuracy')])"
   ]
  },
  {
   "cell_type": "code",
   "execution_count": 41,
   "metadata": {},
   "outputs": [
    {
     "name": "stdout",
     "output_type": "stream",
     "text": [
      "Epoch 1/2\n",
      "2500/2500 [==============================] - 1806s 711ms/step - loss: 0.0863 - accuracy: 0.9698 - val_loss: 0.4778 - val_accuracy: 0.8842\n",
      "Epoch 2/2\n",
      "2500/2500 [==============================] - 1805s 722ms/step - loss: 0.0326 - accuracy: 0.9896 - val_loss: 0.5079 - val_accuracy: 0.8788\n"
     ]
    },
    {
     "data": {
      "text/plain": [
       "<tensorflow.python.keras.callbacks.History at 0x169192bff10>"
      ]
     },
     "execution_count": 41,
     "metadata": {},
     "output_type": "execute_result"
    }
   ],
   "source": [
    "from keras.callbacks import ReduceLROnPlateau\n",
    "from keras.callbacks import EarlyStopping\n",
    "from keras.callbacks import ModelCheckpoint\n",
    "\n",
    "#red_lr= ReduceLROnPlateau(monitor='loss',patience=1,verbose=1,factor=0.1, mode='min', min_lr=10**(-12))\n",
    "mcp_save = ModelCheckpoint('weights1.hdf5', save_best_only=True, monitor='val_accuracy', mode='max')\n",
    "\n",
    "model.fit(train_data, epochs=2, verbose = 1, validation_data=validation_data, callbacks=[mcp_save])\n",
    "     "
   ]
  },
  {
   "cell_type": "code",
   "execution_count": 68,
   "metadata": {},
   "outputs": [
    {
     "name": "stderr",
     "output_type": "stream",
     "text": [
      "WARNING:absl:Found untraced functions such as embeddings_layer_call_and_return_conditional_losses, embeddings_layer_call_fn, encoder_layer_call_and_return_conditional_losses, encoder_layer_call_fn, pooler_layer_call_and_return_conditional_losses while saving (showing 5 of 1050). These functions will not be directly callable after loading.\n",
      "WARNING:absl:Found untraced functions such as embeddings_layer_call_and_return_conditional_losses, embeddings_layer_call_fn, encoder_layer_call_and_return_conditional_losses, encoder_layer_call_fn, pooler_layer_call_and_return_conditional_losses while saving (showing 5 of 1050). These functions will not be directly callable after loading.\n"
     ]
    },
    {
     "name": "stdout",
     "output_type": "stream",
     "text": [
      "INFO:tensorflow:Assets written to: bert_emo_finetuned\\assets\n"
     ]
    },
    {
     "name": "stderr",
     "output_type": "stream",
     "text": [
      "INFO:tensorflow:Assets written to: bert_emo_finetuned\\assets\n"
     ]
    }
   ],
   "source": [
    "model.save(f'bert_emo_finetuned')"
   ]
  },
  {
   "cell_type": "markdown",
   "metadata": {},
   "source": [
    "# Using model"
   ]
  },
  {
   "cell_type": "code",
   "execution_count": 53,
   "metadata": {},
   "outputs": [],
   "source": [
    "batch_size = 32\n",
    "def emotion_classify(tweet_list):\n",
    "    batch_idx = np.append(np.arange(0, len(tweet_list), batch_size), len(tweet_list))\n",
    "    labels = np.array([])\n",
    "    for i in tqdm(range(len(batch_idx)-1)):\n",
    "        tf_batch = tokenizer(tweet_list[batch_idx[i]:batch_idx[i+1]], max_length=280, padding=True, truncation=True, return_tensors='tf')\n",
    "        tf_outputs = model(tf_batch)\n",
    "        tf_predictions = tf.nn.softmax(tf_outputs[0], axis=-1)\n",
    "        labels = np.append(labels, tf.argmax(tf_predictions, axis=1))\n",
    "        del tf_batch\n",
    "    return labels"
   ]
  },
  {
   "cell_type": "code",
   "execution_count": 74,
   "metadata": {},
   "outputs": [],
   "source": [
    "import os\n",
    "# your directory here (might not be necessary)\n",
    "# os.chdir(\"D:/socialweb/\")"
   ]
  },
  {
   "cell_type": "code",
   "execution_count": 42,
   "metadata": {},
   "outputs": [],
   "source": [
    "finetuned_bert = tf.keras.models.load_model('bert_emo_finetuned')\n",
    "model.load_weights('weights1.hdf5')"
   ]
  },
  {
   "cell_type": "code",
   "execution_count": 45,
   "metadata": {},
   "outputs": [
    {
     "data": {
      "text/plain": [
       "<tf.Tensor: shape=(2, 2), dtype=float32, numpy=\n",
       "array([[0.98008007, 0.01991991],\n",
       "       [0.00585578, 0.99414426]], dtype=float32)>"
      ]
     },
     "execution_count": 45,
     "metadata": {},
     "output_type": "execute_result"
    }
   ],
   "source": [
    "# 0 is negative, 1 is positive\n",
    "tf_batch = tokenizer(['He is a stupid man', 'He is a good man'], max_length=280, padding=True, truncation=True, return_tensors='tf')\n",
    "tf_outputs = model(tf_batch)\n",
    "tf.nn.softmax(tf_outputs[0], axis=-1)"
   ]
  },
  {
   "cell_type": "code",
   "execution_count": 46,
   "metadata": {},
   "outputs": [
    {
     "data": {
      "text/plain": [
       "<tf.Tensor: shape=(2, 2), dtype=float32, numpy=\n",
       "array([[0.01421283, 0.98578715],\n",
       "       [0.00585578, 0.99414426]], dtype=float32)>"
      ]
     },
     "execution_count": 46,
     "metadata": {},
     "output_type": "execute_result"
    }
   ],
   "source": [
    "# example of not really working properly\n",
    "tf_batch = tokenizer(['He is a bad man', 'He is a good man'], max_length=280, padding=True, truncation=True, return_tensors='tf')\n",
    "tf_outputs = model(tf_batch)\n",
    "tf.nn.softmax(tf_outputs[0], axis=-1)"
   ]
  },
  {
   "cell_type": "code",
   "execution_count": 54,
   "metadata": {},
   "outputs": [
    {
     "data": {
      "application/vnd.jupyter.widget-view+json": {
       "model_id": "2174f9966dfb444e8ca0fac8db737df1",
       "version_major": 2,
       "version_minor": 0
      },
      "text/plain": [
       "  0%|          | 0/2399 [00:00<?, ?it/s]"
      ]
     },
     "metadata": {},
     "output_type": "display_data"
    }
   ],
   "source": [
    "# Run the model on dataset\n",
    "balance_data_df['sentiment'] = emotion_classify(list(balance_data_df['tweet']))"
   ]
  },
  {
   "cell_type": "code",
   "execution_count": 55,
   "metadata": {},
   "outputs": [],
   "source": [
    "balance_data_df.to_csv('cleaned_sample_100_trumpbiden_sentiment.csv')  "
   ]
  },
  {
   "cell_type": "code",
   "execution_count": 58,
   "metadata": {},
   "outputs": [
    {
     "data": {
      "text/html": [
       "<div>\n",
       "<style scoped>\n",
       "    .dataframe tbody tr th:only-of-type {\n",
       "        vertical-align: middle;\n",
       "    }\n",
       "\n",
       "    .dataframe tbody tr th {\n",
       "        vertical-align: top;\n",
       "    }\n",
       "\n",
       "    .dataframe thead th {\n",
       "        text-align: right;\n",
       "    }\n",
       "</style>\n",
       "<table border=\"1\" class=\"dataframe\">\n",
       "  <thead>\n",
       "    <tr style=\"text-align: right;\">\n",
       "      <th></th>\n",
       "      <th>tweet</th>\n",
       "      <th>long</th>\n",
       "      <th>lat</th>\n",
       "      <th>state_code</th>\n",
       "      <th>sentiment</th>\n",
       "      <th>who</th>\n",
       "    </tr>\n",
       "  </thead>\n",
       "  <tbody>\n",
       "    <tr>\n",
       "      <th>3559</th>\n",
       "      <td>SWAtlasHoover This FOOL is at the Hoover! STOP DONATING MONEY TO THE HOOVER INSTITUTE. I wouldn't trust Atlas to treat your house pet never mind any human other than Trump! DO NOT DONATE TO THE HOOVER INSTITUTE!!!</td>\n",
       "      <td>-110.917506</td>\n",
       "      <td>43.357853</td>\n",
       "      <td>WY</td>\n",
       "      <td>0.0</td>\n",
       "      <td>biden</td>\n",
       "    </tr>\n",
       "    <tr>\n",
       "      <th>4220</th>\n",
       "      <td>PamKirby RedPillLatina realDonaldTrump Pam, thank you for supporting our great president. He wants the best for all Americans. President Trump - doesn't pander to special interest groups - cannot be bought out - knows America is great amp wants to make it greater - knows lower taxes are better for the economy Trump</td>\n",
       "      <td>-107.568535</td>\n",
       "      <td>43.170026</td>\n",
       "      <td>WY</td>\n",
       "      <td>1.0</td>\n",
       "      <td>biden</td>\n",
       "    </tr>\n",
       "    <tr>\n",
       "      <th>4774</th>\n",
       "      <td>danicaamac CALFIRE CALFIRELNU SFGate KTVU CALFIRECHIEF GavinNewsom TeamPelosi GavinNewsom what is Calfire supporting Trump</td>\n",
       "      <td>-107.568535</td>\n",
       "      <td>43.170026</td>\n",
       "      <td>WY</td>\n",
       "      <td>0.0</td>\n",
       "      <td>biden</td>\n",
       "    </tr>\n",
       "    <tr>\n",
       "      <th>4781</th>\n",
       "      <td>SO Happy I requested my AbsenteeBallot bcuz nobody knew what the status of COVID19 would be come ElectionDay2020 but ALSO Voided my AbsenteeBallot and voted InPerson cuz who can trust Trump amp his efforts of VoterSuppression IVoted VoteInPerson MyBlueCountyIsntInYet</td>\n",
       "      <td>-106.280075</td>\n",
       "      <td>43.411391</td>\n",
       "      <td>WY</td>\n",
       "      <td>1.0</td>\n",
       "      <td>biden</td>\n",
       "    </tr>\n",
       "    <tr>\n",
       "      <th>4876</th>\n",
       "      <td>Its Friday, and Grandpas doing his thinghelping all of us connect and Resist  Lets  join together in Resistance against Trump and the TrumpCrimeFamily VoteBlueToSaveAmerica and live in JoeBidensNeighborhood</td>\n",
       "      <td>-106.280075</td>\n",
       "      <td>43.411391</td>\n",
       "      <td>WY</td>\n",
       "      <td>1.0</td>\n",
       "      <td>biden</td>\n",
       "    </tr>\n",
       "    <tr>\n",
       "      <th>...</th>\n",
       "      <td>...</td>\n",
       "      <td>...</td>\n",
       "      <td>...</td>\n",
       "      <td>...</td>\n",
       "      <td>...</td>\n",
       "      <td>...</td>\n",
       "    </tr>\n",
       "    <tr>\n",
       "      <th>16974</th>\n",
       "      <td>All Biden BidenHarris BidenHarrisToSaveAmerica BidenHarris2020 Biden2020 Supporters must watch if you believe in freedom Full Documentary The American Republic vs the CCP    Download our app to read more for free at</td>\n",
       "      <td>-106.650985</td>\n",
       "      <td>35.084103</td>\n",
       "      <td>NM</td>\n",
       "      <td>1.0</td>\n",
       "      <td>trump</td>\n",
       "    </tr>\n",
       "    <tr>\n",
       "      <th>11823</th>\n",
       "      <td>bennyjohnson JoeBiden Nothing to see here.   - Facebook amp Twitter   JoeBiden HunterBiden BidenCrimeFamily</td>\n",
       "      <td>-105.993007</td>\n",
       "      <td>34.570817</td>\n",
       "      <td>NM</td>\n",
       "      <td>0.0</td>\n",
       "      <td>trump</td>\n",
       "    </tr>\n",
       "    <tr>\n",
       "      <th>27003</th>\n",
       "      <td>VP of Flint, MI City Council Endorses Trump \"Mr. Trump would be the best thing for poor folks\"...\"Obama said our water is fine...ain't nothing wrong with drinking lead!\" VIDEO  Blexit JoeBiden</td>\n",
       "      <td>-105.993007</td>\n",
       "      <td>34.570817</td>\n",
       "      <td>NM</td>\n",
       "      <td>0.0</td>\n",
       "      <td>trump</td>\n",
       "    </tr>\n",
       "    <tr>\n",
       "      <th>20721</th>\n",
       "      <td>A celebratory mimosa from us to you, joebiden and kamalaharris and to all of America!  flexyourvote lgbtqrights hesfired presidentbiden vicepresidentharris</td>\n",
       "      <td>-106.650985</td>\n",
       "      <td>35.084103</td>\n",
       "      <td>NM</td>\n",
       "      <td>0.0</td>\n",
       "      <td>trump</td>\n",
       "    </tr>\n",
       "    <tr>\n",
       "      <th>40466</th>\n",
       "      <td>JoeBiden</td>\n",
       "      <td>-106.650985</td>\n",
       "      <td>35.084103</td>\n",
       "      <td>NM</td>\n",
       "      <td>1.0</td>\n",
       "      <td>trump</td>\n",
       "    </tr>\n",
       "  </tbody>\n",
       "</table>\n",
       "<p>76760 rows × 6 columns</p>\n",
       "</div>"
      ],
      "text/plain": [
       "                                                                                                                                                                                                                                                                                                                               tweet  \\\n",
       "3559                                                                                                           SWAtlasHoover This FOOL is at the Hoover! STOP DONATING MONEY TO THE HOOVER INSTITUTE. I wouldn't trust Atlas to treat your house pet never mind any human other than Trump! DO NOT DONATE TO THE HOOVER INSTITUTE!!!   \n",
       "4220   PamKirby RedPillLatina realDonaldTrump Pam, thank you for supporting our great president. He wants the best for all Americans. President Trump - doesn't pander to special interest groups - cannot be bought out - knows America is great amp wants to make it greater - knows lower taxes are better for the economy Trump    \n",
       "4774                                                                                                                                                                                                      danicaamac CALFIRE CALFIRELNU SFGate KTVU CALFIRECHIEF GavinNewsom TeamPelosi GavinNewsom what is Calfire supporting Trump   \n",
       "4781                                                    SO Happy I requested my AbsenteeBallot bcuz nobody knew what the status of COVID19 would be come ElectionDay2020 but ALSO Voided my AbsenteeBallot and voted InPerson cuz who can trust Trump amp his efforts of VoterSuppression IVoted VoteInPerson MyBlueCountyIsntInYet    \n",
       "4876                                                                                                                 Its Friday, and Grandpas doing his thinghelping all of us connect and Resist  Lets  join together in Resistance against Trump and the TrumpCrimeFamily VoteBlueToSaveAmerica and live in JoeBidensNeighborhood    \n",
       "...                                                                                                                                                                                                                                                                                                                              ...   \n",
       "16974                                                                                                       All Biden BidenHarris BidenHarrisToSaveAmerica BidenHarris2020 Biden2020 Supporters must watch if you believe in freedom Full Documentary The American Republic vs the CCP    Download our app to read more for free at    \n",
       "11823                                                                                                                                                                                                                   bennyjohnson JoeBiden Nothing to see here.   - Facebook amp Twitter   JoeBiden HunterBiden BidenCrimeFamily    \n",
       "27003                                                                                                                               VP of Flint, MI City Council Endorses Trump \"Mr. Trump would be the best thing for poor folks\"...\"Obama said our water is fine...ain't nothing wrong with drinking lead!\" VIDEO  Blexit JoeBiden   \n",
       "20721                                                                                                                                                                   A celebratory mimosa from us to you, joebiden and kamalaharris and to all of America!  flexyourvote lgbtqrights hesfired presidentbiden vicepresidentharris    \n",
       "40466                                                                                                                                                                                                                                                                                                                      JoeBiden    \n",
       "\n",
       "             long        lat state_code  sentiment    who  \n",
       "3559  -110.917506  43.357853         WY        0.0  biden  \n",
       "4220  -107.568535  43.170026         WY        1.0  biden  \n",
       "4774  -107.568535  43.170026         WY        0.0  biden  \n",
       "4781  -106.280075  43.411391         WY        1.0  biden  \n",
       "4876  -106.280075  43.411391         WY        1.0  biden  \n",
       "...           ...        ...        ...        ...    ...  \n",
       "16974 -106.650985  35.084103         NM        1.0  trump  \n",
       "11823 -105.993007  34.570817         NM        0.0  trump  \n",
       "27003 -105.993007  34.570817         NM        0.0  trump  \n",
       "20721 -106.650985  35.084103         NM        0.0  trump  \n",
       "40466 -106.650985  35.084103         NM        1.0  trump  \n",
       "\n",
       "[76760 rows x 6 columns]"
      ]
     },
     "execution_count": 58,
     "metadata": {},
     "output_type": "execute_result"
    }
   ],
   "source": [
    "pd.options.display.max_colwidth = 10000\n",
    "balance_data_df"
   ]
  },
  {
   "cell_type": "code",
   "execution_count": 59,
   "metadata": {},
   "outputs": [
    {
     "data": {
      "text/html": [
       "<div>\n",
       "<style scoped>\n",
       "    .dataframe tbody tr th:only-of-type {\n",
       "        vertical-align: middle;\n",
       "    }\n",
       "\n",
       "    .dataframe tbody tr th {\n",
       "        vertical-align: top;\n",
       "    }\n",
       "\n",
       "    .dataframe thead th {\n",
       "        text-align: right;\n",
       "    }\n",
       "</style>\n",
       "<table border=\"1\" class=\"dataframe\">\n",
       "  <thead>\n",
       "    <tr style=\"text-align: right;\">\n",
       "      <th></th>\n",
       "      <th>Unnamed: 0</th>\n",
       "      <th>tweet</th>\n",
       "      <th>long</th>\n",
       "      <th>lat</th>\n",
       "      <th>state_code</th>\n",
       "      <th>sentiment</th>\n",
       "      <th>who</th>\n",
       "    </tr>\n",
       "  </thead>\n",
       "  <tbody>\n",
       "    <tr>\n",
       "      <th>0</th>\n",
       "      <td>3559</td>\n",
       "      <td>SWAtlasHoover This FOOL is at the Hoover! STOP DONATING MONEY TO THE HOOVER INSTITUTE. I wouldn't trust Atlas to treat your house pet never mind any human other than Trump! DO NOT DONATE TO THE HOOVER INSTITUTE!!!</td>\n",
       "      <td>-110.917507</td>\n",
       "      <td>43.357853</td>\n",
       "      <td>WY</td>\n",
       "      <td>0.0</td>\n",
       "      <td>biden</td>\n",
       "    </tr>\n",
       "    <tr>\n",
       "      <th>1</th>\n",
       "      <td>4220</td>\n",
       "      <td>PamKirby RedPillLatina realDonaldTrump Pam, thank you for supporting our great president. He wants the best for all Americans. President Trump - doesn't pander to special interest groups - cannot be bought out - knows America is great amp wants to make it greater - knows lower taxes are better for the economy Trump</td>\n",
       "      <td>-107.568535</td>\n",
       "      <td>43.170026</td>\n",
       "      <td>WY</td>\n",
       "      <td>1.0</td>\n",
       "      <td>biden</td>\n",
       "    </tr>\n",
       "    <tr>\n",
       "      <th>2</th>\n",
       "      <td>4774</td>\n",
       "      <td>danicaamac CALFIRE CALFIRELNU SFGate KTVU CALFIRECHIEF GavinNewsom TeamPelosi GavinNewsom what is Calfire supporting Trump</td>\n",
       "      <td>-107.568535</td>\n",
       "      <td>43.170026</td>\n",
       "      <td>WY</td>\n",
       "      <td>0.0</td>\n",
       "      <td>biden</td>\n",
       "    </tr>\n",
       "    <tr>\n",
       "      <th>3</th>\n",
       "      <td>4781</td>\n",
       "      <td>SO Happy I requested my AbsenteeBallot bcuz nobody knew what the status of COVID19 would be come ElectionDay2020 but ALSO Voided my AbsenteeBallot and voted InPerson cuz who can trust Trump amp his efforts of VoterSuppression IVoted VoteInPerson MyBlueCountyIsntInYet</td>\n",
       "      <td>-106.280075</td>\n",
       "      <td>43.411391</td>\n",
       "      <td>WY</td>\n",
       "      <td>1.0</td>\n",
       "      <td>biden</td>\n",
       "    </tr>\n",
       "    <tr>\n",
       "      <th>4</th>\n",
       "      <td>4876</td>\n",
       "      <td>Its Friday, and Grandpas doing his thinghelping all of us connect and Resist  Lets  join together in Resistance against Trump and the TrumpCrimeFamily VoteBlueToSaveAmerica and live in JoeBidensNeighborhood</td>\n",
       "      <td>-106.280075</td>\n",
       "      <td>43.411391</td>\n",
       "      <td>WY</td>\n",
       "      <td>1.0</td>\n",
       "      <td>biden</td>\n",
       "    </tr>\n",
       "    <tr>\n",
       "      <th>...</th>\n",
       "      <td>...</td>\n",
       "      <td>...</td>\n",
       "      <td>...</td>\n",
       "      <td>...</td>\n",
       "      <td>...</td>\n",
       "      <td>...</td>\n",
       "      <td>...</td>\n",
       "    </tr>\n",
       "    <tr>\n",
       "      <th>76755</th>\n",
       "      <td>16974</td>\n",
       "      <td>All Biden BidenHarris BidenHarrisToSaveAmerica BidenHarris2020 Biden2020 Supporters must watch if you believe in freedom Full Documentary The American Republic vs the CCP    Download our app to read more for free at</td>\n",
       "      <td>-106.650985</td>\n",
       "      <td>35.084103</td>\n",
       "      <td>NM</td>\n",
       "      <td>1.0</td>\n",
       "      <td>trump</td>\n",
       "    </tr>\n",
       "    <tr>\n",
       "      <th>76756</th>\n",
       "      <td>11823</td>\n",
       "      <td>bennyjohnson JoeBiden Nothing to see here.   - Facebook amp Twitter   JoeBiden HunterBiden BidenCrimeFamily</td>\n",
       "      <td>-105.993007</td>\n",
       "      <td>34.570817</td>\n",
       "      <td>NM</td>\n",
       "      <td>0.0</td>\n",
       "      <td>trump</td>\n",
       "    </tr>\n",
       "    <tr>\n",
       "      <th>76757</th>\n",
       "      <td>27003</td>\n",
       "      <td>VP of Flint, MI City Council Endorses Trump \"Mr. Trump would be the best thing for poor folks\"...\"Obama said our water is fine...ain't nothing wrong with drinking lead!\" VIDEO  Blexit JoeBiden</td>\n",
       "      <td>-105.993007</td>\n",
       "      <td>34.570817</td>\n",
       "      <td>NM</td>\n",
       "      <td>0.0</td>\n",
       "      <td>trump</td>\n",
       "    </tr>\n",
       "    <tr>\n",
       "      <th>76758</th>\n",
       "      <td>20721</td>\n",
       "      <td>A celebratory mimosa from us to you, joebiden and kamalaharris and to all of America!  flexyourvote lgbtqrights hesfired presidentbiden vicepresidentharris</td>\n",
       "      <td>-106.650985</td>\n",
       "      <td>35.084103</td>\n",
       "      <td>NM</td>\n",
       "      <td>0.0</td>\n",
       "      <td>trump</td>\n",
       "    </tr>\n",
       "    <tr>\n",
       "      <th>76759</th>\n",
       "      <td>40466</td>\n",
       "      <td>JoeBiden</td>\n",
       "      <td>-106.650985</td>\n",
       "      <td>35.084103</td>\n",
       "      <td>NM</td>\n",
       "      <td>1.0</td>\n",
       "      <td>trump</td>\n",
       "    </tr>\n",
       "  </tbody>\n",
       "</table>\n",
       "<p>76760 rows × 7 columns</p>\n",
       "</div>"
      ],
      "text/plain": [
       "       Unnamed: 0  \\\n",
       "0            3559   \n",
       "1            4220   \n",
       "2            4774   \n",
       "3            4781   \n",
       "4            4876   \n",
       "...           ...   \n",
       "76755       16974   \n",
       "76756       11823   \n",
       "76757       27003   \n",
       "76758       20721   \n",
       "76759       40466   \n",
       "\n",
       "                                                                                                                                                                                                                                                                                                                               tweet  \\\n",
       "0                                                                                                              SWAtlasHoover This FOOL is at the Hoover! STOP DONATING MONEY TO THE HOOVER INSTITUTE. I wouldn't trust Atlas to treat your house pet never mind any human other than Trump! DO NOT DONATE TO THE HOOVER INSTITUTE!!!   \n",
       "1      PamKirby RedPillLatina realDonaldTrump Pam, thank you for supporting our great president. He wants the best for all Americans. President Trump - doesn't pander to special interest groups - cannot be bought out - knows America is great amp wants to make it greater - knows lower taxes are better for the economy Trump    \n",
       "2                                                                                                                                                                                                         danicaamac CALFIRE CALFIRELNU SFGate KTVU CALFIRECHIEF GavinNewsom TeamPelosi GavinNewsom what is Calfire supporting Trump   \n",
       "3                                                       SO Happy I requested my AbsenteeBallot bcuz nobody knew what the status of COVID19 would be come ElectionDay2020 but ALSO Voided my AbsenteeBallot and voted InPerson cuz who can trust Trump amp his efforts of VoterSuppression IVoted VoteInPerson MyBlueCountyIsntInYet    \n",
       "4                                                                                                                    Its Friday, and Grandpas doing his thinghelping all of us connect and Resist  Lets  join together in Resistance against Trump and the TrumpCrimeFamily VoteBlueToSaveAmerica and live in JoeBidensNeighborhood    \n",
       "...                                                                                                                                                                                                                                                                                                                              ...   \n",
       "76755                                                                                                       All Biden BidenHarris BidenHarrisToSaveAmerica BidenHarris2020 Biden2020 Supporters must watch if you believe in freedom Full Documentary The American Republic vs the CCP    Download our app to read more for free at    \n",
       "76756                                                                                                                                                                                                                   bennyjohnson JoeBiden Nothing to see here.   - Facebook amp Twitter   JoeBiden HunterBiden BidenCrimeFamily    \n",
       "76757                                                                                                                               VP of Flint, MI City Council Endorses Trump \"Mr. Trump would be the best thing for poor folks\"...\"Obama said our water is fine...ain't nothing wrong with drinking lead!\" VIDEO  Blexit JoeBiden   \n",
       "76758                                                                                                                                                                   A celebratory mimosa from us to you, joebiden and kamalaharris and to all of America!  flexyourvote lgbtqrights hesfired presidentbiden vicepresidentharris    \n",
       "76759                                                                                                                                                                                                                                                                                                                      JoeBiden    \n",
       "\n",
       "             long        lat state_code  sentiment    who  \n",
       "0     -110.917507  43.357853         WY        0.0  biden  \n",
       "1     -107.568535  43.170026         WY        1.0  biden  \n",
       "2     -107.568535  43.170026         WY        0.0  biden  \n",
       "3     -106.280075  43.411391         WY        1.0  biden  \n",
       "4     -106.280075  43.411391         WY        1.0  biden  \n",
       "...           ...        ...        ...        ...    ...  \n",
       "76755 -106.650985  35.084103         NM        1.0  trump  \n",
       "76756 -105.993007  34.570817         NM        0.0  trump  \n",
       "76757 -105.993007  34.570817         NM        0.0  trump  \n",
       "76758 -106.650985  35.084103         NM        0.0  trump  \n",
       "76759 -106.650985  35.084103         NM        1.0  trump  \n",
       "\n",
       "[76760 rows x 7 columns]"
      ]
     },
     "execution_count": 59,
     "metadata": {},
     "output_type": "execute_result"
    }
   ],
   "source": [
    "df = pd.read_csv('cleaned_sample_100_trumpbiden_sentiment.csv')\n",
    "df"
   ]
  },
  {
   "cell_type": "code",
   "execution_count": null,
   "metadata": {},
   "outputs": [],
   "source": []
  }
 ],
 "metadata": {
  "kernelspec": {
   "display_name": "Python 3",
   "language": "python",
   "name": "python3"
  },
  "language_info": {
   "codemirror_mode": {
    "name": "ipython",
    "version": 3
   },
   "file_extension": ".py",
   "mimetype": "text/x-python",
   "name": "python",
   "nbconvert_exporter": "python",
   "pygments_lexer": "ipython3",
   "version": "3.8.5"
  },
  "varInspector": {
   "cols": {
    "lenName": 16,
    "lenType": 16,
    "lenVar": 40
   },
   "kernels_config": {
    "python": {
     "delete_cmd_postfix": "",
     "delete_cmd_prefix": "del ",
     "library": "var_list.py",
     "varRefreshCmd": "print(var_dic_list())"
    },
    "r": {
     "delete_cmd_postfix": ") ",
     "delete_cmd_prefix": "rm(",
     "library": "var_list.r",
     "varRefreshCmd": "cat(var_dic_list()) "
    }
   },
   "types_to_exclude": [
    "module",
    "function",
    "builtin_function_or_method",
    "instance",
    "_Feature"
   ],
   "window_display": false
  }
 },
 "nbformat": 4,
 "nbformat_minor": 4
}
