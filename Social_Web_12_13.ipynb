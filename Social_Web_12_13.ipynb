{
 "cells": [
  {
   "cell_type": "code",
   "execution_count": 23,
   "metadata": {},
   "outputs": [
    {
     "name": "stderr",
     "output_type": "stream",
     "text": [
      "[nltk_data] Downloading package vader_lexicon to\n",
      "[nltk_data]     /Users/ozgekaracam/nltk_data...\n",
      "[nltk_data]   Package vader_lexicon is already up-to-date!\n"
     ]
    }
   ],
   "source": [
    "import pandas as pd\n",
    "import plotly.express as px\n",
    "import numpy as np\n",
    "import nltk\n",
    "import matplotlib.pyplot as plt\n",
    "import os\n",
    "import glob\n",
    "import pandas as pd\n",
    "from nltk.sentiment.vader import SentimentIntensityAnalyzer\n",
    "nltk.download('vader_lexicon')\n",
    "sid = SentimentIntensityAnalyzer()\n",
    "pd.options.display.max_colwidth = 10000\n"
   ]
  },
  {
   "cell_type": "code",
   "execution_count": 2,
   "metadata": {},
   "outputs": [
    {
     "name": "stderr",
     "output_type": "stream",
     "text": [
      "/var/folders/z5/8gb5zsq90kz9zvv3q5_7tkhw0000gn/T/ipykernel_4605/4171819144.py:2: DtypeWarning: Columns (0,3,5) have mixed types. Specify dtype option on import or set low_memory=False.\n",
      "  df = pd.read_csv(file, sep=';', on_bad_lines='skip').dropna(subset=['state'])\n"
     ]
    }
   ],
   "source": [
    "file = '../Project/us-election-2020-tweets/cleantweets.csv'\n",
    "df = pd.read_csv(file, sep=';', on_bad_lines='skip').dropna(subset=['state'])\n",
    "df['text'] = df['text'].str.lower()"
   ]
  },
  {
   "cell_type": "code",
   "execution_count": 3,
   "metadata": {},
   "outputs": [
    {
     "data": {
      "text/plain": [
       "9447802"
      ]
     },
     "execution_count": 3,
     "metadata": {},
     "output_type": "execute_result"
    }
   ],
   "source": [
    "len(df)"
   ]
  },
  {
   "cell_type": "code",
   "execution_count": 4,
   "metadata": {},
   "outputs": [],
   "source": [
    "# Check terms\n",
    "df_trump = df[df['text'].str.contains('trump')]\n",
    "df_biden = df[df['text'].str.contains('biden')]"
   ]
  },
  {
   "cell_type": "code",
   "execution_count": 5,
   "metadata": {
    "scrolled": true
   },
   "outputs": [
    {
     "data": {
      "text/html": [
       "<div>\n",
       "<style scoped>\n",
       "    .dataframe tbody tr th:only-of-type {\n",
       "        vertical-align: middle;\n",
       "    }\n",
       "\n",
       "    .dataframe tbody tr th {\n",
       "        vertical-align: top;\n",
       "    }\n",
       "\n",
       "    .dataframe thead th {\n",
       "        text-align: right;\n",
       "    }\n",
       "</style>\n",
       "<table border=\"1\" class=\"dataframe\">\n",
       "  <thead>\n",
       "    <tr style=\"text-align: right;\">\n",
       "      <th></th>\n",
       "      <th>id</th>\n",
       "      <th>text</th>\n",
       "      <th>retweet_count</th>\n",
       "      <th>favorite_count</th>\n",
       "      <th>date</th>\n",
       "      <th>verified</th>\n",
       "      <th>state</th>\n",
       "    </tr>\n",
       "  </thead>\n",
       "  <tbody>\n",
       "    <tr>\n",
       "      <th>1</th>\n",
       "      <td>1319111212194549761</td>\n",
       "      <td>rt @realdonaldtrump: just don’t see any way nancy pelosi and cryin’ chuck schumer will be willing to do what is right for our great america…</td>\n",
       "      <td>17984.0</td>\n",
       "      <td>0</td>\n",
       "      <td>10-22-03</td>\n",
       "      <td>False</td>\n",
       "      <td>Pennsylvania</td>\n",
       "    </tr>\n",
       "    <tr>\n",
       "      <th>2</th>\n",
       "      <td>1319111212672667648</td>\n",
       "      <td>rt @ddale8: it turns out trump has been making this false claim for seven years now https://t.co/s17ibtqg6c https://t.co/6nnunlaehq</td>\n",
       "      <td>462.0</td>\n",
       "      <td>0</td>\n",
       "      <td>10-22-03</td>\n",
       "      <td>False</td>\n",
       "      <td>New Jersey</td>\n",
       "    </tr>\n",
       "    <tr>\n",
       "      <th>5</th>\n",
       "      <td>1319111212831887360</td>\n",
       "      <td>rt @amy_siskind: note every bit of foreign interference has been to help trump and hurt biden. \\n\\nnote every bit of voter intimidation, vote…</td>\n",
       "      <td>694.0</td>\n",
       "      <td>0</td>\n",
       "      <td>10-22-03</td>\n",
       "      <td>False</td>\n",
       "      <td>Colorado</td>\n",
       "    </tr>\n",
       "    <tr>\n",
       "      <th>6</th>\n",
       "      <td>1319111212853022721</td>\n",
       "      <td>rt @donwinslow: hunter biden is not responsible for the deaths of 220,000 americans.\\n\\nbut donald trump is.</td>\n",
       "      <td>5215.0</td>\n",
       "      <td>0</td>\n",
       "      <td>10-22-03</td>\n",
       "      <td>False</td>\n",
       "      <td>Massachusetts</td>\n",
       "    </tr>\n",
       "    <tr>\n",
       "      <th>20</th>\n",
       "      <td>1319111221858193408</td>\n",
       "      <td>rt @cnnpolitics: republican sen. mitt romney: \"i did not vote for president trump\" https://t.co/nyiqfto31d https://t.co/wlumvhydrl</td>\n",
       "      <td>1155.0</td>\n",
       "      <td>0</td>\n",
       "      <td>10-22-03</td>\n",
       "      <td>False</td>\n",
       "      <td>Florida</td>\n",
       "    </tr>\n",
       "    <tr>\n",
       "      <th>...</th>\n",
       "      <td>...</td>\n",
       "      <td>...</td>\n",
       "      <td>...</td>\n",
       "      <td>...</td>\n",
       "      <td>...</td>\n",
       "      <td>...</td>\n",
       "      <td>...</td>\n",
       "    </tr>\n",
       "    <tr>\n",
       "      <th>9447824</th>\n",
       "      <td>1323369262308753408</td>\n",
       "      <td>rt @watchchad: hollywood released a list of celebrities leaving if trump wins. \\n\\ni’ve compiled a list of people who give a damn:\\n\\n1.</td>\n",
       "      <td>1380.0</td>\n",
       "      <td>0</td>\n",
       "      <td>11-02-20</td>\n",
       "      <td>False</td>\n",
       "      <td>California</td>\n",
       "    </tr>\n",
       "    <tr>\n",
       "      <th>9447827</th>\n",
       "      <td>1323369265978843138</td>\n",
       "      <td>@bestsongiheard i blame trump</td>\n",
       "      <td>0.0</td>\n",
       "      <td>1</td>\n",
       "      <td>11-02-20</td>\n",
       "      <td>False</td>\n",
       "      <td>Indiana</td>\n",
       "    </tr>\n",
       "    <tr>\n",
       "      <th>9447828</th>\n",
       "      <td>1323369266045980675</td>\n",
       "      <td>rt @kasie: just a scathing column from gop lawyer ben ginsberg — calling trump tactics “un- american”:\\n\\n“proof of systematic fraud has beco…</td>\n",
       "      <td>707.0</td>\n",
       "      <td>0</td>\n",
       "      <td>11-02-20</td>\n",
       "      <td>False</td>\n",
       "      <td>Texas</td>\n",
       "    </tr>\n",
       "    <tr>\n",
       "      <th>9447830</th>\n",
       "      <td>1323369266117332992</td>\n",
       "      <td>@theonion you guys at the onion have to try harder. this one is entirely believable.\\n\\ni feel bad for you - you're lucky that trump hasn't completely put you out of business!</td>\n",
       "      <td>0.0</td>\n",
       "      <td>3</td>\n",
       "      <td>11-02-20</td>\n",
       "      <td>False</td>\n",
       "      <td>Pennsylvania</td>\n",
       "    </tr>\n",
       "    <tr>\n",
       "      <th>9447832</th>\n",
       "      <td>1323369266532425728</td>\n",
       "      <td>rt @dloesch: amazed by “republicans” who are more offended over trump’s tweets and rhetoric than they are over biden’s anti-gun, taxpayer-f…</td>\n",
       "      <td>3828.0</td>\n",
       "      <td>0</td>\n",
       "      <td>11-02-20</td>\n",
       "      <td>False</td>\n",
       "      <td>California</td>\n",
       "    </tr>\n",
       "  </tbody>\n",
       "</table>\n",
       "<p>4509419 rows × 7 columns</p>\n",
       "</div>"
      ],
      "text/plain": [
       "                          id  \\\n",
       "1        1319111212194549761   \n",
       "2        1319111212672667648   \n",
       "5        1319111212831887360   \n",
       "6        1319111212853022721   \n",
       "20       1319111221858193408   \n",
       "...                      ...   \n",
       "9447824  1323369262308753408   \n",
       "9447827  1323369265978843138   \n",
       "9447828  1323369266045980675   \n",
       "9447830  1323369266117332992   \n",
       "9447832  1323369266532425728   \n",
       "\n",
       "                                                                                                                                                                                    text  \\\n",
       "1                                           rt @realdonaldtrump: just don’t see any way nancy pelosi and cryin’ chuck schumer will be willing to do what is right for our great america…   \n",
       "2                                                    rt @ddale8: it turns out trump has been making this false claim for seven years now https://t.co/s17ibtqg6c https://t.co/6nnunlaehq   \n",
       "5                                         rt @amy_siskind: note every bit of foreign interference has been to help trump and hurt biden. \\n\\nnote every bit of voter intimidation, vote…   \n",
       "6                                                                           rt @donwinslow: hunter biden is not responsible for the deaths of 220,000 americans.\\n\\nbut donald trump is.   \n",
       "20                                                    rt @cnnpolitics: republican sen. mitt romney: \"i did not vote for president trump\" https://t.co/nyiqfto31d https://t.co/wlumvhydrl   \n",
       "...                                                                                                                                                                                  ...   \n",
       "9447824                                         rt @watchchad: hollywood released a list of celebrities leaving if trump wins. \\n\\ni’ve compiled a list of people who give a damn:\\n\\n1.   \n",
       "9447827                                                                                                                                                    @bestsongiheard i blame trump   \n",
       "9447828                                   rt @kasie: just a scathing column from gop lawyer ben ginsberg — calling trump tactics “un- american”:\\n\\n“proof of systematic fraud has beco…   \n",
       "9447830  @theonion you guys at the onion have to try harder. this one is entirely believable.\\n\\ni feel bad for you - you're lucky that trump hasn't completely put you out of business!   \n",
       "9447832                                     rt @dloesch: amazed by “republicans” who are more offended over trump’s tweets and rhetoric than they are over biden’s anti-gun, taxpayer-f…   \n",
       "\n",
       "         retweet_count favorite_count      date verified          state  \n",
       "1              17984.0              0  10-22-03    False   Pennsylvania  \n",
       "2                462.0              0  10-22-03    False     New Jersey  \n",
       "5                694.0              0  10-22-03    False       Colorado  \n",
       "6               5215.0              0  10-22-03    False  Massachusetts  \n",
       "20              1155.0              0  10-22-03    False        Florida  \n",
       "...                ...            ...       ...      ...            ...  \n",
       "9447824         1380.0              0  11-02-20    False     California  \n",
       "9447827            0.0              1  11-02-20    False        Indiana  \n",
       "9447828          707.0              0  11-02-20    False          Texas  \n",
       "9447830            0.0              3  11-02-20    False   Pennsylvania  \n",
       "9447832         3828.0              0  11-02-20    False     California  \n",
       "\n",
       "[4509419 rows x 7 columns]"
      ]
     },
     "execution_count": 5,
     "metadata": {},
     "output_type": "execute_result"
    }
   ],
   "source": [
    "df_trump"
   ]
  },
  {
   "cell_type": "code",
   "execution_count": 6,
   "metadata": {
    "scrolled": true
   },
   "outputs": [
    {
     "data": {
      "text/html": [
       "<div>\n",
       "<style scoped>\n",
       "    .dataframe tbody tr th:only-of-type {\n",
       "        vertical-align: middle;\n",
       "    }\n",
       "\n",
       "    .dataframe tbody tr th {\n",
       "        vertical-align: top;\n",
       "    }\n",
       "\n",
       "    .dataframe thead th {\n",
       "        text-align: right;\n",
       "    }\n",
       "</style>\n",
       "<table border=\"1\" class=\"dataframe\">\n",
       "  <thead>\n",
       "    <tr style=\"text-align: right;\">\n",
       "      <th></th>\n",
       "      <th>id</th>\n",
       "      <th>text</th>\n",
       "      <th>retweet_count</th>\n",
       "      <th>favorite_count</th>\n",
       "      <th>date</th>\n",
       "      <th>verified</th>\n",
       "      <th>state</th>\n",
       "    </tr>\n",
       "  </thead>\n",
       "  <tbody>\n",
       "    <tr>\n",
       "      <th>5</th>\n",
       "      <td>1319111212831887360</td>\n",
       "      <td>rt @amy_siskind: note every bit of foreign interference has been to help trump and hurt biden. \\n\\nnote every bit of voter intimidation, vote…</td>\n",
       "      <td>694.0</td>\n",
       "      <td>0</td>\n",
       "      <td>10-22-03</td>\n",
       "      <td>False</td>\n",
       "      <td>Colorado</td>\n",
       "    </tr>\n",
       "    <tr>\n",
       "      <th>6</th>\n",
       "      <td>1319111212853022721</td>\n",
       "      <td>rt @donwinslow: hunter biden is not responsible for the deaths of 220,000 americans.\\n\\nbut donald trump is.</td>\n",
       "      <td>5215.0</td>\n",
       "      <td>0</td>\n",
       "      <td>10-22-03</td>\n",
       "      <td>False</td>\n",
       "      <td>Massachusetts</td>\n",
       "    </tr>\n",
       "    <tr>\n",
       "      <th>9</th>\n",
       "      <td>1319111213368881153</td>\n",
       "      <td>#soeakupvotebiden \\ni voted biden at my clerk's office. #michigan\\n#vote https://t.co/gran5h2rzs</td>\n",
       "      <td>0.0</td>\n",
       "      <td>2</td>\n",
       "      <td>10-22-03</td>\n",
       "      <td>False</td>\n",
       "      <td>Michigan</td>\n",
       "    </tr>\n",
       "    <tr>\n",
       "      <th>11</th>\n",
       "      <td>1319111217332416512</td>\n",
       "      <td>rt @jackposobiec: the fbi just confirmed iran ran a false flag campaign to help joe biden by posing as the proud boys \\n\\nmany, many members…</td>\n",
       "      <td>6779.0</td>\n",
       "      <td>0</td>\n",
       "      <td>10-22-03</td>\n",
       "      <td>False</td>\n",
       "      <td>Nevada</td>\n",
       "    </tr>\n",
       "    <tr>\n",
       "      <th>16</th>\n",
       "      <td>1319111221472333824</td>\n",
       "      <td>rt @kylegriffin1: billy graham's granddaughter has endorsed joe biden.\\n\\n\"the jesus we serve promotes kindness, dignity, humility, and this…</td>\n",
       "      <td>5967.0</td>\n",
       "      <td>0</td>\n",
       "      <td>10-22-03</td>\n",
       "      <td>False</td>\n",
       "      <td>Florida</td>\n",
       "    </tr>\n",
       "    <tr>\n",
       "      <th>...</th>\n",
       "      <td>...</td>\n",
       "      <td>...</td>\n",
       "      <td>...</td>\n",
       "      <td>...</td>\n",
       "      <td>...</td>\n",
       "      <td>...</td>\n",
       "      <td>...</td>\n",
       "    </tr>\n",
       "    <tr>\n",
       "      <th>9447817</th>\n",
       "      <td>1323369258521251840</td>\n",
       "      <td>rt @timcast: i think its funny that people across the country are preparing for mass leftist riots and would also vote for joe biden whose…</td>\n",
       "      <td>4103.0</td>\n",
       "      <td>0</td>\n",
       "      <td>11-02-20</td>\n",
       "      <td>False</td>\n",
       "      <td>North Dakota</td>\n",
       "    </tr>\n",
       "    <tr>\n",
       "      <th>9447820</th>\n",
       "      <td>1323369262099189763</td>\n",
       "      <td>rt @jimtankersley: a key diff for dems in 2020 vs. 2016: joe biden has quietly kept both his left flank and wall st from rebelling against…</td>\n",
       "      <td>130.0</td>\n",
       "      <td>0</td>\n",
       "      <td>11-02-20</td>\n",
       "      <td>True</td>\n",
       "      <td>Georgia</td>\n",
       "    </tr>\n",
       "    <tr>\n",
       "      <th>9447821</th>\n",
       "      <td>1323369262141054976</td>\n",
       "      <td>rt @realdonaldtrump: biden will raise your taxes (biggest increase ever!).</td>\n",
       "      <td>12175.0</td>\n",
       "      <td>0</td>\n",
       "      <td>11-02-20</td>\n",
       "      <td>False</td>\n",
       "      <td>Illinois</td>\n",
       "    </tr>\n",
       "    <tr>\n",
       "      <th>9447831</th>\n",
       "      <td>1323369266251444233</td>\n",
       "      <td>rt @joebiden: are you still undecided about who to vote for or know someone who is? my team put together some cheat sheets to show where do…</td>\n",
       "      <td>18719.0</td>\n",
       "      <td>0</td>\n",
       "      <td>11-02-20</td>\n",
       "      <td>False</td>\n",
       "      <td>Maine</td>\n",
       "    </tr>\n",
       "    <tr>\n",
       "      <th>9447832</th>\n",
       "      <td>1323369266532425728</td>\n",
       "      <td>rt @dloesch: amazed by “republicans” who are more offended over trump’s tweets and rhetoric than they are over biden’s anti-gun, taxpayer-f…</td>\n",
       "      <td>3828.0</td>\n",
       "      <td>0</td>\n",
       "      <td>11-02-20</td>\n",
       "      <td>False</td>\n",
       "      <td>California</td>\n",
       "    </tr>\n",
       "  </tbody>\n",
       "</table>\n",
       "<p>2690004 rows × 7 columns</p>\n",
       "</div>"
      ],
      "text/plain": [
       "                          id  \\\n",
       "5        1319111212831887360   \n",
       "6        1319111212853022721   \n",
       "9        1319111213368881153   \n",
       "11       1319111217332416512   \n",
       "16       1319111221472333824   \n",
       "...                      ...   \n",
       "9447817  1323369258521251840   \n",
       "9447820  1323369262099189763   \n",
       "9447821  1323369262141054976   \n",
       "9447831  1323369266251444233   \n",
       "9447832  1323369266532425728   \n",
       "\n",
       "                                                                                                                                                   text  \\\n",
       "5        rt @amy_siskind: note every bit of foreign interference has been to help trump and hurt biden. \\n\\nnote every bit of voter intimidation, vote…   \n",
       "6                                          rt @donwinslow: hunter biden is not responsible for the deaths of 220,000 americans.\\n\\nbut donald trump is.   \n",
       "9                                                      #soeakupvotebiden \\ni voted biden at my clerk's office. #michigan\\n#vote https://t.co/gran5h2rzs   \n",
       "11        rt @jackposobiec: the fbi just confirmed iran ran a false flag campaign to help joe biden by posing as the proud boys \\n\\nmany, many members…   \n",
       "16        rt @kylegriffin1: billy graham's granddaughter has endorsed joe biden.\\n\\n\"the jesus we serve promotes kindness, dignity, humility, and this…   \n",
       "...                                                                                                                                                 ...   \n",
       "9447817     rt @timcast: i think its funny that people across the country are preparing for mass leftist riots and would also vote for joe biden whose…   \n",
       "9447820     rt @jimtankersley: a key diff for dems in 2020 vs. 2016: joe biden has quietly kept both his left flank and wall st from rebelling against…   \n",
       "9447821                                                                      rt @realdonaldtrump: biden will raise your taxes (biggest increase ever!).   \n",
       "9447831    rt @joebiden: are you still undecided about who to vote for or know someone who is? my team put together some cheat sheets to show where do…   \n",
       "9447832    rt @dloesch: amazed by “republicans” who are more offended over trump’s tweets and rhetoric than they are over biden’s anti-gun, taxpayer-f…   \n",
       "\n",
       "         retweet_count favorite_count      date verified          state  \n",
       "5                694.0              0  10-22-03    False       Colorado  \n",
       "6               5215.0              0  10-22-03    False  Massachusetts  \n",
       "9                  0.0              2  10-22-03    False       Michigan  \n",
       "11              6779.0              0  10-22-03    False         Nevada  \n",
       "16              5967.0              0  10-22-03    False        Florida  \n",
       "...                ...            ...       ...      ...            ...  \n",
       "9447817         4103.0              0  11-02-20    False   North Dakota  \n",
       "9447820          130.0              0  11-02-20     True        Georgia  \n",
       "9447821        12175.0              0  11-02-20    False       Illinois  \n",
       "9447831        18719.0              0  11-02-20    False          Maine  \n",
       "9447832         3828.0              0  11-02-20    False     California  \n",
       "\n",
       "[2690004 rows x 7 columns]"
      ]
     },
     "execution_count": 6,
     "metadata": {},
     "output_type": "execute_result"
    }
   ],
   "source": [
    "df_biden"
   ]
  },
  {
   "cell_type": "code",
   "execution_count": null,
   "metadata": {},
   "outputs": [],
   "source": [
    "# how many tweets for each candidate per state - todo\n",
    "# Concat the data frames\n",
    "df_trump['candidate'] = 'Trump'\n",
    "df_biden['candidate'] = 'Biden'\n",
    "Data_Mixed = pd.concat([df_trump,df_biden])\n",
    "Data_Mixed"
   ]
  },
  {
   "cell_type": "code",
   "execution_count": null,
   "metadata": {},
   "outputs": [],
   "source": [
    " # Twwets for Biden and Trump from each state in top10 states\n",
    "state_df = Data_Mixed.groupby(['state','candidate'])['text'].count().sort_values(ascending=False).head(20).reset_index()\n",
    "state_df"
   ]
  },
  {
   "cell_type": "code",
   "execution_count": null,
   "metadata": {},
   "outputs": [],
   "source": [
    "plt.figure(figsize=(20,8))\n",
    "sns.barplot(data=state_df,x='state',y='text',hue='candidate')\n",
    "plt.show()"
   ]
  },
  {
   "cell_type": "markdown",
   "metadata": {},
   "source": [
    "# Vader sentiment analysis"
   ]
  },
  {
   "cell_type": "code",
   "execution_count": 7,
   "metadata": {
    "scrolled": true
   },
   "outputs": [
    {
     "name": "stderr",
     "output_type": "stream",
     "text": [
      "/var/folders/z5/8gb5zsq90kz9zvv3q5_7tkhw0000gn/T/ipykernel_4605/3153603610.py:10: SettingWithCopyWarning: \n",
      "A value is trying to be set on a copy of a slice from a DataFrame.\n",
      "Try using .loc[row_indexer,col_indexer] = value instead\n",
      "\n",
      "See the caveats in the documentation: https://pandas.pydata.org/pandas-docs/stable/user_guide/indexing.html#returning-a-view-versus-a-copy\n",
      "  df_biden['sentiment_scores'] = df_biden['text'].apply(lambda x: sid.polarity_scores(x))\n",
      "/var/folders/z5/8gb5zsq90kz9zvv3q5_7tkhw0000gn/T/ipykernel_4605/3153603610.py:11: SettingWithCopyWarning: \n",
      "A value is trying to be set on a copy of a slice from a DataFrame.\n",
      "Try using .loc[row_indexer,col_indexer] = value instead\n",
      "\n",
      "See the caveats in the documentation: https://pandas.pydata.org/pandas-docs/stable/user_guide/indexing.html#returning-a-view-versus-a-copy\n",
      "  df_biden['sentiment'] = df_biden['sentiment_scores'].apply(lambda x: sentimentVerdict(x))\n",
      "/var/folders/z5/8gb5zsq90kz9zvv3q5_7tkhw0000gn/T/ipykernel_4605/3153603610.py:12: SettingWithCopyWarning: \n",
      "A value is trying to be set on a copy of a slice from a DataFrame.\n",
      "Try using .loc[row_indexer,col_indexer] = value instead\n",
      "\n",
      "See the caveats in the documentation: https://pandas.pydata.org/pandas-docs/stable/user_guide/indexing.html#returning-a-view-versus-a-copy\n",
      "  df_trump['sentiment_scores'] = df_trump['text'].apply(lambda x: sid.polarity_scores(x))\n",
      "/var/folders/z5/8gb5zsq90kz9zvv3q5_7tkhw0000gn/T/ipykernel_4605/3153603610.py:13: SettingWithCopyWarning: \n",
      "A value is trying to be set on a copy of a slice from a DataFrame.\n",
      "Try using .loc[row_indexer,col_indexer] = value instead\n",
      "\n",
      "See the caveats in the documentation: https://pandas.pydata.org/pandas-docs/stable/user_guide/indexing.html#returning-a-view-versus-a-copy\n",
      "  df_trump['sentiment'] = df_trump['sentiment_scores'].apply(lambda x: sentimentVerdict(x))\n"
     ]
    }
   ],
   "source": [
    "# Run the sentiment analysis for both trump and biden\n",
    "def sentimentVerdict(sentiment):\n",
    "    if sentiment['compound'] >= 0.05:\n",
    "        return \"Positive\"\n",
    "    elif sentiment['compound'] <= -0.05:\n",
    "        return \"Negative\"\n",
    "    else:\n",
    "        return \"Neutral\"\n",
    "    \n",
    "df_biden['sentiment_scores'] = df_biden['text'].apply(lambda x: sid.polarity_scores(x))\n",
    "df_biden['sentiment'] = df_biden['sentiment_scores'].apply(lambda x: sentimentVerdict(x))\n",
    "df_trump['sentiment_scores'] = df_trump['text'].apply(lambda x: sid.polarity_scores(x))\n",
    "df_trump['sentiment'] = df_trump['sentiment_scores'].apply(lambda x: sentimentVerdict(x)) "
   ]
  },
  {
   "cell_type": "code",
   "execution_count": 9,
   "metadata": {},
   "outputs": [
    {
     "name": "stdout",
     "output_type": "stream",
     "text": [
      "Positive    1062878\n",
      "Neutral      868226\n",
      "Negative     758900\n",
      "Name: sentiment, dtype: int64\n"
     ]
    }
   ],
   "source": [
    "print(df_biden['sentiment'].value_counts())"
   ]
  },
  {
   "cell_type": "code",
   "execution_count": 10,
   "metadata": {},
   "outputs": [
    {
     "data": {
      "text/html": [
       "<div>\n",
       "<style scoped>\n",
       "    .dataframe tbody tr th:only-of-type {\n",
       "        vertical-align: middle;\n",
       "    }\n",
       "\n",
       "    .dataframe tbody tr th {\n",
       "        vertical-align: top;\n",
       "    }\n",
       "\n",
       "    .dataframe thead th {\n",
       "        text-align: right;\n",
       "    }\n",
       "</style>\n",
       "<table border=\"1\" class=\"dataframe\">\n",
       "  <thead>\n",
       "    <tr style=\"text-align: right;\">\n",
       "      <th></th>\n",
       "      <th>id</th>\n",
       "      <th>text</th>\n",
       "      <th>retweet_count</th>\n",
       "      <th>favorite_count</th>\n",
       "      <th>date</th>\n",
       "      <th>verified</th>\n",
       "      <th>state</th>\n",
       "      <th>sentiment_scores</th>\n",
       "      <th>sentiment</th>\n",
       "    </tr>\n",
       "  </thead>\n",
       "  <tbody>\n",
       "    <tr>\n",
       "      <th>5</th>\n",
       "      <td>1319111212831887360</td>\n",
       "      <td>rt @amy_siskind: note every bit of foreign interference has been to help trump and hurt biden. \\n\\nnote every bit of voter intimidation, vote…</td>\n",
       "      <td>694.0</td>\n",
       "      <td>0</td>\n",
       "      <td>10-22-03</td>\n",
       "      <td>False</td>\n",
       "      <td>Colorado</td>\n",
       "      <td>{'neg': 0.215, 'neu': 0.692, 'pos': 0.093, 'compound': -0.5423}</td>\n",
       "      <td>Negative</td>\n",
       "    </tr>\n",
       "    <tr>\n",
       "      <th>6</th>\n",
       "      <td>1319111212853022721</td>\n",
       "      <td>rt @donwinslow: hunter biden is not responsible for the deaths of 220,000 americans.\\n\\nbut donald trump is.</td>\n",
       "      <td>5215.0</td>\n",
       "      <td>0</td>\n",
       "      <td>10-22-03</td>\n",
       "      <td>False</td>\n",
       "      <td>Massachusetts</td>\n",
       "      <td>{'neg': 0.085, 'neu': 0.915, 'pos': 0.0, 'compound': -0.1232}</td>\n",
       "      <td>Negative</td>\n",
       "    </tr>\n",
       "    <tr>\n",
       "      <th>9</th>\n",
       "      <td>1319111213368881153</td>\n",
       "      <td>#soeakupvotebiden \\ni voted biden at my clerk's office. #michigan\\n#vote https://t.co/gran5h2rzs</td>\n",
       "      <td>0.0</td>\n",
       "      <td>2</td>\n",
       "      <td>10-22-03</td>\n",
       "      <td>False</td>\n",
       "      <td>Michigan</td>\n",
       "      <td>{'neg': 0.0, 'neu': 1.0, 'pos': 0.0, 'compound': 0.0}</td>\n",
       "      <td>Neutral</td>\n",
       "    </tr>\n",
       "    <tr>\n",
       "      <th>11</th>\n",
       "      <td>1319111217332416512</td>\n",
       "      <td>rt @jackposobiec: the fbi just confirmed iran ran a false flag campaign to help joe biden by posing as the proud boys \\n\\nmany, many members…</td>\n",
       "      <td>6779.0</td>\n",
       "      <td>0</td>\n",
       "      <td>10-22-03</td>\n",
       "      <td>False</td>\n",
       "      <td>Nevada</td>\n",
       "      <td>{'neg': 0.0, 'neu': 0.791, 'pos': 0.209, 'compound': 0.7003}</td>\n",
       "      <td>Positive</td>\n",
       "    </tr>\n",
       "    <tr>\n",
       "      <th>16</th>\n",
       "      <td>1319111221472333824</td>\n",
       "      <td>rt @kylegriffin1: billy graham's granddaughter has endorsed joe biden.\\n\\n\"the jesus we serve promotes kindness, dignity, humility, and this…</td>\n",
       "      <td>5967.0</td>\n",
       "      <td>0</td>\n",
       "      <td>10-22-03</td>\n",
       "      <td>False</td>\n",
       "      <td>Florida</td>\n",
       "      <td>{'neg': 0.0, 'neu': 0.598, 'pos': 0.402, 'compound': 0.8442}</td>\n",
       "      <td>Positive</td>\n",
       "    </tr>\n",
       "  </tbody>\n",
       "</table>\n",
       "</div>"
      ],
      "text/plain": [
       "                     id  \\\n",
       "5   1319111212831887360   \n",
       "6   1319111212853022721   \n",
       "9   1319111213368881153   \n",
       "11  1319111217332416512   \n",
       "16  1319111221472333824   \n",
       "\n",
       "                                                                                                                                              text  \\\n",
       "5   rt @amy_siskind: note every bit of foreign interference has been to help trump and hurt biden. \\n\\nnote every bit of voter intimidation, vote…   \n",
       "6                                     rt @donwinslow: hunter biden is not responsible for the deaths of 220,000 americans.\\n\\nbut donald trump is.   \n",
       "9                                                 #soeakupvotebiden \\ni voted biden at my clerk's office. #michigan\\n#vote https://t.co/gran5h2rzs   \n",
       "11   rt @jackposobiec: the fbi just confirmed iran ran a false flag campaign to help joe biden by posing as the proud boys \\n\\nmany, many members…   \n",
       "16   rt @kylegriffin1: billy graham's granddaughter has endorsed joe biden.\\n\\n\"the jesus we serve promotes kindness, dignity, humility, and this…   \n",
       "\n",
       "    retweet_count favorite_count      date verified          state  \\\n",
       "5           694.0              0  10-22-03    False       Colorado   \n",
       "6          5215.0              0  10-22-03    False  Massachusetts   \n",
       "9             0.0              2  10-22-03    False       Michigan   \n",
       "11         6779.0              0  10-22-03    False         Nevada   \n",
       "16         5967.0              0  10-22-03    False        Florida   \n",
       "\n",
       "                                                   sentiment_scores sentiment  \n",
       "5   {'neg': 0.215, 'neu': 0.692, 'pos': 0.093, 'compound': -0.5423}  Negative  \n",
       "6     {'neg': 0.085, 'neu': 0.915, 'pos': 0.0, 'compound': -0.1232}  Negative  \n",
       "9             {'neg': 0.0, 'neu': 1.0, 'pos': 0.0, 'compound': 0.0}   Neutral  \n",
       "11     {'neg': 0.0, 'neu': 0.791, 'pos': 0.209, 'compound': 0.7003}  Positive  \n",
       "16     {'neg': 0.0, 'neu': 0.598, 'pos': 0.402, 'compound': 0.8442}  Positive  "
      ]
     },
     "execution_count": 10,
     "metadata": {},
     "output_type": "execute_result"
    }
   ],
   "source": [
    "df_biden.head()"
   ]
  },
  {
   "cell_type": "code",
   "execution_count": 11,
   "metadata": {},
   "outputs": [
    {
     "name": "stdout",
     "output_type": "stream",
     "text": [
      "Positive    1817010\n",
      "Negative    1558361\n",
      "Neutral     1134048\n",
      "Name: sentiment, dtype: int64\n"
     ]
    }
   ],
   "source": [
    "print(df_trump['sentiment'].value_counts())"
   ]
  },
  {
   "cell_type": "code",
   "execution_count": 12,
   "metadata": {},
   "outputs": [
    {
     "data": {
      "text/html": [
       "<div>\n",
       "<style scoped>\n",
       "    .dataframe tbody tr th:only-of-type {\n",
       "        vertical-align: middle;\n",
       "    }\n",
       "\n",
       "    .dataframe tbody tr th {\n",
       "        vertical-align: top;\n",
       "    }\n",
       "\n",
       "    .dataframe thead th {\n",
       "        text-align: right;\n",
       "    }\n",
       "</style>\n",
       "<table border=\"1\" class=\"dataframe\">\n",
       "  <thead>\n",
       "    <tr style=\"text-align: right;\">\n",
       "      <th></th>\n",
       "      <th>id</th>\n",
       "      <th>text</th>\n",
       "      <th>retweet_count</th>\n",
       "      <th>favorite_count</th>\n",
       "      <th>date</th>\n",
       "      <th>verified</th>\n",
       "      <th>state</th>\n",
       "      <th>sentiment_scores</th>\n",
       "      <th>sentiment</th>\n",
       "    </tr>\n",
       "  </thead>\n",
       "  <tbody>\n",
       "    <tr>\n",
       "      <th>1</th>\n",
       "      <td>1319111212194549761</td>\n",
       "      <td>rt @realdonaldtrump: just don’t see any way nancy pelosi and cryin’ chuck schumer will be willing to do what is right for our great america…</td>\n",
       "      <td>17984.0</td>\n",
       "      <td>0</td>\n",
       "      <td>10-22-03</td>\n",
       "      <td>False</td>\n",
       "      <td>Pennsylvania</td>\n",
       "      <td>{'neg': 0.0, 'neu': 0.854, 'pos': 0.146, 'compound': 0.6249}</td>\n",
       "      <td>Positive</td>\n",
       "    </tr>\n",
       "    <tr>\n",
       "      <th>2</th>\n",
       "      <td>1319111212672667648</td>\n",
       "      <td>rt @ddale8: it turns out trump has been making this false claim for seven years now https://t.co/s17ibtqg6c https://t.co/6nnunlaehq</td>\n",
       "      <td>462.0</td>\n",
       "      <td>0</td>\n",
       "      <td>10-22-03</td>\n",
       "      <td>False</td>\n",
       "      <td>New Jersey</td>\n",
       "      <td>{'neg': 0.0, 'neu': 1.0, 'pos': 0.0, 'compound': 0.0}</td>\n",
       "      <td>Neutral</td>\n",
       "    </tr>\n",
       "    <tr>\n",
       "      <th>5</th>\n",
       "      <td>1319111212831887360</td>\n",
       "      <td>rt @amy_siskind: note every bit of foreign interference has been to help trump and hurt biden. \\n\\nnote every bit of voter intimidation, vote…</td>\n",
       "      <td>694.0</td>\n",
       "      <td>0</td>\n",
       "      <td>10-22-03</td>\n",
       "      <td>False</td>\n",
       "      <td>Colorado</td>\n",
       "      <td>{'neg': 0.215, 'neu': 0.692, 'pos': 0.093, 'compound': -0.5423}</td>\n",
       "      <td>Negative</td>\n",
       "    </tr>\n",
       "    <tr>\n",
       "      <th>6</th>\n",
       "      <td>1319111212853022721</td>\n",
       "      <td>rt @donwinslow: hunter biden is not responsible for the deaths of 220,000 americans.\\n\\nbut donald trump is.</td>\n",
       "      <td>5215.0</td>\n",
       "      <td>0</td>\n",
       "      <td>10-22-03</td>\n",
       "      <td>False</td>\n",
       "      <td>Massachusetts</td>\n",
       "      <td>{'neg': 0.085, 'neu': 0.915, 'pos': 0.0, 'compound': -0.1232}</td>\n",
       "      <td>Negative</td>\n",
       "    </tr>\n",
       "    <tr>\n",
       "      <th>20</th>\n",
       "      <td>1319111221858193408</td>\n",
       "      <td>rt @cnnpolitics: republican sen. mitt romney: \"i did not vote for president trump\" https://t.co/nyiqfto31d https://t.co/wlumvhydrl</td>\n",
       "      <td>1155.0</td>\n",
       "      <td>0</td>\n",
       "      <td>10-22-03</td>\n",
       "      <td>False</td>\n",
       "      <td>Florida</td>\n",
       "      <td>{'neg': 0.0, 'neu': 1.0, 'pos': 0.0, 'compound': 0.0}</td>\n",
       "      <td>Neutral</td>\n",
       "    </tr>\n",
       "  </tbody>\n",
       "</table>\n",
       "</div>"
      ],
      "text/plain": [
       "                     id  \\\n",
       "1   1319111212194549761   \n",
       "2   1319111212672667648   \n",
       "5   1319111212831887360   \n",
       "6   1319111212853022721   \n",
       "20  1319111221858193408   \n",
       "\n",
       "                                                                                                                                              text  \\\n",
       "1     rt @realdonaldtrump: just don’t see any way nancy pelosi and cryin’ chuck schumer will be willing to do what is right for our great america…   \n",
       "2              rt @ddale8: it turns out trump has been making this false claim for seven years now https://t.co/s17ibtqg6c https://t.co/6nnunlaehq   \n",
       "5   rt @amy_siskind: note every bit of foreign interference has been to help trump and hurt biden. \\n\\nnote every bit of voter intimidation, vote…   \n",
       "6                                     rt @donwinslow: hunter biden is not responsible for the deaths of 220,000 americans.\\n\\nbut donald trump is.   \n",
       "20              rt @cnnpolitics: republican sen. mitt romney: \"i did not vote for president trump\" https://t.co/nyiqfto31d https://t.co/wlumvhydrl   \n",
       "\n",
       "    retweet_count favorite_count      date verified          state  \\\n",
       "1         17984.0              0  10-22-03    False   Pennsylvania   \n",
       "2           462.0              0  10-22-03    False     New Jersey   \n",
       "5           694.0              0  10-22-03    False       Colorado   \n",
       "6          5215.0              0  10-22-03    False  Massachusetts   \n",
       "20         1155.0              0  10-22-03    False        Florida   \n",
       "\n",
       "                                                   sentiment_scores sentiment  \n",
       "1      {'neg': 0.0, 'neu': 0.854, 'pos': 0.146, 'compound': 0.6249}  Positive  \n",
       "2             {'neg': 0.0, 'neu': 1.0, 'pos': 0.0, 'compound': 0.0}   Neutral  \n",
       "5   {'neg': 0.215, 'neu': 0.692, 'pos': 0.093, 'compound': -0.5423}  Negative  \n",
       "6     {'neg': 0.085, 'neu': 0.915, 'pos': 0.0, 'compound': -0.1232}  Negative  \n",
       "20            {'neg': 0.0, 'neu': 1.0, 'pos': 0.0, 'compound': 0.0}   Neutral  "
      ]
     },
     "execution_count": 12,
     "metadata": {},
     "output_type": "execute_result"
    }
   ],
   "source": [
    "df_trump.head()"
   ]
  },
  {
   "cell_type": "code",
   "execution_count": 13,
   "metadata": {},
   "outputs": [
    {
     "data": {
      "image/png": "[encoded data removed]",
      "text/plain": [
       "<Figure size 1000x500 with 1 Axes>"
      ]
     },
     "metadata": {},
     "output_type": "display_data"
    }
   ],
   "source": [
    "# Plot graph for analysis of Trump Tweets\n",
    "plt.figure(figsize=(10,5)) \n",
    "(df_trump['sentiment'].value_counts(normalize=True)*100).plot.bar()\n",
    "plt.ylabel(\"%age of tweets\")\n",
    "plt.show()"
   ]
  },
  {
   "cell_type": "code",
   "execution_count": 14,
   "metadata": {},
   "outputs": [
    {
     "data": {
      "image/png": "[encoded data removed]",
      "text/plain": [
       "<Figure size 1000x500 with 1 Axes>"
      ]
     },
     "metadata": {},
     "output_type": "display_data"
    }
   ],
   "source": [
    "# Plot graph for analysis of Biden Tweets\n",
    "plt.figure(figsize=(10,5)) \n",
    "(df_biden['sentiment'].value_counts(normalize=True)*100).plot.bar()\n",
    "plt.ylabel(\"%age of tweets\")\n",
    "plt.show()"
   ]
  },
  {
   "cell_type": "code",
   "execution_count": 15,
   "metadata": {
    "scrolled": true
   },
   "outputs": [
    {
     "name": "stderr",
     "output_type": "stream",
     "text": [
      "/var/folders/z5/8gb5zsq90kz9zvv3q5_7tkhw0000gn/T/ipykernel_4605/1357478852.py:2: SettingWithCopyWarning: \n",
      "A value is trying to be set on a copy of a slice from a DataFrame.\n",
      "Try using .loc[row_indexer,col_indexer] = value instead\n",
      "\n",
      "See the caveats in the documentation: https://pandas.pydata.org/pandas-docs/stable/user_guide/indexing.html#returning-a-view-versus-a-copy\n",
      "  df_trump['candidate'] = 'Trump'\n",
      "/var/folders/z5/8gb5zsq90kz9zvv3q5_7tkhw0000gn/T/ipykernel_4605/1357478852.py:3: SettingWithCopyWarning: \n",
      "A value is trying to be set on a copy of a slice from a DataFrame.\n",
      "Try using .loc[row_indexer,col_indexer] = value instead\n",
      "\n",
      "See the caveats in the documentation: https://pandas.pydata.org/pandas-docs/stable/user_guide/indexing.html#returning-a-view-versus-a-copy\n",
      "  df_biden['candidate'] = 'Biden'\n"
     ]
    },
    {
     "data": {
      "text/html": [
       "<div>\n",
       "<style scoped>\n",
       "    .dataframe tbody tr th:only-of-type {\n",
       "        vertical-align: middle;\n",
       "    }\n",
       "\n",
       "    .dataframe tbody tr th {\n",
       "        vertical-align: top;\n",
       "    }\n",
       "\n",
       "    .dataframe thead th {\n",
       "        text-align: right;\n",
       "    }\n",
       "</style>\n",
       "<table border=\"1\" class=\"dataframe\">\n",
       "  <thead>\n",
       "    <tr style=\"text-align: right;\">\n",
       "      <th></th>\n",
       "      <th>id</th>\n",
       "      <th>text</th>\n",
       "      <th>retweet_count</th>\n",
       "      <th>favorite_count</th>\n",
       "      <th>date</th>\n",
       "      <th>verified</th>\n",
       "      <th>state</th>\n",
       "      <th>sentiment_scores</th>\n",
       "      <th>sentiment</th>\n",
       "      <th>candidate</th>\n",
       "    </tr>\n",
       "  </thead>\n",
       "  <tbody>\n",
       "    <tr>\n",
       "      <th>1</th>\n",
       "      <td>1319111212194549761</td>\n",
       "      <td>rt @realdonaldtrump: just don’t see any way nancy pelosi and cryin’ chuck schumer will be willing to do what is right for our great america…</td>\n",
       "      <td>17984.0</td>\n",
       "      <td>0</td>\n",
       "      <td>10-22-03</td>\n",
       "      <td>False</td>\n",
       "      <td>Pennsylvania</td>\n",
       "      <td>{'neg': 0.0, 'neu': 0.854, 'pos': 0.146, 'compound': 0.6249}</td>\n",
       "      <td>Positive</td>\n",
       "      <td>Trump</td>\n",
       "    </tr>\n",
       "    <tr>\n",
       "      <th>2</th>\n",
       "      <td>1319111212672667648</td>\n",
       "      <td>rt @ddale8: it turns out trump has been making this false claim for seven years now https://t.co/s17ibtqg6c https://t.co/6nnunlaehq</td>\n",
       "      <td>462.0</td>\n",
       "      <td>0</td>\n",
       "      <td>10-22-03</td>\n",
       "      <td>False</td>\n",
       "      <td>New Jersey</td>\n",
       "      <td>{'neg': 0.0, 'neu': 1.0, 'pos': 0.0, 'compound': 0.0}</td>\n",
       "      <td>Neutral</td>\n",
       "      <td>Trump</td>\n",
       "    </tr>\n",
       "    <tr>\n",
       "      <th>5</th>\n",
       "      <td>1319111212831887360</td>\n",
       "      <td>rt @amy_siskind: note every bit of foreign interference has been to help trump and hurt biden. \\n\\nnote every bit of voter intimidation, vote…</td>\n",
       "      <td>694.0</td>\n",
       "      <td>0</td>\n",
       "      <td>10-22-03</td>\n",
       "      <td>False</td>\n",
       "      <td>Colorado</td>\n",
       "      <td>{'neg': 0.215, 'neu': 0.692, 'pos': 0.093, 'compound': -0.5423}</td>\n",
       "      <td>Negative</td>\n",
       "      <td>Trump</td>\n",
       "    </tr>\n",
       "    <tr>\n",
       "      <th>6</th>\n",
       "      <td>1319111212853022721</td>\n",
       "      <td>rt @donwinslow: hunter biden is not responsible for the deaths of 220,000 americans.\\n\\nbut donald trump is.</td>\n",
       "      <td>5215.0</td>\n",
       "      <td>0</td>\n",
       "      <td>10-22-03</td>\n",
       "      <td>False</td>\n",
       "      <td>Massachusetts</td>\n",
       "      <td>{'neg': 0.085, 'neu': 0.915, 'pos': 0.0, 'compound': -0.1232}</td>\n",
       "      <td>Negative</td>\n",
       "      <td>Trump</td>\n",
       "    </tr>\n",
       "    <tr>\n",
       "      <th>20</th>\n",
       "      <td>1319111221858193408</td>\n",
       "      <td>rt @cnnpolitics: republican sen. mitt romney: \"i did not vote for president trump\" https://t.co/nyiqfto31d https://t.co/wlumvhydrl</td>\n",
       "      <td>1155.0</td>\n",
       "      <td>0</td>\n",
       "      <td>10-22-03</td>\n",
       "      <td>False</td>\n",
       "      <td>Florida</td>\n",
       "      <td>{'neg': 0.0, 'neu': 1.0, 'pos': 0.0, 'compound': 0.0}</td>\n",
       "      <td>Neutral</td>\n",
       "      <td>Trump</td>\n",
       "    </tr>\n",
       "    <tr>\n",
       "      <th>...</th>\n",
       "      <td>...</td>\n",
       "      <td>...</td>\n",
       "      <td>...</td>\n",
       "      <td>...</td>\n",
       "      <td>...</td>\n",
       "      <td>...</td>\n",
       "      <td>...</td>\n",
       "      <td>...</td>\n",
       "      <td>...</td>\n",
       "      <td>...</td>\n",
       "    </tr>\n",
       "    <tr>\n",
       "      <th>9447817</th>\n",
       "      <td>1323369258521251840</td>\n",
       "      <td>rt @timcast: i think its funny that people across the country are preparing for mass leftist riots and would also vote for joe biden whose…</td>\n",
       "      <td>4103.0</td>\n",
       "      <td>0</td>\n",
       "      <td>11-02-20</td>\n",
       "      <td>False</td>\n",
       "      <td>North Dakota</td>\n",
       "      <td>{'neg': 0.117, 'neu': 0.78, 'pos': 0.103, 'compound': -0.1027}</td>\n",
       "      <td>Negative</td>\n",
       "      <td>Biden</td>\n",
       "    </tr>\n",
       "    <tr>\n",
       "      <th>9447820</th>\n",
       "      <td>1323369262099189763</td>\n",
       "      <td>rt @jimtankersley: a key diff for dems in 2020 vs. 2016: joe biden has quietly kept both his left flank and wall st from rebelling against…</td>\n",
       "      <td>130.0</td>\n",
       "      <td>0</td>\n",
       "      <td>11-02-20</td>\n",
       "      <td>True</td>\n",
       "      <td>Georgia</td>\n",
       "      <td>{'neg': 0.08, 'neu': 0.92, 'pos': 0.0, 'compound': -0.2732}</td>\n",
       "      <td>Negative</td>\n",
       "      <td>Biden</td>\n",
       "    </tr>\n",
       "    <tr>\n",
       "      <th>9447821</th>\n",
       "      <td>1323369262141054976</td>\n",
       "      <td>rt @realdonaldtrump: biden will raise your taxes (biggest increase ever!).</td>\n",
       "      <td>12175.0</td>\n",
       "      <td>0</td>\n",
       "      <td>11-02-20</td>\n",
       "      <td>False</td>\n",
       "      <td>Illinois</td>\n",
       "      <td>{'neg': 0.0, 'neu': 0.776, 'pos': 0.224, 'compound': 0.3802}</td>\n",
       "      <td>Positive</td>\n",
       "      <td>Biden</td>\n",
       "    </tr>\n",
       "    <tr>\n",
       "      <th>9447831</th>\n",
       "      <td>1323369266251444233</td>\n",
       "      <td>rt @joebiden: are you still undecided about who to vote for or know someone who is? my team put together some cheat sheets to show where do…</td>\n",
       "      <td>18719.0</td>\n",
       "      <td>0</td>\n",
       "      <td>11-02-20</td>\n",
       "      <td>False</td>\n",
       "      <td>Maine</td>\n",
       "      <td>{'neg': 0.164, 'neu': 0.836, 'pos': 0.0, 'compound': -0.5994}</td>\n",
       "      <td>Negative</td>\n",
       "      <td>Biden</td>\n",
       "    </tr>\n",
       "    <tr>\n",
       "      <th>9447832</th>\n",
       "      <td>1323369266532425728</td>\n",
       "      <td>rt @dloesch: amazed by “republicans” who are more offended over trump’s tweets and rhetoric than they are over biden’s anti-gun, taxpayer-f…</td>\n",
       "      <td>3828.0</td>\n",
       "      <td>0</td>\n",
       "      <td>11-02-20</td>\n",
       "      <td>False</td>\n",
       "      <td>California</td>\n",
       "      <td>{'neg': 0.094, 'neu': 0.776, 'pos': 0.131, 'compound': 0.228}</td>\n",
       "      <td>Positive</td>\n",
       "      <td>Biden</td>\n",
       "    </tr>\n",
       "  </tbody>\n",
       "</table>\n",
       "<p>7199423 rows × 10 columns</p>\n",
       "</div>"
      ],
      "text/plain": [
       "                          id  \\\n",
       "1        1319111212194549761   \n",
       "2        1319111212672667648   \n",
       "5        1319111212831887360   \n",
       "6        1319111212853022721   \n",
       "20       1319111221858193408   \n",
       "...                      ...   \n",
       "9447817  1323369258521251840   \n",
       "9447820  1323369262099189763   \n",
       "9447821  1323369262141054976   \n",
       "9447831  1323369266251444233   \n",
       "9447832  1323369266532425728   \n",
       "\n",
       "                                                                                                                                                   text  \\\n",
       "1          rt @realdonaldtrump: just don’t see any way nancy pelosi and cryin’ chuck schumer will be willing to do what is right for our great america…   \n",
       "2                   rt @ddale8: it turns out trump has been making this false claim for seven years now https://t.co/s17ibtqg6c https://t.co/6nnunlaehq   \n",
       "5        rt @amy_siskind: note every bit of foreign interference has been to help trump and hurt biden. \\n\\nnote every bit of voter intimidation, vote…   \n",
       "6                                          rt @donwinslow: hunter biden is not responsible for the deaths of 220,000 americans.\\n\\nbut donald trump is.   \n",
       "20                   rt @cnnpolitics: republican sen. mitt romney: \"i did not vote for president trump\" https://t.co/nyiqfto31d https://t.co/wlumvhydrl   \n",
       "...                                                                                                                                                 ...   \n",
       "9447817     rt @timcast: i think its funny that people across the country are preparing for mass leftist riots and would also vote for joe biden whose…   \n",
       "9447820     rt @jimtankersley: a key diff for dems in 2020 vs. 2016: joe biden has quietly kept both his left flank and wall st from rebelling against…   \n",
       "9447821                                                                      rt @realdonaldtrump: biden will raise your taxes (biggest increase ever!).   \n",
       "9447831    rt @joebiden: are you still undecided about who to vote for or know someone who is? my team put together some cheat sheets to show where do…   \n",
       "9447832    rt @dloesch: amazed by “republicans” who are more offended over trump’s tweets and rhetoric than they are over biden’s anti-gun, taxpayer-f…   \n",
       "\n",
       "         retweet_count favorite_count      date verified          state  \\\n",
       "1              17984.0              0  10-22-03    False   Pennsylvania   \n",
       "2                462.0              0  10-22-03    False     New Jersey   \n",
       "5                694.0              0  10-22-03    False       Colorado   \n",
       "6               5215.0              0  10-22-03    False  Massachusetts   \n",
       "20              1155.0              0  10-22-03    False        Florida   \n",
       "...                ...            ...       ...      ...            ...   \n",
       "9447817         4103.0              0  11-02-20    False   North Dakota   \n",
       "9447820          130.0              0  11-02-20     True        Georgia   \n",
       "9447821        12175.0              0  11-02-20    False       Illinois   \n",
       "9447831        18719.0              0  11-02-20    False          Maine   \n",
       "9447832         3828.0              0  11-02-20    False     California   \n",
       "\n",
       "                                                        sentiment_scores  \\\n",
       "1           {'neg': 0.0, 'neu': 0.854, 'pos': 0.146, 'compound': 0.6249}   \n",
       "2                  {'neg': 0.0, 'neu': 1.0, 'pos': 0.0, 'compound': 0.0}   \n",
       "5        {'neg': 0.215, 'neu': 0.692, 'pos': 0.093, 'compound': -0.5423}   \n",
       "6          {'neg': 0.085, 'neu': 0.915, 'pos': 0.0, 'compound': -0.1232}   \n",
       "20                 {'neg': 0.0, 'neu': 1.0, 'pos': 0.0, 'compound': 0.0}   \n",
       "...                                                                  ...   \n",
       "9447817   {'neg': 0.117, 'neu': 0.78, 'pos': 0.103, 'compound': -0.1027}   \n",
       "9447820      {'neg': 0.08, 'neu': 0.92, 'pos': 0.0, 'compound': -0.2732}   \n",
       "9447821     {'neg': 0.0, 'neu': 0.776, 'pos': 0.224, 'compound': 0.3802}   \n",
       "9447831    {'neg': 0.164, 'neu': 0.836, 'pos': 0.0, 'compound': -0.5994}   \n",
       "9447832    {'neg': 0.094, 'neu': 0.776, 'pos': 0.131, 'compound': 0.228}   \n",
       "\n",
       "        sentiment candidate  \n",
       "1        Positive     Trump  \n",
       "2         Neutral     Trump  \n",
       "5        Negative     Trump  \n",
       "6        Negative     Trump  \n",
       "20        Neutral     Trump  \n",
       "...           ...       ...  \n",
       "9447817  Negative     Biden  \n",
       "9447820  Negative     Biden  \n",
       "9447821  Positive     Biden  \n",
       "9447831  Negative     Biden  \n",
       "9447832  Positive     Biden  \n",
       "\n",
       "[7199423 rows x 10 columns]"
      ]
     },
     "execution_count": 15,
     "metadata": {},
     "output_type": "execute_result"
    }
   ],
   "source": [
    "# Concat the data frames\n",
    "df_trump['candidate'] = 'Trump'\n",
    "df_biden['candidate'] = 'Biden'\n",
    "Data_Mixed = pd.concat([df_trump,df_biden])\n",
    "Data_Mixed"
   ]
  },
  {
   "cell_type": "markdown",
   "metadata": {},
   "source": [
    "# Sentiment % pos neg"
   ]
  },
  {
   "cell_type": "code",
   "execution_count": 67,
   "metadata": {
    "scrolled": true
   },
   "outputs": [
    {
     "data": {
      "text/html": [
       "<div>\n",
       "<style scoped>\n",
       "    .dataframe tbody tr th:only-of-type {\n",
       "        vertical-align: middle;\n",
       "    }\n",
       "\n",
       "    .dataframe tbody tr th {\n",
       "        vertical-align: top;\n",
       "    }\n",
       "\n",
       "    .dataframe thead th {\n",
       "        text-align: right;\n",
       "    }\n",
       "</style>\n",
       "<table border=\"1\" class=\"dataframe\">\n",
       "  <thead>\n",
       "    <tr style=\"text-align: right;\">\n",
       "      <th></th>\n",
       "      <th>state</th>\n",
       "      <th>total_tweets</th>\n",
       "      <th>Trump_P</th>\n",
       "      <th>Trump_N</th>\n",
       "      <th>Trump_Na</th>\n",
       "      <th>Biden_P</th>\n",
       "      <th>Biden_N</th>\n",
       "      <th>Biden_Na</th>\n",
       "    </tr>\n",
       "  </thead>\n",
       "  <tbody>\n",
       "    <tr>\n",
       "      <th>0</th>\n",
       "      <td>Pennsylvania</td>\n",
       "      <td>254404</td>\n",
       "      <td>63484</td>\n",
       "      <td>55171</td>\n",
       "      <td>40406</td>\n",
       "      <td>38226</td>\n",
       "      <td>26713</td>\n",
       "      <td>30404</td>\n",
       "    </tr>\n",
       "    <tr>\n",
       "      <th>1</th>\n",
       "      <td>New Jersey</td>\n",
       "      <td>162481</td>\n",
       "      <td>40968</td>\n",
       "      <td>35375</td>\n",
       "      <td>25372</td>\n",
       "      <td>24350</td>\n",
       "      <td>17160</td>\n",
       "      <td>19256</td>\n",
       "    </tr>\n",
       "    <tr>\n",
       "      <th>2</th>\n",
       "      <td>Colorado</td>\n",
       "      <td>143612</td>\n",
       "      <td>35116</td>\n",
       "      <td>33106</td>\n",
       "      <td>22356</td>\n",
       "      <td>21400</td>\n",
       "      <td>14664</td>\n",
       "      <td>16970</td>\n",
       "    </tr>\n",
       "    <tr>\n",
       "      <th>3</th>\n",
       "      <td>Massachusetts</td>\n",
       "      <td>153022</td>\n",
       "      <td>36289</td>\n",
       "      <td>35300</td>\n",
       "      <td>23833</td>\n",
       "      <td>23821</td>\n",
       "      <td>15550</td>\n",
       "      <td>18229</td>\n",
       "    </tr>\n",
       "    <tr>\n",
       "      <th>4</th>\n",
       "      <td>Florida</td>\n",
       "      <td>679529</td>\n",
       "      <td>182091</td>\n",
       "      <td>140167</td>\n",
       "      <td>108537</td>\n",
       "      <td>93633</td>\n",
       "      <td>74465</td>\n",
       "      <td>80636</td>\n",
       "    </tr>\n",
       "    <tr>\n",
       "      <th>5</th>\n",
       "      <td>Minnesota</td>\n",
       "      <td>106348</td>\n",
       "      <td>25830</td>\n",
       "      <td>24066</td>\n",
       "      <td>16846</td>\n",
       "      <td>16114</td>\n",
       "      <td>10804</td>\n",
       "      <td>12688</td>\n",
       "    </tr>\n",
       "    <tr>\n",
       "      <th>6</th>\n",
       "      <td>California</td>\n",
       "      <td>973653</td>\n",
       "      <td>237889</td>\n",
       "      <td>219873</td>\n",
       "      <td>152896</td>\n",
       "      <td>148577</td>\n",
       "      <td>97989</td>\n",
       "      <td>116429</td>\n",
       "    </tr>\n",
       "    <tr>\n",
       "      <th>7</th>\n",
       "      <td>Washington</td>\n",
       "      <td>305040</td>\n",
       "      <td>72305</td>\n",
       "      <td>68692</td>\n",
       "      <td>49123</td>\n",
       "      <td>47588</td>\n",
       "      <td>30219</td>\n",
       "      <td>37113</td>\n",
       "    </tr>\n",
       "    <tr>\n",
       "      <th>8</th>\n",
       "      <td>South Carolina</td>\n",
       "      <td>91249</td>\n",
       "      <td>24328</td>\n",
       "      <td>18559</td>\n",
       "      <td>14370</td>\n",
       "      <td>12768</td>\n",
       "      <td>10083</td>\n",
       "      <td>11141</td>\n",
       "    </tr>\n",
       "    <tr>\n",
       "      <th>9</th>\n",
       "      <td>Nevada</td>\n",
       "      <td>87471</td>\n",
       "      <td>22671</td>\n",
       "      <td>18780</td>\n",
       "      <td>13695</td>\n",
       "      <td>12656</td>\n",
       "      <td>9310</td>\n",
       "      <td>10359</td>\n",
       "    </tr>\n",
       "    <tr>\n",
       "      <th>10</th>\n",
       "      <td>Texas</td>\n",
       "      <td>728105</td>\n",
       "      <td>190647</td>\n",
       "      <td>146858</td>\n",
       "      <td>112016</td>\n",
       "      <td>106222</td>\n",
       "      <td>81251</td>\n",
       "      <td>91111</td>\n",
       "    </tr>\n",
       "    <tr>\n",
       "      <th>11</th>\n",
       "      <td>Illinois</td>\n",
       "      <td>209126</td>\n",
       "      <td>49807</td>\n",
       "      <td>47207</td>\n",
       "      <td>33109</td>\n",
       "      <td>32027</td>\n",
       "      <td>21512</td>\n",
       "      <td>25464</td>\n",
       "    </tr>\n",
       "    <tr>\n",
       "      <th>12</th>\n",
       "      <td>Oregon</td>\n",
       "      <td>132304</td>\n",
       "      <td>32483</td>\n",
       "      <td>31454</td>\n",
       "      <td>21149</td>\n",
       "      <td>19268</td>\n",
       "      <td>13075</td>\n",
       "      <td>14875</td>\n",
       "    </tr>\n",
       "    <tr>\n",
       "      <th>13</th>\n",
       "      <td>Louisiana</td>\n",
       "      <td>73033</td>\n",
       "      <td>19448</td>\n",
       "      <td>14311</td>\n",
       "      <td>11350</td>\n",
       "      <td>10307</td>\n",
       "      <td>8396</td>\n",
       "      <td>9221</td>\n",
       "    </tr>\n",
       "    <tr>\n",
       "      <th>14</th>\n",
       "      <td>Wisconsin</td>\n",
       "      <td>92774</td>\n",
       "      <td>22632</td>\n",
       "      <td>20476</td>\n",
       "      <td>14854</td>\n",
       "      <td>14057</td>\n",
       "      <td>9463</td>\n",
       "      <td>11292</td>\n",
       "    </tr>\n",
       "    <tr>\n",
       "      <th>15</th>\n",
       "      <td>Hawaii</td>\n",
       "      <td>39411</td>\n",
       "      <td>10327</td>\n",
       "      <td>8781</td>\n",
       "      <td>5915</td>\n",
       "      <td>5533</td>\n",
       "      <td>4489</td>\n",
       "      <td>4366</td>\n",
       "    </tr>\n",
       "    <tr>\n",
       "      <th>16</th>\n",
       "      <td>Indiana</td>\n",
       "      <td>104144</td>\n",
       "      <td>27066</td>\n",
       "      <td>22132</td>\n",
       "      <td>16214</td>\n",
       "      <td>15091</td>\n",
       "      <td>11083</td>\n",
       "      <td>12558</td>\n",
       "    </tr>\n",
       "    <tr>\n",
       "      <th>17</th>\n",
       "      <td>Maryland</td>\n",
       "      <td>111763</td>\n",
       "      <td>26730</td>\n",
       "      <td>25276</td>\n",
       "      <td>17455</td>\n",
       "      <td>17062</td>\n",
       "      <td>11697</td>\n",
       "      <td>13543</td>\n",
       "    </tr>\n",
       "    <tr>\n",
       "      <th>18</th>\n",
       "      <td>Michigan</td>\n",
       "      <td>196196</td>\n",
       "      <td>48578</td>\n",
       "      <td>44276</td>\n",
       "      <td>31201</td>\n",
       "      <td>28792</td>\n",
       "      <td>20238</td>\n",
       "      <td>23111</td>\n",
       "    </tr>\n",
       "    <tr>\n",
       "      <th>19</th>\n",
       "      <td>Alaska</td>\n",
       "      <td>21824</td>\n",
       "      <td>5860</td>\n",
       "      <td>4856</td>\n",
       "      <td>3588</td>\n",
       "      <td>2824</td>\n",
       "      <td>2254</td>\n",
       "      <td>2442</td>\n",
       "    </tr>\n",
       "    <tr>\n",
       "      <th>20</th>\n",
       "      <td>Utah</td>\n",
       "      <td>44600</td>\n",
       "      <td>10761</td>\n",
       "      <td>10327</td>\n",
       "      <td>6920</td>\n",
       "      <td>6461</td>\n",
       "      <td>4785</td>\n",
       "      <td>5346</td>\n",
       "    </tr>\n",
       "    <tr>\n",
       "      <th>21</th>\n",
       "      <td>Iowa</td>\n",
       "      <td>44157</td>\n",
       "      <td>11049</td>\n",
       "      <td>9777</td>\n",
       "      <td>7139</td>\n",
       "      <td>6437</td>\n",
       "      <td>4481</td>\n",
       "      <td>5274</td>\n",
       "    </tr>\n",
       "    <tr>\n",
       "      <th>22</th>\n",
       "      <td>Arizona</td>\n",
       "      <td>206162</td>\n",
       "      <td>53138</td>\n",
       "      <td>44431</td>\n",
       "      <td>32842</td>\n",
       "      <td>29253</td>\n",
       "      <td>22203</td>\n",
       "      <td>24295</td>\n",
       "    </tr>\n",
       "    <tr>\n",
       "      <th>23</th>\n",
       "      <td>Kentucky</td>\n",
       "      <td>75241</td>\n",
       "      <td>19552</td>\n",
       "      <td>15409</td>\n",
       "      <td>11663</td>\n",
       "      <td>10977</td>\n",
       "      <td>8370</td>\n",
       "      <td>9270</td>\n",
       "    </tr>\n",
       "    <tr>\n",
       "      <th>24</th>\n",
       "      <td>Virginia</td>\n",
       "      <td>183936</td>\n",
       "      <td>45655</td>\n",
       "      <td>39872</td>\n",
       "      <td>28759</td>\n",
       "      <td>27973</td>\n",
       "      <td>19395</td>\n",
       "      <td>22282</td>\n",
       "    </tr>\n",
       "    <tr>\n",
       "      <th>25</th>\n",
       "      <td>New York</td>\n",
       "      <td>501803</td>\n",
       "      <td>122675</td>\n",
       "      <td>112152</td>\n",
       "      <td>79110</td>\n",
       "      <td>77178</td>\n",
       "      <td>50564</td>\n",
       "      <td>60124</td>\n",
       "    </tr>\n",
       "    <tr>\n",
       "      <th>26</th>\n",
       "      <td>Oklahoma</td>\n",
       "      <td>69271</td>\n",
       "      <td>18449</td>\n",
       "      <td>13666</td>\n",
       "      <td>10912</td>\n",
       "      <td>9675</td>\n",
       "      <td>8016</td>\n",
       "      <td>8553</td>\n",
       "    </tr>\n",
       "    <tr>\n",
       "      <th>27</th>\n",
       "      <td>Georgia</td>\n",
       "      <td>200948</td>\n",
       "      <td>51347</td>\n",
       "      <td>41152</td>\n",
       "      <td>31013</td>\n",
       "      <td>30043</td>\n",
       "      <td>21786</td>\n",
       "      <td>25607</td>\n",
       "    </tr>\n",
       "    <tr>\n",
       "      <th>28</th>\n",
       "      <td>North Dakota</td>\n",
       "      <td>7674</td>\n",
       "      <td>1934</td>\n",
       "      <td>1735</td>\n",
       "      <td>1360</td>\n",
       "      <td>1023</td>\n",
       "      <td>768</td>\n",
       "      <td>854</td>\n",
       "    </tr>\n",
       "    <tr>\n",
       "      <th>29</th>\n",
       "      <td>Tennessee</td>\n",
       "      <td>134089</td>\n",
       "      <td>36979</td>\n",
       "      <td>26454</td>\n",
       "      <td>21381</td>\n",
       "      <td>18387</td>\n",
       "      <td>14679</td>\n",
       "      <td>16209</td>\n",
       "    </tr>\n",
       "    <tr>\n",
       "      <th>30</th>\n",
       "      <td>Nebraska</td>\n",
       "      <td>32315</td>\n",
       "      <td>8524</td>\n",
       "      <td>6914</td>\n",
       "      <td>5077</td>\n",
       "      <td>4636</td>\n",
       "      <td>3356</td>\n",
       "      <td>3808</td>\n",
       "    </tr>\n",
       "    <tr>\n",
       "      <th>31</th>\n",
       "      <td>Kansas</td>\n",
       "      <td>62921</td>\n",
       "      <td>15325</td>\n",
       "      <td>13591</td>\n",
       "      <td>9835</td>\n",
       "      <td>9521</td>\n",
       "      <td>6825</td>\n",
       "      <td>7824</td>\n",
       "    </tr>\n",
       "    <tr>\n",
       "      <th>32</th>\n",
       "      <td>Arkansas</td>\n",
       "      <td>48476</td>\n",
       "      <td>12773</td>\n",
       "      <td>9844</td>\n",
       "      <td>7568</td>\n",
       "      <td>6871</td>\n",
       "      <td>5451</td>\n",
       "      <td>5969</td>\n",
       "    </tr>\n",
       "    <tr>\n",
       "      <th>33</th>\n",
       "      <td>Idaho</td>\n",
       "      <td>30356</td>\n",
       "      <td>7752</td>\n",
       "      <td>6437</td>\n",
       "      <td>4876</td>\n",
       "      <td>4259</td>\n",
       "      <td>3419</td>\n",
       "      <td>3613</td>\n",
       "    </tr>\n",
       "    <tr>\n",
       "      <th>34</th>\n",
       "      <td>Ohio</td>\n",
       "      <td>228451</td>\n",
       "      <td>57491</td>\n",
       "      <td>49288</td>\n",
       "      <td>36438</td>\n",
       "      <td>33538</td>\n",
       "      <td>24236</td>\n",
       "      <td>27460</td>\n",
       "    </tr>\n",
       "    <tr>\n",
       "      <th>35</th>\n",
       "      <td>New Mexico</td>\n",
       "      <td>37242</td>\n",
       "      <td>9104</td>\n",
       "      <td>8524</td>\n",
       "      <td>5993</td>\n",
       "      <td>5470</td>\n",
       "      <td>3671</td>\n",
       "      <td>4480</td>\n",
       "    </tr>\n",
       "    <tr>\n",
       "      <th>36</th>\n",
       "      <td>North Carolina</td>\n",
       "      <td>186695</td>\n",
       "      <td>47480</td>\n",
       "      <td>40292</td>\n",
       "      <td>29442</td>\n",
       "      <td>27248</td>\n",
       "      <td>19506</td>\n",
       "      <td>22727</td>\n",
       "    </tr>\n",
       "    <tr>\n",
       "      <th>37</th>\n",
       "      <td>Alabama</td>\n",
       "      <td>83309</td>\n",
       "      <td>22773</td>\n",
       "      <td>15982</td>\n",
       "      <td>13003</td>\n",
       "      <td>11460</td>\n",
       "      <td>9794</td>\n",
       "      <td>10297</td>\n",
       "    </tr>\n",
       "    <tr>\n",
       "      <th>38</th>\n",
       "      <td>Wyoming</td>\n",
       "      <td>9604</td>\n",
       "      <td>2635</td>\n",
       "      <td>1982</td>\n",
       "      <td>1595</td>\n",
       "      <td>1319</td>\n",
       "      <td>988</td>\n",
       "      <td>1085</td>\n",
       "    </tr>\n",
       "    <tr>\n",
       "      <th>39</th>\n",
       "      <td>South Dakota</td>\n",
       "      <td>12595</td>\n",
       "      <td>3243</td>\n",
       "      <td>2575</td>\n",
       "      <td>1958</td>\n",
       "      <td>2013</td>\n",
       "      <td>1318</td>\n",
       "      <td>1488</td>\n",
       "    </tr>\n",
       "    <tr>\n",
       "      <th>40</th>\n",
       "      <td>Delaware</td>\n",
       "      <td>23906</td>\n",
       "      <td>5457</td>\n",
       "      <td>5320</td>\n",
       "      <td>3726</td>\n",
       "      <td>3778</td>\n",
       "      <td>2501</td>\n",
       "      <td>3124</td>\n",
       "    </tr>\n",
       "    <tr>\n",
       "      <th>41</th>\n",
       "      <td>Connecticut</td>\n",
       "      <td>63522</td>\n",
       "      <td>14888</td>\n",
       "      <td>14285</td>\n",
       "      <td>9888</td>\n",
       "      <td>9995</td>\n",
       "      <td>6429</td>\n",
       "      <td>8037</td>\n",
       "    </tr>\n",
       "    <tr>\n",
       "      <th>42</th>\n",
       "      <td>Missouri</td>\n",
       "      <td>83161</td>\n",
       "      <td>21626</td>\n",
       "      <td>17441</td>\n",
       "      <td>13203</td>\n",
       "      <td>11728</td>\n",
       "      <td>9106</td>\n",
       "      <td>10057</td>\n",
       "    </tr>\n",
       "    <tr>\n",
       "      <th>43</th>\n",
       "      <td>Maine</td>\n",
       "      <td>34085</td>\n",
       "      <td>8369</td>\n",
       "      <td>8118</td>\n",
       "      <td>5774</td>\n",
       "      <td>4753</td>\n",
       "      <td>3313</td>\n",
       "      <td>3758</td>\n",
       "    </tr>\n",
       "    <tr>\n",
       "      <th>44</th>\n",
       "      <td>Mississippi</td>\n",
       "      <td>31535</td>\n",
       "      <td>9064</td>\n",
       "      <td>6253</td>\n",
       "      <td>4993</td>\n",
       "      <td>4133</td>\n",
       "      <td>3431</td>\n",
       "      <td>3661</td>\n",
       "    </tr>\n",
       "    <tr>\n",
       "      <th>45</th>\n",
       "      <td>Montana</td>\n",
       "      <td>23404</td>\n",
       "      <td>6045</td>\n",
       "      <td>4990</td>\n",
       "      <td>3795</td>\n",
       "      <td>3289</td>\n",
       "      <td>2419</td>\n",
       "      <td>2866</td>\n",
       "    </tr>\n",
       "    <tr>\n",
       "      <th>46</th>\n",
       "      <td>Rhode Island</td>\n",
       "      <td>19392</td>\n",
       "      <td>4776</td>\n",
       "      <td>4412</td>\n",
       "      <td>2997</td>\n",
       "      <td>2864</td>\n",
       "      <td>1990</td>\n",
       "      <td>2353</td>\n",
       "    </tr>\n",
       "    <tr>\n",
       "      <th>47</th>\n",
       "      <td>West Virginia</td>\n",
       "      <td>9893</td>\n",
       "      <td>2628</td>\n",
       "      <td>2002</td>\n",
       "      <td>1462</td>\n",
       "      <td>1439</td>\n",
       "      <td>1082</td>\n",
       "      <td>1280</td>\n",
       "    </tr>\n",
       "    <tr>\n",
       "      <th>48</th>\n",
       "      <td>New Hampshire</td>\n",
       "      <td>29655</td>\n",
       "      <td>7312</td>\n",
       "      <td>6532</td>\n",
       "      <td>4512</td>\n",
       "      <td>4579</td>\n",
       "      <td>3143</td>\n",
       "      <td>3577</td>\n",
       "    </tr>\n",
       "    <tr>\n",
       "      <th>49</th>\n",
       "      <td>Vermont</td>\n",
       "      <td>15536</td>\n",
       "      <td>3657</td>\n",
       "      <td>3888</td>\n",
       "      <td>2529</td>\n",
       "      <td>2262</td>\n",
       "      <td>1460</td>\n",
       "      <td>1740</td>\n",
       "    </tr>\n",
       "  </tbody>\n",
       "</table>\n",
       "</div>"
      ],
      "text/plain": [
       "             state  total_tweets  Trump_P  Trump_N  Trump_Na  Biden_P  \\\n",
       "0     Pennsylvania        254404    63484    55171     40406    38226   \n",
       "1       New Jersey        162481    40968    35375     25372    24350   \n",
       "2         Colorado        143612    35116    33106     22356    21400   \n",
       "3    Massachusetts        153022    36289    35300     23833    23821   \n",
       "4          Florida        679529   182091   140167    108537    93633   \n",
       "5        Minnesota        106348    25830    24066     16846    16114   \n",
       "6       California        973653   237889   219873    152896   148577   \n",
       "7       Washington        305040    72305    68692     49123    47588   \n",
       "8   South Carolina         91249    24328    18559     14370    12768   \n",
       "9           Nevada         87471    22671    18780     13695    12656   \n",
       "10           Texas        728105   190647   146858    112016   106222   \n",
       "11        Illinois        209126    49807    47207     33109    32027   \n",
       "12          Oregon        132304    32483    31454     21149    19268   \n",
       "13       Louisiana         73033    19448    14311     11350    10307   \n",
       "14       Wisconsin         92774    22632    20476     14854    14057   \n",
       "15          Hawaii         39411    10327     8781      5915     5533   \n",
       "16         Indiana        104144    27066    22132     16214    15091   \n",
       "17        Maryland        111763    26730    25276     17455    17062   \n",
       "18        Michigan        196196    48578    44276     31201    28792   \n",
       "19          Alaska         21824     5860     4856      3588     2824   \n",
       "20            Utah         44600    10761    10327      6920     6461   \n",
       "21            Iowa         44157    11049     9777      7139     6437   \n",
       "22         Arizona        206162    53138    44431     32842    29253   \n",
       "23        Kentucky         75241    19552    15409     11663    10977   \n",
       "24        Virginia        183936    45655    39872     28759    27973   \n",
       "25        New York        501803   122675   112152     79110    77178   \n",
       "26        Oklahoma         69271    18449    13666     10912     9675   \n",
       "27         Georgia        200948    51347    41152     31013    30043   \n",
       "28    North Dakota          7674     1934     1735      1360     1023   \n",
       "29       Tennessee        134089    36979    26454     21381    18387   \n",
       "30        Nebraska         32315     8524     6914      5077     4636   \n",
       "31          Kansas         62921    15325    13591      9835     9521   \n",
       "32        Arkansas         48476    12773     9844      7568     6871   \n",
       "33           Idaho         30356     7752     6437      4876     4259   \n",
       "34            Ohio        228451    57491    49288     36438    33538   \n",
       "35      New Mexico         37242     9104     8524      5993     5470   \n",
       "36  North Carolina        186695    47480    40292     29442    27248   \n",
       "37         Alabama         83309    22773    15982     13003    11460   \n",
       "38         Wyoming          9604     2635     1982      1595     1319   \n",
       "39    South Dakota         12595     3243     2575      1958     2013   \n",
       "40        Delaware         23906     5457     5320      3726     3778   \n",
       "41     Connecticut         63522    14888    14285      9888     9995   \n",
       "42        Missouri         83161    21626    17441     13203    11728   \n",
       "43           Maine         34085     8369     8118      5774     4753   \n",
       "44     Mississippi         31535     9064     6253      4993     4133   \n",
       "45         Montana         23404     6045     4990      3795     3289   \n",
       "46    Rhode Island         19392     4776     4412      2997     2864   \n",
       "47   West Virginia          9893     2628     2002      1462     1439   \n",
       "48   New Hampshire         29655     7312     6532      4512     4579   \n",
       "49         Vermont         15536     3657     3888      2529     2262   \n",
       "\n",
       "    Biden_N  Biden_Na  \n",
       "0     26713     30404  \n",
       "1     17160     19256  \n",
       "2     14664     16970  \n",
       "3     15550     18229  \n",
       "4     74465     80636  \n",
       "5     10804     12688  \n",
       "6     97989    116429  \n",
       "7     30219     37113  \n",
       "8     10083     11141  \n",
       "9      9310     10359  \n",
       "10    81251     91111  \n",
       "11    21512     25464  \n",
       "12    13075     14875  \n",
       "13     8396      9221  \n",
       "14     9463     11292  \n",
       "15     4489      4366  \n",
       "16    11083     12558  \n",
       "17    11697     13543  \n",
       "18    20238     23111  \n",
       "19     2254      2442  \n",
       "20     4785      5346  \n",
       "21     4481      5274  \n",
       "22    22203     24295  \n",
       "23     8370      9270  \n",
       "24    19395     22282  \n",
       "25    50564     60124  \n",
       "26     8016      8553  \n",
       "27    21786     25607  \n",
       "28      768       854  \n",
       "29    14679     16209  \n",
       "30     3356      3808  \n",
       "31     6825      7824  \n",
       "32     5451      5969  \n",
       "33     3419      3613  \n",
       "34    24236     27460  \n",
       "35     3671      4480  \n",
       "36    19506     22727  \n",
       "37     9794     10297  \n",
       "38      988      1085  \n",
       "39     1318      1488  \n",
       "40     2501      3124  \n",
       "41     6429      8037  \n",
       "42     9106     10057  \n",
       "43     3313      3758  \n",
       "44     3431      3661  \n",
       "45     2419      2866  \n",
       "46     1990      2353  \n",
       "47     1082      1280  \n",
       "48     3143      3577  \n",
       "49     1460      1740  "
      ]
     },
     "execution_count": 67,
     "metadata": {},
     "output_type": "execute_result"
    }
   ],
   "source": [
    "overview_df = pd.DataFrame()\n",
    "overview_df['state'] = Data_Mixed.state.unique()\n",
    "\n",
    "#total number of tweets\n",
    "overview_df = overview_df.merge(Data_Mixed.groupby('state')['id'].count().reset_index(name=\"total_tweets\"), on='state', how='left')\n",
    "\n",
    "#Number of tweets for Trump\n",
    "overview_df = overview_df.merge(Data_Mixed[(Data_Mixed['candidate'] == 'Trump') &\n",
    "                                 (Data_Mixed['sentiment'] == 'Positive')].groupby('state')['id'].count().reset_index(name=\"Trump_P\"), on='state', how='left')\n",
    "overview_df = overview_df.merge(Data_Mixed[(Data_Mixed['candidate'] == 'Trump') &\n",
    "                                 (Data_Mixed['sentiment'] == 'Negative')].groupby('state')['id'].count().reset_index(name=\"Trump_N\"), on='state', how='left')\n",
    "overview_df = overview_df.merge(Data_Mixed[(Data_Mixed['candidate'] == 'Trump') &\n",
    "                                 (Data_Mixed['sentiment'] == 'Neutral')].groupby('state')['id'].count().reset_index(name=\"Trump_Na\"), on='state', how='left')\n",
    "#Number of tweets for Biden\n",
    "overview_df = overview_df.merge(Data_Mixed[(Data_Mixed['candidate'] == 'Biden') &\n",
    "                                 (Data_Mixed['sentiment'] == 'Positive')].groupby('state')['id'].count().reset_index(name=\"Biden_P\"), on='state', how='left')\n",
    "overview_df = overview_df.merge(Data_Mixed[(Data_Mixed['candidate'] == 'Biden') &\n",
    "                                 (Data_Mixed['sentiment'] == 'Negative')].groupby('state')['id'].count().reset_index(name=\"Biden_N\"), on='state', how='left')\n",
    "overview_df = overview_df.merge(Data_Mixed[(Data_Mixed['candidate'] == 'Biden') &\n",
    "                                 (Data_Mixed['sentiment'] == 'Neutral')].groupby('state')['id'].count().reset_index(name=\"Biden_Na\"), on='state', how='left')\n",
    "\n",
    "overview_df"
   ]
  },
  {
   "cell_type": "code",
   "execution_count": 69,
   "metadata": {
    "scrolled": true
   },
   "outputs": [
    {
     "data": {
      "text/html": [
       "<div>\n",
       "<style scoped>\n",
       "    .dataframe tbody tr th:only-of-type {\n",
       "        vertical-align: middle;\n",
       "    }\n",
       "\n",
       "    .dataframe tbody tr th {\n",
       "        vertical-align: top;\n",
       "    }\n",
       "\n",
       "    .dataframe thead th {\n",
       "        text-align: right;\n",
       "    }\n",
       "</style>\n",
       "<table border=\"1\" class=\"dataframe\">\n",
       "  <thead>\n",
       "    <tr style=\"text-align: right;\">\n",
       "      <th></th>\n",
       "      <th>state</th>\n",
       "      <th>total_tweets</th>\n",
       "      <th>Trump_P</th>\n",
       "      <th>Trump_N</th>\n",
       "      <th>Trump_Na</th>\n",
       "      <th>Biden_P</th>\n",
       "      <th>Biden_N</th>\n",
       "      <th>Biden_Na</th>\n",
       "      <th>Trump_P_perc_total</th>\n",
       "      <th>Biden_P_perc_total</th>\n",
       "      <th>Trump_P_perc_only</th>\n",
       "      <th>Biden_P_perc_only</th>\n",
       "    </tr>\n",
       "  </thead>\n",
       "  <tbody>\n",
       "    <tr>\n",
       "      <th>0</th>\n",
       "      <td>Pennsylvania</td>\n",
       "      <td>254404</td>\n",
       "      <td>63484</td>\n",
       "      <td>55171</td>\n",
       "      <td>40406</td>\n",
       "      <td>38226</td>\n",
       "      <td>26713</td>\n",
       "      <td>30404</td>\n",
       "      <td>0.249540</td>\n",
       "      <td>0.150257</td>\n",
       "      <td>0.399117</td>\n",
       "      <td>0.400931</td>\n",
       "    </tr>\n",
       "    <tr>\n",
       "      <th>1</th>\n",
       "      <td>New Jersey</td>\n",
       "      <td>162481</td>\n",
       "      <td>40968</td>\n",
       "      <td>35375</td>\n",
       "      <td>25372</td>\n",
       "      <td>24350</td>\n",
       "      <td>17160</td>\n",
       "      <td>19256</td>\n",
       "      <td>0.252140</td>\n",
       "      <td>0.149864</td>\n",
       "      <td>0.402772</td>\n",
       "      <td>0.400718</td>\n",
       "    </tr>\n",
       "    <tr>\n",
       "      <th>2</th>\n",
       "      <td>Colorado</td>\n",
       "      <td>143612</td>\n",
       "      <td>35116</td>\n",
       "      <td>33106</td>\n",
       "      <td>22356</td>\n",
       "      <td>21400</td>\n",
       "      <td>14664</td>\n",
       "      <td>16970</td>\n",
       "      <td>0.244520</td>\n",
       "      <td>0.149013</td>\n",
       "      <td>0.387688</td>\n",
       "      <td>0.403515</td>\n",
       "    </tr>\n",
       "    <tr>\n",
       "      <th>3</th>\n",
       "      <td>Massachusetts</td>\n",
       "      <td>153022</td>\n",
       "      <td>36289</td>\n",
       "      <td>35300</td>\n",
       "      <td>23833</td>\n",
       "      <td>23821</td>\n",
       "      <td>15550</td>\n",
       "      <td>18229</td>\n",
       "      <td>0.237149</td>\n",
       "      <td>0.155670</td>\n",
       "      <td>0.380300</td>\n",
       "      <td>0.413559</td>\n",
       "    </tr>\n",
       "    <tr>\n",
       "      <th>4</th>\n",
       "      <td>Florida</td>\n",
       "      <td>679529</td>\n",
       "      <td>182091</td>\n",
       "      <td>140167</td>\n",
       "      <td>108537</td>\n",
       "      <td>93633</td>\n",
       "      <td>74465</td>\n",
       "      <td>80636</td>\n",
       "      <td>0.267966</td>\n",
       "      <td>0.137791</td>\n",
       "      <td>0.422686</td>\n",
       "      <td>0.376438</td>\n",
       "    </tr>\n",
       "    <tr>\n",
       "      <th>5</th>\n",
       "      <td>Minnesota</td>\n",
       "      <td>106348</td>\n",
       "      <td>25830</td>\n",
       "      <td>24066</td>\n",
       "      <td>16846</td>\n",
       "      <td>16114</td>\n",
       "      <td>10804</td>\n",
       "      <td>12688</td>\n",
       "      <td>0.242882</td>\n",
       "      <td>0.151521</td>\n",
       "      <td>0.387013</td>\n",
       "      <td>0.406858</td>\n",
       "    </tr>\n",
       "    <tr>\n",
       "      <th>6</th>\n",
       "      <td>California</td>\n",
       "      <td>973653</td>\n",
       "      <td>237889</td>\n",
       "      <td>219873</td>\n",
       "      <td>152896</td>\n",
       "      <td>148577</td>\n",
       "      <td>97989</td>\n",
       "      <td>116429</td>\n",
       "      <td>0.244326</td>\n",
       "      <td>0.152597</td>\n",
       "      <td>0.389562</td>\n",
       "      <td>0.409309</td>\n",
       "    </tr>\n",
       "    <tr>\n",
       "      <th>7</th>\n",
       "      <td>Washington</td>\n",
       "      <td>305040</td>\n",
       "      <td>72305</td>\n",
       "      <td>68692</td>\n",
       "      <td>49123</td>\n",
       "      <td>47588</td>\n",
       "      <td>30219</td>\n",
       "      <td>37113</td>\n",
       "      <td>0.237034</td>\n",
       "      <td>0.156006</td>\n",
       "      <td>0.380312</td>\n",
       "      <td>0.414097</td>\n",
       "    </tr>\n",
       "    <tr>\n",
       "      <th>8</th>\n",
       "      <td>South Carolina</td>\n",
       "      <td>91249</td>\n",
       "      <td>24328</td>\n",
       "      <td>18559</td>\n",
       "      <td>14370</td>\n",
       "      <td>12768</td>\n",
       "      <td>10083</td>\n",
       "      <td>11141</td>\n",
       "      <td>0.266611</td>\n",
       "      <td>0.139925</td>\n",
       "      <td>0.424891</td>\n",
       "      <td>0.375618</td>\n",
       "    </tr>\n",
       "    <tr>\n",
       "      <th>9</th>\n",
       "      <td>Nevada</td>\n",
       "      <td>87471</td>\n",
       "      <td>22671</td>\n",
       "      <td>18780</td>\n",
       "      <td>13695</td>\n",
       "      <td>12656</td>\n",
       "      <td>9310</td>\n",
       "      <td>10359</td>\n",
       "      <td>0.259183</td>\n",
       "      <td>0.144688</td>\n",
       "      <td>0.411109</td>\n",
       "      <td>0.391524</td>\n",
       "    </tr>\n",
       "    <tr>\n",
       "      <th>10</th>\n",
       "      <td>Texas</td>\n",
       "      <td>728105</td>\n",
       "      <td>190647</td>\n",
       "      <td>146858</td>\n",
       "      <td>112016</td>\n",
       "      <td>106222</td>\n",
       "      <td>81251</td>\n",
       "      <td>91111</td>\n",
       "      <td>0.261840</td>\n",
       "      <td>0.145888</td>\n",
       "      <td>0.424111</td>\n",
       "      <td>0.381293</td>\n",
       "    </tr>\n",
       "    <tr>\n",
       "      <th>11</th>\n",
       "      <td>Illinois</td>\n",
       "      <td>209126</td>\n",
       "      <td>49807</td>\n",
       "      <td>47207</td>\n",
       "      <td>33109</td>\n",
       "      <td>32027</td>\n",
       "      <td>21512</td>\n",
       "      <td>25464</td>\n",
       "      <td>0.238167</td>\n",
       "      <td>0.153147</td>\n",
       "      <td>0.382769</td>\n",
       "      <td>0.405390</td>\n",
       "    </tr>\n",
       "    <tr>\n",
       "      <th>12</th>\n",
       "      <td>Oregon</td>\n",
       "      <td>132304</td>\n",
       "      <td>32483</td>\n",
       "      <td>31454</td>\n",
       "      <td>21149</td>\n",
       "      <td>19268</td>\n",
       "      <td>13075</td>\n",
       "      <td>14875</td>\n",
       "      <td>0.245518</td>\n",
       "      <td>0.145634</td>\n",
       "      <td>0.381767</td>\n",
       "      <td>0.408065</td>\n",
       "    </tr>\n",
       "    <tr>\n",
       "      <th>13</th>\n",
       "      <td>Louisiana</td>\n",
       "      <td>73033</td>\n",
       "      <td>19448</td>\n",
       "      <td>14311</td>\n",
       "      <td>11350</td>\n",
       "      <td>10307</td>\n",
       "      <td>8396</td>\n",
       "      <td>9221</td>\n",
       "      <td>0.266291</td>\n",
       "      <td>0.141128</td>\n",
       "      <td>0.431133</td>\n",
       "      <td>0.369109</td>\n",
       "    </tr>\n",
       "    <tr>\n",
       "      <th>14</th>\n",
       "      <td>Wisconsin</td>\n",
       "      <td>92774</td>\n",
       "      <td>22632</td>\n",
       "      <td>20476</td>\n",
       "      <td>14854</td>\n",
       "      <td>14057</td>\n",
       "      <td>9463</td>\n",
       "      <td>11292</td>\n",
       "      <td>0.243948</td>\n",
       "      <td>0.151519</td>\n",
       "      <td>0.390463</td>\n",
       "      <td>0.403798</td>\n",
       "    </tr>\n",
       "    <tr>\n",
       "      <th>15</th>\n",
       "      <td>Hawaii</td>\n",
       "      <td>39411</td>\n",
       "      <td>10327</td>\n",
       "      <td>8781</td>\n",
       "      <td>5915</td>\n",
       "      <td>5533</td>\n",
       "      <td>4489</td>\n",
       "      <td>4366</td>\n",
       "      <td>0.262033</td>\n",
       "      <td>0.140392</td>\n",
       "      <td>0.412700</td>\n",
       "      <td>0.384557</td>\n",
       "    </tr>\n",
       "    <tr>\n",
       "      <th>16</th>\n",
       "      <td>Indiana</td>\n",
       "      <td>104144</td>\n",
       "      <td>27066</td>\n",
       "      <td>22132</td>\n",
       "      <td>16214</td>\n",
       "      <td>15091</td>\n",
       "      <td>11083</td>\n",
       "      <td>12558</td>\n",
       "      <td>0.259890</td>\n",
       "      <td>0.144905</td>\n",
       "      <td>0.413777</td>\n",
       "      <td>0.389626</td>\n",
       "    </tr>\n",
       "    <tr>\n",
       "      <th>17</th>\n",
       "      <td>Maryland</td>\n",
       "      <td>111763</td>\n",
       "      <td>26730</td>\n",
       "      <td>25276</td>\n",
       "      <td>17455</td>\n",
       "      <td>17062</td>\n",
       "      <td>11697</td>\n",
       "      <td>13543</td>\n",
       "      <td>0.239167</td>\n",
       "      <td>0.152662</td>\n",
       "      <td>0.384820</td>\n",
       "      <td>0.403338</td>\n",
       "    </tr>\n",
       "    <tr>\n",
       "      <th>18</th>\n",
       "      <td>Michigan</td>\n",
       "      <td>196196</td>\n",
       "      <td>48578</td>\n",
       "      <td>44276</td>\n",
       "      <td>31201</td>\n",
       "      <td>28792</td>\n",
       "      <td>20238</td>\n",
       "      <td>23111</td>\n",
       "      <td>0.247599</td>\n",
       "      <td>0.146751</td>\n",
       "      <td>0.391584</td>\n",
       "      <td>0.399107</td>\n",
       "    </tr>\n",
       "    <tr>\n",
       "      <th>19</th>\n",
       "      <td>Alaska</td>\n",
       "      <td>21824</td>\n",
       "      <td>5860</td>\n",
       "      <td>4856</td>\n",
       "      <td>3588</td>\n",
       "      <td>2824</td>\n",
       "      <td>2254</td>\n",
       "      <td>2442</td>\n",
       "      <td>0.268512</td>\n",
       "      <td>0.129399</td>\n",
       "      <td>0.409676</td>\n",
       "      <td>0.375532</td>\n",
       "    </tr>\n",
       "    <tr>\n",
       "      <th>20</th>\n",
       "      <td>Utah</td>\n",
       "      <td>44600</td>\n",
       "      <td>10761</td>\n",
       "      <td>10327</td>\n",
       "      <td>6920</td>\n",
       "      <td>6461</td>\n",
       "      <td>4785</td>\n",
       "      <td>5346</td>\n",
       "      <td>0.241278</td>\n",
       "      <td>0.144865</td>\n",
       "      <td>0.384212</td>\n",
       "      <td>0.389405</td>\n",
       "    </tr>\n",
       "    <tr>\n",
       "      <th>21</th>\n",
       "      <td>Iowa</td>\n",
       "      <td>44157</td>\n",
       "      <td>11049</td>\n",
       "      <td>9777</td>\n",
       "      <td>7139</td>\n",
       "      <td>6437</td>\n",
       "      <td>4481</td>\n",
       "      <td>5274</td>\n",
       "      <td>0.250221</td>\n",
       "      <td>0.145775</td>\n",
       "      <td>0.395101</td>\n",
       "      <td>0.397542</td>\n",
       "    </tr>\n",
       "    <tr>\n",
       "      <th>22</th>\n",
       "      <td>Arizona</td>\n",
       "      <td>206162</td>\n",
       "      <td>53138</td>\n",
       "      <td>44431</td>\n",
       "      <td>32842</td>\n",
       "      <td>29253</td>\n",
       "      <td>22203</td>\n",
       "      <td>24295</td>\n",
       "      <td>0.257749</td>\n",
       "      <td>0.141893</td>\n",
       "      <td>0.407466</td>\n",
       "      <td>0.386173</td>\n",
       "    </tr>\n",
       "    <tr>\n",
       "      <th>23</th>\n",
       "      <td>Kentucky</td>\n",
       "      <td>75241</td>\n",
       "      <td>19552</td>\n",
       "      <td>15409</td>\n",
       "      <td>11663</td>\n",
       "      <td>10977</td>\n",
       "      <td>8370</td>\n",
       "      <td>9270</td>\n",
       "      <td>0.259858</td>\n",
       "      <td>0.145891</td>\n",
       "      <td>0.419355</td>\n",
       "      <td>0.383583</td>\n",
       "    </tr>\n",
       "    <tr>\n",
       "      <th>24</th>\n",
       "      <td>Virginia</td>\n",
       "      <td>183936</td>\n",
       "      <td>45655</td>\n",
       "      <td>39872</td>\n",
       "      <td>28759</td>\n",
       "      <td>27973</td>\n",
       "      <td>19395</td>\n",
       "      <td>22282</td>\n",
       "      <td>0.248211</td>\n",
       "      <td>0.152080</td>\n",
       "      <td>0.399480</td>\n",
       "      <td>0.401622</td>\n",
       "    </tr>\n",
       "    <tr>\n",
       "      <th>25</th>\n",
       "      <td>New York</td>\n",
       "      <td>501803</td>\n",
       "      <td>122675</td>\n",
       "      <td>112152</td>\n",
       "      <td>79110</td>\n",
       "      <td>77178</td>\n",
       "      <td>50564</td>\n",
       "      <td>60124</td>\n",
       "      <td>0.244468</td>\n",
       "      <td>0.153801</td>\n",
       "      <td>0.390763</td>\n",
       "      <td>0.410814</td>\n",
       "    </tr>\n",
       "    <tr>\n",
       "      <th>26</th>\n",
       "      <td>Oklahoma</td>\n",
       "      <td>69271</td>\n",
       "      <td>18449</td>\n",
       "      <td>13666</td>\n",
       "      <td>10912</td>\n",
       "      <td>9675</td>\n",
       "      <td>8016</td>\n",
       "      <td>8553</td>\n",
       "      <td>0.266331</td>\n",
       "      <td>0.139669</td>\n",
       "      <td>0.428777</td>\n",
       "      <td>0.368656</td>\n",
       "    </tr>\n",
       "    <tr>\n",
       "      <th>27</th>\n",
       "      <td>Georgia</td>\n",
       "      <td>200948</td>\n",
       "      <td>51347</td>\n",
       "      <td>41152</td>\n",
       "      <td>31013</td>\n",
       "      <td>30043</td>\n",
       "      <td>21786</td>\n",
       "      <td>25607</td>\n",
       "      <td>0.255524</td>\n",
       "      <td>0.149506</td>\n",
       "      <td>0.415725</td>\n",
       "      <td>0.387972</td>\n",
       "    </tr>\n",
       "    <tr>\n",
       "      <th>28</th>\n",
       "      <td>North Dakota</td>\n",
       "      <td>7674</td>\n",
       "      <td>1934</td>\n",
       "      <td>1735</td>\n",
       "      <td>1360</td>\n",
       "      <td>1023</td>\n",
       "      <td>768</td>\n",
       "      <td>854</td>\n",
       "      <td>0.252020</td>\n",
       "      <td>0.133307</td>\n",
       "      <td>0.384569</td>\n",
       "      <td>0.386767</td>\n",
       "    </tr>\n",
       "    <tr>\n",
       "      <th>29</th>\n",
       "      <td>Tennessee</td>\n",
       "      <td>134089</td>\n",
       "      <td>36979</td>\n",
       "      <td>26454</td>\n",
       "      <td>21381</td>\n",
       "      <td>18387</td>\n",
       "      <td>14679</td>\n",
       "      <td>16209</td>\n",
       "      <td>0.275780</td>\n",
       "      <td>0.137125</td>\n",
       "      <td>0.436001</td>\n",
       "      <td>0.373151</td>\n",
       "    </tr>\n",
       "    <tr>\n",
       "      <th>30</th>\n",
       "      <td>Nebraska</td>\n",
       "      <td>32315</td>\n",
       "      <td>8524</td>\n",
       "      <td>6914</td>\n",
       "      <td>5077</td>\n",
       "      <td>4636</td>\n",
       "      <td>3356</td>\n",
       "      <td>3808</td>\n",
       "      <td>0.263778</td>\n",
       "      <td>0.143463</td>\n",
       "      <td>0.415501</td>\n",
       "      <td>0.392881</td>\n",
       "    </tr>\n",
       "    <tr>\n",
       "      <th>31</th>\n",
       "      <td>Kansas</td>\n",
       "      <td>62921</td>\n",
       "      <td>15325</td>\n",
       "      <td>13591</td>\n",
       "      <td>9835</td>\n",
       "      <td>9521</td>\n",
       "      <td>6825</td>\n",
       "      <td>7824</td>\n",
       "      <td>0.243559</td>\n",
       "      <td>0.151317</td>\n",
       "      <td>0.395474</td>\n",
       "      <td>0.393918</td>\n",
       "    </tr>\n",
       "    <tr>\n",
       "      <th>32</th>\n",
       "      <td>Arkansas</td>\n",
       "      <td>48476</td>\n",
       "      <td>12773</td>\n",
       "      <td>9844</td>\n",
       "      <td>7568</td>\n",
       "      <td>6871</td>\n",
       "      <td>5451</td>\n",
       "      <td>5969</td>\n",
       "      <td>0.263491</td>\n",
       "      <td>0.141740</td>\n",
       "      <td>0.423157</td>\n",
       "      <td>0.375649</td>\n",
       "    </tr>\n",
       "    <tr>\n",
       "      <th>33</th>\n",
       "      <td>Idaho</td>\n",
       "      <td>30356</td>\n",
       "      <td>7752</td>\n",
       "      <td>6437</td>\n",
       "      <td>4876</td>\n",
       "      <td>4259</td>\n",
       "      <td>3419</td>\n",
       "      <td>3613</td>\n",
       "      <td>0.255370</td>\n",
       "      <td>0.140302</td>\n",
       "      <td>0.406609</td>\n",
       "      <td>0.377203</td>\n",
       "    </tr>\n",
       "    <tr>\n",
       "      <th>34</th>\n",
       "      <td>Ohio</td>\n",
       "      <td>228451</td>\n",
       "      <td>57491</td>\n",
       "      <td>49288</td>\n",
       "      <td>36438</td>\n",
       "      <td>33538</td>\n",
       "      <td>24236</td>\n",
       "      <td>27460</td>\n",
       "      <td>0.251656</td>\n",
       "      <td>0.146806</td>\n",
       "      <td>0.401426</td>\n",
       "      <td>0.393481</td>\n",
       "    </tr>\n",
       "    <tr>\n",
       "      <th>35</th>\n",
       "      <td>New Mexico</td>\n",
       "      <td>37242</td>\n",
       "      <td>9104</td>\n",
       "      <td>8524</td>\n",
       "      <td>5993</td>\n",
       "      <td>5470</td>\n",
       "      <td>3671</td>\n",
       "      <td>4480</td>\n",
       "      <td>0.244455</td>\n",
       "      <td>0.146877</td>\n",
       "      <td>0.385420</td>\n",
       "      <td>0.401586</td>\n",
       "    </tr>\n",
       "    <tr>\n",
       "      <th>36</th>\n",
       "      <td>North Carolina</td>\n",
       "      <td>186695</td>\n",
       "      <td>47480</td>\n",
       "      <td>40292</td>\n",
       "      <td>29442</td>\n",
       "      <td>27248</td>\n",
       "      <td>19506</td>\n",
       "      <td>22727</td>\n",
       "      <td>0.254319</td>\n",
       "      <td>0.145949</td>\n",
       "      <td>0.405071</td>\n",
       "      <td>0.392165</td>\n",
       "    </tr>\n",
       "    <tr>\n",
       "      <th>37</th>\n",
       "      <td>Alabama</td>\n",
       "      <td>83309</td>\n",
       "      <td>22773</td>\n",
       "      <td>15982</td>\n",
       "      <td>13003</td>\n",
       "      <td>11460</td>\n",
       "      <td>9794</td>\n",
       "      <td>10297</td>\n",
       "      <td>0.273356</td>\n",
       "      <td>0.137560</td>\n",
       "      <td>0.439990</td>\n",
       "      <td>0.363221</td>\n",
       "    </tr>\n",
       "    <tr>\n",
       "      <th>38</th>\n",
       "      <td>Wyoming</td>\n",
       "      <td>9604</td>\n",
       "      <td>2635</td>\n",
       "      <td>1982</td>\n",
       "      <td>1595</td>\n",
       "      <td>1319</td>\n",
       "      <td>988</td>\n",
       "      <td>1085</td>\n",
       "      <td>0.274365</td>\n",
       "      <td>0.137339</td>\n",
       "      <td>0.424179</td>\n",
       "      <td>0.388856</td>\n",
       "    </tr>\n",
       "    <tr>\n",
       "      <th>39</th>\n",
       "      <td>South Dakota</td>\n",
       "      <td>12595</td>\n",
       "      <td>3243</td>\n",
       "      <td>2575</td>\n",
       "      <td>1958</td>\n",
       "      <td>2013</td>\n",
       "      <td>1318</td>\n",
       "      <td>1488</td>\n",
       "      <td>0.257483</td>\n",
       "      <td>0.159825</td>\n",
       "      <td>0.417052</td>\n",
       "      <td>0.417722</td>\n",
       "    </tr>\n",
       "    <tr>\n",
       "      <th>40</th>\n",
       "      <td>Delaware</td>\n",
       "      <td>23906</td>\n",
       "      <td>5457</td>\n",
       "      <td>5320</td>\n",
       "      <td>3726</td>\n",
       "      <td>3778</td>\n",
       "      <td>2501</td>\n",
       "      <td>3124</td>\n",
       "      <td>0.228269</td>\n",
       "      <td>0.158036</td>\n",
       "      <td>0.376267</td>\n",
       "      <td>0.401787</td>\n",
       "    </tr>\n",
       "    <tr>\n",
       "      <th>41</th>\n",
       "      <td>Connecticut</td>\n",
       "      <td>63522</td>\n",
       "      <td>14888</td>\n",
       "      <td>14285</td>\n",
       "      <td>9888</td>\n",
       "      <td>9995</td>\n",
       "      <td>6429</td>\n",
       "      <td>8037</td>\n",
       "      <td>0.234375</td>\n",
       "      <td>0.157347</td>\n",
       "      <td>0.381147</td>\n",
       "      <td>0.408610</td>\n",
       "    </tr>\n",
       "    <tr>\n",
       "      <th>42</th>\n",
       "      <td>Missouri</td>\n",
       "      <td>83161</td>\n",
       "      <td>21626</td>\n",
       "      <td>17441</td>\n",
       "      <td>13203</td>\n",
       "      <td>11728</td>\n",
       "      <td>9106</td>\n",
       "      <td>10057</td>\n",
       "      <td>0.260050</td>\n",
       "      <td>0.141028</td>\n",
       "      <td>0.413736</td>\n",
       "      <td>0.379658</td>\n",
       "    </tr>\n",
       "    <tr>\n",
       "      <th>43</th>\n",
       "      <td>Maine</td>\n",
       "      <td>34085</td>\n",
       "      <td>8369</td>\n",
       "      <td>8118</td>\n",
       "      <td>5774</td>\n",
       "      <td>4753</td>\n",
       "      <td>3313</td>\n",
       "      <td>3758</td>\n",
       "      <td>0.245533</td>\n",
       "      <td>0.139446</td>\n",
       "      <td>0.375949</td>\n",
       "      <td>0.401979</td>\n",
       "    </tr>\n",
       "    <tr>\n",
       "      <th>44</th>\n",
       "      <td>Mississippi</td>\n",
       "      <td>31535</td>\n",
       "      <td>9064</td>\n",
       "      <td>6253</td>\n",
       "      <td>4993</td>\n",
       "      <td>4133</td>\n",
       "      <td>3431</td>\n",
       "      <td>3661</td>\n",
       "      <td>0.287427</td>\n",
       "      <td>0.131061</td>\n",
       "      <td>0.446283</td>\n",
       "      <td>0.368196</td>\n",
       "    </tr>\n",
       "    <tr>\n",
       "      <th>45</th>\n",
       "      <td>Montana</td>\n",
       "      <td>23404</td>\n",
       "      <td>6045</td>\n",
       "      <td>4990</td>\n",
       "      <td>3795</td>\n",
       "      <td>3289</td>\n",
       "      <td>2419</td>\n",
       "      <td>2866</td>\n",
       "      <td>0.258289</td>\n",
       "      <td>0.140532</td>\n",
       "      <td>0.407620</td>\n",
       "      <td>0.383602</td>\n",
       "    </tr>\n",
       "    <tr>\n",
       "      <th>46</th>\n",
       "      <td>Rhode Island</td>\n",
       "      <td>19392</td>\n",
       "      <td>4776</td>\n",
       "      <td>4412</td>\n",
       "      <td>2997</td>\n",
       "      <td>2864</td>\n",
       "      <td>1990</td>\n",
       "      <td>2353</td>\n",
       "      <td>0.246287</td>\n",
       "      <td>0.147690</td>\n",
       "      <td>0.391957</td>\n",
       "      <td>0.397391</td>\n",
       "    </tr>\n",
       "    <tr>\n",
       "      <th>47</th>\n",
       "      <td>West Virginia</td>\n",
       "      <td>9893</td>\n",
       "      <td>2628</td>\n",
       "      <td>2002</td>\n",
       "      <td>1462</td>\n",
       "      <td>1439</td>\n",
       "      <td>1082</td>\n",
       "      <td>1280</td>\n",
       "      <td>0.265642</td>\n",
       "      <td>0.145456</td>\n",
       "      <td>0.431385</td>\n",
       "      <td>0.378585</td>\n",
       "    </tr>\n",
       "    <tr>\n",
       "      <th>48</th>\n",
       "      <td>New Hampshire</td>\n",
       "      <td>29655</td>\n",
       "      <td>7312</td>\n",
       "      <td>6532</td>\n",
       "      <td>4512</td>\n",
       "      <td>4579</td>\n",
       "      <td>3143</td>\n",
       "      <td>3577</td>\n",
       "      <td>0.246569</td>\n",
       "      <td>0.154409</td>\n",
       "      <td>0.398344</td>\n",
       "      <td>0.405257</td>\n",
       "    </tr>\n",
       "    <tr>\n",
       "      <th>49</th>\n",
       "      <td>Vermont</td>\n",
       "      <td>15536</td>\n",
       "      <td>3657</td>\n",
       "      <td>3888</td>\n",
       "      <td>2529</td>\n",
       "      <td>2262</td>\n",
       "      <td>1460</td>\n",
       "      <td>1740</td>\n",
       "      <td>0.235389</td>\n",
       "      <td>0.145597</td>\n",
       "      <td>0.363014</td>\n",
       "      <td>0.414134</td>\n",
       "    </tr>\n",
       "  </tbody>\n",
       "</table>\n",
       "</div>"
      ],
      "text/plain": [
       "             state  total_tweets  Trump_P  Trump_N  Trump_Na  Biden_P  \\\n",
       "0     Pennsylvania        254404    63484    55171     40406    38226   \n",
       "1       New Jersey        162481    40968    35375     25372    24350   \n",
       "2         Colorado        143612    35116    33106     22356    21400   \n",
       "3    Massachusetts        153022    36289    35300     23833    23821   \n",
       "4          Florida        679529   182091   140167    108537    93633   \n",
       "5        Minnesota        106348    25830    24066     16846    16114   \n",
       "6       California        973653   237889   219873    152896   148577   \n",
       "7       Washington        305040    72305    68692     49123    47588   \n",
       "8   South Carolina         91249    24328    18559     14370    12768   \n",
       "9           Nevada         87471    22671    18780     13695    12656   \n",
       "10           Texas        728105   190647   146858    112016   106222   \n",
       "11        Illinois        209126    49807    47207     33109    32027   \n",
       "12          Oregon        132304    32483    31454     21149    19268   \n",
       "13       Louisiana         73033    19448    14311     11350    10307   \n",
       "14       Wisconsin         92774    22632    20476     14854    14057   \n",
       "15          Hawaii         39411    10327     8781      5915     5533   \n",
       "16         Indiana        104144    27066    22132     16214    15091   \n",
       "17        Maryland        111763    26730    25276     17455    17062   \n",
       "18        Michigan        196196    48578    44276     31201    28792   \n",
       "19          Alaska         21824     5860     4856      3588     2824   \n",
       "20            Utah         44600    10761    10327      6920     6461   \n",
       "21            Iowa         44157    11049     9777      7139     6437   \n",
       "22         Arizona        206162    53138    44431     32842    29253   \n",
       "23        Kentucky         75241    19552    15409     11663    10977   \n",
       "24        Virginia        183936    45655    39872     28759    27973   \n",
       "25        New York        501803   122675   112152     79110    77178   \n",
       "26        Oklahoma         69271    18449    13666     10912     9675   \n",
       "27         Georgia        200948    51347    41152     31013    30043   \n",
       "28    North Dakota          7674     1934     1735      1360     1023   \n",
       "29       Tennessee        134089    36979    26454     21381    18387   \n",
       "30        Nebraska         32315     8524     6914      5077     4636   \n",
       "31          Kansas         62921    15325    13591      9835     9521   \n",
       "32        Arkansas         48476    12773     9844      7568     6871   \n",
       "33           Idaho         30356     7752     6437      4876     4259   \n",
       "34            Ohio        228451    57491    49288     36438    33538   \n",
       "35      New Mexico         37242     9104     8524      5993     5470   \n",
       "36  North Carolina        186695    47480    40292     29442    27248   \n",
       "37         Alabama         83309    22773    15982     13003    11460   \n",
       "38         Wyoming          9604     2635     1982      1595     1319   \n",
       "39    South Dakota         12595     3243     2575      1958     2013   \n",
       "40        Delaware         23906     5457     5320      3726     3778   \n",
       "41     Connecticut         63522    14888    14285      9888     9995   \n",
       "42        Missouri         83161    21626    17441     13203    11728   \n",
       "43           Maine         34085     8369     8118      5774     4753   \n",
       "44     Mississippi         31535     9064     6253      4993     4133   \n",
       "45         Montana         23404     6045     4990      3795     3289   \n",
       "46    Rhode Island         19392     4776     4412      2997     2864   \n",
       "47   West Virginia          9893     2628     2002      1462     1439   \n",
       "48   New Hampshire         29655     7312     6532      4512     4579   \n",
       "49         Vermont         15536     3657     3888      2529     2262   \n",
       "\n",
       "    Biden_N  Biden_Na  Trump_P_perc_total  Biden_P_perc_total  \\\n",
       "0     26713     30404            0.249540            0.150257   \n",
       "1     17160     19256            0.252140            0.149864   \n",
       "2     14664     16970            0.244520            0.149013   \n",
       "3     15550     18229            0.237149            0.155670   \n",
       "4     74465     80636            0.267966            0.137791   \n",
       "5     10804     12688            0.242882            0.151521   \n",
       "6     97989    116429            0.244326            0.152597   \n",
       "7     30219     37113            0.237034            0.156006   \n",
       "8     10083     11141            0.266611            0.139925   \n",
       "9      9310     10359            0.259183            0.144688   \n",
       "10    81251     91111            0.261840            0.145888   \n",
       "11    21512     25464            0.238167            0.153147   \n",
       "12    13075     14875            0.245518            0.145634   \n",
       "13     8396      9221            0.266291            0.141128   \n",
       "14     9463     11292            0.243948            0.151519   \n",
       "15     4489      4366            0.262033            0.140392   \n",
       "16    11083     12558            0.259890            0.144905   \n",
       "17    11697     13543            0.239167            0.152662   \n",
       "18    20238     23111            0.247599            0.146751   \n",
       "19     2254      2442            0.268512            0.129399   \n",
       "20     4785      5346            0.241278            0.144865   \n",
       "21     4481      5274            0.250221            0.145775   \n",
       "22    22203     24295            0.257749            0.141893   \n",
       "23     8370      9270            0.259858            0.145891   \n",
       "24    19395     22282            0.248211            0.152080   \n",
       "25    50564     60124            0.244468            0.153801   \n",
       "26     8016      8553            0.266331            0.139669   \n",
       "27    21786     25607            0.255524            0.149506   \n",
       "28      768       854            0.252020            0.133307   \n",
       "29    14679     16209            0.275780            0.137125   \n",
       "30     3356      3808            0.263778            0.143463   \n",
       "31     6825      7824            0.243559            0.151317   \n",
       "32     5451      5969            0.263491            0.141740   \n",
       "33     3419      3613            0.255370            0.140302   \n",
       "34    24236     27460            0.251656            0.146806   \n",
       "35     3671      4480            0.244455            0.146877   \n",
       "36    19506     22727            0.254319            0.145949   \n",
       "37     9794     10297            0.273356            0.137560   \n",
       "38      988      1085            0.274365            0.137339   \n",
       "39     1318      1488            0.257483            0.159825   \n",
       "40     2501      3124            0.228269            0.158036   \n",
       "41     6429      8037            0.234375            0.157347   \n",
       "42     9106     10057            0.260050            0.141028   \n",
       "43     3313      3758            0.245533            0.139446   \n",
       "44     3431      3661            0.287427            0.131061   \n",
       "45     2419      2866            0.258289            0.140532   \n",
       "46     1990      2353            0.246287            0.147690   \n",
       "47     1082      1280            0.265642            0.145456   \n",
       "48     3143      3577            0.246569            0.154409   \n",
       "49     1460      1740            0.235389            0.145597   \n",
       "\n",
       "    Trump_P_perc_only  Biden_P_perc_only  \n",
       "0            0.399117           0.400931  \n",
       "1            0.402772           0.400718  \n",
       "2            0.387688           0.403515  \n",
       "3            0.380300           0.413559  \n",
       "4            0.422686           0.376438  \n",
       "5            0.387013           0.406858  \n",
       "6            0.389562           0.409309  \n",
       "7            0.380312           0.414097  \n",
       "8            0.424891           0.375618  \n",
       "9            0.411109           0.391524  \n",
       "10           0.424111           0.381293  \n",
       "11           0.382769           0.405390  \n",
       "12           0.381767           0.408065  \n",
       "13           0.431133           0.369109  \n",
       "14           0.390463           0.403798  \n",
       "15           0.412700           0.384557  \n",
       "16           0.413777           0.389626  \n",
       "17           0.384820           0.403338  \n",
       "18           0.391584           0.399107  \n",
       "19           0.409676           0.375532  \n",
       "20           0.384212           0.389405  \n",
       "21           0.395101           0.397542  \n",
       "22           0.407466           0.386173  \n",
       "23           0.419355           0.383583  \n",
       "24           0.399480           0.401622  \n",
       "25           0.390763           0.410814  \n",
       "26           0.428777           0.368656  \n",
       "27           0.415725           0.387972  \n",
       "28           0.384569           0.386767  \n",
       "29           0.436001           0.373151  \n",
       "30           0.415501           0.392881  \n",
       "31           0.395474           0.393918  \n",
       "32           0.423157           0.375649  \n",
       "33           0.406609           0.377203  \n",
       "34           0.401426           0.393481  \n",
       "35           0.385420           0.401586  \n",
       "36           0.405071           0.392165  \n",
       "37           0.439990           0.363221  \n",
       "38           0.424179           0.388856  \n",
       "39           0.417052           0.417722  \n",
       "40           0.376267           0.401787  \n",
       "41           0.381147           0.408610  \n",
       "42           0.413736           0.379658  \n",
       "43           0.375949           0.401979  \n",
       "44           0.446283           0.368196  \n",
       "45           0.407620           0.383602  \n",
       "46           0.391957           0.397391  \n",
       "47           0.431385           0.378585  \n",
       "48           0.398344           0.405257  \n",
       "49           0.363014           0.414134  "
      ]
     },
     "execution_count": 69,
     "metadata": {},
     "output_type": "execute_result"
    }
   ],
   "source": [
    "# Positive tweets perc of total number of tweets\n",
    "overview_df['Trump_P_perc_total'] = overview_df['Trump_P'] / overview_df['total_tweets']\n",
    "overview_df['Biden_P_perc_total'] = overview_df['Biden_P'] / overview_df['total_tweets']\n",
    "\n",
    "# Positive tweets perc of numver of tweets of each candidate\n",
    "overview_df['Trump_P_perc_only'] = overview_df['Trump_P'] / (overview_df['Trump_P'] + overview_df['Trump_N'] + overview_df['Trump_Na'])\n",
    "overview_df['Biden_P_perc_only'] = overview_df['Biden_P'] / (overview_df['Biden_P'] + overview_df['Biden_N'] + overview_df['Biden_Na'])\n",
    "\n",
    "overview_df\n"
   ]
  },
  {
   "cell_type": "code",
   "execution_count": 70,
   "metadata": {
    "scrolled": true
   },
   "outputs": [
    {
     "data": {
      "text/html": [
       "<div>\n",
       "<style scoped>\n",
       "    .dataframe tbody tr th:only-of-type {\n",
       "        vertical-align: middle;\n",
       "    }\n",
       "\n",
       "    .dataframe tbody tr th {\n",
       "        vertical-align: top;\n",
       "    }\n",
       "\n",
       "    .dataframe thead th {\n",
       "        text-align: right;\n",
       "    }\n",
       "</style>\n",
       "<table border=\"1\" class=\"dataframe\">\n",
       "  <thead>\n",
       "    <tr style=\"text-align: right;\">\n",
       "      <th></th>\n",
       "      <th>state</th>\n",
       "      <th>total_tweets</th>\n",
       "      <th>Trump_P</th>\n",
       "      <th>Trump_N</th>\n",
       "      <th>Trump_Na</th>\n",
       "      <th>Biden_P</th>\n",
       "      <th>Biden_N</th>\n",
       "      <th>Biden_Na</th>\n",
       "      <th>Trump_P_perc_total</th>\n",
       "      <th>Biden_P_perc_total</th>\n",
       "      <th>Trump_P_perc_only</th>\n",
       "      <th>Biden_P_perc_only</th>\n",
       "      <th>state_code</th>\n",
       "    </tr>\n",
       "  </thead>\n",
       "  <tbody>\n",
       "    <tr>\n",
       "      <th>0</th>\n",
       "      <td>Pennsylvania</td>\n",
       "      <td>254404</td>\n",
       "      <td>63484</td>\n",
       "      <td>55171</td>\n",
       "      <td>40406</td>\n",
       "      <td>38226</td>\n",
       "      <td>26713</td>\n",
       "      <td>30404</td>\n",
       "      <td>0.249540</td>\n",
       "      <td>0.150257</td>\n",
       "      <td>0.399117</td>\n",
       "      <td>0.400931</td>\n",
       "      <td>PA</td>\n",
       "    </tr>\n",
       "    <tr>\n",
       "      <th>1</th>\n",
       "      <td>New Jersey</td>\n",
       "      <td>162481</td>\n",
       "      <td>40968</td>\n",
       "      <td>35375</td>\n",
       "      <td>25372</td>\n",
       "      <td>24350</td>\n",
       "      <td>17160</td>\n",
       "      <td>19256</td>\n",
       "      <td>0.252140</td>\n",
       "      <td>0.149864</td>\n",
       "      <td>0.402772</td>\n",
       "      <td>0.400718</td>\n",
       "      <td>NJ</td>\n",
       "    </tr>\n",
       "    <tr>\n",
       "      <th>2</th>\n",
       "      <td>Colorado</td>\n",
       "      <td>143612</td>\n",
       "      <td>35116</td>\n",
       "      <td>33106</td>\n",
       "      <td>22356</td>\n",
       "      <td>21400</td>\n",
       "      <td>14664</td>\n",
       "      <td>16970</td>\n",
       "      <td>0.244520</td>\n",
       "      <td>0.149013</td>\n",
       "      <td>0.387688</td>\n",
       "      <td>0.403515</td>\n",
       "      <td>CO</td>\n",
       "    </tr>\n",
       "    <tr>\n",
       "      <th>3</th>\n",
       "      <td>Massachusetts</td>\n",
       "      <td>153022</td>\n",
       "      <td>36289</td>\n",
       "      <td>35300</td>\n",
       "      <td>23833</td>\n",
       "      <td>23821</td>\n",
       "      <td>15550</td>\n",
       "      <td>18229</td>\n",
       "      <td>0.237149</td>\n",
       "      <td>0.155670</td>\n",
       "      <td>0.380300</td>\n",
       "      <td>0.413559</td>\n",
       "      <td>MA</td>\n",
       "    </tr>\n",
       "    <tr>\n",
       "      <th>4</th>\n",
       "      <td>Florida</td>\n",
       "      <td>679529</td>\n",
       "      <td>182091</td>\n",
       "      <td>140167</td>\n",
       "      <td>108537</td>\n",
       "      <td>93633</td>\n",
       "      <td>74465</td>\n",
       "      <td>80636</td>\n",
       "      <td>0.267966</td>\n",
       "      <td>0.137791</td>\n",
       "      <td>0.422686</td>\n",
       "      <td>0.376438</td>\n",
       "      <td>FL</td>\n",
       "    </tr>\n",
       "    <tr>\n",
       "      <th>5</th>\n",
       "      <td>Minnesota</td>\n",
       "      <td>106348</td>\n",
       "      <td>25830</td>\n",
       "      <td>24066</td>\n",
       "      <td>16846</td>\n",
       "      <td>16114</td>\n",
       "      <td>10804</td>\n",
       "      <td>12688</td>\n",
       "      <td>0.242882</td>\n",
       "      <td>0.151521</td>\n",
       "      <td>0.387013</td>\n",
       "      <td>0.406858</td>\n",
       "      <td>MN</td>\n",
       "    </tr>\n",
       "    <tr>\n",
       "      <th>6</th>\n",
       "      <td>California</td>\n",
       "      <td>973653</td>\n",
       "      <td>237889</td>\n",
       "      <td>219873</td>\n",
       "      <td>152896</td>\n",
       "      <td>148577</td>\n",
       "      <td>97989</td>\n",
       "      <td>116429</td>\n",
       "      <td>0.244326</td>\n",
       "      <td>0.152597</td>\n",
       "      <td>0.389562</td>\n",
       "      <td>0.409309</td>\n",
       "      <td>CA</td>\n",
       "    </tr>\n",
       "    <tr>\n",
       "      <th>7</th>\n",
       "      <td>Washington</td>\n",
       "      <td>305040</td>\n",
       "      <td>72305</td>\n",
       "      <td>68692</td>\n",
       "      <td>49123</td>\n",
       "      <td>47588</td>\n",
       "      <td>30219</td>\n",
       "      <td>37113</td>\n",
       "      <td>0.237034</td>\n",
       "      <td>0.156006</td>\n",
       "      <td>0.380312</td>\n",
       "      <td>0.414097</td>\n",
       "      <td>WA</td>\n",
       "    </tr>\n",
       "    <tr>\n",
       "      <th>8</th>\n",
       "      <td>South Carolina</td>\n",
       "      <td>91249</td>\n",
       "      <td>24328</td>\n",
       "      <td>18559</td>\n",
       "      <td>14370</td>\n",
       "      <td>12768</td>\n",
       "      <td>10083</td>\n",
       "      <td>11141</td>\n",
       "      <td>0.266611</td>\n",
       "      <td>0.139925</td>\n",
       "      <td>0.424891</td>\n",
       "      <td>0.375618</td>\n",
       "      <td>SC</td>\n",
       "    </tr>\n",
       "    <tr>\n",
       "      <th>9</th>\n",
       "      <td>Nevada</td>\n",
       "      <td>87471</td>\n",
       "      <td>22671</td>\n",
       "      <td>18780</td>\n",
       "      <td>13695</td>\n",
       "      <td>12656</td>\n",
       "      <td>9310</td>\n",
       "      <td>10359</td>\n",
       "      <td>0.259183</td>\n",
       "      <td>0.144688</td>\n",
       "      <td>0.411109</td>\n",
       "      <td>0.391524</td>\n",
       "      <td>NV</td>\n",
       "    </tr>\n",
       "    <tr>\n",
       "      <th>10</th>\n",
       "      <td>Texas</td>\n",
       "      <td>728105</td>\n",
       "      <td>190647</td>\n",
       "      <td>146858</td>\n",
       "      <td>112016</td>\n",
       "      <td>106222</td>\n",
       "      <td>81251</td>\n",
       "      <td>91111</td>\n",
       "      <td>0.261840</td>\n",
       "      <td>0.145888</td>\n",
       "      <td>0.424111</td>\n",
       "      <td>0.381293</td>\n",
       "      <td>TX</td>\n",
       "    </tr>\n",
       "    <tr>\n",
       "      <th>11</th>\n",
       "      <td>Illinois</td>\n",
       "      <td>209126</td>\n",
       "      <td>49807</td>\n",
       "      <td>47207</td>\n",
       "      <td>33109</td>\n",
       "      <td>32027</td>\n",
       "      <td>21512</td>\n",
       "      <td>25464</td>\n",
       "      <td>0.238167</td>\n",
       "      <td>0.153147</td>\n",
       "      <td>0.382769</td>\n",
       "      <td>0.405390</td>\n",
       "      <td>IL</td>\n",
       "    </tr>\n",
       "    <tr>\n",
       "      <th>12</th>\n",
       "      <td>Oregon</td>\n",
       "      <td>132304</td>\n",
       "      <td>32483</td>\n",
       "      <td>31454</td>\n",
       "      <td>21149</td>\n",
       "      <td>19268</td>\n",
       "      <td>13075</td>\n",
       "      <td>14875</td>\n",
       "      <td>0.245518</td>\n",
       "      <td>0.145634</td>\n",
       "      <td>0.381767</td>\n",
       "      <td>0.408065</td>\n",
       "      <td>OR</td>\n",
       "    </tr>\n",
       "    <tr>\n",
       "      <th>13</th>\n",
       "      <td>Louisiana</td>\n",
       "      <td>73033</td>\n",
       "      <td>19448</td>\n",
       "      <td>14311</td>\n",
       "      <td>11350</td>\n",
       "      <td>10307</td>\n",
       "      <td>8396</td>\n",
       "      <td>9221</td>\n",
       "      <td>0.266291</td>\n",
       "      <td>0.141128</td>\n",
       "      <td>0.431133</td>\n",
       "      <td>0.369109</td>\n",
       "      <td>LA</td>\n",
       "    </tr>\n",
       "    <tr>\n",
       "      <th>14</th>\n",
       "      <td>Wisconsin</td>\n",
       "      <td>92774</td>\n",
       "      <td>22632</td>\n",
       "      <td>20476</td>\n",
       "      <td>14854</td>\n",
       "      <td>14057</td>\n",
       "      <td>9463</td>\n",
       "      <td>11292</td>\n",
       "      <td>0.243948</td>\n",
       "      <td>0.151519</td>\n",
       "      <td>0.390463</td>\n",
       "      <td>0.403798</td>\n",
       "      <td>WI</td>\n",
       "    </tr>\n",
       "    <tr>\n",
       "      <th>15</th>\n",
       "      <td>Hawaii</td>\n",
       "      <td>39411</td>\n",
       "      <td>10327</td>\n",
       "      <td>8781</td>\n",
       "      <td>5915</td>\n",
       "      <td>5533</td>\n",
       "      <td>4489</td>\n",
       "      <td>4366</td>\n",
       "      <td>0.262033</td>\n",
       "      <td>0.140392</td>\n",
       "      <td>0.412700</td>\n",
       "      <td>0.384557</td>\n",
       "      <td>HI</td>\n",
       "    </tr>\n",
       "    <tr>\n",
       "      <th>16</th>\n",
       "      <td>Indiana</td>\n",
       "      <td>104144</td>\n",
       "      <td>27066</td>\n",
       "      <td>22132</td>\n",
       "      <td>16214</td>\n",
       "      <td>15091</td>\n",
       "      <td>11083</td>\n",
       "      <td>12558</td>\n",
       "      <td>0.259890</td>\n",
       "      <td>0.144905</td>\n",
       "      <td>0.413777</td>\n",
       "      <td>0.389626</td>\n",
       "      <td>IN</td>\n",
       "    </tr>\n",
       "    <tr>\n",
       "      <th>17</th>\n",
       "      <td>Maryland</td>\n",
       "      <td>111763</td>\n",
       "      <td>26730</td>\n",
       "      <td>25276</td>\n",
       "      <td>17455</td>\n",
       "      <td>17062</td>\n",
       "      <td>11697</td>\n",
       "      <td>13543</td>\n",
       "      <td>0.239167</td>\n",
       "      <td>0.152662</td>\n",
       "      <td>0.384820</td>\n",
       "      <td>0.403338</td>\n",
       "      <td>MD</td>\n",
       "    </tr>\n",
       "    <tr>\n",
       "      <th>18</th>\n",
       "      <td>Michigan</td>\n",
       "      <td>196196</td>\n",
       "      <td>48578</td>\n",
       "      <td>44276</td>\n",
       "      <td>31201</td>\n",
       "      <td>28792</td>\n",
       "      <td>20238</td>\n",
       "      <td>23111</td>\n",
       "      <td>0.247599</td>\n",
       "      <td>0.146751</td>\n",
       "      <td>0.391584</td>\n",
       "      <td>0.399107</td>\n",
       "      <td>MI</td>\n",
       "    </tr>\n",
       "    <tr>\n",
       "      <th>19</th>\n",
       "      <td>Alaska</td>\n",
       "      <td>21824</td>\n",
       "      <td>5860</td>\n",
       "      <td>4856</td>\n",
       "      <td>3588</td>\n",
       "      <td>2824</td>\n",
       "      <td>2254</td>\n",
       "      <td>2442</td>\n",
       "      <td>0.268512</td>\n",
       "      <td>0.129399</td>\n",
       "      <td>0.409676</td>\n",
       "      <td>0.375532</td>\n",
       "      <td>AK</td>\n",
       "    </tr>\n",
       "    <tr>\n",
       "      <th>20</th>\n",
       "      <td>Utah</td>\n",
       "      <td>44600</td>\n",
       "      <td>10761</td>\n",
       "      <td>10327</td>\n",
       "      <td>6920</td>\n",
       "      <td>6461</td>\n",
       "      <td>4785</td>\n",
       "      <td>5346</td>\n",
       "      <td>0.241278</td>\n",
       "      <td>0.144865</td>\n",
       "      <td>0.384212</td>\n",
       "      <td>0.389405</td>\n",
       "      <td>UT</td>\n",
       "    </tr>\n",
       "    <tr>\n",
       "      <th>21</th>\n",
       "      <td>Iowa</td>\n",
       "      <td>44157</td>\n",
       "      <td>11049</td>\n",
       "      <td>9777</td>\n",
       "      <td>7139</td>\n",
       "      <td>6437</td>\n",
       "      <td>4481</td>\n",
       "      <td>5274</td>\n",
       "      <td>0.250221</td>\n",
       "      <td>0.145775</td>\n",
       "      <td>0.395101</td>\n",
       "      <td>0.397542</td>\n",
       "      <td>IA</td>\n",
       "    </tr>\n",
       "    <tr>\n",
       "      <th>22</th>\n",
       "      <td>Arizona</td>\n",
       "      <td>206162</td>\n",
       "      <td>53138</td>\n",
       "      <td>44431</td>\n",
       "      <td>32842</td>\n",
       "      <td>29253</td>\n",
       "      <td>22203</td>\n",
       "      <td>24295</td>\n",
       "      <td>0.257749</td>\n",
       "      <td>0.141893</td>\n",
       "      <td>0.407466</td>\n",
       "      <td>0.386173</td>\n",
       "      <td>AZ</td>\n",
       "    </tr>\n",
       "    <tr>\n",
       "      <th>23</th>\n",
       "      <td>Kentucky</td>\n",
       "      <td>75241</td>\n",
       "      <td>19552</td>\n",
       "      <td>15409</td>\n",
       "      <td>11663</td>\n",
       "      <td>10977</td>\n",
       "      <td>8370</td>\n",
       "      <td>9270</td>\n",
       "      <td>0.259858</td>\n",
       "      <td>0.145891</td>\n",
       "      <td>0.419355</td>\n",
       "      <td>0.383583</td>\n",
       "      <td>KY</td>\n",
       "    </tr>\n",
       "    <tr>\n",
       "      <th>24</th>\n",
       "      <td>Virginia</td>\n",
       "      <td>183936</td>\n",
       "      <td>45655</td>\n",
       "      <td>39872</td>\n",
       "      <td>28759</td>\n",
       "      <td>27973</td>\n",
       "      <td>19395</td>\n",
       "      <td>22282</td>\n",
       "      <td>0.248211</td>\n",
       "      <td>0.152080</td>\n",
       "      <td>0.399480</td>\n",
       "      <td>0.401622</td>\n",
       "      <td>VA</td>\n",
       "    </tr>\n",
       "    <tr>\n",
       "      <th>25</th>\n",
       "      <td>New York</td>\n",
       "      <td>501803</td>\n",
       "      <td>122675</td>\n",
       "      <td>112152</td>\n",
       "      <td>79110</td>\n",
       "      <td>77178</td>\n",
       "      <td>50564</td>\n",
       "      <td>60124</td>\n",
       "      <td>0.244468</td>\n",
       "      <td>0.153801</td>\n",
       "      <td>0.390763</td>\n",
       "      <td>0.410814</td>\n",
       "      <td>NM</td>\n",
       "    </tr>\n",
       "    <tr>\n",
       "      <th>26</th>\n",
       "      <td>Oklahoma</td>\n",
       "      <td>69271</td>\n",
       "      <td>18449</td>\n",
       "      <td>13666</td>\n",
       "      <td>10912</td>\n",
       "      <td>9675</td>\n",
       "      <td>8016</td>\n",
       "      <td>8553</td>\n",
       "      <td>0.266331</td>\n",
       "      <td>0.139669</td>\n",
       "      <td>0.428777</td>\n",
       "      <td>0.368656</td>\n",
       "      <td>OK</td>\n",
       "    </tr>\n",
       "    <tr>\n",
       "      <th>27</th>\n",
       "      <td>Georgia</td>\n",
       "      <td>200948</td>\n",
       "      <td>51347</td>\n",
       "      <td>41152</td>\n",
       "      <td>31013</td>\n",
       "      <td>30043</td>\n",
       "      <td>21786</td>\n",
       "      <td>25607</td>\n",
       "      <td>0.255524</td>\n",
       "      <td>0.149506</td>\n",
       "      <td>0.415725</td>\n",
       "      <td>0.387972</td>\n",
       "      <td>GA</td>\n",
       "    </tr>\n",
       "    <tr>\n",
       "      <th>28</th>\n",
       "      <td>North Dakota</td>\n",
       "      <td>7674</td>\n",
       "      <td>1934</td>\n",
       "      <td>1735</td>\n",
       "      <td>1360</td>\n",
       "      <td>1023</td>\n",
       "      <td>768</td>\n",
       "      <td>854</td>\n",
       "      <td>0.252020</td>\n",
       "      <td>0.133307</td>\n",
       "      <td>0.384569</td>\n",
       "      <td>0.386767</td>\n",
       "      <td>ND</td>\n",
       "    </tr>\n",
       "    <tr>\n",
       "      <th>29</th>\n",
       "      <td>Tennessee</td>\n",
       "      <td>134089</td>\n",
       "      <td>36979</td>\n",
       "      <td>26454</td>\n",
       "      <td>21381</td>\n",
       "      <td>18387</td>\n",
       "      <td>14679</td>\n",
       "      <td>16209</td>\n",
       "      <td>0.275780</td>\n",
       "      <td>0.137125</td>\n",
       "      <td>0.436001</td>\n",
       "      <td>0.373151</td>\n",
       "      <td>TN</td>\n",
       "    </tr>\n",
       "    <tr>\n",
       "      <th>30</th>\n",
       "      <td>Nebraska</td>\n",
       "      <td>32315</td>\n",
       "      <td>8524</td>\n",
       "      <td>6914</td>\n",
       "      <td>5077</td>\n",
       "      <td>4636</td>\n",
       "      <td>3356</td>\n",
       "      <td>3808</td>\n",
       "      <td>0.263778</td>\n",
       "      <td>0.143463</td>\n",
       "      <td>0.415501</td>\n",
       "      <td>0.392881</td>\n",
       "      <td>NE</td>\n",
       "    </tr>\n",
       "    <tr>\n",
       "      <th>31</th>\n",
       "      <td>Kansas</td>\n",
       "      <td>62921</td>\n",
       "      <td>15325</td>\n",
       "      <td>13591</td>\n",
       "      <td>9835</td>\n",
       "      <td>9521</td>\n",
       "      <td>6825</td>\n",
       "      <td>7824</td>\n",
       "      <td>0.243559</td>\n",
       "      <td>0.151317</td>\n",
       "      <td>0.395474</td>\n",
       "      <td>0.393918</td>\n",
       "      <td>KS</td>\n",
       "    </tr>\n",
       "    <tr>\n",
       "      <th>32</th>\n",
       "      <td>Arkansas</td>\n",
       "      <td>48476</td>\n",
       "      <td>12773</td>\n",
       "      <td>9844</td>\n",
       "      <td>7568</td>\n",
       "      <td>6871</td>\n",
       "      <td>5451</td>\n",
       "      <td>5969</td>\n",
       "      <td>0.263491</td>\n",
       "      <td>0.141740</td>\n",
       "      <td>0.423157</td>\n",
       "      <td>0.375649</td>\n",
       "      <td>AR</td>\n",
       "    </tr>\n",
       "    <tr>\n",
       "      <th>33</th>\n",
       "      <td>Idaho</td>\n",
       "      <td>30356</td>\n",
       "      <td>7752</td>\n",
       "      <td>6437</td>\n",
       "      <td>4876</td>\n",
       "      <td>4259</td>\n",
       "      <td>3419</td>\n",
       "      <td>3613</td>\n",
       "      <td>0.255370</td>\n",
       "      <td>0.140302</td>\n",
       "      <td>0.406609</td>\n",
       "      <td>0.377203</td>\n",
       "      <td>ID</td>\n",
       "    </tr>\n",
       "    <tr>\n",
       "      <th>34</th>\n",
       "      <td>Ohio</td>\n",
       "      <td>228451</td>\n",
       "      <td>57491</td>\n",
       "      <td>49288</td>\n",
       "      <td>36438</td>\n",
       "      <td>33538</td>\n",
       "      <td>24236</td>\n",
       "      <td>27460</td>\n",
       "      <td>0.251656</td>\n",
       "      <td>0.146806</td>\n",
       "      <td>0.401426</td>\n",
       "      <td>0.393481</td>\n",
       "      <td>OH</td>\n",
       "    </tr>\n",
       "    <tr>\n",
       "      <th>35</th>\n",
       "      <td>New Mexico</td>\n",
       "      <td>37242</td>\n",
       "      <td>9104</td>\n",
       "      <td>8524</td>\n",
       "      <td>5993</td>\n",
       "      <td>5470</td>\n",
       "      <td>3671</td>\n",
       "      <td>4480</td>\n",
       "      <td>0.244455</td>\n",
       "      <td>0.146877</td>\n",
       "      <td>0.385420</td>\n",
       "      <td>0.401586</td>\n",
       "      <td>NY</td>\n",
       "    </tr>\n",
       "    <tr>\n",
       "      <th>36</th>\n",
       "      <td>North Carolina</td>\n",
       "      <td>186695</td>\n",
       "      <td>47480</td>\n",
       "      <td>40292</td>\n",
       "      <td>29442</td>\n",
       "      <td>27248</td>\n",
       "      <td>19506</td>\n",
       "      <td>22727</td>\n",
       "      <td>0.254319</td>\n",
       "      <td>0.145949</td>\n",
       "      <td>0.405071</td>\n",
       "      <td>0.392165</td>\n",
       "      <td>NC</td>\n",
       "    </tr>\n",
       "    <tr>\n",
       "      <th>37</th>\n",
       "      <td>Alabama</td>\n",
       "      <td>83309</td>\n",
       "      <td>22773</td>\n",
       "      <td>15982</td>\n",
       "      <td>13003</td>\n",
       "      <td>11460</td>\n",
       "      <td>9794</td>\n",
       "      <td>10297</td>\n",
       "      <td>0.273356</td>\n",
       "      <td>0.137560</td>\n",
       "      <td>0.439990</td>\n",
       "      <td>0.363221</td>\n",
       "      <td>AL</td>\n",
       "    </tr>\n",
       "    <tr>\n",
       "      <th>38</th>\n",
       "      <td>Wyoming</td>\n",
       "      <td>9604</td>\n",
       "      <td>2635</td>\n",
       "      <td>1982</td>\n",
       "      <td>1595</td>\n",
       "      <td>1319</td>\n",
       "      <td>988</td>\n",
       "      <td>1085</td>\n",
       "      <td>0.274365</td>\n",
       "      <td>0.137339</td>\n",
       "      <td>0.424179</td>\n",
       "      <td>0.388856</td>\n",
       "      <td>WY</td>\n",
       "    </tr>\n",
       "    <tr>\n",
       "      <th>39</th>\n",
       "      <td>South Dakota</td>\n",
       "      <td>12595</td>\n",
       "      <td>3243</td>\n",
       "      <td>2575</td>\n",
       "      <td>1958</td>\n",
       "      <td>2013</td>\n",
       "      <td>1318</td>\n",
       "      <td>1488</td>\n",
       "      <td>0.257483</td>\n",
       "      <td>0.159825</td>\n",
       "      <td>0.417052</td>\n",
       "      <td>0.417722</td>\n",
       "      <td>SD</td>\n",
       "    </tr>\n",
       "    <tr>\n",
       "      <th>40</th>\n",
       "      <td>Delaware</td>\n",
       "      <td>23906</td>\n",
       "      <td>5457</td>\n",
       "      <td>5320</td>\n",
       "      <td>3726</td>\n",
       "      <td>3778</td>\n",
       "      <td>2501</td>\n",
       "      <td>3124</td>\n",
       "      <td>0.228269</td>\n",
       "      <td>0.158036</td>\n",
       "      <td>0.376267</td>\n",
       "      <td>0.401787</td>\n",
       "      <td>DE</td>\n",
       "    </tr>\n",
       "    <tr>\n",
       "      <th>41</th>\n",
       "      <td>Connecticut</td>\n",
       "      <td>63522</td>\n",
       "      <td>14888</td>\n",
       "      <td>14285</td>\n",
       "      <td>9888</td>\n",
       "      <td>9995</td>\n",
       "      <td>6429</td>\n",
       "      <td>8037</td>\n",
       "      <td>0.234375</td>\n",
       "      <td>0.157347</td>\n",
       "      <td>0.381147</td>\n",
       "      <td>0.408610</td>\n",
       "      <td>CT</td>\n",
       "    </tr>\n",
       "    <tr>\n",
       "      <th>42</th>\n",
       "      <td>Missouri</td>\n",
       "      <td>83161</td>\n",
       "      <td>21626</td>\n",
       "      <td>17441</td>\n",
       "      <td>13203</td>\n",
       "      <td>11728</td>\n",
       "      <td>9106</td>\n",
       "      <td>10057</td>\n",
       "      <td>0.260050</td>\n",
       "      <td>0.141028</td>\n",
       "      <td>0.413736</td>\n",
       "      <td>0.379658</td>\n",
       "      <td>MO</td>\n",
       "    </tr>\n",
       "    <tr>\n",
       "      <th>43</th>\n",
       "      <td>Maine</td>\n",
       "      <td>34085</td>\n",
       "      <td>8369</td>\n",
       "      <td>8118</td>\n",
       "      <td>5774</td>\n",
       "      <td>4753</td>\n",
       "      <td>3313</td>\n",
       "      <td>3758</td>\n",
       "      <td>0.245533</td>\n",
       "      <td>0.139446</td>\n",
       "      <td>0.375949</td>\n",
       "      <td>0.401979</td>\n",
       "      <td>ME</td>\n",
       "    </tr>\n",
       "    <tr>\n",
       "      <th>44</th>\n",
       "      <td>Mississippi</td>\n",
       "      <td>31535</td>\n",
       "      <td>9064</td>\n",
       "      <td>6253</td>\n",
       "      <td>4993</td>\n",
       "      <td>4133</td>\n",
       "      <td>3431</td>\n",
       "      <td>3661</td>\n",
       "      <td>0.287427</td>\n",
       "      <td>0.131061</td>\n",
       "      <td>0.446283</td>\n",
       "      <td>0.368196</td>\n",
       "      <td>MS</td>\n",
       "    </tr>\n",
       "    <tr>\n",
       "      <th>45</th>\n",
       "      <td>Montana</td>\n",
       "      <td>23404</td>\n",
       "      <td>6045</td>\n",
       "      <td>4990</td>\n",
       "      <td>3795</td>\n",
       "      <td>3289</td>\n",
       "      <td>2419</td>\n",
       "      <td>2866</td>\n",
       "      <td>0.258289</td>\n",
       "      <td>0.140532</td>\n",
       "      <td>0.407620</td>\n",
       "      <td>0.383602</td>\n",
       "      <td>MT</td>\n",
       "    </tr>\n",
       "    <tr>\n",
       "      <th>46</th>\n",
       "      <td>Rhode Island</td>\n",
       "      <td>19392</td>\n",
       "      <td>4776</td>\n",
       "      <td>4412</td>\n",
       "      <td>2997</td>\n",
       "      <td>2864</td>\n",
       "      <td>1990</td>\n",
       "      <td>2353</td>\n",
       "      <td>0.246287</td>\n",
       "      <td>0.147690</td>\n",
       "      <td>0.391957</td>\n",
       "      <td>0.397391</td>\n",
       "      <td>RI</td>\n",
       "    </tr>\n",
       "    <tr>\n",
       "      <th>47</th>\n",
       "      <td>West Virginia</td>\n",
       "      <td>9893</td>\n",
       "      <td>2628</td>\n",
       "      <td>2002</td>\n",
       "      <td>1462</td>\n",
       "      <td>1439</td>\n",
       "      <td>1082</td>\n",
       "      <td>1280</td>\n",
       "      <td>0.265642</td>\n",
       "      <td>0.145456</td>\n",
       "      <td>0.431385</td>\n",
       "      <td>0.378585</td>\n",
       "      <td>WV</td>\n",
       "    </tr>\n",
       "    <tr>\n",
       "      <th>48</th>\n",
       "      <td>New Hampshire</td>\n",
       "      <td>29655</td>\n",
       "      <td>7312</td>\n",
       "      <td>6532</td>\n",
       "      <td>4512</td>\n",
       "      <td>4579</td>\n",
       "      <td>3143</td>\n",
       "      <td>3577</td>\n",
       "      <td>0.246569</td>\n",
       "      <td>0.154409</td>\n",
       "      <td>0.398344</td>\n",
       "      <td>0.405257</td>\n",
       "      <td>NH</td>\n",
       "    </tr>\n",
       "    <tr>\n",
       "      <th>49</th>\n",
       "      <td>Vermont</td>\n",
       "      <td>15536</td>\n",
       "      <td>3657</td>\n",
       "      <td>3888</td>\n",
       "      <td>2529</td>\n",
       "      <td>2262</td>\n",
       "      <td>1460</td>\n",
       "      <td>1740</td>\n",
       "      <td>0.235389</td>\n",
       "      <td>0.145597</td>\n",
       "      <td>0.363014</td>\n",
       "      <td>0.414134</td>\n",
       "      <td>VT</td>\n",
       "    </tr>\n",
       "  </tbody>\n",
       "</table>\n",
       "</div>"
      ],
      "text/plain": [
       "             state  total_tweets  Trump_P  Trump_N  Trump_Na  Biden_P  \\\n",
       "0     Pennsylvania        254404    63484    55171     40406    38226   \n",
       "1       New Jersey        162481    40968    35375     25372    24350   \n",
       "2         Colorado        143612    35116    33106     22356    21400   \n",
       "3    Massachusetts        153022    36289    35300     23833    23821   \n",
       "4          Florida        679529   182091   140167    108537    93633   \n",
       "5        Minnesota        106348    25830    24066     16846    16114   \n",
       "6       California        973653   237889   219873    152896   148577   \n",
       "7       Washington        305040    72305    68692     49123    47588   \n",
       "8   South Carolina         91249    24328    18559     14370    12768   \n",
       "9           Nevada         87471    22671    18780     13695    12656   \n",
       "10           Texas        728105   190647   146858    112016   106222   \n",
       "11        Illinois        209126    49807    47207     33109    32027   \n",
       "12          Oregon        132304    32483    31454     21149    19268   \n",
       "13       Louisiana         73033    19448    14311     11350    10307   \n",
       "14       Wisconsin         92774    22632    20476     14854    14057   \n",
       "15          Hawaii         39411    10327     8781      5915     5533   \n",
       "16         Indiana        104144    27066    22132     16214    15091   \n",
       "17        Maryland        111763    26730    25276     17455    17062   \n",
       "18        Michigan        196196    48578    44276     31201    28792   \n",
       "19          Alaska         21824     5860     4856      3588     2824   \n",
       "20            Utah         44600    10761    10327      6920     6461   \n",
       "21            Iowa         44157    11049     9777      7139     6437   \n",
       "22         Arizona        206162    53138    44431     32842    29253   \n",
       "23        Kentucky         75241    19552    15409     11663    10977   \n",
       "24        Virginia        183936    45655    39872     28759    27973   \n",
       "25        New York        501803   122675   112152     79110    77178   \n",
       "26        Oklahoma         69271    18449    13666     10912     9675   \n",
       "27         Georgia        200948    51347    41152     31013    30043   \n",
       "28    North Dakota          7674     1934     1735      1360     1023   \n",
       "29       Tennessee        134089    36979    26454     21381    18387   \n",
       "30        Nebraska         32315     8524     6914      5077     4636   \n",
       "31          Kansas         62921    15325    13591      9835     9521   \n",
       "32        Arkansas         48476    12773     9844      7568     6871   \n",
       "33           Idaho         30356     7752     6437      4876     4259   \n",
       "34            Ohio        228451    57491    49288     36438    33538   \n",
       "35      New Mexico         37242     9104     8524      5993     5470   \n",
       "36  North Carolina        186695    47480    40292     29442    27248   \n",
       "37         Alabama         83309    22773    15982     13003    11460   \n",
       "38         Wyoming          9604     2635     1982      1595     1319   \n",
       "39    South Dakota         12595     3243     2575      1958     2013   \n",
       "40        Delaware         23906     5457     5320      3726     3778   \n",
       "41     Connecticut         63522    14888    14285      9888     9995   \n",
       "42        Missouri         83161    21626    17441     13203    11728   \n",
       "43           Maine         34085     8369     8118      5774     4753   \n",
       "44     Mississippi         31535     9064     6253      4993     4133   \n",
       "45         Montana         23404     6045     4990      3795     3289   \n",
       "46    Rhode Island         19392     4776     4412      2997     2864   \n",
       "47   West Virginia          9893     2628     2002      1462     1439   \n",
       "48   New Hampshire         29655     7312     6532      4512     4579   \n",
       "49         Vermont         15536     3657     3888      2529     2262   \n",
       "\n",
       "    Biden_N  Biden_Na  Trump_P_perc_total  Biden_P_perc_total  \\\n",
       "0     26713     30404            0.249540            0.150257   \n",
       "1     17160     19256            0.252140            0.149864   \n",
       "2     14664     16970            0.244520            0.149013   \n",
       "3     15550     18229            0.237149            0.155670   \n",
       "4     74465     80636            0.267966            0.137791   \n",
       "5     10804     12688            0.242882            0.151521   \n",
       "6     97989    116429            0.244326            0.152597   \n",
       "7     30219     37113            0.237034            0.156006   \n",
       "8     10083     11141            0.266611            0.139925   \n",
       "9      9310     10359            0.259183            0.144688   \n",
       "10    81251     91111            0.261840            0.145888   \n",
       "11    21512     25464            0.238167            0.153147   \n",
       "12    13075     14875            0.245518            0.145634   \n",
       "13     8396      9221            0.266291            0.141128   \n",
       "14     9463     11292            0.243948            0.151519   \n",
       "15     4489      4366            0.262033            0.140392   \n",
       "16    11083     12558            0.259890            0.144905   \n",
       "17    11697     13543            0.239167            0.152662   \n",
       "18    20238     23111            0.247599            0.146751   \n",
       "19     2254      2442            0.268512            0.129399   \n",
       "20     4785      5346            0.241278            0.144865   \n",
       "21     4481      5274            0.250221            0.145775   \n",
       "22    22203     24295            0.257749            0.141893   \n",
       "23     8370      9270            0.259858            0.145891   \n",
       "24    19395     22282            0.248211            0.152080   \n",
       "25    50564     60124            0.244468            0.153801   \n",
       "26     8016      8553            0.266331            0.139669   \n",
       "27    21786     25607            0.255524            0.149506   \n",
       "28      768       854            0.252020            0.133307   \n",
       "29    14679     16209            0.275780            0.137125   \n",
       "30     3356      3808            0.263778            0.143463   \n",
       "31     6825      7824            0.243559            0.151317   \n",
       "32     5451      5969            0.263491            0.141740   \n",
       "33     3419      3613            0.255370            0.140302   \n",
       "34    24236     27460            0.251656            0.146806   \n",
       "35     3671      4480            0.244455            0.146877   \n",
       "36    19506     22727            0.254319            0.145949   \n",
       "37     9794     10297            0.273356            0.137560   \n",
       "38      988      1085            0.274365            0.137339   \n",
       "39     1318      1488            0.257483            0.159825   \n",
       "40     2501      3124            0.228269            0.158036   \n",
       "41     6429      8037            0.234375            0.157347   \n",
       "42     9106     10057            0.260050            0.141028   \n",
       "43     3313      3758            0.245533            0.139446   \n",
       "44     3431      3661            0.287427            0.131061   \n",
       "45     2419      2866            0.258289            0.140532   \n",
       "46     1990      2353            0.246287            0.147690   \n",
       "47     1082      1280            0.265642            0.145456   \n",
       "48     3143      3577            0.246569            0.154409   \n",
       "49     1460      1740            0.235389            0.145597   \n",
       "\n",
       "    Trump_P_perc_only  Biden_P_perc_only state_code  \n",
       "0            0.399117           0.400931         PA  \n",
       "1            0.402772           0.400718         NJ  \n",
       "2            0.387688           0.403515         CO  \n",
       "3            0.380300           0.413559         MA  \n",
       "4            0.422686           0.376438         FL  \n",
       "5            0.387013           0.406858         MN  \n",
       "6            0.389562           0.409309         CA  \n",
       "7            0.380312           0.414097         WA  \n",
       "8            0.424891           0.375618         SC  \n",
       "9            0.411109           0.391524         NV  \n",
       "10           0.424111           0.381293         TX  \n",
       "11           0.382769           0.405390         IL  \n",
       "12           0.381767           0.408065         OR  \n",
       "13           0.431133           0.369109         LA  \n",
       "14           0.390463           0.403798         WI  \n",
       "15           0.412700           0.384557         HI  \n",
       "16           0.413777           0.389626         IN  \n",
       "17           0.384820           0.403338         MD  \n",
       "18           0.391584           0.399107         MI  \n",
       "19           0.409676           0.375532         AK  \n",
       "20           0.384212           0.389405         UT  \n",
       "21           0.395101           0.397542         IA  \n",
       "22           0.407466           0.386173         AZ  \n",
       "23           0.419355           0.383583         KY  \n",
       "24           0.399480           0.401622         VA  \n",
       "25           0.390763           0.410814         NM  \n",
       "26           0.428777           0.368656         OK  \n",
       "27           0.415725           0.387972         GA  \n",
       "28           0.384569           0.386767         ND  \n",
       "29           0.436001           0.373151         TN  \n",
       "30           0.415501           0.392881         NE  \n",
       "31           0.395474           0.393918         KS  \n",
       "32           0.423157           0.375649         AR  \n",
       "33           0.406609           0.377203         ID  \n",
       "34           0.401426           0.393481         OH  \n",
       "35           0.385420           0.401586         NY  \n",
       "36           0.405071           0.392165         NC  \n",
       "37           0.439990           0.363221         AL  \n",
       "38           0.424179           0.388856         WY  \n",
       "39           0.417052           0.417722         SD  \n",
       "40           0.376267           0.401787         DE  \n",
       "41           0.381147           0.408610         CT  \n",
       "42           0.413736           0.379658         MO  \n",
       "43           0.375949           0.401979         ME  \n",
       "44           0.446283           0.368196         MS  \n",
       "45           0.407620           0.383602         MT  \n",
       "46           0.391957           0.397391         RI  \n",
       "47           0.431385           0.378585         WV  \n",
       "48           0.398344           0.405257         NH  \n",
       "49           0.363014           0.414134         VT  "
      ]
     },
     "execution_count": 70,
     "metadata": {},
     "output_type": "execute_result"
    }
   ],
   "source": [
    "# states codes for the map figure\n",
    "stateMapping = {}\n",
    "states = ['Alabama', 'Alaska', 'Arizona', 'Arkansas', 'California', 'Colorado', 'Connecticut', 'Delaware', 'Florida', 'Georgia', 'Hawaii', 'Idaho', 'Illinois', 'Indiana', 'Iowa', 'Kansas', 'Kentucky', 'Louisiana', 'Maine', 'Maryland', 'Massachusetts', 'Michigan', 'Minnesota', 'Mississippi', 'Missouri', 'Montana', 'Nebraska', 'Nevada', 'New Hampshire', 'New Jersey', 'New York', 'New Mexico', 'North Carolina', 'North Dakota', 'Ohio', 'Oklahoma', 'Oregon', 'Pennsylvania', 'Rhode Island', 'South Carolina', 'South Dakota', 'Tennessee', 'Texas', 'Utah', 'Vermont', 'Virginia', 'Washington', 'West Virginia', 'Wisconsin', 'Wyoming']\n",
    "stateCodes = ['AL', 'AK', 'AZ', 'AR', 'CA', 'CO', 'CT', 'DE', 'FL', 'GA', 'HI', 'ID', 'IL', 'IN', 'IA', 'KS', 'KY', 'LA', 'ME', 'MD', 'MA', 'MI', 'MN', 'MS', 'MO', 'MT', 'NE', 'NV', 'NH', 'NJ', 'NM', 'NY', 'NC', 'ND', 'OH', 'OK', 'OR', 'PA', 'RI', 'SC', 'SD', 'TN', 'TX', 'UT', 'VT', 'VA', 'WA', 'WV', 'WI', 'WY']\n",
    "stateMapping['state']= states\n",
    "stateMapping['state_code'] = stateCodes \n",
    "overview_df = overview_df.merge(pd.DataFrame.from_dict(stateMapping), on='state', how='left')\n",
    "overview_df\n"
   ]
  },
  {
   "cell_type": "code",
   "execution_count": 71,
   "metadata": {},
   "outputs": [
    {
     "data": {
      "application/vnd.plotly.v1+json": {
       "config": {
        "plotlyServerURL": "https://plot.ly"
       },
       "data": [
        {
         "colorscale": [
          [
           0,
           "#636efa"
          ],
          [
           1,
           "#636efa"
          ]
         ],
         "geo": "geo",
         "hovertemplate": "predicted_winner=Biden<br>state_code=%{location}<extra></extra>",
         "locationmode": "USA-states",
         "locations": [
          "PA",
          "CO",
          "MA",
          "MN",
          "CA",
          "WA",
          "IL",
          "OR",
          "WI",
          "MD",
          "MI",
          "UT",
          "IA",
          "VA",
          "NM",
          "ND",
          "NY",
          "SD",
          "DE",
          "CT",
          "ME",
          "RI",
          "NH",
          "VT"
         ],
         "name": "Biden",
         "showlegend": true,
         "showscale": false,
         "type": "choropleth",
         "z": [
          1,
          1,
          1,
          1,
          1,
          1,
          1,
          1,
          1,
          1,
          1,
          1,
          1,
          1,
          1,
          1,
          1,
          1,
          1,
          1,
          1,
          1,
          1,
          1
         ]
        },
        {
         "colorscale": [
          [
           0,
           "#EF553B"
          ],
          [
           1,
           "#EF553B"
          ]
         ],
         "geo": "geo",
         "hovertemplate": "predicted_winner=Trump<br>state_code=%{location}<extra></extra>",
         "locationmode": "USA-states",
         "locations": [
          "NJ",
          "FL",
          "SC",
          "NV",
          "TX",
          "LA",
          "HI",
          "IN",
          "AK",
          "AZ",
          "KY",
          "OK",
          "GA",
          "TN",
          "NE",
          "KS",
          "AR",
          "ID",
          "OH",
          "NC",
          "AL",
          "WY",
          "MO",
          "MS",
          "MT",
          "WV"
         ],
         "name": "Trump",
         "showlegend": true,
         "showscale": false,
         "type": "choropleth",
         "z": [
          1,
          1,
          1,
          1,
          1,
          1,
          1,
          1,
          1,
          1,
          1,
          1,
          1,
          1,
          1,
          1,
          1,
          1,
          1,
          1,
          1,
          1,
          1,
          1,
          1,
          1
         ]
        }
       ],
       "layout": {
        "geo": {
         "center": {},
         "domain": {
          "x": [
           0,
           1
          ],
          "y": [
           0,
           1
          ]
         },
         "scope": "usa"
        },
        "legend": {
         "title": {
          "text": "predicted_winner"
         },
         "tracegroupgap": 0
        },
        "margin": {
         "t": 60
        },
        "template": {
         "data": {
          "bar": [
           {
            "error_x": {
             "color": "#2a3f5f"
            },
            "error_y": {
             "color": "#2a3f5f"
            },
            "marker": {
             "line": {
              "color": "#E5ECF6",
              "width": 0.5
             },
             "pattern": {
              "fillmode": "overlay",
              "size": 10,
              "solidity": 0.2
             }
            },
            "type": "bar"
           }
          ],
          "barpolar": [
           {
            "marker": {
             "line": {
              "color": "#E5ECF6",
              "width": 0.5
             },
             "pattern": {
              "fillmode": "overlay",
              "size": 10,
              "solidity": 0.2
             }
            },
            "type": "barpolar"
           }
          ],
          "carpet": [
           {
            "aaxis": {
             "endlinecolor": "#2a3f5f",
             "gridcolor": "white",
             "linecolor": "white",
             "minorgridcolor": "white",
             "startlinecolor": "#2a3f5f"
            },
            "baxis": {
             "endlinecolor": "#2a3f5f",
             "gridcolor": "white",
             "linecolor": "white",
             "minorgridcolor": "white",
             "startlinecolor": "#2a3f5f"
            },
            "type": "carpet"
           }
          ],
          "choropleth": [
           {
            "colorbar": {
             "outlinewidth": 0,
             "ticks": ""
            },
            "type": "choropleth"
           }
          ],
          "contour": [
           {
            "colorbar": {
             "outlinewidth": 0,
             "ticks": ""
            },
            "colorscale": [
             [
              0,
              "#0d0887"
             ],
             [
              0.1111111111111111,
              "#46039f"
             ],
             [
              0.2222222222222222,
              "#7201a8"
             ],
             [
              0.3333333333333333,
              "#9c179e"
             ],
             [
              0.4444444444444444,
              "#bd3786"
             ],
             [
              0.5555555555555556,
              "#d8576b"
             ],
             [
              0.6666666666666666,
              "#ed7953"
             ],
             [
              0.7777777777777778,
              "#fb9f3a"
             ],
             [
              0.8888888888888888,
              "#fdca26"
             ],
             [
              1,
              "#f0f921"
             ]
            ],
            "type": "contour"
           }
          ],
          "contourcarpet": [
           {
            "colorbar": {
             "outlinewidth": 0,
             "ticks": ""
            },
            "type": "contourcarpet"
           }
          ],
          "heatmap": [
           {
            "colorbar": {
             "outlinewidth": 0,
             "ticks": ""
            },
            "colorscale": [
             [
              0,
              "#0d0887"
             ],
             [
              0.1111111111111111,
              "#46039f"
             ],
             [
              0.2222222222222222,
              "#7201a8"
             ],
             [
              0.3333333333333333,
              "#9c179e"
             ],
             [
              0.4444444444444444,
              "#bd3786"
             ],
             [
              0.5555555555555556,
              "#d8576b"
             ],
             [
              0.6666666666666666,
              "#ed7953"
             ],
             [
              0.7777777777777778,
              "#fb9f3a"
             ],
             [
              0.8888888888888888,
              "#fdca26"
             ],
             [
              1,
              "#f0f921"
             ]
            ],
            "type": "heatmap"
           }
          ],
          "heatmapgl": [
           {
            "colorbar": {
             "outlinewidth": 0,
             "ticks": ""
            },
            "colorscale": [
             [
              0,
              "#0d0887"
             ],
             [
              0.1111111111111111,
              "#46039f"
             ],
             [
              0.2222222222222222,
              "#7201a8"
             ],
             [
              0.3333333333333333,
              "#9c179e"
             ],
             [
              0.4444444444444444,
              "#bd3786"
             ],
             [
              0.5555555555555556,
              "#d8576b"
             ],
             [
              0.6666666666666666,
              "#ed7953"
             ],
             [
              0.7777777777777778,
              "#fb9f3a"
             ],
             [
              0.8888888888888888,
              "#fdca26"
             ],
             [
              1,
              "#f0f921"
             ]
            ],
            "type": "heatmapgl"
           }
          ],
          "histogram": [
           {
            "marker": {
             "pattern": {
              "fillmode": "overlay",
              "size": 10,
              "solidity": 0.2
             }
            },
            "type": "histogram"
           }
          ],
          "histogram2d": [
           {
            "colorbar": {
             "outlinewidth": 0,
             "ticks": ""
            },
            "colorscale": [
             [
              0,
              "#0d0887"
             ],
             [
              0.1111111111111111,
              "#46039f"
             ],
             [
              0.2222222222222222,
              "#7201a8"
             ],
             [
              0.3333333333333333,
              "#9c179e"
             ],
             [
              0.4444444444444444,
              "#bd3786"
             ],
             [
              0.5555555555555556,
              "#d8576b"
             ],
             [
              0.6666666666666666,
              "#ed7953"
             ],
             [
              0.7777777777777778,
              "#fb9f3a"
             ],
             [
              0.8888888888888888,
              "#fdca26"
             ],
             [
              1,
              "#f0f921"
             ]
            ],
            "type": "histogram2d"
           }
          ],
          "histogram2dcontour": [
           {
            "colorbar": {
             "outlinewidth": 0,
             "ticks": ""
            },
            "colorscale": [
             [
              0,
              "#0d0887"
             ],
             [
              0.1111111111111111,
              "#46039f"
             ],
             [
              0.2222222222222222,
              "#7201a8"
             ],
             [
              0.3333333333333333,
              "#9c179e"
             ],
             [
              0.4444444444444444,
              "#bd3786"
             ],
             [
              0.5555555555555556,
              "#d8576b"
             ],
             [
              0.6666666666666666,
              "#ed7953"
             ],
             [
              0.7777777777777778,
              "#fb9f3a"
             ],
             [
              0.8888888888888888,
              "#fdca26"
             ],
             [
              1,
              "#f0f921"
             ]
            ],
            "type": "histogram2dcontour"
           }
          ],
          "mesh3d": [
           {
            "colorbar": {
             "outlinewidth": 0,
             "ticks": ""
            },
            "type": "mesh3d"
           }
          ],
          "parcoords": [
           {
            "line": {
             "colorbar": {
              "outlinewidth": 0,
              "ticks": ""
             }
            },
            "type": "parcoords"
           }
          ],
          "pie": [
           {
            "automargin": true,
            "type": "pie"
           }
          ],
          "scatter": [
           {
            "fillpattern": {
             "fillmode": "overlay",
             "size": 10,
             "solidity": 0.2
            },
            "type": "scatter"
           }
          ],
          "scatter3d": [
           {
            "line": {
             "colorbar": {
              "outlinewidth": 0,
              "ticks": ""
             }
            },
            "marker": {
             "colorbar": {
              "outlinewidth": 0,
              "ticks": ""
             }
            },
            "type": "scatter3d"
           }
          ],
          "scattercarpet": [
           {
            "marker": {
             "colorbar": {
              "outlinewidth": 0,
              "ticks": ""
             }
            },
            "type": "scattercarpet"
           }
          ],
          "scattergeo": [
           {
            "marker": {
             "colorbar": {
              "outlinewidth": 0,
              "ticks": ""
             }
            },
            "type": "scattergeo"
           }
          ],
          "scattergl": [
           {
            "marker": {
             "colorbar": {
              "outlinewidth": 0,
              "ticks": ""
             }
            },
            "type": "scattergl"
           }
          ],
          "scattermapbox": [
           {
            "marker": {
             "colorbar": {
              "outlinewidth": 0,
              "ticks": ""
             }
            },
            "type": "scattermapbox"
           }
          ],
          "scatterpolar": [
           {
            "marker": {
             "colorbar": {
              "outlinewidth": 0,
              "ticks": ""
             }
            },
            "type": "scatterpolar"
           }
          ],
          "scatterpolargl": [
           {
            "marker": {
             "colorbar": {
              "outlinewidth": 0,
              "ticks": ""
             }
            },
            "type": "scatterpolargl"
           }
          ],
          "scatterternary": [
           {
            "marker": {
             "colorbar": {
              "outlinewidth": 0,
              "ticks": ""
             }
            },
            "type": "scatterternary"
           }
          ],
          "surface": [
           {
            "colorbar": {
             "outlinewidth": 0,
             "ticks": ""
            },
            "colorscale": [
             [
              0,
              "#0d0887"
             ],
             [
              0.1111111111111111,
              "#46039f"
             ],
             [
              0.2222222222222222,
              "#7201a8"
             ],
             [
              0.3333333333333333,
              "#9c179e"
             ],
             [
              0.4444444444444444,
              "#bd3786"
             ],
             [
              0.5555555555555556,
              "#d8576b"
             ],
             [
              0.6666666666666666,
              "#ed7953"
             ],
             [
              0.7777777777777778,
              "#fb9f3a"
             ],
             [
              0.8888888888888888,
              "#fdca26"
             ],
             [
              1,
              "#f0f921"
             ]
            ],
            "type": "surface"
           }
          ],
          "table": [
           {
            "cells": {
             "fill": {
              "color": "#EBF0F8"
             },
             "line": {
              "color": "white"
             }
            },
            "header": {
             "fill": {
              "color": "#C8D4E3"
             },
             "line": {
              "color": "white"
             }
            },
            "type": "table"
           }
          ]
         },
         "layout": {
          "annotationdefaults": {
           "arrowcolor": "#2a3f5f",
           "arrowhead": 0,
           "arrowwidth": 1
          },
          "autotypenumbers": "strict",
          "coloraxis": {
           "colorbar": {
            "outlinewidth": 0,
            "ticks": ""
           }
          },
          "colorscale": {
           "diverging": [
            [
             0,
             "#8e0152"
            ],
            [
             0.1,
             "#c51b7d"
            ],
            [
             0.2,
             "#de77ae"
            ],
            [
             0.3,
             "#f1b6da"
            ],
            [
             0.4,
             "#fde0ef"
            ],
            [
             0.5,
             "#f7f7f7"
            ],
            [
             0.6,
             "#e6f5d0"
            ],
            [
             0.7,
             "#b8e186"
            ],
            [
             0.8,
             "#7fbc41"
            ],
            [
             0.9,
             "#4d9221"
            ],
            [
             1,
             "#276419"
            ]
           ],
           "sequential": [
            [
             0,
             "#0d0887"
            ],
            [
             0.1111111111111111,
             "#46039f"
            ],
            [
             0.2222222222222222,
             "#7201a8"
            ],
            [
             0.3333333333333333,
             "#9c179e"
            ],
            [
             0.4444444444444444,
             "#bd3786"
            ],
            [
             0.5555555555555556,
             "#d8576b"
            ],
            [
             0.6666666666666666,
             "#ed7953"
            ],
            [
             0.7777777777777778,
             "#fb9f3a"
            ],
            [
             0.8888888888888888,
             "#fdca26"
            ],
            [
             1,
             "#f0f921"
            ]
           ],
           "sequentialminus": [
            [
             0,
             "#0d0887"
            ],
            [
             0.1111111111111111,
             "#46039f"
            ],
            [
             0.2222222222222222,
             "#7201a8"
            ],
            [
             0.3333333333333333,
             "#9c179e"
            ],
            [
             0.4444444444444444,
             "#bd3786"
            ],
            [
             0.5555555555555556,
             "#d8576b"
            ],
            [
             0.6666666666666666,
             "#ed7953"
            ],
            [
             0.7777777777777778,
             "#fb9f3a"
            ],
            [
             0.8888888888888888,
             "#fdca26"
            ],
            [
             1,
             "#f0f921"
            ]
           ]
          },
          "colorway": [
           "#636efa",
           "#EF553B",
           "#00cc96",
           "#ab63fa",
           "#FFA15A",
           "#19d3f3",
           "#FF6692",
           "#B6E880",
           "#FF97FF",
           "#FECB52"
          ],
          "font": {
           "color": "#2a3f5f"
          },
          "geo": {
           "bgcolor": "white",
           "lakecolor": "white",
           "landcolor": "#E5ECF6",
           "showlakes": true,
           "showland": true,
           "subunitcolor": "white"
          },
          "hoverlabel": {
           "align": "left"
          },
          "hovermode": "closest",
          "mapbox": {
           "style": "light"
          },
          "paper_bgcolor": "white",
          "plot_bgcolor": "#E5ECF6",
          "polar": {
           "angularaxis": {
            "gridcolor": "white",
            "linecolor": "white",
            "ticks": ""
           },
           "bgcolor": "#E5ECF6",
           "radialaxis": {
            "gridcolor": "white",
            "linecolor": "white",
            "ticks": ""
           }
          },
          "scene": {
           "xaxis": {
            "backgroundcolor": "#E5ECF6",
            "gridcolor": "white",
            "gridwidth": 2,
            "linecolor": "white",
            "showbackground": true,
            "ticks": "",
            "zerolinecolor": "white"
           },
           "yaxis": {
            "backgroundcolor": "#E5ECF6",
            "gridcolor": "white",
            "gridwidth": 2,
            "linecolor": "white",
            "showbackground": true,
            "ticks": "",
            "zerolinecolor": "white"
           },
           "zaxis": {
            "backgroundcolor": "#E5ECF6",
            "gridcolor": "white",
            "gridwidth": 2,
            "linecolor": "white",
            "showbackground": true,
            "ticks": "",
            "zerolinecolor": "white"
           }
          },
          "shapedefaults": {
           "line": {
            "color": "#2a3f5f"
           }
          },
          "ternary": {
           "aaxis": {
            "gridcolor": "white",
            "linecolor": "white",
            "ticks": ""
           },
           "baxis": {
            "gridcolor": "white",
            "linecolor": "white",
            "ticks": ""
           },
           "bgcolor": "#E5ECF6",
           "caxis": {
            "gridcolor": "white",
            "linecolor": "white",
            "ticks": ""
           }
          },
          "title": {
           "x": 0.05
          },
          "xaxis": {
           "automargin": true,
           "gridcolor": "white",
           "linecolor": "white",
           "ticks": "",
           "title": {
            "standoff": 15
           },
           "zerolinecolor": "white",
           "zerolinewidth": 2
          },
          "yaxis": {
           "automargin": true,
           "gridcolor": "white",
           "linecolor": "white",
           "ticks": "",
           "title": {
            "standoff": 15
           },
           "zerolinecolor": "white",
           "zerolinewidth": 2
          }
         }
        }
       }
      },
      "text/html": [
       "<div>                            <div id=\"91990027-ac38-40ea-b52f-7ed0d99c5047\" class=\"plotly-graph-div\" style=\"height:525px; width:100%;\"></div>            <script type=\"text/javascript\">                require([\"plotly\"], function(Plotly) {                    window.PLOTLYENV=window.PLOTLYENV || {};                                    if (document.getElementById(\"91990027-ac38-40ea-b52f-7ed0d99c5047\")) {                    Plotly.newPlot(                        \"91990027-ac38-40ea-b52f-7ed0d99c5047\",                        [{\"colorscale\":[[0.0,\"#636efa\"],[1.0,\"#636efa\"]],\"geo\":\"geo\",\"hovertemplate\":\"predicted_winner=Biden<br>state_code=%{location}<extra></extra>\",\"locationmode\":\"USA-states\",\"locations\":[\"PA\",\"CO\",\"MA\",\"MN\",\"CA\",\"WA\",\"IL\",\"OR\",\"WI\",\"MD\",\"MI\",\"UT\",\"IA\",\"VA\",\"NM\",\"ND\",\"NY\",\"SD\",\"DE\",\"CT\",\"ME\",\"RI\",\"NH\",\"VT\"],\"name\":\"Biden\",\"showlegend\":true,\"showscale\":false,\"z\":[1,1,1,1,1,1,1,1,1,1,1,1,1,1,1,1,1,1,1,1,1,1,1,1],\"type\":\"choropleth\"},{\"colorscale\":[[0.0,\"#EF553B\"],[1.0,\"#EF553B\"]],\"geo\":\"geo\",\"hovertemplate\":\"predicted_winner=Trump<br>state_code=%{location}<extra></extra>\",\"locationmode\":\"USA-states\",\"locations\":[\"NJ\",\"FL\",\"SC\",\"NV\",\"TX\",\"LA\",\"HI\",\"IN\",\"AK\",\"AZ\",\"KY\",\"OK\",\"GA\",\"TN\",\"NE\",\"KS\",\"AR\",\"ID\",\"OH\",\"NC\",\"AL\",\"WY\",\"MO\",\"MS\",\"MT\",\"WV\"],\"name\":\"Trump\",\"showlegend\":true,\"showscale\":false,\"z\":[1,1,1,1,1,1,1,1,1,1,1,1,1,1,1,1,1,1,1,1,1,1,1,1,1,1],\"type\":\"choropleth\"}],                        {\"template\":{\"data\":{\"histogram2dcontour\":[{\"type\":\"histogram2dcontour\",\"colorbar\":{\"outlinewidth\":0,\"ticks\":\"\"},\"colorscale\":[[0.0,\"#0d0887\"],[0.1111111111111111,\"#46039f\"],[0.2222222222222222,\"#7201a8\"],[0.3333333333333333,\"#9c179e\"],[0.4444444444444444,\"#bd3786\"],[0.5555555555555556,\"#d8576b\"],[0.6666666666666666,\"#ed7953\"],[0.7777777777777778,\"#fb9f3a\"],[0.8888888888888888,\"#fdca26\"],[1.0,\"#f0f921\"]]}],\"choropleth\":[{\"type\":\"choropleth\",\"colorbar\":{\"outlinewidth\":0,\"ticks\":\"\"}}],\"histogram2d\":[{\"type\":\"histogram2d\",\"colorbar\":{\"outlinewidth\":0,\"ticks\":\"\"},\"colorscale\":[[0.0,\"#0d0887\"],[0.1111111111111111,\"#46039f\"],[0.2222222222222222,\"#7201a8\"],[0.3333333333333333,\"#9c179e\"],[0.4444444444444444,\"#bd3786\"],[0.5555555555555556,\"#d8576b\"],[0.6666666666666666,\"#ed7953\"],[0.7777777777777778,\"#fb9f3a\"],[0.8888888888888888,\"#fdca26\"],[1.0,\"#f0f921\"]]}],\"heatmap\":[{\"type\":\"heatmap\",\"colorbar\":{\"outlinewidth\":0,\"ticks\":\"\"},\"colorscale\":[[0.0,\"#0d0887\"],[0.1111111111111111,\"#46039f\"],[0.2222222222222222,\"#7201a8\"],[0.3333333333333333,\"#9c179e\"],[0.4444444444444444,\"#bd3786\"],[0.5555555555555556,\"#d8576b\"],[0.6666666666666666,\"#ed7953\"],[0.7777777777777778,\"#fb9f3a\"],[0.8888888888888888,\"#fdca26\"],[1.0,\"#f0f921\"]]}],\"heatmapgl\":[{\"type\":\"heatmapgl\",\"colorbar\":{\"outlinewidth\":0,\"ticks\":\"\"},\"colorscale\":[[0.0,\"#0d0887\"],[0.1111111111111111,\"#46039f\"],[0.2222222222222222,\"#7201a8\"],[0.3333333333333333,\"#9c179e\"],[0.4444444444444444,\"#bd3786\"],[0.5555555555555556,\"#d8576b\"],[0.6666666666666666,\"#ed7953\"],[0.7777777777777778,\"#fb9f3a\"],[0.8888888888888888,\"#fdca26\"],[1.0,\"#f0f921\"]]}],\"contourcarpet\":[{\"type\":\"contourcarpet\",\"colorbar\":{\"outlinewidth\":0,\"ticks\":\"\"}}],\"contour\":[{\"type\":\"contour\",\"colorbar\":{\"outlinewidth\":0,\"ticks\":\"\"},\"colorscale\":[[0.0,\"#0d0887\"],[0.1111111111111111,\"#46039f\"],[0.2222222222222222,\"#7201a8\"],[0.3333333333333333,\"#9c179e\"],[0.4444444444444444,\"#bd3786\"],[0.5555555555555556,\"#d8576b\"],[0.6666666666666666,\"#ed7953\"],[0.7777777777777778,\"#fb9f3a\"],[0.8888888888888888,\"#fdca26\"],[1.0,\"#f0f921\"]]}],\"surface\":[{\"type\":\"surface\",\"colorbar\":{\"outlinewidth\":0,\"ticks\":\"\"},\"colorscale\":[[0.0,\"#0d0887\"],[0.1111111111111111,\"#46039f\"],[0.2222222222222222,\"#7201a8\"],[0.3333333333333333,\"#9c179e\"],[0.4444444444444444,\"#bd3786\"],[0.5555555555555556,\"#d8576b\"],[0.6666666666666666,\"#ed7953\"],[0.7777777777777778,\"#fb9f3a\"],[0.8888888888888888,\"#fdca26\"],[1.0,\"#f0f921\"]]}],\"mesh3d\":[{\"type\":\"mesh3d\",\"colorbar\":{\"outlinewidth\":0,\"ticks\":\"\"}}],\"scatter\":[{\"fillpattern\":{\"fillmode\":\"overlay\",\"size\":10,\"solidity\":0.2},\"type\":\"scatter\"}],\"parcoords\":[{\"type\":\"parcoords\",\"line\":{\"colorbar\":{\"outlinewidth\":0,\"ticks\":\"\"}}}],\"scatterpolargl\":[{\"type\":\"scatterpolargl\",\"marker\":{\"colorbar\":{\"outlinewidth\":0,\"ticks\":\"\"}}}],\"bar\":[{\"error_x\":{\"color\":\"#2a3f5f\"},\"error_y\":{\"color\":\"#2a3f5f\"},\"marker\":{\"line\":{\"color\":\"#E5ECF6\",\"width\":0.5},\"pattern\":{\"fillmode\":\"overlay\",\"size\":10,\"solidity\":0.2}},\"type\":\"bar\"}],\"scattergeo\":[{\"type\":\"scattergeo\",\"marker\":{\"colorbar\":{\"outlinewidth\":0,\"ticks\":\"\"}}}],\"scatterpolar\":[{\"type\":\"scatterpolar\",\"marker\":{\"colorbar\":{\"outlinewidth\":0,\"ticks\":\"\"}}}],\"histogram\":[{\"marker\":{\"pattern\":{\"fillmode\":\"overlay\",\"size\":10,\"solidity\":0.2}},\"type\":\"histogram\"}],\"scattergl\":[{\"type\":\"scattergl\",\"marker\":{\"colorbar\":{\"outlinewidth\":0,\"ticks\":\"\"}}}],\"scatter3d\":[{\"type\":\"scatter3d\",\"line\":{\"colorbar\":{\"outlinewidth\":0,\"ticks\":\"\"}},\"marker\":{\"colorbar\":{\"outlinewidth\":0,\"ticks\":\"\"}}}],\"scattermapbox\":[{\"type\":\"scattermapbox\",\"marker\":{\"colorbar\":{\"outlinewidth\":0,\"ticks\":\"\"}}}],\"scatterternary\":[{\"type\":\"scatterternary\",\"marker\":{\"colorbar\":{\"outlinewidth\":0,\"ticks\":\"\"}}}],\"scattercarpet\":[{\"type\":\"scattercarpet\",\"marker\":{\"colorbar\":{\"outlinewidth\":0,\"ticks\":\"\"}}}],\"carpet\":[{\"aaxis\":{\"endlinecolor\":\"#2a3f5f\",\"gridcolor\":\"white\",\"linecolor\":\"white\",\"minorgridcolor\":\"white\",\"startlinecolor\":\"#2a3f5f\"},\"baxis\":{\"endlinecolor\":\"#2a3f5f\",\"gridcolor\":\"white\",\"linecolor\":\"white\",\"minorgridcolor\":\"white\",\"startlinecolor\":\"#2a3f5f\"},\"type\":\"carpet\"}],\"table\":[{\"cells\":{\"fill\":{\"color\":\"#EBF0F8\"},\"line\":{\"color\":\"white\"}},\"header\":{\"fill\":{\"color\":\"#C8D4E3\"},\"line\":{\"color\":\"white\"}},\"type\":\"table\"}],\"barpolar\":[{\"marker\":{\"line\":{\"color\":\"#E5ECF6\",\"width\":0.5},\"pattern\":{\"fillmode\":\"overlay\",\"size\":10,\"solidity\":0.2}},\"type\":\"barpolar\"}],\"pie\":[{\"automargin\":true,\"type\":\"pie\"}]},\"layout\":{\"autotypenumbers\":\"strict\",\"colorway\":[\"#636efa\",\"#EF553B\",\"#00cc96\",\"#ab63fa\",\"#FFA15A\",\"#19d3f3\",\"#FF6692\",\"#B6E880\",\"#FF97FF\",\"#FECB52\"],\"font\":{\"color\":\"#2a3f5f\"},\"hovermode\":\"closest\",\"hoverlabel\":{\"align\":\"left\"},\"paper_bgcolor\":\"white\",\"plot_bgcolor\":\"#E5ECF6\",\"polar\":{\"bgcolor\":\"#E5ECF6\",\"angularaxis\":{\"gridcolor\":\"white\",\"linecolor\":\"white\",\"ticks\":\"\"},\"radialaxis\":{\"gridcolor\":\"white\",\"linecolor\":\"white\",\"ticks\":\"\"}},\"ternary\":{\"bgcolor\":\"#E5ECF6\",\"aaxis\":{\"gridcolor\":\"white\",\"linecolor\":\"white\",\"ticks\":\"\"},\"baxis\":{\"gridcolor\":\"white\",\"linecolor\":\"white\",\"ticks\":\"\"},\"caxis\":{\"gridcolor\":\"white\",\"linecolor\":\"white\",\"ticks\":\"\"}},\"coloraxis\":{\"colorbar\":{\"outlinewidth\":0,\"ticks\":\"\"}},\"colorscale\":{\"sequential\":[[0.0,\"#0d0887\"],[0.1111111111111111,\"#46039f\"],[0.2222222222222222,\"#7201a8\"],[0.3333333333333333,\"#9c179e\"],[0.4444444444444444,\"#bd3786\"],[0.5555555555555556,\"#d8576b\"],[0.6666666666666666,\"#ed7953\"],[0.7777777777777778,\"#fb9f3a\"],[0.8888888888888888,\"#fdca26\"],[1.0,\"#f0f921\"]],\"sequentialminus\":[[0.0,\"#0d0887\"],[0.1111111111111111,\"#46039f\"],[0.2222222222222222,\"#7201a8\"],[0.3333333333333333,\"#9c179e\"],[0.4444444444444444,\"#bd3786\"],[0.5555555555555556,\"#d8576b\"],[0.6666666666666666,\"#ed7953\"],[0.7777777777777778,\"#fb9f3a\"],[0.8888888888888888,\"#fdca26\"],[1.0,\"#f0f921\"]],\"diverging\":[[0,\"#8e0152\"],[0.1,\"#c51b7d\"],[0.2,\"#de77ae\"],[0.3,\"#f1b6da\"],[0.4,\"#fde0ef\"],[0.5,\"#f7f7f7\"],[0.6,\"#e6f5d0\"],[0.7,\"#b8e186\"],[0.8,\"#7fbc41\"],[0.9,\"#4d9221\"],[1,\"#276419\"]]},\"xaxis\":{\"gridcolor\":\"white\",\"linecolor\":\"white\",\"ticks\":\"\",\"title\":{\"standoff\":15},\"zerolinecolor\":\"white\",\"automargin\":true,\"zerolinewidth\":2},\"yaxis\":{\"gridcolor\":\"white\",\"linecolor\":\"white\",\"ticks\":\"\",\"title\":{\"standoff\":15},\"zerolinecolor\":\"white\",\"automargin\":true,\"zerolinewidth\":2},\"scene\":{\"xaxis\":{\"backgroundcolor\":\"#E5ECF6\",\"gridcolor\":\"white\",\"linecolor\":\"white\",\"showbackground\":true,\"ticks\":\"\",\"zerolinecolor\":\"white\",\"gridwidth\":2},\"yaxis\":{\"backgroundcolor\":\"#E5ECF6\",\"gridcolor\":\"white\",\"linecolor\":\"white\",\"showbackground\":true,\"ticks\":\"\",\"zerolinecolor\":\"white\",\"gridwidth\":2},\"zaxis\":{\"backgroundcolor\":\"#E5ECF6\",\"gridcolor\":\"white\",\"linecolor\":\"white\",\"showbackground\":true,\"ticks\":\"\",\"zerolinecolor\":\"white\",\"gridwidth\":2}},\"shapedefaults\":{\"line\":{\"color\":\"#2a3f5f\"}},\"annotationdefaults\":{\"arrowcolor\":\"#2a3f5f\",\"arrowhead\":0,\"arrowwidth\":1},\"geo\":{\"bgcolor\":\"white\",\"landcolor\":\"#E5ECF6\",\"subunitcolor\":\"white\",\"showland\":true,\"showlakes\":true,\"lakecolor\":\"white\"},\"title\":{\"x\":0.05},\"mapbox\":{\"style\":\"light\"}}},\"geo\":{\"domain\":{\"x\":[0.0,1.0],\"y\":[0.0,1.0]},\"center\":{},\"scope\":\"usa\"},\"legend\":{\"title\":{\"text\":\"predicted_winner\"},\"tracegroupgap\":0},\"margin\":{\"t\":60}},                        {\"responsive\": true}                    ).then(function(){\n",
       "                            \n",
       "var gd = document.getElementById('91990027-ac38-40ea-b52f-7ed0d99c5047');\n",
       "var x = new MutationObserver(function (mutations, observer) {{\n",
       "        var display = window.getComputedStyle(gd).display;\n",
       "        if (!display || display === 'none') {{\n",
       "            console.log([gd, 'removed!']);\n",
       "            Plotly.purge(gd);\n",
       "            observer.disconnect();\n",
       "        }}\n",
       "}});\n",
       "\n",
       "// Listen for the removal of the full notebook cells\n",
       "var notebookContainer = gd.closest('#notebook-container');\n",
       "if (notebookContainer) {{\n",
       "    x.observe(notebookContainer, {childList: true});\n",
       "}}\n",
       "\n",
       "// Listen for the clearing of the current output cell\n",
       "var outputEl = gd.closest('.output');\n",
       "if (outputEl) {{\n",
       "    x.observe(outputEl, {childList: true});\n",
       "}}\n",
       "\n",
       "                        })                };                });            </script>        </div>"
      ]
     },
     "metadata": {},
     "output_type": "display_data"
    }
   ],
   "source": [
    "overview_df['predicted_winner'] = np.where(overview_df['Trump_P_perc_only'] > overview_df['Biden_P_perc_only'], 'Trump', 'Biden')\n",
    "fig = px.choropleth(overview_df, color='predicted_winner', locations='state_code', locationmode=\"USA-states\", scope=\"usa\")\n",
    "fig.show()"
   ]
  },
  {
   "cell_type": "markdown",
   "metadata": {},
   "source": [
    "# 2020 Election Real Result"
   ]
  },
  {
   "cell_type": "code",
   "execution_count": 72,
   "metadata": {
    "scrolled": true
   },
   "outputs": [
    {
     "data": {
      "text/html": [
       "<div>\n",
       "<style scoped>\n",
       "    .dataframe tbody tr th:only-of-type {\n",
       "        vertical-align: middle;\n",
       "    }\n",
       "\n",
       "    .dataframe tbody tr th {\n",
       "        vertical-align: top;\n",
       "    }\n",
       "\n",
       "    .dataframe thead th {\n",
       "        text-align: right;\n",
       "    }\n",
       "</style>\n",
       "<table border=\"1\" class=\"dataframe\">\n",
       "  <thead>\n",
       "    <tr style=\"text-align: right;\">\n",
       "      <th></th>\n",
       "      <th>Unnamed: 0</th>\n",
       "      <th>state_code</th>\n",
       "      <th>won</th>\n",
       "      <th>color</th>\n",
       "      <th>newcolor</th>\n",
       "      <th>winner</th>\n",
       "    </tr>\n",
       "  </thead>\n",
       "  <tbody>\n",
       "    <tr>\n",
       "      <th>0</th>\n",
       "      <td>2.0</td>\n",
       "      <td>AZ</td>\n",
       "      <td>B</td>\n",
       "      <td>4</td>\n",
       "      <td>-3</td>\n",
       "      <td>Biden</td>\n",
       "    </tr>\n",
       "    <tr>\n",
       "      <th>1</th>\n",
       "      <td>1.0</td>\n",
       "      <td>AK</td>\n",
       "      <td>T</td>\n",
       "      <td>0</td>\n",
       "      <td>0</td>\n",
       "      <td>Trump</td>\n",
       "    </tr>\n",
       "    <tr>\n",
       "      <th>2</th>\n",
       "      <td>0.0</td>\n",
       "      <td>AL</td>\n",
       "      <td>T</td>\n",
       "      <td>0</td>\n",
       "      <td>0</td>\n",
       "      <td>Trump</td>\n",
       "    </tr>\n",
       "    <tr>\n",
       "      <th>3</th>\n",
       "      <td>3.0</td>\n",
       "      <td>AR</td>\n",
       "      <td>T</td>\n",
       "      <td>0</td>\n",
       "      <td>0</td>\n",
       "      <td>Trump</td>\n",
       "    </tr>\n",
       "    <tr>\n",
       "      <th>4</th>\n",
       "      <td>4.0</td>\n",
       "      <td>CA</td>\n",
       "      <td>B</td>\n",
       "      <td>-5</td>\n",
       "      <td>-5</td>\n",
       "      <td>Biden</td>\n",
       "    </tr>\n",
       "    <tr>\n",
       "      <th>5</th>\n",
       "      <td>5.0</td>\n",
       "      <td>CO</td>\n",
       "      <td>B</td>\n",
       "      <td>-5</td>\n",
       "      <td>-5</td>\n",
       "      <td>Biden</td>\n",
       "    </tr>\n",
       "    <tr>\n",
       "      <th>6</th>\n",
       "      <td>6.0</td>\n",
       "      <td>CT</td>\n",
       "      <td>B</td>\n",
       "      <td>-5</td>\n",
       "      <td>-5</td>\n",
       "      <td>Biden</td>\n",
       "    </tr>\n",
       "    <tr>\n",
       "      <th>7</th>\n",
       "      <td>7.0</td>\n",
       "      <td>DE</td>\n",
       "      <td>B</td>\n",
       "      <td>-5</td>\n",
       "      <td>-5</td>\n",
       "      <td>Biden</td>\n",
       "    </tr>\n",
       "    <tr>\n",
       "      <th>8</th>\n",
       "      <td>8.0</td>\n",
       "      <td>DC</td>\n",
       "      <td>B</td>\n",
       "      <td>-5</td>\n",
       "      <td>-5</td>\n",
       "      <td>Biden</td>\n",
       "    </tr>\n",
       "    <tr>\n",
       "      <th>9</th>\n",
       "      <td>9.0</td>\n",
       "      <td>FL</td>\n",
       "      <td>T</td>\n",
       "      <td>4</td>\n",
       "      <td>-1</td>\n",
       "      <td>Trump</td>\n",
       "    </tr>\n",
       "    <tr>\n",
       "      <th>10</th>\n",
       "      <td>10.0</td>\n",
       "      <td>GA</td>\n",
       "      <td>B</td>\n",
       "      <td>4</td>\n",
       "      <td>-3</td>\n",
       "      <td>Biden</td>\n",
       "    </tr>\n",
       "    <tr>\n",
       "      <th>11</th>\n",
       "      <td>11.0</td>\n",
       "      <td>HI</td>\n",
       "      <td>B</td>\n",
       "      <td>-5</td>\n",
       "      <td>-5</td>\n",
       "      <td>Biden</td>\n",
       "    </tr>\n",
       "    <tr>\n",
       "      <th>12</th>\n",
       "      <td>12.0</td>\n",
       "      <td>ID</td>\n",
       "      <td>T</td>\n",
       "      <td>0</td>\n",
       "      <td>0</td>\n",
       "      <td>Trump</td>\n",
       "    </tr>\n",
       "    <tr>\n",
       "      <th>13</th>\n",
       "      <td>13.0</td>\n",
       "      <td>IL</td>\n",
       "      <td>B</td>\n",
       "      <td>-5</td>\n",
       "      <td>-5</td>\n",
       "      <td>Biden</td>\n",
       "    </tr>\n",
       "    <tr>\n",
       "      <th>14</th>\n",
       "      <td>14.0</td>\n",
       "      <td>IN</td>\n",
       "      <td>T</td>\n",
       "      <td>0</td>\n",
       "      <td>0</td>\n",
       "      <td>Trump</td>\n",
       "    </tr>\n",
       "    <tr>\n",
       "      <th>15</th>\n",
       "      <td>15.0</td>\n",
       "      <td>IA</td>\n",
       "      <td>T</td>\n",
       "      <td>0</td>\n",
       "      <td>0</td>\n",
       "      <td>Trump</td>\n",
       "    </tr>\n",
       "    <tr>\n",
       "      <th>16</th>\n",
       "      <td>16.0</td>\n",
       "      <td>KS</td>\n",
       "      <td>T</td>\n",
       "      <td>0</td>\n",
       "      <td>0</td>\n",
       "      <td>Trump</td>\n",
       "    </tr>\n",
       "    <tr>\n",
       "      <th>17</th>\n",
       "      <td>17.0</td>\n",
       "      <td>KY</td>\n",
       "      <td>T</td>\n",
       "      <td>0</td>\n",
       "      <td>0</td>\n",
       "      <td>Trump</td>\n",
       "    </tr>\n",
       "    <tr>\n",
       "      <th>18</th>\n",
       "      <td>18.0</td>\n",
       "      <td>LA</td>\n",
       "      <td>T</td>\n",
       "      <td>0</td>\n",
       "      <td>0</td>\n",
       "      <td>Trump</td>\n",
       "    </tr>\n",
       "    <tr>\n",
       "      <th>19</th>\n",
       "      <td>19.0</td>\n",
       "      <td>ME</td>\n",
       "      <td>B</td>\n",
       "      <td>-5</td>\n",
       "      <td>-5</td>\n",
       "      <td>Biden</td>\n",
       "    </tr>\n",
       "    <tr>\n",
       "      <th>20</th>\n",
       "      <td>20.0</td>\n",
       "      <td>MD</td>\n",
       "      <td>B</td>\n",
       "      <td>-5</td>\n",
       "      <td>-5</td>\n",
       "      <td>Biden</td>\n",
       "    </tr>\n",
       "    <tr>\n",
       "      <th>21</th>\n",
       "      <td>21.0</td>\n",
       "      <td>MA</td>\n",
       "      <td>B</td>\n",
       "      <td>-5</td>\n",
       "      <td>-5</td>\n",
       "      <td>Biden</td>\n",
       "    </tr>\n",
       "    <tr>\n",
       "      <th>22</th>\n",
       "      <td>22.0</td>\n",
       "      <td>MI</td>\n",
       "      <td>B</td>\n",
       "      <td>4</td>\n",
       "      <td>-3</td>\n",
       "      <td>Biden</td>\n",
       "    </tr>\n",
       "    <tr>\n",
       "      <th>23</th>\n",
       "      <td>23.0</td>\n",
       "      <td>MN</td>\n",
       "      <td>B</td>\n",
       "      <td>4</td>\n",
       "      <td>-3</td>\n",
       "      <td>Biden</td>\n",
       "    </tr>\n",
       "    <tr>\n",
       "      <th>24</th>\n",
       "      <td>24.0</td>\n",
       "      <td>MS</td>\n",
       "      <td>T</td>\n",
       "      <td>0</td>\n",
       "      <td>0</td>\n",
       "      <td>Trump</td>\n",
       "    </tr>\n",
       "    <tr>\n",
       "      <th>25</th>\n",
       "      <td>25.0</td>\n",
       "      <td>MO</td>\n",
       "      <td>T</td>\n",
       "      <td>0</td>\n",
       "      <td>0</td>\n",
       "      <td>Trump</td>\n",
       "    </tr>\n",
       "    <tr>\n",
       "      <th>26</th>\n",
       "      <td>26.0</td>\n",
       "      <td>MT</td>\n",
       "      <td>T</td>\n",
       "      <td>0</td>\n",
       "      <td>0</td>\n",
       "      <td>Trump</td>\n",
       "    </tr>\n",
       "    <tr>\n",
       "      <th>27</th>\n",
       "      <td>27.0</td>\n",
       "      <td>NE</td>\n",
       "      <td>T</td>\n",
       "      <td>0</td>\n",
       "      <td>0</td>\n",
       "      <td>Trump</td>\n",
       "    </tr>\n",
       "    <tr>\n",
       "      <th>28</th>\n",
       "      <td>28.0</td>\n",
       "      <td>NV</td>\n",
       "      <td>B</td>\n",
       "      <td>-5</td>\n",
       "      <td>-5</td>\n",
       "      <td>Biden</td>\n",
       "    </tr>\n",
       "    <tr>\n",
       "      <th>29</th>\n",
       "      <td>29.0</td>\n",
       "      <td>NH</td>\n",
       "      <td>B</td>\n",
       "      <td>-5</td>\n",
       "      <td>-5</td>\n",
       "      <td>Biden</td>\n",
       "    </tr>\n",
       "    <tr>\n",
       "      <th>30</th>\n",
       "      <td>30.0</td>\n",
       "      <td>NJ</td>\n",
       "      <td>B</td>\n",
       "      <td>-5</td>\n",
       "      <td>-5</td>\n",
       "      <td>Biden</td>\n",
       "    </tr>\n",
       "    <tr>\n",
       "      <th>31</th>\n",
       "      <td>31.0</td>\n",
       "      <td>NM</td>\n",
       "      <td>B</td>\n",
       "      <td>-5</td>\n",
       "      <td>-5</td>\n",
       "      <td>Biden</td>\n",
       "    </tr>\n",
       "    <tr>\n",
       "      <th>32</th>\n",
       "      <td>32.0</td>\n",
       "      <td>NY</td>\n",
       "      <td>B</td>\n",
       "      <td>-5</td>\n",
       "      <td>-5</td>\n",
       "      <td>Biden</td>\n",
       "    </tr>\n",
       "    <tr>\n",
       "      <th>33</th>\n",
       "      <td>33.0</td>\n",
       "      <td>NC</td>\n",
       "      <td>T</td>\n",
       "      <td>4</td>\n",
       "      <td>-1</td>\n",
       "      <td>Trump</td>\n",
       "    </tr>\n",
       "    <tr>\n",
       "      <th>34</th>\n",
       "      <td>34.0</td>\n",
       "      <td>ND</td>\n",
       "      <td>T</td>\n",
       "      <td>0</td>\n",
       "      <td>0</td>\n",
       "      <td>Trump</td>\n",
       "    </tr>\n",
       "    <tr>\n",
       "      <th>35</th>\n",
       "      <td>35.0</td>\n",
       "      <td>OH</td>\n",
       "      <td>T</td>\n",
       "      <td>0</td>\n",
       "      <td>0</td>\n",
       "      <td>Trump</td>\n",
       "    </tr>\n",
       "    <tr>\n",
       "      <th>36</th>\n",
       "      <td>36.0</td>\n",
       "      <td>OK</td>\n",
       "      <td>T</td>\n",
       "      <td>0</td>\n",
       "      <td>0</td>\n",
       "      <td>Trump</td>\n",
       "    </tr>\n",
       "    <tr>\n",
       "      <th>37</th>\n",
       "      <td>37.0</td>\n",
       "      <td>OR</td>\n",
       "      <td>B</td>\n",
       "      <td>-5</td>\n",
       "      <td>-5</td>\n",
       "      <td>Biden</td>\n",
       "    </tr>\n",
       "    <tr>\n",
       "      <th>38</th>\n",
       "      <td>38.0</td>\n",
       "      <td>PA</td>\n",
       "      <td>B</td>\n",
       "      <td>4</td>\n",
       "      <td>-3</td>\n",
       "      <td>Biden</td>\n",
       "    </tr>\n",
       "    <tr>\n",
       "      <th>39</th>\n",
       "      <td>39.0</td>\n",
       "      <td>PR</td>\n",
       "      <td>T</td>\n",
       "      <td>0</td>\n",
       "      <td>0</td>\n",
       "      <td>Trump</td>\n",
       "    </tr>\n",
       "    <tr>\n",
       "      <th>40</th>\n",
       "      <td>40.0</td>\n",
       "      <td>RI</td>\n",
       "      <td>B</td>\n",
       "      <td>-5</td>\n",
       "      <td>-5</td>\n",
       "      <td>Biden</td>\n",
       "    </tr>\n",
       "    <tr>\n",
       "      <th>41</th>\n",
       "      <td>41.0</td>\n",
       "      <td>SC</td>\n",
       "      <td>T</td>\n",
       "      <td>0</td>\n",
       "      <td>0</td>\n",
       "      <td>Trump</td>\n",
       "    </tr>\n",
       "    <tr>\n",
       "      <th>42</th>\n",
       "      <td>42.0</td>\n",
       "      <td>TN</td>\n",
       "      <td>T</td>\n",
       "      <td>0</td>\n",
       "      <td>0</td>\n",
       "      <td>Trump</td>\n",
       "    </tr>\n",
       "    <tr>\n",
       "      <th>43</th>\n",
       "      <td>43.0</td>\n",
       "      <td>TX</td>\n",
       "      <td>T</td>\n",
       "      <td>0</td>\n",
       "      <td>0</td>\n",
       "      <td>Trump</td>\n",
       "    </tr>\n",
       "    <tr>\n",
       "      <th>44</th>\n",
       "      <td>44.0</td>\n",
       "      <td>UT</td>\n",
       "      <td>T</td>\n",
       "      <td>0</td>\n",
       "      <td>0</td>\n",
       "      <td>Trump</td>\n",
       "    </tr>\n",
       "    <tr>\n",
       "      <th>45</th>\n",
       "      <td>45.0</td>\n",
       "      <td>VT</td>\n",
       "      <td>B</td>\n",
       "      <td>-5</td>\n",
       "      <td>-5</td>\n",
       "      <td>Biden</td>\n",
       "    </tr>\n",
       "    <tr>\n",
       "      <th>46</th>\n",
       "      <td>46.0</td>\n",
       "      <td>VA</td>\n",
       "      <td>B</td>\n",
       "      <td>-5</td>\n",
       "      <td>-5</td>\n",
       "      <td>Biden</td>\n",
       "    </tr>\n",
       "    <tr>\n",
       "      <th>47</th>\n",
       "      <td>47.0</td>\n",
       "      <td>WA</td>\n",
       "      <td>B</td>\n",
       "      <td>-5</td>\n",
       "      <td>-5</td>\n",
       "      <td>Biden</td>\n",
       "    </tr>\n",
       "    <tr>\n",
       "      <th>48</th>\n",
       "      <td>48.0</td>\n",
       "      <td>WV</td>\n",
       "      <td>T</td>\n",
       "      <td>0</td>\n",
       "      <td>0</td>\n",
       "      <td>Trump</td>\n",
       "    </tr>\n",
       "    <tr>\n",
       "      <th>49</th>\n",
       "      <td>49.0</td>\n",
       "      <td>WI</td>\n",
       "      <td>B</td>\n",
       "      <td>4</td>\n",
       "      <td>-3</td>\n",
       "      <td>Biden</td>\n",
       "    </tr>\n",
       "    <tr>\n",
       "      <th>50</th>\n",
       "      <td>50.0</td>\n",
       "      <td>WY</td>\n",
       "      <td>T</td>\n",
       "      <td>0</td>\n",
       "      <td>0</td>\n",
       "      <td>Trump</td>\n",
       "    </tr>\n",
       "    <tr>\n",
       "      <th>51</th>\n",
       "      <td>51.0</td>\n",
       "      <td>SD</td>\n",
       "      <td>T</td>\n",
       "      <td>0</td>\n",
       "      <td>0</td>\n",
       "      <td>Trump</td>\n",
       "    </tr>\n",
       "  </tbody>\n",
       "</table>\n",
       "</div>"
      ],
      "text/plain": [
       "    Unnamed: 0 state_code won  color  newcolor winner\n",
       "0          2.0         AZ   B      4        -3  Biden\n",
       "1          1.0         AK   T      0         0  Trump\n",
       "2          0.0         AL   T      0         0  Trump\n",
       "3          3.0         AR   T      0         0  Trump\n",
       "4          4.0         CA   B     -5        -5  Biden\n",
       "5          5.0         CO   B     -5        -5  Biden\n",
       "6          6.0         CT   B     -5        -5  Biden\n",
       "7          7.0         DE   B     -5        -5  Biden\n",
       "8          8.0         DC   B     -5        -5  Biden\n",
       "9          9.0         FL   T      4        -1  Trump\n",
       "10        10.0         GA   B      4        -3  Biden\n",
       "11        11.0         HI   B     -5        -5  Biden\n",
       "12        12.0         ID   T      0         0  Trump\n",
       "13        13.0         IL   B     -5        -5  Biden\n",
       "14        14.0         IN   T      0         0  Trump\n",
       "15        15.0         IA   T      0         0  Trump\n",
       "16        16.0         KS   T      0         0  Trump\n",
       "17        17.0         KY   T      0         0  Trump\n",
       "18        18.0         LA   T      0         0  Trump\n",
       "19        19.0         ME   B     -5        -5  Biden\n",
       "20        20.0         MD   B     -5        -5  Biden\n",
       "21        21.0         MA   B     -5        -5  Biden\n",
       "22        22.0         MI   B      4        -3  Biden\n",
       "23        23.0         MN   B      4        -3  Biden\n",
       "24        24.0         MS   T      0         0  Trump\n",
       "25        25.0         MO   T      0         0  Trump\n",
       "26        26.0         MT   T      0         0  Trump\n",
       "27        27.0         NE   T      0         0  Trump\n",
       "28        28.0         NV   B     -5        -5  Biden\n",
       "29        29.0         NH   B     -5        -5  Biden\n",
       "30        30.0         NJ   B     -5        -5  Biden\n",
       "31        31.0         NM   B     -5        -5  Biden\n",
       "32        32.0         NY   B     -5        -5  Biden\n",
       "33        33.0         NC   T      4        -1  Trump\n",
       "34        34.0         ND   T      0         0  Trump\n",
       "35        35.0         OH   T      0         0  Trump\n",
       "36        36.0         OK   T      0         0  Trump\n",
       "37        37.0         OR   B     -5        -5  Biden\n",
       "38        38.0         PA   B      4        -3  Biden\n",
       "39        39.0         PR   T      0         0  Trump\n",
       "40        40.0         RI   B     -5        -5  Biden\n",
       "41        41.0         SC   T      0         0  Trump\n",
       "42        42.0         TN   T      0         0  Trump\n",
       "43        43.0         TX   T      0         0  Trump\n",
       "44        44.0         UT   T      0         0  Trump\n",
       "45        45.0         VT   B     -5        -5  Biden\n",
       "46        46.0         VA   B     -5        -5  Biden\n",
       "47        47.0         WA   B     -5        -5  Biden\n",
       "48        48.0         WV   T      0         0  Trump\n",
       "49        49.0         WI   B      4        -3  Biden\n",
       "50        50.0         WY   T      0         0  Trump\n",
       "51        51.0         SD   T      0         0  Trump"
      ]
     },
     "execution_count": 72,
     "metadata": {},
     "output_type": "execute_result"
    }
   ],
   "source": [
    "real_result =  pd.read_csv('Plotly/finalResult.csv', lineterminator='\\n')\n",
    "\n",
    "real_result = real_result.drop(['State'], axis=1)\n",
    "\n",
    "real_result = real_result.rename(columns={'newST': 'state_code'})\n",
    "real_result['winner'] = real_result['won'].str.replace(\"T\", \"Trump\").replace(\"B\", \"Biden\")\n",
    "#to get biden as blue \n",
    "d = {0: 2, 2: 0}\n",
    "real_result = real_result.rename(d).sort_index()\n",
    "#unnessarcy row\n",
    "real_result = real_result.drop([52])\n",
    "real_result\n",
    "\n"
   ]
  },
  {
   "cell_type": "code",
   "execution_count": 73,
   "metadata": {},
   "outputs": [
    {
     "data": {
      "text/html": [
       "<div>\n",
       "<style scoped>\n",
       "    .dataframe tbody tr th:only-of-type {\n",
       "        vertical-align: middle;\n",
       "    }\n",
       "\n",
       "    .dataframe tbody tr th {\n",
       "        vertical-align: top;\n",
       "    }\n",
       "\n",
       "    .dataframe thead th {\n",
       "        text-align: right;\n",
       "    }\n",
       "</style>\n",
       "<table border=\"1\" class=\"dataframe\">\n",
       "  <thead>\n",
       "    <tr style=\"text-align: right;\">\n",
       "      <th></th>\n",
       "      <th>state</th>\n",
       "      <th>total_tweets</th>\n",
       "      <th>Trump_P</th>\n",
       "      <th>Trump_N</th>\n",
       "      <th>Trump_Na</th>\n",
       "      <th>Biden_P</th>\n",
       "      <th>Biden_N</th>\n",
       "      <th>Biden_Na</th>\n",
       "      <th>Trump_P_perc_total</th>\n",
       "      <th>Biden_P_perc_total</th>\n",
       "      <th>Trump_P_perc_only</th>\n",
       "      <th>Biden_P_perc_only</th>\n",
       "      <th>state_code</th>\n",
       "      <th>predicted_winner</th>\n",
       "      <th>winner</th>\n",
       "    </tr>\n",
       "  </thead>\n",
       "  <tbody>\n",
       "    <tr>\n",
       "      <th>0</th>\n",
       "      <td>Pennsylvania</td>\n",
       "      <td>254404</td>\n",
       "      <td>63484</td>\n",
       "      <td>55171</td>\n",
       "      <td>40406</td>\n",
       "      <td>38226</td>\n",
       "      <td>26713</td>\n",
       "      <td>30404</td>\n",
       "      <td>0.249540</td>\n",
       "      <td>0.150257</td>\n",
       "      <td>0.399117</td>\n",
       "      <td>0.400931</td>\n",
       "      <td>PA</td>\n",
       "      <td>Biden</td>\n",
       "      <td>Biden</td>\n",
       "    </tr>\n",
       "    <tr>\n",
       "      <th>1</th>\n",
       "      <td>New Jersey</td>\n",
       "      <td>162481</td>\n",
       "      <td>40968</td>\n",
       "      <td>35375</td>\n",
       "      <td>25372</td>\n",
       "      <td>24350</td>\n",
       "      <td>17160</td>\n",
       "      <td>19256</td>\n",
       "      <td>0.252140</td>\n",
       "      <td>0.149864</td>\n",
       "      <td>0.402772</td>\n",
       "      <td>0.400718</td>\n",
       "      <td>NJ</td>\n",
       "      <td>Trump</td>\n",
       "      <td>Biden</td>\n",
       "    </tr>\n",
       "    <tr>\n",
       "      <th>2</th>\n",
       "      <td>Colorado</td>\n",
       "      <td>143612</td>\n",
       "      <td>35116</td>\n",
       "      <td>33106</td>\n",
       "      <td>22356</td>\n",
       "      <td>21400</td>\n",
       "      <td>14664</td>\n",
       "      <td>16970</td>\n",
       "      <td>0.244520</td>\n",
       "      <td>0.149013</td>\n",
       "      <td>0.387688</td>\n",
       "      <td>0.403515</td>\n",
       "      <td>CO</td>\n",
       "      <td>Biden</td>\n",
       "      <td>Biden</td>\n",
       "    </tr>\n",
       "    <tr>\n",
       "      <th>3</th>\n",
       "      <td>Massachusetts</td>\n",
       "      <td>153022</td>\n",
       "      <td>36289</td>\n",
       "      <td>35300</td>\n",
       "      <td>23833</td>\n",
       "      <td>23821</td>\n",
       "      <td>15550</td>\n",
       "      <td>18229</td>\n",
       "      <td>0.237149</td>\n",
       "      <td>0.155670</td>\n",
       "      <td>0.380300</td>\n",
       "      <td>0.413559</td>\n",
       "      <td>MA</td>\n",
       "      <td>Biden</td>\n",
       "      <td>Biden</td>\n",
       "    </tr>\n",
       "    <tr>\n",
       "      <th>4</th>\n",
       "      <td>Florida</td>\n",
       "      <td>679529</td>\n",
       "      <td>182091</td>\n",
       "      <td>140167</td>\n",
       "      <td>108537</td>\n",
       "      <td>93633</td>\n",
       "      <td>74465</td>\n",
       "      <td>80636</td>\n",
       "      <td>0.267966</td>\n",
       "      <td>0.137791</td>\n",
       "      <td>0.422686</td>\n",
       "      <td>0.376438</td>\n",
       "      <td>FL</td>\n",
       "      <td>Trump</td>\n",
       "      <td>Trump</td>\n",
       "    </tr>\n",
       "    <tr>\n",
       "      <th>5</th>\n",
       "      <td>Minnesota</td>\n",
       "      <td>106348</td>\n",
       "      <td>25830</td>\n",
       "      <td>24066</td>\n",
       "      <td>16846</td>\n",
       "      <td>16114</td>\n",
       "      <td>10804</td>\n",
       "      <td>12688</td>\n",
       "      <td>0.242882</td>\n",
       "      <td>0.151521</td>\n",
       "      <td>0.387013</td>\n",
       "      <td>0.406858</td>\n",
       "      <td>MN</td>\n",
       "      <td>Biden</td>\n",
       "      <td>Biden</td>\n",
       "    </tr>\n",
       "    <tr>\n",
       "      <th>6</th>\n",
       "      <td>California</td>\n",
       "      <td>973653</td>\n",
       "      <td>237889</td>\n",
       "      <td>219873</td>\n",
       "      <td>152896</td>\n",
       "      <td>148577</td>\n",
       "      <td>97989</td>\n",
       "      <td>116429</td>\n",
       "      <td>0.244326</td>\n",
       "      <td>0.152597</td>\n",
       "      <td>0.389562</td>\n",
       "      <td>0.409309</td>\n",
       "      <td>CA</td>\n",
       "      <td>Biden</td>\n",
       "      <td>Biden</td>\n",
       "    </tr>\n",
       "    <tr>\n",
       "      <th>7</th>\n",
       "      <td>Washington</td>\n",
       "      <td>305040</td>\n",
       "      <td>72305</td>\n",
       "      <td>68692</td>\n",
       "      <td>49123</td>\n",
       "      <td>47588</td>\n",
       "      <td>30219</td>\n",
       "      <td>37113</td>\n",
       "      <td>0.237034</td>\n",
       "      <td>0.156006</td>\n",
       "      <td>0.380312</td>\n",
       "      <td>0.414097</td>\n",
       "      <td>WA</td>\n",
       "      <td>Biden</td>\n",
       "      <td>Biden</td>\n",
       "    </tr>\n",
       "    <tr>\n",
       "      <th>8</th>\n",
       "      <td>South Carolina</td>\n",
       "      <td>91249</td>\n",
       "      <td>24328</td>\n",
       "      <td>18559</td>\n",
       "      <td>14370</td>\n",
       "      <td>12768</td>\n",
       "      <td>10083</td>\n",
       "      <td>11141</td>\n",
       "      <td>0.266611</td>\n",
       "      <td>0.139925</td>\n",
       "      <td>0.424891</td>\n",
       "      <td>0.375618</td>\n",
       "      <td>SC</td>\n",
       "      <td>Trump</td>\n",
       "      <td>Trump</td>\n",
       "    </tr>\n",
       "    <tr>\n",
       "      <th>9</th>\n",
       "      <td>Nevada</td>\n",
       "      <td>87471</td>\n",
       "      <td>22671</td>\n",
       "      <td>18780</td>\n",
       "      <td>13695</td>\n",
       "      <td>12656</td>\n",
       "      <td>9310</td>\n",
       "      <td>10359</td>\n",
       "      <td>0.259183</td>\n",
       "      <td>0.144688</td>\n",
       "      <td>0.411109</td>\n",
       "      <td>0.391524</td>\n",
       "      <td>NV</td>\n",
       "      <td>Trump</td>\n",
       "      <td>Biden</td>\n",
       "    </tr>\n",
       "    <tr>\n",
       "      <th>10</th>\n",
       "      <td>Texas</td>\n",
       "      <td>728105</td>\n",
       "      <td>190647</td>\n",
       "      <td>146858</td>\n",
       "      <td>112016</td>\n",
       "      <td>106222</td>\n",
       "      <td>81251</td>\n",
       "      <td>91111</td>\n",
       "      <td>0.261840</td>\n",
       "      <td>0.145888</td>\n",
       "      <td>0.424111</td>\n",
       "      <td>0.381293</td>\n",
       "      <td>TX</td>\n",
       "      <td>Trump</td>\n",
       "      <td>Trump</td>\n",
       "    </tr>\n",
       "    <tr>\n",
       "      <th>11</th>\n",
       "      <td>Illinois</td>\n",
       "      <td>209126</td>\n",
       "      <td>49807</td>\n",
       "      <td>47207</td>\n",
       "      <td>33109</td>\n",
       "      <td>32027</td>\n",
       "      <td>21512</td>\n",
       "      <td>25464</td>\n",
       "      <td>0.238167</td>\n",
       "      <td>0.153147</td>\n",
       "      <td>0.382769</td>\n",
       "      <td>0.405390</td>\n",
       "      <td>IL</td>\n",
       "      <td>Biden</td>\n",
       "      <td>Biden</td>\n",
       "    </tr>\n",
       "    <tr>\n",
       "      <th>12</th>\n",
       "      <td>Oregon</td>\n",
       "      <td>132304</td>\n",
       "      <td>32483</td>\n",
       "      <td>31454</td>\n",
       "      <td>21149</td>\n",
       "      <td>19268</td>\n",
       "      <td>13075</td>\n",
       "      <td>14875</td>\n",
       "      <td>0.245518</td>\n",
       "      <td>0.145634</td>\n",
       "      <td>0.381767</td>\n",
       "      <td>0.408065</td>\n",
       "      <td>OR</td>\n",
       "      <td>Biden</td>\n",
       "      <td>Biden</td>\n",
       "    </tr>\n",
       "    <tr>\n",
       "      <th>13</th>\n",
       "      <td>Louisiana</td>\n",
       "      <td>73033</td>\n",
       "      <td>19448</td>\n",
       "      <td>14311</td>\n",
       "      <td>11350</td>\n",
       "      <td>10307</td>\n",
       "      <td>8396</td>\n",
       "      <td>9221</td>\n",
       "      <td>0.266291</td>\n",
       "      <td>0.141128</td>\n",
       "      <td>0.431133</td>\n",
       "      <td>0.369109</td>\n",
       "      <td>LA</td>\n",
       "      <td>Trump</td>\n",
       "      <td>Trump</td>\n",
       "    </tr>\n",
       "    <tr>\n",
       "      <th>14</th>\n",
       "      <td>Wisconsin</td>\n",
       "      <td>92774</td>\n",
       "      <td>22632</td>\n",
       "      <td>20476</td>\n",
       "      <td>14854</td>\n",
       "      <td>14057</td>\n",
       "      <td>9463</td>\n",
       "      <td>11292</td>\n",
       "      <td>0.243948</td>\n",
       "      <td>0.151519</td>\n",
       "      <td>0.390463</td>\n",
       "      <td>0.403798</td>\n",
       "      <td>WI</td>\n",
       "      <td>Biden</td>\n",
       "      <td>Biden</td>\n",
       "    </tr>\n",
       "    <tr>\n",
       "      <th>15</th>\n",
       "      <td>Hawaii</td>\n",
       "      <td>39411</td>\n",
       "      <td>10327</td>\n",
       "      <td>8781</td>\n",
       "      <td>5915</td>\n",
       "      <td>5533</td>\n",
       "      <td>4489</td>\n",
       "      <td>4366</td>\n",
       "      <td>0.262033</td>\n",
       "      <td>0.140392</td>\n",
       "      <td>0.412700</td>\n",
       "      <td>0.384557</td>\n",
       "      <td>HI</td>\n",
       "      <td>Trump</td>\n",
       "      <td>Biden</td>\n",
       "    </tr>\n",
       "    <tr>\n",
       "      <th>16</th>\n",
       "      <td>Indiana</td>\n",
       "      <td>104144</td>\n",
       "      <td>27066</td>\n",
       "      <td>22132</td>\n",
       "      <td>16214</td>\n",
       "      <td>15091</td>\n",
       "      <td>11083</td>\n",
       "      <td>12558</td>\n",
       "      <td>0.259890</td>\n",
       "      <td>0.144905</td>\n",
       "      <td>0.413777</td>\n",
       "      <td>0.389626</td>\n",
       "      <td>IN</td>\n",
       "      <td>Trump</td>\n",
       "      <td>Trump</td>\n",
       "    </tr>\n",
       "    <tr>\n",
       "      <th>17</th>\n",
       "      <td>Maryland</td>\n",
       "      <td>111763</td>\n",
       "      <td>26730</td>\n",
       "      <td>25276</td>\n",
       "      <td>17455</td>\n",
       "      <td>17062</td>\n",
       "      <td>11697</td>\n",
       "      <td>13543</td>\n",
       "      <td>0.239167</td>\n",
       "      <td>0.152662</td>\n",
       "      <td>0.384820</td>\n",
       "      <td>0.403338</td>\n",
       "      <td>MD</td>\n",
       "      <td>Biden</td>\n",
       "      <td>Biden</td>\n",
       "    </tr>\n",
       "    <tr>\n",
       "      <th>18</th>\n",
       "      <td>Michigan</td>\n",
       "      <td>196196</td>\n",
       "      <td>48578</td>\n",
       "      <td>44276</td>\n",
       "      <td>31201</td>\n",
       "      <td>28792</td>\n",
       "      <td>20238</td>\n",
       "      <td>23111</td>\n",
       "      <td>0.247599</td>\n",
       "      <td>0.146751</td>\n",
       "      <td>0.391584</td>\n",
       "      <td>0.399107</td>\n",
       "      <td>MI</td>\n",
       "      <td>Biden</td>\n",
       "      <td>Biden</td>\n",
       "    </tr>\n",
       "    <tr>\n",
       "      <th>19</th>\n",
       "      <td>Alaska</td>\n",
       "      <td>21824</td>\n",
       "      <td>5860</td>\n",
       "      <td>4856</td>\n",
       "      <td>3588</td>\n",
       "      <td>2824</td>\n",
       "      <td>2254</td>\n",
       "      <td>2442</td>\n",
       "      <td>0.268512</td>\n",
       "      <td>0.129399</td>\n",
       "      <td>0.409676</td>\n",
       "      <td>0.375532</td>\n",
       "      <td>AK</td>\n",
       "      <td>Trump</td>\n",
       "      <td>Trump</td>\n",
       "    </tr>\n",
       "    <tr>\n",
       "      <th>20</th>\n",
       "      <td>Utah</td>\n",
       "      <td>44600</td>\n",
       "      <td>10761</td>\n",
       "      <td>10327</td>\n",
       "      <td>6920</td>\n",
       "      <td>6461</td>\n",
       "      <td>4785</td>\n",
       "      <td>5346</td>\n",
       "      <td>0.241278</td>\n",
       "      <td>0.144865</td>\n",
       "      <td>0.384212</td>\n",
       "      <td>0.389405</td>\n",
       "      <td>UT</td>\n",
       "      <td>Biden</td>\n",
       "      <td>Trump</td>\n",
       "    </tr>\n",
       "    <tr>\n",
       "      <th>21</th>\n",
       "      <td>Iowa</td>\n",
       "      <td>44157</td>\n",
       "      <td>11049</td>\n",
       "      <td>9777</td>\n",
       "      <td>7139</td>\n",
       "      <td>6437</td>\n",
       "      <td>4481</td>\n",
       "      <td>5274</td>\n",
       "      <td>0.250221</td>\n",
       "      <td>0.145775</td>\n",
       "      <td>0.395101</td>\n",
       "      <td>0.397542</td>\n",
       "      <td>IA</td>\n",
       "      <td>Biden</td>\n",
       "      <td>Trump</td>\n",
       "    </tr>\n",
       "    <tr>\n",
       "      <th>22</th>\n",
       "      <td>Arizona</td>\n",
       "      <td>206162</td>\n",
       "      <td>53138</td>\n",
       "      <td>44431</td>\n",
       "      <td>32842</td>\n",
       "      <td>29253</td>\n",
       "      <td>22203</td>\n",
       "      <td>24295</td>\n",
       "      <td>0.257749</td>\n",
       "      <td>0.141893</td>\n",
       "      <td>0.407466</td>\n",
       "      <td>0.386173</td>\n",
       "      <td>AZ</td>\n",
       "      <td>Trump</td>\n",
       "      <td>Biden</td>\n",
       "    </tr>\n",
       "    <tr>\n",
       "      <th>23</th>\n",
       "      <td>Kentucky</td>\n",
       "      <td>75241</td>\n",
       "      <td>19552</td>\n",
       "      <td>15409</td>\n",
       "      <td>11663</td>\n",
       "      <td>10977</td>\n",
       "      <td>8370</td>\n",
       "      <td>9270</td>\n",
       "      <td>0.259858</td>\n",
       "      <td>0.145891</td>\n",
       "      <td>0.419355</td>\n",
       "      <td>0.383583</td>\n",
       "      <td>KY</td>\n",
       "      <td>Trump</td>\n",
       "      <td>Trump</td>\n",
       "    </tr>\n",
       "    <tr>\n",
       "      <th>24</th>\n",
       "      <td>Virginia</td>\n",
       "      <td>183936</td>\n",
       "      <td>45655</td>\n",
       "      <td>39872</td>\n",
       "      <td>28759</td>\n",
       "      <td>27973</td>\n",
       "      <td>19395</td>\n",
       "      <td>22282</td>\n",
       "      <td>0.248211</td>\n",
       "      <td>0.152080</td>\n",
       "      <td>0.399480</td>\n",
       "      <td>0.401622</td>\n",
       "      <td>VA</td>\n",
       "      <td>Biden</td>\n",
       "      <td>Biden</td>\n",
       "    </tr>\n",
       "    <tr>\n",
       "      <th>25</th>\n",
       "      <td>New York</td>\n",
       "      <td>501803</td>\n",
       "      <td>122675</td>\n",
       "      <td>112152</td>\n",
       "      <td>79110</td>\n",
       "      <td>77178</td>\n",
       "      <td>50564</td>\n",
       "      <td>60124</td>\n",
       "      <td>0.244468</td>\n",
       "      <td>0.153801</td>\n",
       "      <td>0.390763</td>\n",
       "      <td>0.410814</td>\n",
       "      <td>NM</td>\n",
       "      <td>Biden</td>\n",
       "      <td>Biden</td>\n",
       "    </tr>\n",
       "    <tr>\n",
       "      <th>26</th>\n",
       "      <td>Oklahoma</td>\n",
       "      <td>69271</td>\n",
       "      <td>18449</td>\n",
       "      <td>13666</td>\n",
       "      <td>10912</td>\n",
       "      <td>9675</td>\n",
       "      <td>8016</td>\n",
       "      <td>8553</td>\n",
       "      <td>0.266331</td>\n",
       "      <td>0.139669</td>\n",
       "      <td>0.428777</td>\n",
       "      <td>0.368656</td>\n",
       "      <td>OK</td>\n",
       "      <td>Trump</td>\n",
       "      <td>Trump</td>\n",
       "    </tr>\n",
       "    <tr>\n",
       "      <th>27</th>\n",
       "      <td>Georgia</td>\n",
       "      <td>200948</td>\n",
       "      <td>51347</td>\n",
       "      <td>41152</td>\n",
       "      <td>31013</td>\n",
       "      <td>30043</td>\n",
       "      <td>21786</td>\n",
       "      <td>25607</td>\n",
       "      <td>0.255524</td>\n",
       "      <td>0.149506</td>\n",
       "      <td>0.415725</td>\n",
       "      <td>0.387972</td>\n",
       "      <td>GA</td>\n",
       "      <td>Trump</td>\n",
       "      <td>Biden</td>\n",
       "    </tr>\n",
       "    <tr>\n",
       "      <th>28</th>\n",
       "      <td>North Dakota</td>\n",
       "      <td>7674</td>\n",
       "      <td>1934</td>\n",
       "      <td>1735</td>\n",
       "      <td>1360</td>\n",
       "      <td>1023</td>\n",
       "      <td>768</td>\n",
       "      <td>854</td>\n",
       "      <td>0.252020</td>\n",
       "      <td>0.133307</td>\n",
       "      <td>0.384569</td>\n",
       "      <td>0.386767</td>\n",
       "      <td>ND</td>\n",
       "      <td>Biden</td>\n",
       "      <td>Trump</td>\n",
       "    </tr>\n",
       "    <tr>\n",
       "      <th>29</th>\n",
       "      <td>Tennessee</td>\n",
       "      <td>134089</td>\n",
       "      <td>36979</td>\n",
       "      <td>26454</td>\n",
       "      <td>21381</td>\n",
       "      <td>18387</td>\n",
       "      <td>14679</td>\n",
       "      <td>16209</td>\n",
       "      <td>0.275780</td>\n",
       "      <td>0.137125</td>\n",
       "      <td>0.436001</td>\n",
       "      <td>0.373151</td>\n",
       "      <td>TN</td>\n",
       "      <td>Trump</td>\n",
       "      <td>Trump</td>\n",
       "    </tr>\n",
       "    <tr>\n",
       "      <th>30</th>\n",
       "      <td>Nebraska</td>\n",
       "      <td>32315</td>\n",
       "      <td>8524</td>\n",
       "      <td>6914</td>\n",
       "      <td>5077</td>\n",
       "      <td>4636</td>\n",
       "      <td>3356</td>\n",
       "      <td>3808</td>\n",
       "      <td>0.263778</td>\n",
       "      <td>0.143463</td>\n",
       "      <td>0.415501</td>\n",
       "      <td>0.392881</td>\n",
       "      <td>NE</td>\n",
       "      <td>Trump</td>\n",
       "      <td>Trump</td>\n",
       "    </tr>\n",
       "    <tr>\n",
       "      <th>31</th>\n",
       "      <td>Kansas</td>\n",
       "      <td>62921</td>\n",
       "      <td>15325</td>\n",
       "      <td>13591</td>\n",
       "      <td>9835</td>\n",
       "      <td>9521</td>\n",
       "      <td>6825</td>\n",
       "      <td>7824</td>\n",
       "      <td>0.243559</td>\n",
       "      <td>0.151317</td>\n",
       "      <td>0.395474</td>\n",
       "      <td>0.393918</td>\n",
       "      <td>KS</td>\n",
       "      <td>Trump</td>\n",
       "      <td>Trump</td>\n",
       "    </tr>\n",
       "    <tr>\n",
       "      <th>32</th>\n",
       "      <td>Arkansas</td>\n",
       "      <td>48476</td>\n",
       "      <td>12773</td>\n",
       "      <td>9844</td>\n",
       "      <td>7568</td>\n",
       "      <td>6871</td>\n",
       "      <td>5451</td>\n",
       "      <td>5969</td>\n",
       "      <td>0.263491</td>\n",
       "      <td>0.141740</td>\n",
       "      <td>0.423157</td>\n",
       "      <td>0.375649</td>\n",
       "      <td>AR</td>\n",
       "      <td>Trump</td>\n",
       "      <td>Trump</td>\n",
       "    </tr>\n",
       "    <tr>\n",
       "      <th>33</th>\n",
       "      <td>Idaho</td>\n",
       "      <td>30356</td>\n",
       "      <td>7752</td>\n",
       "      <td>6437</td>\n",
       "      <td>4876</td>\n",
       "      <td>4259</td>\n",
       "      <td>3419</td>\n",
       "      <td>3613</td>\n",
       "      <td>0.255370</td>\n",
       "      <td>0.140302</td>\n",
       "      <td>0.406609</td>\n",
       "      <td>0.377203</td>\n",
       "      <td>ID</td>\n",
       "      <td>Trump</td>\n",
       "      <td>Trump</td>\n",
       "    </tr>\n",
       "    <tr>\n",
       "      <th>34</th>\n",
       "      <td>Ohio</td>\n",
       "      <td>228451</td>\n",
       "      <td>57491</td>\n",
       "      <td>49288</td>\n",
       "      <td>36438</td>\n",
       "      <td>33538</td>\n",
       "      <td>24236</td>\n",
       "      <td>27460</td>\n",
       "      <td>0.251656</td>\n",
       "      <td>0.146806</td>\n",
       "      <td>0.401426</td>\n",
       "      <td>0.393481</td>\n",
       "      <td>OH</td>\n",
       "      <td>Trump</td>\n",
       "      <td>Trump</td>\n",
       "    </tr>\n",
       "    <tr>\n",
       "      <th>35</th>\n",
       "      <td>New Mexico</td>\n",
       "      <td>37242</td>\n",
       "      <td>9104</td>\n",
       "      <td>8524</td>\n",
       "      <td>5993</td>\n",
       "      <td>5470</td>\n",
       "      <td>3671</td>\n",
       "      <td>4480</td>\n",
       "      <td>0.244455</td>\n",
       "      <td>0.146877</td>\n",
       "      <td>0.385420</td>\n",
       "      <td>0.401586</td>\n",
       "      <td>NY</td>\n",
       "      <td>Biden</td>\n",
       "      <td>Biden</td>\n",
       "    </tr>\n",
       "    <tr>\n",
       "      <th>36</th>\n",
       "      <td>North Carolina</td>\n",
       "      <td>186695</td>\n",
       "      <td>47480</td>\n",
       "      <td>40292</td>\n",
       "      <td>29442</td>\n",
       "      <td>27248</td>\n",
       "      <td>19506</td>\n",
       "      <td>22727</td>\n",
       "      <td>0.254319</td>\n",
       "      <td>0.145949</td>\n",
       "      <td>0.405071</td>\n",
       "      <td>0.392165</td>\n",
       "      <td>NC</td>\n",
       "      <td>Trump</td>\n",
       "      <td>Trump</td>\n",
       "    </tr>\n",
       "    <tr>\n",
       "      <th>37</th>\n",
       "      <td>Alabama</td>\n",
       "      <td>83309</td>\n",
       "      <td>22773</td>\n",
       "      <td>15982</td>\n",
       "      <td>13003</td>\n",
       "      <td>11460</td>\n",
       "      <td>9794</td>\n",
       "      <td>10297</td>\n",
       "      <td>0.273356</td>\n",
       "      <td>0.137560</td>\n",
       "      <td>0.439990</td>\n",
       "      <td>0.363221</td>\n",
       "      <td>AL</td>\n",
       "      <td>Trump</td>\n",
       "      <td>Trump</td>\n",
       "    </tr>\n",
       "    <tr>\n",
       "      <th>38</th>\n",
       "      <td>Wyoming</td>\n",
       "      <td>9604</td>\n",
       "      <td>2635</td>\n",
       "      <td>1982</td>\n",
       "      <td>1595</td>\n",
       "      <td>1319</td>\n",
       "      <td>988</td>\n",
       "      <td>1085</td>\n",
       "      <td>0.274365</td>\n",
       "      <td>0.137339</td>\n",
       "      <td>0.424179</td>\n",
       "      <td>0.388856</td>\n",
       "      <td>WY</td>\n",
       "      <td>Trump</td>\n",
       "      <td>Trump</td>\n",
       "    </tr>\n",
       "    <tr>\n",
       "      <th>39</th>\n",
       "      <td>South Dakota</td>\n",
       "      <td>12595</td>\n",
       "      <td>3243</td>\n",
       "      <td>2575</td>\n",
       "      <td>1958</td>\n",
       "      <td>2013</td>\n",
       "      <td>1318</td>\n",
       "      <td>1488</td>\n",
       "      <td>0.257483</td>\n",
       "      <td>0.159825</td>\n",
       "      <td>0.417052</td>\n",
       "      <td>0.417722</td>\n",
       "      <td>SD</td>\n",
       "      <td>Biden</td>\n",
       "      <td>Trump</td>\n",
       "    </tr>\n",
       "    <tr>\n",
       "      <th>40</th>\n",
       "      <td>Delaware</td>\n",
       "      <td>23906</td>\n",
       "      <td>5457</td>\n",
       "      <td>5320</td>\n",
       "      <td>3726</td>\n",
       "      <td>3778</td>\n",
       "      <td>2501</td>\n",
       "      <td>3124</td>\n",
       "      <td>0.228269</td>\n",
       "      <td>0.158036</td>\n",
       "      <td>0.376267</td>\n",
       "      <td>0.401787</td>\n",
       "      <td>DE</td>\n",
       "      <td>Biden</td>\n",
       "      <td>Biden</td>\n",
       "    </tr>\n",
       "    <tr>\n",
       "      <th>41</th>\n",
       "      <td>Connecticut</td>\n",
       "      <td>63522</td>\n",
       "      <td>14888</td>\n",
       "      <td>14285</td>\n",
       "      <td>9888</td>\n",
       "      <td>9995</td>\n",
       "      <td>6429</td>\n",
       "      <td>8037</td>\n",
       "      <td>0.234375</td>\n",
       "      <td>0.157347</td>\n",
       "      <td>0.381147</td>\n",
       "      <td>0.408610</td>\n",
       "      <td>CT</td>\n",
       "      <td>Biden</td>\n",
       "      <td>Biden</td>\n",
       "    </tr>\n",
       "    <tr>\n",
       "      <th>42</th>\n",
       "      <td>Missouri</td>\n",
       "      <td>83161</td>\n",
       "      <td>21626</td>\n",
       "      <td>17441</td>\n",
       "      <td>13203</td>\n",
       "      <td>11728</td>\n",
       "      <td>9106</td>\n",
       "      <td>10057</td>\n",
       "      <td>0.260050</td>\n",
       "      <td>0.141028</td>\n",
       "      <td>0.413736</td>\n",
       "      <td>0.379658</td>\n",
       "      <td>MO</td>\n",
       "      <td>Trump</td>\n",
       "      <td>Trump</td>\n",
       "    </tr>\n",
       "    <tr>\n",
       "      <th>43</th>\n",
       "      <td>Maine</td>\n",
       "      <td>34085</td>\n",
       "      <td>8369</td>\n",
       "      <td>8118</td>\n",
       "      <td>5774</td>\n",
       "      <td>4753</td>\n",
       "      <td>3313</td>\n",
       "      <td>3758</td>\n",
       "      <td>0.245533</td>\n",
       "      <td>0.139446</td>\n",
       "      <td>0.375949</td>\n",
       "      <td>0.401979</td>\n",
       "      <td>ME</td>\n",
       "      <td>Biden</td>\n",
       "      <td>Biden</td>\n",
       "    </tr>\n",
       "    <tr>\n",
       "      <th>44</th>\n",
       "      <td>Mississippi</td>\n",
       "      <td>31535</td>\n",
       "      <td>9064</td>\n",
       "      <td>6253</td>\n",
       "      <td>4993</td>\n",
       "      <td>4133</td>\n",
       "      <td>3431</td>\n",
       "      <td>3661</td>\n",
       "      <td>0.287427</td>\n",
       "      <td>0.131061</td>\n",
       "      <td>0.446283</td>\n",
       "      <td>0.368196</td>\n",
       "      <td>MS</td>\n",
       "      <td>Trump</td>\n",
       "      <td>Trump</td>\n",
       "    </tr>\n",
       "    <tr>\n",
       "      <th>45</th>\n",
       "      <td>Montana</td>\n",
       "      <td>23404</td>\n",
       "      <td>6045</td>\n",
       "      <td>4990</td>\n",
       "      <td>3795</td>\n",
       "      <td>3289</td>\n",
       "      <td>2419</td>\n",
       "      <td>2866</td>\n",
       "      <td>0.258289</td>\n",
       "      <td>0.140532</td>\n",
       "      <td>0.407620</td>\n",
       "      <td>0.383602</td>\n",
       "      <td>MT</td>\n",
       "      <td>Trump</td>\n",
       "      <td>Trump</td>\n",
       "    </tr>\n",
       "    <tr>\n",
       "      <th>46</th>\n",
       "      <td>Rhode Island</td>\n",
       "      <td>19392</td>\n",
       "      <td>4776</td>\n",
       "      <td>4412</td>\n",
       "      <td>2997</td>\n",
       "      <td>2864</td>\n",
       "      <td>1990</td>\n",
       "      <td>2353</td>\n",
       "      <td>0.246287</td>\n",
       "      <td>0.147690</td>\n",
       "      <td>0.391957</td>\n",
       "      <td>0.397391</td>\n",
       "      <td>RI</td>\n",
       "      <td>Biden</td>\n",
       "      <td>Biden</td>\n",
       "    </tr>\n",
       "    <tr>\n",
       "      <th>47</th>\n",
       "      <td>West Virginia</td>\n",
       "      <td>9893</td>\n",
       "      <td>2628</td>\n",
       "      <td>2002</td>\n",
       "      <td>1462</td>\n",
       "      <td>1439</td>\n",
       "      <td>1082</td>\n",
       "      <td>1280</td>\n",
       "      <td>0.265642</td>\n",
       "      <td>0.145456</td>\n",
       "      <td>0.431385</td>\n",
       "      <td>0.378585</td>\n",
       "      <td>WV</td>\n",
       "      <td>Trump</td>\n",
       "      <td>Trump</td>\n",
       "    </tr>\n",
       "    <tr>\n",
       "      <th>48</th>\n",
       "      <td>New Hampshire</td>\n",
       "      <td>29655</td>\n",
       "      <td>7312</td>\n",
       "      <td>6532</td>\n",
       "      <td>4512</td>\n",
       "      <td>4579</td>\n",
       "      <td>3143</td>\n",
       "      <td>3577</td>\n",
       "      <td>0.246569</td>\n",
       "      <td>0.154409</td>\n",
       "      <td>0.398344</td>\n",
       "      <td>0.405257</td>\n",
       "      <td>NH</td>\n",
       "      <td>Biden</td>\n",
       "      <td>Biden</td>\n",
       "    </tr>\n",
       "    <tr>\n",
       "      <th>49</th>\n",
       "      <td>Vermont</td>\n",
       "      <td>15536</td>\n",
       "      <td>3657</td>\n",
       "      <td>3888</td>\n",
       "      <td>2529</td>\n",
       "      <td>2262</td>\n",
       "      <td>1460</td>\n",
       "      <td>1740</td>\n",
       "      <td>0.235389</td>\n",
       "      <td>0.145597</td>\n",
       "      <td>0.363014</td>\n",
       "      <td>0.414134</td>\n",
       "      <td>VT</td>\n",
       "      <td>Biden</td>\n",
       "      <td>Biden</td>\n",
       "    </tr>\n",
       "  </tbody>\n",
       "</table>\n",
       "</div>"
      ],
      "text/plain": [
       "             state  total_tweets  Trump_P  Trump_N  Trump_Na  Biden_P  \\\n",
       "0     Pennsylvania        254404    63484    55171     40406    38226   \n",
       "1       New Jersey        162481    40968    35375     25372    24350   \n",
       "2         Colorado        143612    35116    33106     22356    21400   \n",
       "3    Massachusetts        153022    36289    35300     23833    23821   \n",
       "4          Florida        679529   182091   140167    108537    93633   \n",
       "5        Minnesota        106348    25830    24066     16846    16114   \n",
       "6       California        973653   237889   219873    152896   148577   \n",
       "7       Washington        305040    72305    68692     49123    47588   \n",
       "8   South Carolina         91249    24328    18559     14370    12768   \n",
       "9           Nevada         87471    22671    18780     13695    12656   \n",
       "10           Texas        728105   190647   146858    112016   106222   \n",
       "11        Illinois        209126    49807    47207     33109    32027   \n",
       "12          Oregon        132304    32483    31454     21149    19268   \n",
       "13       Louisiana         73033    19448    14311     11350    10307   \n",
       "14       Wisconsin         92774    22632    20476     14854    14057   \n",
       "15          Hawaii         39411    10327     8781      5915     5533   \n",
       "16         Indiana        104144    27066    22132     16214    15091   \n",
       "17        Maryland        111763    26730    25276     17455    17062   \n",
       "18        Michigan        196196    48578    44276     31201    28792   \n",
       "19          Alaska         21824     5860     4856      3588     2824   \n",
       "20            Utah         44600    10761    10327      6920     6461   \n",
       "21            Iowa         44157    11049     9777      7139     6437   \n",
       "22         Arizona        206162    53138    44431     32842    29253   \n",
       "23        Kentucky         75241    19552    15409     11663    10977   \n",
       "24        Virginia        183936    45655    39872     28759    27973   \n",
       "25        New York        501803   122675   112152     79110    77178   \n",
       "26        Oklahoma         69271    18449    13666     10912     9675   \n",
       "27         Georgia        200948    51347    41152     31013    30043   \n",
       "28    North Dakota          7674     1934     1735      1360     1023   \n",
       "29       Tennessee        134089    36979    26454     21381    18387   \n",
       "30        Nebraska         32315     8524     6914      5077     4636   \n",
       "31          Kansas         62921    15325    13591      9835     9521   \n",
       "32        Arkansas         48476    12773     9844      7568     6871   \n",
       "33           Idaho         30356     7752     6437      4876     4259   \n",
       "34            Ohio        228451    57491    49288     36438    33538   \n",
       "35      New Mexico         37242     9104     8524      5993     5470   \n",
       "36  North Carolina        186695    47480    40292     29442    27248   \n",
       "37         Alabama         83309    22773    15982     13003    11460   \n",
       "38         Wyoming          9604     2635     1982      1595     1319   \n",
       "39    South Dakota         12595     3243     2575      1958     2013   \n",
       "40        Delaware         23906     5457     5320      3726     3778   \n",
       "41     Connecticut         63522    14888    14285      9888     9995   \n",
       "42        Missouri         83161    21626    17441     13203    11728   \n",
       "43           Maine         34085     8369     8118      5774     4753   \n",
       "44     Mississippi         31535     9064     6253      4993     4133   \n",
       "45         Montana         23404     6045     4990      3795     3289   \n",
       "46    Rhode Island         19392     4776     4412      2997     2864   \n",
       "47   West Virginia          9893     2628     2002      1462     1439   \n",
       "48   New Hampshire         29655     7312     6532      4512     4579   \n",
       "49         Vermont         15536     3657     3888      2529     2262   \n",
       "\n",
       "    Biden_N  Biden_Na  Trump_P_perc_total  Biden_P_perc_total  \\\n",
       "0     26713     30404            0.249540            0.150257   \n",
       "1     17160     19256            0.252140            0.149864   \n",
       "2     14664     16970            0.244520            0.149013   \n",
       "3     15550     18229            0.237149            0.155670   \n",
       "4     74465     80636            0.267966            0.137791   \n",
       "5     10804     12688            0.242882            0.151521   \n",
       "6     97989    116429            0.244326            0.152597   \n",
       "7     30219     37113            0.237034            0.156006   \n",
       "8     10083     11141            0.266611            0.139925   \n",
       "9      9310     10359            0.259183            0.144688   \n",
       "10    81251     91111            0.261840            0.145888   \n",
       "11    21512     25464            0.238167            0.153147   \n",
       "12    13075     14875            0.245518            0.145634   \n",
       "13     8396      9221            0.266291            0.141128   \n",
       "14     9463     11292            0.243948            0.151519   \n",
       "15     4489      4366            0.262033            0.140392   \n",
       "16    11083     12558            0.259890            0.144905   \n",
       "17    11697     13543            0.239167            0.152662   \n",
       "18    20238     23111            0.247599            0.146751   \n",
       "19     2254      2442            0.268512            0.129399   \n",
       "20     4785      5346            0.241278            0.144865   \n",
       "21     4481      5274            0.250221            0.145775   \n",
       "22    22203     24295            0.257749            0.141893   \n",
       "23     8370      9270            0.259858            0.145891   \n",
       "24    19395     22282            0.248211            0.152080   \n",
       "25    50564     60124            0.244468            0.153801   \n",
       "26     8016      8553            0.266331            0.139669   \n",
       "27    21786     25607            0.255524            0.149506   \n",
       "28      768       854            0.252020            0.133307   \n",
       "29    14679     16209            0.275780            0.137125   \n",
       "30     3356      3808            0.263778            0.143463   \n",
       "31     6825      7824            0.243559            0.151317   \n",
       "32     5451      5969            0.263491            0.141740   \n",
       "33     3419      3613            0.255370            0.140302   \n",
       "34    24236     27460            0.251656            0.146806   \n",
       "35     3671      4480            0.244455            0.146877   \n",
       "36    19506     22727            0.254319            0.145949   \n",
       "37     9794     10297            0.273356            0.137560   \n",
       "38      988      1085            0.274365            0.137339   \n",
       "39     1318      1488            0.257483            0.159825   \n",
       "40     2501      3124            0.228269            0.158036   \n",
       "41     6429      8037            0.234375            0.157347   \n",
       "42     9106     10057            0.260050            0.141028   \n",
       "43     3313      3758            0.245533            0.139446   \n",
       "44     3431      3661            0.287427            0.131061   \n",
       "45     2419      2866            0.258289            0.140532   \n",
       "46     1990      2353            0.246287            0.147690   \n",
       "47     1082      1280            0.265642            0.145456   \n",
       "48     3143      3577            0.246569            0.154409   \n",
       "49     1460      1740            0.235389            0.145597   \n",
       "\n",
       "    Trump_P_perc_only  Biden_P_perc_only state_code predicted_winner winner  \n",
       "0            0.399117           0.400931         PA            Biden  Biden  \n",
       "1            0.402772           0.400718         NJ            Trump  Biden  \n",
       "2            0.387688           0.403515         CO            Biden  Biden  \n",
       "3            0.380300           0.413559         MA            Biden  Biden  \n",
       "4            0.422686           0.376438         FL            Trump  Trump  \n",
       "5            0.387013           0.406858         MN            Biden  Biden  \n",
       "6            0.389562           0.409309         CA            Biden  Biden  \n",
       "7            0.380312           0.414097         WA            Biden  Biden  \n",
       "8            0.424891           0.375618         SC            Trump  Trump  \n",
       "9            0.411109           0.391524         NV            Trump  Biden  \n",
       "10           0.424111           0.381293         TX            Trump  Trump  \n",
       "11           0.382769           0.405390         IL            Biden  Biden  \n",
       "12           0.381767           0.408065         OR            Biden  Biden  \n",
       "13           0.431133           0.369109         LA            Trump  Trump  \n",
       "14           0.390463           0.403798         WI            Biden  Biden  \n",
       "15           0.412700           0.384557         HI            Trump  Biden  \n",
       "16           0.413777           0.389626         IN            Trump  Trump  \n",
       "17           0.384820           0.403338         MD            Biden  Biden  \n",
       "18           0.391584           0.399107         MI            Biden  Biden  \n",
       "19           0.409676           0.375532         AK            Trump  Trump  \n",
       "20           0.384212           0.389405         UT            Biden  Trump  \n",
       "21           0.395101           0.397542         IA            Biden  Trump  \n",
       "22           0.407466           0.386173         AZ            Trump  Biden  \n",
       "23           0.419355           0.383583         KY            Trump  Trump  \n",
       "24           0.399480           0.401622         VA            Biden  Biden  \n",
       "25           0.390763           0.410814         NM            Biden  Biden  \n",
       "26           0.428777           0.368656         OK            Trump  Trump  \n",
       "27           0.415725           0.387972         GA            Trump  Biden  \n",
       "28           0.384569           0.386767         ND            Biden  Trump  \n",
       "29           0.436001           0.373151         TN            Trump  Trump  \n",
       "30           0.415501           0.392881         NE            Trump  Trump  \n",
       "31           0.395474           0.393918         KS            Trump  Trump  \n",
       "32           0.423157           0.375649         AR            Trump  Trump  \n",
       "33           0.406609           0.377203         ID            Trump  Trump  \n",
       "34           0.401426           0.393481         OH            Trump  Trump  \n",
       "35           0.385420           0.401586         NY            Biden  Biden  \n",
       "36           0.405071           0.392165         NC            Trump  Trump  \n",
       "37           0.439990           0.363221         AL            Trump  Trump  \n",
       "38           0.424179           0.388856         WY            Trump  Trump  \n",
       "39           0.417052           0.417722         SD            Biden  Trump  \n",
       "40           0.376267           0.401787         DE            Biden  Biden  \n",
       "41           0.381147           0.408610         CT            Biden  Biden  \n",
       "42           0.413736           0.379658         MO            Trump  Trump  \n",
       "43           0.375949           0.401979         ME            Biden  Biden  \n",
       "44           0.446283           0.368196         MS            Trump  Trump  \n",
       "45           0.407620           0.383602         MT            Trump  Trump  \n",
       "46           0.391957           0.397391         RI            Biden  Biden  \n",
       "47           0.431385           0.378585         WV            Trump  Trump  \n",
       "48           0.398344           0.405257         NH            Biden  Biden  \n",
       "49           0.363014           0.414134         VT            Biden  Biden  "
      ]
     },
     "execution_count": 73,
     "metadata": {},
     "output_type": "execute_result"
    }
   ],
   "source": [
    "overview_df = overview_df.merge(real_result[[\"state_code\", \"winner\"]], on='state_code', how='left')\n",
    "overview_df"
   ]
  },
  {
   "cell_type": "code",
   "execution_count": 74,
   "metadata": {},
   "outputs": [
    {
     "data": {
      "application/vnd.plotly.v1+json": {
       "config": {
        "plotlyServerURL": "https://plot.ly"
       },
       "data": [
        {
         "colorscale": [
          [
           0,
           "#636efa"
          ],
          [
           1,
           "#636efa"
          ]
         ],
         "geo": "geo",
         "hovertemplate": "winner=Biden<br>state_code=%{location}<extra></extra>",
         "locationmode": "USA-states",
         "locations": [
          "AZ",
          "CA",
          "CO",
          "CT",
          "DE",
          "DC",
          "GA",
          "HI",
          "IL",
          "ME",
          "MD",
          "MA",
          "MI",
          "MN",
          "NV",
          "NH",
          "NJ",
          "NM",
          "NY",
          "OR",
          "PA",
          "RI",
          "VT",
          "VA",
          "WA",
          "WI"
         ],
         "name": "Biden",
         "showlegend": true,
         "showscale": false,
         "type": "choropleth",
         "z": [
          1,
          1,
          1,
          1,
          1,
          1,
          1,
          1,
          1,
          1,
          1,
          1,
          1,
          1,
          1,
          1,
          1,
          1,
          1,
          1,
          1,
          1,
          1,
          1,
          1,
          1
         ]
        },
        {
         "colorscale": [
          [
           0,
           "#EF553B"
          ],
          [
           1,
           "#EF553B"
          ]
         ],
         "geo": "geo",
         "hovertemplate": "winner=Trump<br>state_code=%{location}<extra></extra>",
         "locationmode": "USA-states",
         "locations": [
          "AK",
          "AL",
          "AR",
          "FL",
          "ID",
          "IN",
          "IA",
          "KS",
          "KY",
          "LA",
          "MS",
          "MO",
          "MT",
          "NE",
          "NC",
          "ND",
          "OH",
          "OK",
          "PR",
          "SC",
          "TN",
          "TX",
          "UT",
          "WV",
          "WY",
          "SD"
         ],
         "name": "Trump",
         "showlegend": true,
         "showscale": false,
         "type": "choropleth",
         "z": [
          1,
          1,
          1,
          1,
          1,
          1,
          1,
          1,
          1,
          1,
          1,
          1,
          1,
          1,
          1,
          1,
          1,
          1,
          1,
          1,
          1,
          1,
          1,
          1,
          1,
          1
         ]
        }
       ],
       "layout": {
        "geo": {
         "center": {},
         "domain": {
          "x": [
           0,
           1
          ],
          "y": [
           0,
           1
          ]
         },
         "scope": "usa"
        },
        "legend": {
         "title": {
          "text": "winner"
         },
         "tracegroupgap": 0
        },
        "margin": {
         "t": 60
        },
        "template": {
         "data": {
          "bar": [
           {
            "error_x": {
             "color": "#2a3f5f"
            },
            "error_y": {
             "color": "#2a3f5f"
            },
            "marker": {
             "line": {
              "color": "#E5ECF6",
              "width": 0.5
             },
             "pattern": {
              "fillmode": "overlay",
              "size": 10,
              "solidity": 0.2
             }
            },
            "type": "bar"
           }
          ],
          "barpolar": [
           {
            "marker": {
             "line": {
              "color": "#E5ECF6",
              "width": 0.5
             },
             "pattern": {
              "fillmode": "overlay",
              "size": 10,
              "solidity": 0.2
             }
            },
            "type": "barpolar"
           }
          ],
          "carpet": [
           {
            "aaxis": {
             "endlinecolor": "#2a3f5f",
             "gridcolor": "white",
             "linecolor": "white",
             "minorgridcolor": "white",
             "startlinecolor": "#2a3f5f"
            },
            "baxis": {
             "endlinecolor": "#2a3f5f",
             "gridcolor": "white",
             "linecolor": "white",
             "minorgridcolor": "white",
             "startlinecolor": "#2a3f5f"
            },
            "type": "carpet"
           }
          ],
          "choropleth": [
           {
            "colorbar": {
             "outlinewidth": 0,
             "ticks": ""
            },
            "type": "choropleth"
           }
          ],
          "contour": [
           {
            "colorbar": {
             "outlinewidth": 0,
             "ticks": ""
            },
            "colorscale": [
             [
              0,
              "#0d0887"
             ],
             [
              0.1111111111111111,
              "#46039f"
             ],
             [
              0.2222222222222222,
              "#7201a8"
             ],
             [
              0.3333333333333333,
              "#9c179e"
             ],
             [
              0.4444444444444444,
              "#bd3786"
             ],
             [
              0.5555555555555556,
              "#d8576b"
             ],
             [
              0.6666666666666666,
              "#ed7953"
             ],
             [
              0.7777777777777778,
              "#fb9f3a"
             ],
             [
              0.8888888888888888,
              "#fdca26"
             ],
             [
              1,
              "#f0f921"
             ]
            ],
            "type": "contour"
           }
          ],
          "contourcarpet": [
           {
            "colorbar": {
             "outlinewidth": 0,
             "ticks": ""
            },
            "type": "contourcarpet"
           }
          ],
          "heatmap": [
           {
            "colorbar": {
             "outlinewidth": 0,
             "ticks": ""
            },
            "colorscale": [
             [
              0,
              "#0d0887"
             ],
             [
              0.1111111111111111,
              "#46039f"
             ],
             [
              0.2222222222222222,
              "#7201a8"
             ],
             [
              0.3333333333333333,
              "#9c179e"
             ],
             [
              0.4444444444444444,
              "#bd3786"
             ],
             [
              0.5555555555555556,
              "#d8576b"
             ],
             [
              0.6666666666666666,
              "#ed7953"
             ],
             [
              0.7777777777777778,
              "#fb9f3a"
             ],
             [
              0.8888888888888888,
              "#fdca26"
             ],
             [
              1,
              "#f0f921"
             ]
            ],
            "type": "heatmap"
           }
          ],
          "heatmapgl": [
           {
            "colorbar": {
             "outlinewidth": 0,
             "ticks": ""
            },
            "colorscale": [
             [
              0,
              "#0d0887"
             ],
             [
              0.1111111111111111,
              "#46039f"
             ],
             [
              0.2222222222222222,
              "#7201a8"
             ],
             [
              0.3333333333333333,
              "#9c179e"
             ],
             [
              0.4444444444444444,
              "#bd3786"
             ],
             [
              0.5555555555555556,
              "#d8576b"
             ],
             [
              0.6666666666666666,
              "#ed7953"
             ],
             [
              0.7777777777777778,
              "#fb9f3a"
             ],
             [
              0.8888888888888888,
              "#fdca26"
             ],
             [
              1,
              "#f0f921"
             ]
            ],
            "type": "heatmapgl"
           }
          ],
          "histogram": [
           {
            "marker": {
             "pattern": {
              "fillmode": "overlay",
              "size": 10,
              "solidity": 0.2
             }
            },
            "type": "histogram"
           }
          ],
          "histogram2d": [
           {
            "colorbar": {
             "outlinewidth": 0,
             "ticks": ""
            },
            "colorscale": [
             [
              0,
              "#0d0887"
             ],
             [
              0.1111111111111111,
              "#46039f"
             ],
             [
              0.2222222222222222,
              "#7201a8"
             ],
             [
              0.3333333333333333,
              "#9c179e"
             ],
             [
              0.4444444444444444,
              "#bd3786"
             ],
             [
              0.5555555555555556,
              "#d8576b"
             ],
             [
              0.6666666666666666,
              "#ed7953"
             ],
             [
              0.7777777777777778,
              "#fb9f3a"
             ],
             [
              0.8888888888888888,
              "#fdca26"
             ],
             [
              1,
              "#f0f921"
             ]
            ],
            "type": "histogram2d"
           }
          ],
          "histogram2dcontour": [
           {
            "colorbar": {
             "outlinewidth": 0,
             "ticks": ""
            },
            "colorscale": [
             [
              0,
              "#0d0887"
             ],
             [
              0.1111111111111111,
              "#46039f"
             ],
             [
              0.2222222222222222,
              "#7201a8"
             ],
             [
              0.3333333333333333,
              "#9c179e"
             ],
             [
              0.4444444444444444,
              "#bd3786"
             ],
             [
              0.5555555555555556,
              "#d8576b"
             ],
             [
              0.6666666666666666,
              "#ed7953"
             ],
             [
              0.7777777777777778,
              "#fb9f3a"
             ],
             [
              0.8888888888888888,
              "#fdca26"
             ],
             [
              1,
              "#f0f921"
             ]
            ],
            "type": "histogram2dcontour"
           }
          ],
          "mesh3d": [
           {
            "colorbar": {
             "outlinewidth": 0,
             "ticks": ""
            },
            "type": "mesh3d"
           }
          ],
          "parcoords": [
           {
            "line": {
             "colorbar": {
              "outlinewidth": 0,
              "ticks": ""
             }
            },
            "type": "parcoords"
           }
          ],
          "pie": [
           {
            "automargin": true,
            "type": "pie"
           }
          ],
          "scatter": [
           {
            "fillpattern": {
             "fillmode": "overlay",
             "size": 10,
             "solidity": 0.2
            },
            "type": "scatter"
           }
          ],
          "scatter3d": [
           {
            "line": {
             "colorbar": {
              "outlinewidth": 0,
              "ticks": ""
             }
            },
            "marker": {
             "colorbar": {
              "outlinewidth": 0,
              "ticks": ""
             }
            },
            "type": "scatter3d"
           }
          ],
          "scattercarpet": [
           {
            "marker": {
             "colorbar": {
              "outlinewidth": 0,
              "ticks": ""
             }
            },
            "type": "scattercarpet"
           }
          ],
          "scattergeo": [
           {
            "marker": {
             "colorbar": {
              "outlinewidth": 0,
              "ticks": ""
             }
            },
            "type": "scattergeo"
           }
          ],
          "scattergl": [
           {
            "marker": {
             "colorbar": {
              "outlinewidth": 0,
              "ticks": ""
             }
            },
            "type": "scattergl"
           }
          ],
          "scattermapbox": [
           {
            "marker": {
             "colorbar": {
              "outlinewidth": 0,
              "ticks": ""
             }
            },
            "type": "scattermapbox"
           }
          ],
          "scatterpolar": [
           {
            "marker": {
             "colorbar": {
              "outlinewidth": 0,
              "ticks": ""
             }
            },
            "type": "scatterpolar"
           }
          ],
          "scatterpolargl": [
           {
            "marker": {
             "colorbar": {
              "outlinewidth": 0,
              "ticks": ""
             }
            },
            "type": "scatterpolargl"
           }
          ],
          "scatterternary": [
           {
            "marker": {
             "colorbar": {
              "outlinewidth": 0,
              "ticks": ""
             }
            },
            "type": "scatterternary"
           }
          ],
          "surface": [
           {
            "colorbar": {
             "outlinewidth": 0,
             "ticks": ""
            },
            "colorscale": [
             [
              0,
              "#0d0887"
             ],
             [
              0.1111111111111111,
              "#46039f"
             ],
             [
              0.2222222222222222,
              "#7201a8"
             ],
             [
              0.3333333333333333,
              "#9c179e"
             ],
             [
              0.4444444444444444,
              "#bd3786"
             ],
             [
              0.5555555555555556,
              "#d8576b"
             ],
             [
              0.6666666666666666,
              "#ed7953"
             ],
             [
              0.7777777777777778,
              "#fb9f3a"
             ],
             [
              0.8888888888888888,
              "#fdca26"
             ],
             [
              1,
              "#f0f921"
             ]
            ],
            "type": "surface"
           }
          ],
          "table": [
           {
            "cells": {
             "fill": {
              "color": "#EBF0F8"
             },
             "line": {
              "color": "white"
             }
            },
            "header": {
             "fill": {
              "color": "#C8D4E3"
             },
             "line": {
              "color": "white"
             }
            },
            "type": "table"
           }
          ]
         },
         "layout": {
          "annotationdefaults": {
           "arrowcolor": "#2a3f5f",
           "arrowhead": 0,
           "arrowwidth": 1
          },
          "autotypenumbers": "strict",
          "coloraxis": {
           "colorbar": {
            "outlinewidth": 0,
            "ticks": ""
           }
          },
          "colorscale": {
           "diverging": [
            [
             0,
             "#8e0152"
            ],
            [
             0.1,
             "#c51b7d"
            ],
            [
             0.2,
             "#de77ae"
            ],
            [
             0.3,
             "#f1b6da"
            ],
            [
             0.4,
             "#fde0ef"
            ],
            [
             0.5,
             "#f7f7f7"
            ],
            [
             0.6,
             "#e6f5d0"
            ],
            [
             0.7,
             "#b8e186"
            ],
            [
             0.8,
             "#7fbc41"
            ],
            [
             0.9,
             "#4d9221"
            ],
            [
             1,
             "#276419"
            ]
           ],
           "sequential": [
            [
             0,
             "#0d0887"
            ],
            [
             0.1111111111111111,
             "#46039f"
            ],
            [
             0.2222222222222222,
             "#7201a8"
            ],
            [
             0.3333333333333333,
             "#9c179e"
            ],
            [
             0.4444444444444444,
             "#bd3786"
            ],
            [
             0.5555555555555556,
             "#d8576b"
            ],
            [
             0.6666666666666666,
             "#ed7953"
            ],
            [
             0.7777777777777778,
             "#fb9f3a"
            ],
            [
             0.8888888888888888,
             "#fdca26"
            ],
            [
             1,
             "#f0f921"
            ]
           ],
           "sequentialminus": [
            [
             0,
             "#0d0887"
            ],
            [
             0.1111111111111111,
             "#46039f"
            ],
            [
             0.2222222222222222,
             "#7201a8"
            ],
            [
             0.3333333333333333,
             "#9c179e"
            ],
            [
             0.4444444444444444,
             "#bd3786"
            ],
            [
             0.5555555555555556,
             "#d8576b"
            ],
            [
             0.6666666666666666,
             "#ed7953"
            ],
            [
             0.7777777777777778,
             "#fb9f3a"
            ],
            [
             0.8888888888888888,
             "#fdca26"
            ],
            [
             1,
             "#f0f921"
            ]
           ]
          },
          "colorway": [
           "#636efa",
           "#EF553B",
           "#00cc96",
           "#ab63fa",
           "#FFA15A",
           "#19d3f3",
           "#FF6692",
           "#B6E880",
           "#FF97FF",
           "#FECB52"
          ],
          "font": {
           "color": "#2a3f5f"
          },
          "geo": {
           "bgcolor": "white",
           "lakecolor": "white",
           "landcolor": "#E5ECF6",
           "showlakes": true,
           "showland": true,
           "subunitcolor": "white"
          },
          "hoverlabel": {
           "align": "left"
          },
          "hovermode": "closest",
          "mapbox": {
           "style": "light"
          },
          "paper_bgcolor": "white",
          "plot_bgcolor": "#E5ECF6",
          "polar": {
           "angularaxis": {
            "gridcolor": "white",
            "linecolor": "white",
            "ticks": ""
           },
           "bgcolor": "#E5ECF6",
           "radialaxis": {
            "gridcolor": "white",
            "linecolor": "white",
            "ticks": ""
           }
          },
          "scene": {
           "xaxis": {
            "backgroundcolor": "#E5ECF6",
            "gridcolor": "white",
            "gridwidth": 2,
            "linecolor": "white",
            "showbackground": true,
            "ticks": "",
            "zerolinecolor": "white"
           },
           "yaxis": {
            "backgroundcolor": "#E5ECF6",
            "gridcolor": "white",
            "gridwidth": 2,
            "linecolor": "white",
            "showbackground": true,
            "ticks": "",
            "zerolinecolor": "white"
           },
           "zaxis": {
            "backgroundcolor": "#E5ECF6",
            "gridcolor": "white",
            "gridwidth": 2,
            "linecolor": "white",
            "showbackground": true,
            "ticks": "",
            "zerolinecolor": "white"
           }
          },
          "shapedefaults": {
           "line": {
            "color": "#2a3f5f"
           }
          },
          "ternary": {
           "aaxis": {
            "gridcolor": "white",
            "linecolor": "white",
            "ticks": ""
           },
           "baxis": {
            "gridcolor": "white",
            "linecolor": "white",
            "ticks": ""
           },
           "bgcolor": "#E5ECF6",
           "caxis": {
            "gridcolor": "white",
            "linecolor": "white",
            "ticks": ""
           }
          },
          "title": {
           "x": 0.05
          },
          "xaxis": {
           "automargin": true,
           "gridcolor": "white",
           "linecolor": "white",
           "ticks": "",
           "title": {
            "standoff": 15
           },
           "zerolinecolor": "white",
           "zerolinewidth": 2
          },
          "yaxis": {
           "automargin": true,
           "gridcolor": "white",
           "linecolor": "white",
           "ticks": "",
           "title": {
            "standoff": 15
           },
           "zerolinecolor": "white",
           "zerolinewidth": 2
          }
         }
        }
       }
      },
      "text/html": [
       "<div>                            <div id=\"0b1f8851-96e1-4f68-9f25-d92723a07f93\" class=\"plotly-graph-div\" style=\"height:525px; width:100%;\"></div>            <script type=\"text/javascript\">                require([\"plotly\"], function(Plotly) {                    window.PLOTLYENV=window.PLOTLYENV || {};                                    if (document.getElementById(\"0b1f8851-96e1-4f68-9f25-d92723a07f93\")) {                    Plotly.newPlot(                        \"0b1f8851-96e1-4f68-9f25-d92723a07f93\",                        [{\"colorscale\":[[0.0,\"#636efa\"],[1.0,\"#636efa\"]],\"geo\":\"geo\",\"hovertemplate\":\"winner=Biden<br>state_code=%{location}<extra></extra>\",\"locationmode\":\"USA-states\",\"locations\":[\"AZ\",\"CA\",\"CO\",\"CT\",\"DE\",\"DC\",\"GA\",\"HI\",\"IL\",\"ME\",\"MD\",\"MA\",\"MI\",\"MN\",\"NV\",\"NH\",\"NJ\",\"NM\",\"NY\",\"OR\",\"PA\",\"RI\",\"VT\",\"VA\",\"WA\",\"WI\"],\"name\":\"Biden\",\"showlegend\":true,\"showscale\":false,\"z\":[1,1,1,1,1,1,1,1,1,1,1,1,1,1,1,1,1,1,1,1,1,1,1,1,1,1],\"type\":\"choropleth\"},{\"colorscale\":[[0.0,\"#EF553B\"],[1.0,\"#EF553B\"]],\"geo\":\"geo\",\"hovertemplate\":\"winner=Trump<br>state_code=%{location}<extra></extra>\",\"locationmode\":\"USA-states\",\"locations\":[\"AK\",\"AL\",\"AR\",\"FL\",\"ID\",\"IN\",\"IA\",\"KS\",\"KY\",\"LA\",\"MS\",\"MO\",\"MT\",\"NE\",\"NC\",\"ND\",\"OH\",\"OK\",\"PR\",\"SC\",\"TN\",\"TX\",\"UT\",\"WV\",\"WY\",\"SD\"],\"name\":\"Trump\",\"showlegend\":true,\"showscale\":false,\"z\":[1,1,1,1,1,1,1,1,1,1,1,1,1,1,1,1,1,1,1,1,1,1,1,1,1,1],\"type\":\"choropleth\"}],                        {\"template\":{\"data\":{\"histogram2dcontour\":[{\"type\":\"histogram2dcontour\",\"colorbar\":{\"outlinewidth\":0,\"ticks\":\"\"},\"colorscale\":[[0.0,\"#0d0887\"],[0.1111111111111111,\"#46039f\"],[0.2222222222222222,\"#7201a8\"],[0.3333333333333333,\"#9c179e\"],[0.4444444444444444,\"#bd3786\"],[0.5555555555555556,\"#d8576b\"],[0.6666666666666666,\"#ed7953\"],[0.7777777777777778,\"#fb9f3a\"],[0.8888888888888888,\"#fdca26\"],[1.0,\"#f0f921\"]]}],\"choropleth\":[{\"type\":\"choropleth\",\"colorbar\":{\"outlinewidth\":0,\"ticks\":\"\"}}],\"histogram2d\":[{\"type\":\"histogram2d\",\"colorbar\":{\"outlinewidth\":0,\"ticks\":\"\"},\"colorscale\":[[0.0,\"#0d0887\"],[0.1111111111111111,\"#46039f\"],[0.2222222222222222,\"#7201a8\"],[0.3333333333333333,\"#9c179e\"],[0.4444444444444444,\"#bd3786\"],[0.5555555555555556,\"#d8576b\"],[0.6666666666666666,\"#ed7953\"],[0.7777777777777778,\"#fb9f3a\"],[0.8888888888888888,\"#fdca26\"],[1.0,\"#f0f921\"]]}],\"heatmap\":[{\"type\":\"heatmap\",\"colorbar\":{\"outlinewidth\":0,\"ticks\":\"\"},\"colorscale\":[[0.0,\"#0d0887\"],[0.1111111111111111,\"#46039f\"],[0.2222222222222222,\"#7201a8\"],[0.3333333333333333,\"#9c179e\"],[0.4444444444444444,\"#bd3786\"],[0.5555555555555556,\"#d8576b\"],[0.6666666666666666,\"#ed7953\"],[0.7777777777777778,\"#fb9f3a\"],[0.8888888888888888,\"#fdca26\"],[1.0,\"#f0f921\"]]}],\"heatmapgl\":[{\"type\":\"heatmapgl\",\"colorbar\":{\"outlinewidth\":0,\"ticks\":\"\"},\"colorscale\":[[0.0,\"#0d0887\"],[0.1111111111111111,\"#46039f\"],[0.2222222222222222,\"#7201a8\"],[0.3333333333333333,\"#9c179e\"],[0.4444444444444444,\"#bd3786\"],[0.5555555555555556,\"#d8576b\"],[0.6666666666666666,\"#ed7953\"],[0.7777777777777778,\"#fb9f3a\"],[0.8888888888888888,\"#fdca26\"],[1.0,\"#f0f921\"]]}],\"contourcarpet\":[{\"type\":\"contourcarpet\",\"colorbar\":{\"outlinewidth\":0,\"ticks\":\"\"}}],\"contour\":[{\"type\":\"contour\",\"colorbar\":{\"outlinewidth\":0,\"ticks\":\"\"},\"colorscale\":[[0.0,\"#0d0887\"],[0.1111111111111111,\"#46039f\"],[0.2222222222222222,\"#7201a8\"],[0.3333333333333333,\"#9c179e\"],[0.4444444444444444,\"#bd3786\"],[0.5555555555555556,\"#d8576b\"],[0.6666666666666666,\"#ed7953\"],[0.7777777777777778,\"#fb9f3a\"],[0.8888888888888888,\"#fdca26\"],[1.0,\"#f0f921\"]]}],\"surface\":[{\"type\":\"surface\",\"colorbar\":{\"outlinewidth\":0,\"ticks\":\"\"},\"colorscale\":[[0.0,\"#0d0887\"],[0.1111111111111111,\"#46039f\"],[0.2222222222222222,\"#7201a8\"],[0.3333333333333333,\"#9c179e\"],[0.4444444444444444,\"#bd3786\"],[0.5555555555555556,\"#d8576b\"],[0.6666666666666666,\"#ed7953\"],[0.7777777777777778,\"#fb9f3a\"],[0.8888888888888888,\"#fdca26\"],[1.0,\"#f0f921\"]]}],\"mesh3d\":[{\"type\":\"mesh3d\",\"colorbar\":{\"outlinewidth\":0,\"ticks\":\"\"}}],\"scatter\":[{\"fillpattern\":{\"fillmode\":\"overlay\",\"size\":10,\"solidity\":0.2},\"type\":\"scatter\"}],\"parcoords\":[{\"type\":\"parcoords\",\"line\":{\"colorbar\":{\"outlinewidth\":0,\"ticks\":\"\"}}}],\"scatterpolargl\":[{\"type\":\"scatterpolargl\",\"marker\":{\"colorbar\":{\"outlinewidth\":0,\"ticks\":\"\"}}}],\"bar\":[{\"error_x\":{\"color\":\"#2a3f5f\"},\"error_y\":{\"color\":\"#2a3f5f\"},\"marker\":{\"line\":{\"color\":\"#E5ECF6\",\"width\":0.5},\"pattern\":{\"fillmode\":\"overlay\",\"size\":10,\"solidity\":0.2}},\"type\":\"bar\"}],\"scattergeo\":[{\"type\":\"scattergeo\",\"marker\":{\"colorbar\":{\"outlinewidth\":0,\"ticks\":\"\"}}}],\"scatterpolar\":[{\"type\":\"scatterpolar\",\"marker\":{\"colorbar\":{\"outlinewidth\":0,\"ticks\":\"\"}}}],\"histogram\":[{\"marker\":{\"pattern\":{\"fillmode\":\"overlay\",\"size\":10,\"solidity\":0.2}},\"type\":\"histogram\"}],\"scattergl\":[{\"type\":\"scattergl\",\"marker\":{\"colorbar\":{\"outlinewidth\":0,\"ticks\":\"\"}}}],\"scatter3d\":[{\"type\":\"scatter3d\",\"line\":{\"colorbar\":{\"outlinewidth\":0,\"ticks\":\"\"}},\"marker\":{\"colorbar\":{\"outlinewidth\":0,\"ticks\":\"\"}}}],\"scattermapbox\":[{\"type\":\"scattermapbox\",\"marker\":{\"colorbar\":{\"outlinewidth\":0,\"ticks\":\"\"}}}],\"scatterternary\":[{\"type\":\"scatterternary\",\"marker\":{\"colorbar\":{\"outlinewidth\":0,\"ticks\":\"\"}}}],\"scattercarpet\":[{\"type\":\"scattercarpet\",\"marker\":{\"colorbar\":{\"outlinewidth\":0,\"ticks\":\"\"}}}],\"carpet\":[{\"aaxis\":{\"endlinecolor\":\"#2a3f5f\",\"gridcolor\":\"white\",\"linecolor\":\"white\",\"minorgridcolor\":\"white\",\"startlinecolor\":\"#2a3f5f\"},\"baxis\":{\"endlinecolor\":\"#2a3f5f\",\"gridcolor\":\"white\",\"linecolor\":\"white\",\"minorgridcolor\":\"white\",\"startlinecolor\":\"#2a3f5f\"},\"type\":\"carpet\"}],\"table\":[{\"cells\":{\"fill\":{\"color\":\"#EBF0F8\"},\"line\":{\"color\":\"white\"}},\"header\":{\"fill\":{\"color\":\"#C8D4E3\"},\"line\":{\"color\":\"white\"}},\"type\":\"table\"}],\"barpolar\":[{\"marker\":{\"line\":{\"color\":\"#E5ECF6\",\"width\":0.5},\"pattern\":{\"fillmode\":\"overlay\",\"size\":10,\"solidity\":0.2}},\"type\":\"barpolar\"}],\"pie\":[{\"automargin\":true,\"type\":\"pie\"}]},\"layout\":{\"autotypenumbers\":\"strict\",\"colorway\":[\"#636efa\",\"#EF553B\",\"#00cc96\",\"#ab63fa\",\"#FFA15A\",\"#19d3f3\",\"#FF6692\",\"#B6E880\",\"#FF97FF\",\"#FECB52\"],\"font\":{\"color\":\"#2a3f5f\"},\"hovermode\":\"closest\",\"hoverlabel\":{\"align\":\"left\"},\"paper_bgcolor\":\"white\",\"plot_bgcolor\":\"#E5ECF6\",\"polar\":{\"bgcolor\":\"#E5ECF6\",\"angularaxis\":{\"gridcolor\":\"white\",\"linecolor\":\"white\",\"ticks\":\"\"},\"radialaxis\":{\"gridcolor\":\"white\",\"linecolor\":\"white\",\"ticks\":\"\"}},\"ternary\":{\"bgcolor\":\"#E5ECF6\",\"aaxis\":{\"gridcolor\":\"white\",\"linecolor\":\"white\",\"ticks\":\"\"},\"baxis\":{\"gridcolor\":\"white\",\"linecolor\":\"white\",\"ticks\":\"\"},\"caxis\":{\"gridcolor\":\"white\",\"linecolor\":\"white\",\"ticks\":\"\"}},\"coloraxis\":{\"colorbar\":{\"outlinewidth\":0,\"ticks\":\"\"}},\"colorscale\":{\"sequential\":[[0.0,\"#0d0887\"],[0.1111111111111111,\"#46039f\"],[0.2222222222222222,\"#7201a8\"],[0.3333333333333333,\"#9c179e\"],[0.4444444444444444,\"#bd3786\"],[0.5555555555555556,\"#d8576b\"],[0.6666666666666666,\"#ed7953\"],[0.7777777777777778,\"#fb9f3a\"],[0.8888888888888888,\"#fdca26\"],[1.0,\"#f0f921\"]],\"sequentialminus\":[[0.0,\"#0d0887\"],[0.1111111111111111,\"#46039f\"],[0.2222222222222222,\"#7201a8\"],[0.3333333333333333,\"#9c179e\"],[0.4444444444444444,\"#bd3786\"],[0.5555555555555556,\"#d8576b\"],[0.6666666666666666,\"#ed7953\"],[0.7777777777777778,\"#fb9f3a\"],[0.8888888888888888,\"#fdca26\"],[1.0,\"#f0f921\"]],\"diverging\":[[0,\"#8e0152\"],[0.1,\"#c51b7d\"],[0.2,\"#de77ae\"],[0.3,\"#f1b6da\"],[0.4,\"#fde0ef\"],[0.5,\"#f7f7f7\"],[0.6,\"#e6f5d0\"],[0.7,\"#b8e186\"],[0.8,\"#7fbc41\"],[0.9,\"#4d9221\"],[1,\"#276419\"]]},\"xaxis\":{\"gridcolor\":\"white\",\"linecolor\":\"white\",\"ticks\":\"\",\"title\":{\"standoff\":15},\"zerolinecolor\":\"white\",\"automargin\":true,\"zerolinewidth\":2},\"yaxis\":{\"gridcolor\":\"white\",\"linecolor\":\"white\",\"ticks\":\"\",\"title\":{\"standoff\":15},\"zerolinecolor\":\"white\",\"automargin\":true,\"zerolinewidth\":2},\"scene\":{\"xaxis\":{\"backgroundcolor\":\"#E5ECF6\",\"gridcolor\":\"white\",\"linecolor\":\"white\",\"showbackground\":true,\"ticks\":\"\",\"zerolinecolor\":\"white\",\"gridwidth\":2},\"yaxis\":{\"backgroundcolor\":\"#E5ECF6\",\"gridcolor\":\"white\",\"linecolor\":\"white\",\"showbackground\":true,\"ticks\":\"\",\"zerolinecolor\":\"white\",\"gridwidth\":2},\"zaxis\":{\"backgroundcolor\":\"#E5ECF6\",\"gridcolor\":\"white\",\"linecolor\":\"white\",\"showbackground\":true,\"ticks\":\"\",\"zerolinecolor\":\"white\",\"gridwidth\":2}},\"shapedefaults\":{\"line\":{\"color\":\"#2a3f5f\"}},\"annotationdefaults\":{\"arrowcolor\":\"#2a3f5f\",\"arrowhead\":0,\"arrowwidth\":1},\"geo\":{\"bgcolor\":\"white\",\"landcolor\":\"#E5ECF6\",\"subunitcolor\":\"white\",\"showland\":true,\"showlakes\":true,\"lakecolor\":\"white\"},\"title\":{\"x\":0.05},\"mapbox\":{\"style\":\"light\"}}},\"geo\":{\"domain\":{\"x\":[0.0,1.0],\"y\":[0.0,1.0]},\"center\":{},\"scope\":\"usa\"},\"legend\":{\"title\":{\"text\":\"winner\"},\"tracegroupgap\":0},\"margin\":{\"t\":60}},                        {\"responsive\": true}                    ).then(function(){\n",
       "                            \n",
       "var gd = document.getElementById('0b1f8851-96e1-4f68-9f25-d92723a07f93');\n",
       "var x = new MutationObserver(function (mutations, observer) {{\n",
       "        var display = window.getComputedStyle(gd).display;\n",
       "        if (!display || display === 'none') {{\n",
       "            console.log([gd, 'removed!']);\n",
       "            Plotly.purge(gd);\n",
       "            observer.disconnect();\n",
       "        }}\n",
       "}});\n",
       "\n",
       "// Listen for the removal of the full notebook cells\n",
       "var notebookContainer = gd.closest('#notebook-container');\n",
       "if (notebookContainer) {{\n",
       "    x.observe(notebookContainer, {childList: true});\n",
       "}}\n",
       "\n",
       "// Listen for the clearing of the current output cell\n",
       "var outputEl = gd.closest('.output');\n",
       "if (outputEl) {{\n",
       "    x.observe(outputEl, {childList: true});\n",
       "}}\n",
       "\n",
       "                        })                };                });            </script>        </div>"
      ]
     },
     "metadata": {},
     "output_type": "display_data"
    }
   ],
   "source": [
    "fig = px.choropleth(real_result, color='winner', locations=\"state_code\", locationmode=\"USA-states\", scope=\"usa\")\n",
    "fig.show()"
   ]
  },
  {
   "cell_type": "code",
   "execution_count": 75,
   "metadata": {},
   "outputs": [
    {
     "name": "stdout",
     "output_type": "stream",
     "text": [
      "0.82\n"
     ]
    }
   ],
   "source": [
    "overview_df[\"correct\"] = np.where(overview_df[\"predicted_winner\"] == overview_df[\"winner\"], 1, 0)\n",
    "accuracy = np.sum(overview_df[\"correct\"]) / len(overview_df[\"correct\"])\n",
    "print(accuracy)"
   ]
  },
  {
   "cell_type": "code",
   "execution_count": 86,
   "metadata": {
    "scrolled": true
   },
   "outputs": [
    {
     "name": "stdout",
     "output_type": "stream",
     "text": [
      "Accuracy % :  78.0\n"
     ]
    },
    {
     "data": {
      "application/vnd.plotly.v1+json": {
       "config": {
        "plotlyServerURL": "https://plot.ly"
       },
       "data": [
        {
         "colorscale": [
          [
           0,
           "#636efa"
          ],
          [
           1,
           "#636efa"
          ]
         ],
         "geo": "geo",
         "hovertemplate": "predicted_winner=Biden<br>state_code=%{location}<extra></extra>",
         "locationmode": "USA-states",
         "locations": [
          "PA",
          "NJ",
          "CO",
          "MA",
          "MN",
          "CA",
          "WA",
          "IL",
          "OR",
          "WI",
          "MD",
          "MI",
          "UT",
          "IA",
          "VA",
          "NM",
          "ND",
          "KS",
          "OH",
          "NY",
          "NC",
          "SD",
          "DE",
          "CT",
          "ME",
          "RI",
          "NH",
          "VT"
         ],
         "name": "Biden",
         "showlegend": true,
         "showscale": false,
         "type": "choropleth",
         "z": [
          1,
          1,
          1,
          1,
          1,
          1,
          1,
          1,
          1,
          1,
          1,
          1,
          1,
          1,
          1,
          1,
          1,
          1,
          1,
          1,
          1,
          1,
          1,
          1,
          1,
          1,
          1,
          1
         ]
        },
        {
         "colorscale": [
          [
           0,
           "#EF553B"
          ],
          [
           1,
           "#EF553B"
          ]
         ],
         "geo": "geo",
         "hovertemplate": "predicted_winner=Trump<br>state_code=%{location}<extra></extra>",
         "locationmode": "USA-states",
         "locations": [
          "FL",
          "SC",
          "NV",
          "TX",
          "LA",
          "HI",
          "IN",
          "AK",
          "AZ",
          "KY",
          "OK",
          "GA",
          "TN",
          "NE",
          "AR",
          "ID",
          "AL",
          "WY",
          "MO",
          "MS",
          "MT",
          "WV"
         ],
         "name": "Trump",
         "showlegend": true,
         "showscale": false,
         "type": "choropleth",
         "z": [
          1,
          1,
          1,
          1,
          1,
          1,
          1,
          1,
          1,
          1,
          1,
          1,
          1,
          1,
          1,
          1,
          1,
          1,
          1,
          1,
          1,
          1
         ]
        }
       ],
       "layout": {
        "geo": {
         "center": {},
         "domain": {
          "x": [
           0,
           1
          ],
          "y": [
           0,
           1
          ]
         },
         "scope": "usa"
        },
        "legend": {
         "title": {
          "text": "predicted_winner"
         },
         "tracegroupgap": 0
        },
        "margin": {
         "t": 60
        },
        "template": {
         "data": {
          "bar": [
           {
            "error_x": {
             "color": "#2a3f5f"
            },
            "error_y": {
             "color": "#2a3f5f"
            },
            "marker": {
             "line": {
              "color": "#E5ECF6",
              "width": 0.5
             },
             "pattern": {
              "fillmode": "overlay",
              "size": 10,
              "solidity": 0.2
             }
            },
            "type": "bar"
           }
          ],
          "barpolar": [
           {
            "marker": {
             "line": {
              "color": "#E5ECF6",
              "width": 0.5
             },
             "pattern": {
              "fillmode": "overlay",
              "size": 10,
              "solidity": 0.2
             }
            },
            "type": "barpolar"
           }
          ],
          "carpet": [
           {
            "aaxis": {
             "endlinecolor": "#2a3f5f",
             "gridcolor": "white",
             "linecolor": "white",
             "minorgridcolor": "white",
             "startlinecolor": "#2a3f5f"
            },
            "baxis": {
             "endlinecolor": "#2a3f5f",
             "gridcolor": "white",
             "linecolor": "white",
             "minorgridcolor": "white",
             "startlinecolor": "#2a3f5f"
            },
            "type": "carpet"
           }
          ],
          "choropleth": [
           {
            "colorbar": {
             "outlinewidth": 0,
             "ticks": ""
            },
            "type": "choropleth"
           }
          ],
          "contour": [
           {
            "colorbar": {
             "outlinewidth": 0,
             "ticks": ""
            },
            "colorscale": [
             [
              0,
              "#0d0887"
             ],
             [
              0.1111111111111111,
              "#46039f"
             ],
             [
              0.2222222222222222,
              "#7201a8"
             ],
             [
              0.3333333333333333,
              "#9c179e"
             ],
             [
              0.4444444444444444,
              "#bd3786"
             ],
             [
              0.5555555555555556,
              "#d8576b"
             ],
             [
              0.6666666666666666,
              "#ed7953"
             ],
             [
              0.7777777777777778,
              "#fb9f3a"
             ],
             [
              0.8888888888888888,
              "#fdca26"
             ],
             [
              1,
              "#f0f921"
             ]
            ],
            "type": "contour"
           }
          ],
          "contourcarpet": [
           {
            "colorbar": {
             "outlinewidth": 0,
             "ticks": ""
            },
            "type": "contourcarpet"
           }
          ],
          "heatmap": [
           {
            "colorbar": {
             "outlinewidth": 0,
             "ticks": ""
            },
            "colorscale": [
             [
              0,
              "#0d0887"
             ],
             [
              0.1111111111111111,
              "#46039f"
             ],
             [
              0.2222222222222222,
              "#7201a8"
             ],
             [
              0.3333333333333333,
              "#9c179e"
             ],
             [
              0.4444444444444444,
              "#bd3786"
             ],
             [
              0.5555555555555556,
              "#d8576b"
             ],
             [
              0.6666666666666666,
              "#ed7953"
             ],
             [
              0.7777777777777778,
              "#fb9f3a"
             ],
             [
              0.8888888888888888,
              "#fdca26"
             ],
             [
              1,
              "#f0f921"
             ]
            ],
            "type": "heatmap"
           }
          ],
          "heatmapgl": [
           {
            "colorbar": {
             "outlinewidth": 0,
             "ticks": ""
            },
            "colorscale": [
             [
              0,
              "#0d0887"
             ],
             [
              0.1111111111111111,
              "#46039f"
             ],
             [
              0.2222222222222222,
              "#7201a8"
             ],
             [
              0.3333333333333333,
              "#9c179e"
             ],
             [
              0.4444444444444444,
              "#bd3786"
             ],
             [
              0.5555555555555556,
              "#d8576b"
             ],
             [
              0.6666666666666666,
              "#ed7953"
             ],
             [
              0.7777777777777778,
              "#fb9f3a"
             ],
             [
              0.8888888888888888,
              "#fdca26"
             ],
             [
              1,
              "#f0f921"
             ]
            ],
            "type": "heatmapgl"
           }
          ],
          "histogram": [
           {
            "marker": {
             "pattern": {
              "fillmode": "overlay",
              "size": 10,
              "solidity": 0.2
             }
            },
            "type": "histogram"
           }
          ],
          "histogram2d": [
           {
            "colorbar": {
             "outlinewidth": 0,
             "ticks": ""
            },
            "colorscale": [
             [
              0,
              "#0d0887"
             ],
             [
              0.1111111111111111,
              "#46039f"
             ],
             [
              0.2222222222222222,
              "#7201a8"
             ],
             [
              0.3333333333333333,
              "#9c179e"
             ],
             [
              0.4444444444444444,
              "#bd3786"
             ],
             [
              0.5555555555555556,
              "#d8576b"
             ],
             [
              0.6666666666666666,
              "#ed7953"
             ],
             [
              0.7777777777777778,
              "#fb9f3a"
             ],
             [
              0.8888888888888888,
              "#fdca26"
             ],
             [
              1,
              "#f0f921"
             ]
            ],
            "type": "histogram2d"
           }
          ],
          "histogram2dcontour": [
           {
            "colorbar": {
             "outlinewidth": 0,
             "ticks": ""
            },
            "colorscale": [
             [
              0,
              "#0d0887"
             ],
             [
              0.1111111111111111,
              "#46039f"
             ],
             [
              0.2222222222222222,
              "#7201a8"
             ],
             [
              0.3333333333333333,
              "#9c179e"
             ],
             [
              0.4444444444444444,
              "#bd3786"
             ],
             [
              0.5555555555555556,
              "#d8576b"
             ],
             [
              0.6666666666666666,
              "#ed7953"
             ],
             [
              0.7777777777777778,
              "#fb9f3a"
             ],
             [
              0.8888888888888888,
              "#fdca26"
             ],
             [
              1,
              "#f0f921"
             ]
            ],
            "type": "histogram2dcontour"
           }
          ],
          "mesh3d": [
           {
            "colorbar": {
             "outlinewidth": 0,
             "ticks": ""
            },
            "type": "mesh3d"
           }
          ],
          "parcoords": [
           {
            "line": {
             "colorbar": {
              "outlinewidth": 0,
              "ticks": ""
             }
            },
            "type": "parcoords"
           }
          ],
          "pie": [
           {
            "automargin": true,
            "type": "pie"
           }
          ],
          "scatter": [
           {
            "fillpattern": {
             "fillmode": "overlay",
             "size": 10,
             "solidity": 0.2
            },
            "type": "scatter"
           }
          ],
          "scatter3d": [
           {
            "line": {
             "colorbar": {
              "outlinewidth": 0,
              "ticks": ""
             }
            },
            "marker": {
             "colorbar": {
              "outlinewidth": 0,
              "ticks": ""
             }
            },
            "type": "scatter3d"
           }
          ],
          "scattercarpet": [
           {
            "marker": {
             "colorbar": {
              "outlinewidth": 0,
              "ticks": ""
             }
            },
            "type": "scattercarpet"
           }
          ],
          "scattergeo": [
           {
            "marker": {
             "colorbar": {
              "outlinewidth": 0,
              "ticks": ""
             }
            },
            "type": "scattergeo"
           }
          ],
          "scattergl": [
           {
            "marker": {
             "colorbar": {
              "outlinewidth": 0,
              "ticks": ""
             }
            },
            "type": "scattergl"
           }
          ],
          "scattermapbox": [
           {
            "marker": {
             "colorbar": {
              "outlinewidth": 0,
              "ticks": ""
             }
            },
            "type": "scattermapbox"
           }
          ],
          "scatterpolar": [
           {
            "marker": {
             "colorbar": {
              "outlinewidth": 0,
              "ticks": ""
             }
            },
            "type": "scatterpolar"
           }
          ],
          "scatterpolargl": [
           {
            "marker": {
             "colorbar": {
              "outlinewidth": 0,
              "ticks": ""
             }
            },
            "type": "scatterpolargl"
           }
          ],
          "scatterternary": [
           {
            "marker": {
             "colorbar": {
              "outlinewidth": 0,
              "ticks": ""
             }
            },
            "type": "scatterternary"
           }
          ],
          "surface": [
           {
            "colorbar": {
             "outlinewidth": 0,
             "ticks": ""
            },
            "colorscale": [
             [
              0,
              "#0d0887"
             ],
             [
              0.1111111111111111,
              "#46039f"
             ],
             [
              0.2222222222222222,
              "#7201a8"
             ],
             [
              0.3333333333333333,
              "#9c179e"
             ],
             [
              0.4444444444444444,
              "#bd3786"
             ],
             [
              0.5555555555555556,
              "#d8576b"
             ],
             [
              0.6666666666666666,
              "#ed7953"
             ],
             [
              0.7777777777777778,
              "#fb9f3a"
             ],
             [
              0.8888888888888888,
              "#fdca26"
             ],
             [
              1,
              "#f0f921"
             ]
            ],
            "type": "surface"
           }
          ],
          "table": [
           {
            "cells": {
             "fill": {
              "color": "#EBF0F8"
             },
             "line": {
              "color": "white"
             }
            },
            "header": {
             "fill": {
              "color": "#C8D4E3"
             },
             "line": {
              "color": "white"
             }
            },
            "type": "table"
           }
          ]
         },
         "layout": {
          "annotationdefaults": {
           "arrowcolor": "#2a3f5f",
           "arrowhead": 0,
           "arrowwidth": 1
          },
          "autotypenumbers": "strict",
          "coloraxis": {
           "colorbar": {
            "outlinewidth": 0,
            "ticks": ""
           }
          },
          "colorscale": {
           "diverging": [
            [
             0,
             "#8e0152"
            ],
            [
             0.1,
             "#c51b7d"
            ],
            [
             0.2,
             "#de77ae"
            ],
            [
             0.3,
             "#f1b6da"
            ],
            [
             0.4,
             "#fde0ef"
            ],
            [
             0.5,
             "#f7f7f7"
            ],
            [
             0.6,
             "#e6f5d0"
            ],
            [
             0.7,
             "#b8e186"
            ],
            [
             0.8,
             "#7fbc41"
            ],
            [
             0.9,
             "#4d9221"
            ],
            [
             1,
             "#276419"
            ]
           ],
           "sequential": [
            [
             0,
             "#0d0887"
            ],
            [
             0.1111111111111111,
             "#46039f"
            ],
            [
             0.2222222222222222,
             "#7201a8"
            ],
            [
             0.3333333333333333,
             "#9c179e"
            ],
            [
             0.4444444444444444,
             "#bd3786"
            ],
            [
             0.5555555555555556,
             "#d8576b"
            ],
            [
             0.6666666666666666,
             "#ed7953"
            ],
            [
             0.7777777777777778,
             "#fb9f3a"
            ],
            [
             0.8888888888888888,
             "#fdca26"
            ],
            [
             1,
             "#f0f921"
            ]
           ],
           "sequentialminus": [
            [
             0,
             "#0d0887"
            ],
            [
             0.1111111111111111,
             "#46039f"
            ],
            [
             0.2222222222222222,
             "#7201a8"
            ],
            [
             0.3333333333333333,
             "#9c179e"
            ],
            [
             0.4444444444444444,
             "#bd3786"
            ],
            [
             0.5555555555555556,
             "#d8576b"
            ],
            [
             0.6666666666666666,
             "#ed7953"
            ],
            [
             0.7777777777777778,
             "#fb9f3a"
            ],
            [
             0.8888888888888888,
             "#fdca26"
            ],
            [
             1,
             "#f0f921"
            ]
           ]
          },
          "colorway": [
           "#636efa",
           "#EF553B",
           "#00cc96",
           "#ab63fa",
           "#FFA15A",
           "#19d3f3",
           "#FF6692",
           "#B6E880",
           "#FF97FF",
           "#FECB52"
          ],
          "font": {
           "color": "#2a3f5f"
          },
          "geo": {
           "bgcolor": "white",
           "lakecolor": "white",
           "landcolor": "#E5ECF6",
           "showlakes": true,
           "showland": true,
           "subunitcolor": "white"
          },
          "hoverlabel": {
           "align": "left"
          },
          "hovermode": "closest",
          "mapbox": {
           "style": "light"
          },
          "paper_bgcolor": "white",
          "plot_bgcolor": "#E5ECF6",
          "polar": {
           "angularaxis": {
            "gridcolor": "white",
            "linecolor": "white",
            "ticks": ""
           },
           "bgcolor": "#E5ECF6",
           "radialaxis": {
            "gridcolor": "white",
            "linecolor": "white",
            "ticks": ""
           }
          },
          "scene": {
           "xaxis": {
            "backgroundcolor": "#E5ECF6",
            "gridcolor": "white",
            "gridwidth": 2,
            "linecolor": "white",
            "showbackground": true,
            "ticks": "",
            "zerolinecolor": "white"
           },
           "yaxis": {
            "backgroundcolor": "#E5ECF6",
            "gridcolor": "white",
            "gridwidth": 2,
            "linecolor": "white",
            "showbackground": true,
            "ticks": "",
            "zerolinecolor": "white"
           },
           "zaxis": {
            "backgroundcolor": "#E5ECF6",
            "gridcolor": "white",
            "gridwidth": 2,
            "linecolor": "white",
            "showbackground": true,
            "ticks": "",
            "zerolinecolor": "white"
           }
          },
          "shapedefaults": {
           "line": {
            "color": "#2a3f5f"
           }
          },
          "ternary": {
           "aaxis": {
            "gridcolor": "white",
            "linecolor": "white",
            "ticks": ""
           },
           "baxis": {
            "gridcolor": "white",
            "linecolor": "white",
            "ticks": ""
           },
           "bgcolor": "#E5ECF6",
           "caxis": {
            "gridcolor": "white",
            "linecolor": "white",
            "ticks": ""
           }
          },
          "title": {
           "x": 0.05
          },
          "xaxis": {
           "automargin": true,
           "gridcolor": "white",
           "linecolor": "white",
           "ticks": "",
           "title": {
            "standoff": 15
           },
           "zerolinecolor": "white",
           "zerolinewidth": 2
          },
          "yaxis": {
           "automargin": true,
           "gridcolor": "white",
           "linecolor": "white",
           "ticks": "",
           "title": {
            "standoff": 15
           },
           "zerolinecolor": "white",
           "zerolinewidth": 2
          }
         }
        }
       }
      },
      "text/html": [
       "<div>                            <div id=\"a4f63928-0f28-4f22-972f-a85c91a3fc66\" class=\"plotly-graph-div\" style=\"height:525px; width:100%;\"></div>            <script type=\"text/javascript\">                require([\"plotly\"], function(Plotly) {                    window.PLOTLYENV=window.PLOTLYENV || {};                                    if (document.getElementById(\"a4f63928-0f28-4f22-972f-a85c91a3fc66\")) {                    Plotly.newPlot(                        \"a4f63928-0f28-4f22-972f-a85c91a3fc66\",                        [{\"colorscale\":[[0.0,\"#636efa\"],[1.0,\"#636efa\"]],\"geo\":\"geo\",\"hovertemplate\":\"predicted_winner=Biden<br>state_code=%{location}<extra></extra>\",\"locationmode\":\"USA-states\",\"locations\":[\"PA\",\"NJ\",\"CO\",\"MA\",\"MN\",\"CA\",\"WA\",\"IL\",\"OR\",\"WI\",\"MD\",\"MI\",\"UT\",\"IA\",\"VA\",\"NM\",\"ND\",\"KS\",\"OH\",\"NY\",\"NC\",\"SD\",\"DE\",\"CT\",\"ME\",\"RI\",\"NH\",\"VT\"],\"name\":\"Biden\",\"showlegend\":true,\"showscale\":false,\"z\":[1,1,1,1,1,1,1,1,1,1,1,1,1,1,1,1,1,1,1,1,1,1,1,1,1,1,1,1],\"type\":\"choropleth\"},{\"colorscale\":[[0.0,\"#EF553B\"],[1.0,\"#EF553B\"]],\"geo\":\"geo\",\"hovertemplate\":\"predicted_winner=Trump<br>state_code=%{location}<extra></extra>\",\"locationmode\":\"USA-states\",\"locations\":[\"FL\",\"SC\",\"NV\",\"TX\",\"LA\",\"HI\",\"IN\",\"AK\",\"AZ\",\"KY\",\"OK\",\"GA\",\"TN\",\"NE\",\"AR\",\"ID\",\"AL\",\"WY\",\"MO\",\"MS\",\"MT\",\"WV\"],\"name\":\"Trump\",\"showlegend\":true,\"showscale\":false,\"z\":[1,1,1,1,1,1,1,1,1,1,1,1,1,1,1,1,1,1,1,1,1,1],\"type\":\"choropleth\"}],                        {\"template\":{\"data\":{\"histogram2dcontour\":[{\"type\":\"histogram2dcontour\",\"colorbar\":{\"outlinewidth\":0,\"ticks\":\"\"},\"colorscale\":[[0.0,\"#0d0887\"],[0.1111111111111111,\"#46039f\"],[0.2222222222222222,\"#7201a8\"],[0.3333333333333333,\"#9c179e\"],[0.4444444444444444,\"#bd3786\"],[0.5555555555555556,\"#d8576b\"],[0.6666666666666666,\"#ed7953\"],[0.7777777777777778,\"#fb9f3a\"],[0.8888888888888888,\"#fdca26\"],[1.0,\"#f0f921\"]]}],\"choropleth\":[{\"type\":\"choropleth\",\"colorbar\":{\"outlinewidth\":0,\"ticks\":\"\"}}],\"histogram2d\":[{\"type\":\"histogram2d\",\"colorbar\":{\"outlinewidth\":0,\"ticks\":\"\"},\"colorscale\":[[0.0,\"#0d0887\"],[0.1111111111111111,\"#46039f\"],[0.2222222222222222,\"#7201a8\"],[0.3333333333333333,\"#9c179e\"],[0.4444444444444444,\"#bd3786\"],[0.5555555555555556,\"#d8576b\"],[0.6666666666666666,\"#ed7953\"],[0.7777777777777778,\"#fb9f3a\"],[0.8888888888888888,\"#fdca26\"],[1.0,\"#f0f921\"]]}],\"heatmap\":[{\"type\":\"heatmap\",\"colorbar\":{\"outlinewidth\":0,\"ticks\":\"\"},\"colorscale\":[[0.0,\"#0d0887\"],[0.1111111111111111,\"#46039f\"],[0.2222222222222222,\"#7201a8\"],[0.3333333333333333,\"#9c179e\"],[0.4444444444444444,\"#bd3786\"],[0.5555555555555556,\"#d8576b\"],[0.6666666666666666,\"#ed7953\"],[0.7777777777777778,\"#fb9f3a\"],[0.8888888888888888,\"#fdca26\"],[1.0,\"#f0f921\"]]}],\"heatmapgl\":[{\"type\":\"heatmapgl\",\"colorbar\":{\"outlinewidth\":0,\"ticks\":\"\"},\"colorscale\":[[0.0,\"#0d0887\"],[0.1111111111111111,\"#46039f\"],[0.2222222222222222,\"#7201a8\"],[0.3333333333333333,\"#9c179e\"],[0.4444444444444444,\"#bd3786\"],[0.5555555555555556,\"#d8576b\"],[0.6666666666666666,\"#ed7953\"],[0.7777777777777778,\"#fb9f3a\"],[0.8888888888888888,\"#fdca26\"],[1.0,\"#f0f921\"]]}],\"contourcarpet\":[{\"type\":\"contourcarpet\",\"colorbar\":{\"outlinewidth\":0,\"ticks\":\"\"}}],\"contour\":[{\"type\":\"contour\",\"colorbar\":{\"outlinewidth\":0,\"ticks\":\"\"},\"colorscale\":[[0.0,\"#0d0887\"],[0.1111111111111111,\"#46039f\"],[0.2222222222222222,\"#7201a8\"],[0.3333333333333333,\"#9c179e\"],[0.4444444444444444,\"#bd3786\"],[0.5555555555555556,\"#d8576b\"],[0.6666666666666666,\"#ed7953\"],[0.7777777777777778,\"#fb9f3a\"],[0.8888888888888888,\"#fdca26\"],[1.0,\"#f0f921\"]]}],\"surface\":[{\"type\":\"surface\",\"colorbar\":{\"outlinewidth\":0,\"ticks\":\"\"},\"colorscale\":[[0.0,\"#0d0887\"],[0.1111111111111111,\"#46039f\"],[0.2222222222222222,\"#7201a8\"],[0.3333333333333333,\"#9c179e\"],[0.4444444444444444,\"#bd3786\"],[0.5555555555555556,\"#d8576b\"],[0.6666666666666666,\"#ed7953\"],[0.7777777777777778,\"#fb9f3a\"],[0.8888888888888888,\"#fdca26\"],[1.0,\"#f0f921\"]]}],\"mesh3d\":[{\"type\":\"mesh3d\",\"colorbar\":{\"outlinewidth\":0,\"ticks\":\"\"}}],\"scatter\":[{\"fillpattern\":{\"fillmode\":\"overlay\",\"size\":10,\"solidity\":0.2},\"type\":\"scatter\"}],\"parcoords\":[{\"type\":\"parcoords\",\"line\":{\"colorbar\":{\"outlinewidth\":0,\"ticks\":\"\"}}}],\"scatterpolargl\":[{\"type\":\"scatterpolargl\",\"marker\":{\"colorbar\":{\"outlinewidth\":0,\"ticks\":\"\"}}}],\"bar\":[{\"error_x\":{\"color\":\"#2a3f5f\"},\"error_y\":{\"color\":\"#2a3f5f\"},\"marker\":{\"line\":{\"color\":\"#E5ECF6\",\"width\":0.5},\"pattern\":{\"fillmode\":\"overlay\",\"size\":10,\"solidity\":0.2}},\"type\":\"bar\"}],\"scattergeo\":[{\"type\":\"scattergeo\",\"marker\":{\"colorbar\":{\"outlinewidth\":0,\"ticks\":\"\"}}}],\"scatterpolar\":[{\"type\":\"scatterpolar\",\"marker\":{\"colorbar\":{\"outlinewidth\":0,\"ticks\":\"\"}}}],\"histogram\":[{\"marker\":{\"pattern\":{\"fillmode\":\"overlay\",\"size\":10,\"solidity\":0.2}},\"type\":\"histogram\"}],\"scattergl\":[{\"type\":\"scattergl\",\"marker\":{\"colorbar\":{\"outlinewidth\":0,\"ticks\":\"\"}}}],\"scatter3d\":[{\"type\":\"scatter3d\",\"line\":{\"colorbar\":{\"outlinewidth\":0,\"ticks\":\"\"}},\"marker\":{\"colorbar\":{\"outlinewidth\":0,\"ticks\":\"\"}}}],\"scattermapbox\":[{\"type\":\"scattermapbox\",\"marker\":{\"colorbar\":{\"outlinewidth\":0,\"ticks\":\"\"}}}],\"scatterternary\":[{\"type\":\"scatterternary\",\"marker\":{\"colorbar\":{\"outlinewidth\":0,\"ticks\":\"\"}}}],\"scattercarpet\":[{\"type\":\"scattercarpet\",\"marker\":{\"colorbar\":{\"outlinewidth\":0,\"ticks\":\"\"}}}],\"carpet\":[{\"aaxis\":{\"endlinecolor\":\"#2a3f5f\",\"gridcolor\":\"white\",\"linecolor\":\"white\",\"minorgridcolor\":\"white\",\"startlinecolor\":\"#2a3f5f\"},\"baxis\":{\"endlinecolor\":\"#2a3f5f\",\"gridcolor\":\"white\",\"linecolor\":\"white\",\"minorgridcolor\":\"white\",\"startlinecolor\":\"#2a3f5f\"},\"type\":\"carpet\"}],\"table\":[{\"cells\":{\"fill\":{\"color\":\"#EBF0F8\"},\"line\":{\"color\":\"white\"}},\"header\":{\"fill\":{\"color\":\"#C8D4E3\"},\"line\":{\"color\":\"white\"}},\"type\":\"table\"}],\"barpolar\":[{\"marker\":{\"line\":{\"color\":\"#E5ECF6\",\"width\":0.5},\"pattern\":{\"fillmode\":\"overlay\",\"size\":10,\"solidity\":0.2}},\"type\":\"barpolar\"}],\"pie\":[{\"automargin\":true,\"type\":\"pie\"}]},\"layout\":{\"autotypenumbers\":\"strict\",\"colorway\":[\"#636efa\",\"#EF553B\",\"#00cc96\",\"#ab63fa\",\"#FFA15A\",\"#19d3f3\",\"#FF6692\",\"#B6E880\",\"#FF97FF\",\"#FECB52\"],\"font\":{\"color\":\"#2a3f5f\"},\"hovermode\":\"closest\",\"hoverlabel\":{\"align\":\"left\"},\"paper_bgcolor\":\"white\",\"plot_bgcolor\":\"#E5ECF6\",\"polar\":{\"bgcolor\":\"#E5ECF6\",\"angularaxis\":{\"gridcolor\":\"white\",\"linecolor\":\"white\",\"ticks\":\"\"},\"radialaxis\":{\"gridcolor\":\"white\",\"linecolor\":\"white\",\"ticks\":\"\"}},\"ternary\":{\"bgcolor\":\"#E5ECF6\",\"aaxis\":{\"gridcolor\":\"white\",\"linecolor\":\"white\",\"ticks\":\"\"},\"baxis\":{\"gridcolor\":\"white\",\"linecolor\":\"white\",\"ticks\":\"\"},\"caxis\":{\"gridcolor\":\"white\",\"linecolor\":\"white\",\"ticks\":\"\"}},\"coloraxis\":{\"colorbar\":{\"outlinewidth\":0,\"ticks\":\"\"}},\"colorscale\":{\"sequential\":[[0.0,\"#0d0887\"],[0.1111111111111111,\"#46039f\"],[0.2222222222222222,\"#7201a8\"],[0.3333333333333333,\"#9c179e\"],[0.4444444444444444,\"#bd3786\"],[0.5555555555555556,\"#d8576b\"],[0.6666666666666666,\"#ed7953\"],[0.7777777777777778,\"#fb9f3a\"],[0.8888888888888888,\"#fdca26\"],[1.0,\"#f0f921\"]],\"sequentialminus\":[[0.0,\"#0d0887\"],[0.1111111111111111,\"#46039f\"],[0.2222222222222222,\"#7201a8\"],[0.3333333333333333,\"#9c179e\"],[0.4444444444444444,\"#bd3786\"],[0.5555555555555556,\"#d8576b\"],[0.6666666666666666,\"#ed7953\"],[0.7777777777777778,\"#fb9f3a\"],[0.8888888888888888,\"#fdca26\"],[1.0,\"#f0f921\"]],\"diverging\":[[0,\"#8e0152\"],[0.1,\"#c51b7d\"],[0.2,\"#de77ae\"],[0.3,\"#f1b6da\"],[0.4,\"#fde0ef\"],[0.5,\"#f7f7f7\"],[0.6,\"#e6f5d0\"],[0.7,\"#b8e186\"],[0.8,\"#7fbc41\"],[0.9,\"#4d9221\"],[1,\"#276419\"]]},\"xaxis\":{\"gridcolor\":\"white\",\"linecolor\":\"white\",\"ticks\":\"\",\"title\":{\"standoff\":15},\"zerolinecolor\":\"white\",\"automargin\":true,\"zerolinewidth\":2},\"yaxis\":{\"gridcolor\":\"white\",\"linecolor\":\"white\",\"ticks\":\"\",\"title\":{\"standoff\":15},\"zerolinecolor\":\"white\",\"automargin\":true,\"zerolinewidth\":2},\"scene\":{\"xaxis\":{\"backgroundcolor\":\"#E5ECF6\",\"gridcolor\":\"white\",\"linecolor\":\"white\",\"showbackground\":true,\"ticks\":\"\",\"zerolinecolor\":\"white\",\"gridwidth\":2},\"yaxis\":{\"backgroundcolor\":\"#E5ECF6\",\"gridcolor\":\"white\",\"linecolor\":\"white\",\"showbackground\":true,\"ticks\":\"\",\"zerolinecolor\":\"white\",\"gridwidth\":2},\"zaxis\":{\"backgroundcolor\":\"#E5ECF6\",\"gridcolor\":\"white\",\"linecolor\":\"white\",\"showbackground\":true,\"ticks\":\"\",\"zerolinecolor\":\"white\",\"gridwidth\":2}},\"shapedefaults\":{\"line\":{\"color\":\"#2a3f5f\"}},\"annotationdefaults\":{\"arrowcolor\":\"#2a3f5f\",\"arrowhead\":0,\"arrowwidth\":1},\"geo\":{\"bgcolor\":\"white\",\"landcolor\":\"#E5ECF6\",\"subunitcolor\":\"white\",\"showland\":true,\"showlakes\":true,\"lakecolor\":\"white\"},\"title\":{\"x\":0.05},\"mapbox\":{\"style\":\"light\"}}},\"geo\":{\"domain\":{\"x\":[0.0,1.0],\"y\":[0.0,1.0]},\"center\":{},\"scope\":\"usa\"},\"legend\":{\"title\":{\"text\":\"predicted_winner\"},\"tracegroupgap\":0},\"margin\":{\"t\":60}},                        {\"responsive\": true}                    ).then(function(){\n",
       "                            \n",
       "var gd = document.getElementById('a4f63928-0f28-4f22-972f-a85c91a3fc66');\n",
       "var x = new MutationObserver(function (mutations, observer) {{\n",
       "        var display = window.getComputedStyle(gd).display;\n",
       "        if (!display || display === 'none') {{\n",
       "            console.log([gd, 'removed!']);\n",
       "            Plotly.purge(gd);\n",
       "            observer.disconnect();\n",
       "        }}\n",
       "}});\n",
       "\n",
       "// Listen for the removal of the full notebook cells\n",
       "var notebookContainer = gd.closest('#notebook-container');\n",
       "if (notebookContainer) {{\n",
       "    x.observe(notebookContainer, {childList: true});\n",
       "}}\n",
       "\n",
       "// Listen for the clearing of the current output cell\n",
       "var outputEl = gd.closest('.output');\n",
       "if (outputEl) {{\n",
       "    x.observe(outputEl, {childList: true});\n",
       "}}\n",
       "\n",
       "                        })                };                });            </script>        </div>"
      ]
     },
     "metadata": {},
     "output_type": "display_data"
    }
   ],
   "source": [
    "overview_df['predicted_winner'] = np.where(overview_df[\"Trump_P\"] + overview_df[\"Biden_N\"] > \n",
    "                                           overview_df[\"Biden_P\"] + overview_df[\"Trump_N\"], 'Trump', 'Biden')\n",
    "\n",
    "overview_df[\"correct\"] = np.where(overview_df[\"predicted_winner\"] == overview_df[\"winner\"], 1, 0)\n",
    "accuracy = np.sum(overview_df[\"correct\"]) / len(overview_df[\"correct\"])\n",
    "print('Accuracy % : ',accuracy*100)\n",
    "fig = px.choropleth(overview_df, color='predicted_winner', locations='state_code', locationmode=\"USA-states\", scope=\"usa\")\n",
    "fig.show()\n",
    "\n"
   ]
  },
  {
   "cell_type": "code",
   "execution_count": 77,
   "metadata": {
    "scrolled": true
   },
   "outputs": [
    {
     "data": {
      "text/html": [
       "<div>\n",
       "<style scoped>\n",
       "    .dataframe tbody tr th:only-of-type {\n",
       "        vertical-align: middle;\n",
       "    }\n",
       "\n",
       "    .dataframe tbody tr th {\n",
       "        vertical-align: top;\n",
       "    }\n",
       "\n",
       "    .dataframe thead th {\n",
       "        text-align: right;\n",
       "    }\n",
       "</style>\n",
       "<table border=\"1\" class=\"dataframe\">\n",
       "  <thead>\n",
       "    <tr style=\"text-align: right;\">\n",
       "      <th></th>\n",
       "      <th>state</th>\n",
       "      <th>total_tweets</th>\n",
       "      <th>Trump_P</th>\n",
       "      <th>Trump_N</th>\n",
       "      <th>Trump_Na</th>\n",
       "      <th>Biden_P</th>\n",
       "      <th>Biden_N</th>\n",
       "      <th>Biden_Na</th>\n",
       "      <th>Trump_P_perc_total</th>\n",
       "      <th>Biden_P_perc_total</th>\n",
       "      <th>Trump_P_perc_only</th>\n",
       "      <th>Biden_P_perc_only</th>\n",
       "      <th>state_code</th>\n",
       "      <th>predicted_winner</th>\n",
       "      <th>winner</th>\n",
       "      <th>correct</th>\n",
       "      <th>Trump_N_perc_total</th>\n",
       "      <th>Biden_N_perc_total</th>\n",
       "      <th>Trump_N_perc_only</th>\n",
       "      <th>Biden_N_perc_only</th>\n",
       "    </tr>\n",
       "  </thead>\n",
       "  <tbody>\n",
       "    <tr>\n",
       "      <th>0</th>\n",
       "      <td>Pennsylvania</td>\n",
       "      <td>254404</td>\n",
       "      <td>63484</td>\n",
       "      <td>55171</td>\n",
       "      <td>40406</td>\n",
       "      <td>38226</td>\n",
       "      <td>26713</td>\n",
       "      <td>30404</td>\n",
       "      <td>0.249540</td>\n",
       "      <td>0.150257</td>\n",
       "      <td>0.399117</td>\n",
       "      <td>0.400931</td>\n",
       "      <td>PA</td>\n",
       "      <td>Biden</td>\n",
       "      <td>Biden</td>\n",
       "      <td>1</td>\n",
       "      <td>0.216864</td>\n",
       "      <td>0.105002</td>\n",
       "      <td>0.346854</td>\n",
       "      <td>0.280178</td>\n",
       "    </tr>\n",
       "    <tr>\n",
       "      <th>1</th>\n",
       "      <td>New Jersey</td>\n",
       "      <td>162481</td>\n",
       "      <td>40968</td>\n",
       "      <td>35375</td>\n",
       "      <td>25372</td>\n",
       "      <td>24350</td>\n",
       "      <td>17160</td>\n",
       "      <td>19256</td>\n",
       "      <td>0.252140</td>\n",
       "      <td>0.149864</td>\n",
       "      <td>0.402772</td>\n",
       "      <td>0.400718</td>\n",
       "      <td>NJ</td>\n",
       "      <td>Biden</td>\n",
       "      <td>Biden</td>\n",
       "      <td>1</td>\n",
       "      <td>0.217718</td>\n",
       "      <td>0.105612</td>\n",
       "      <td>0.347785</td>\n",
       "      <td>0.282395</td>\n",
       "    </tr>\n",
       "    <tr>\n",
       "      <th>2</th>\n",
       "      <td>Colorado</td>\n",
       "      <td>143612</td>\n",
       "      <td>35116</td>\n",
       "      <td>33106</td>\n",
       "      <td>22356</td>\n",
       "      <td>21400</td>\n",
       "      <td>14664</td>\n",
       "      <td>16970</td>\n",
       "      <td>0.244520</td>\n",
       "      <td>0.149013</td>\n",
       "      <td>0.387688</td>\n",
       "      <td>0.403515</td>\n",
       "      <td>CO</td>\n",
       "      <td>Biden</td>\n",
       "      <td>Biden</td>\n",
       "      <td>1</td>\n",
       "      <td>0.230524</td>\n",
       "      <td>0.102108</td>\n",
       "      <td>0.365497</td>\n",
       "      <td>0.276502</td>\n",
       "    </tr>\n",
       "    <tr>\n",
       "      <th>3</th>\n",
       "      <td>Massachusetts</td>\n",
       "      <td>153022</td>\n",
       "      <td>36289</td>\n",
       "      <td>35300</td>\n",
       "      <td>23833</td>\n",
       "      <td>23821</td>\n",
       "      <td>15550</td>\n",
       "      <td>18229</td>\n",
       "      <td>0.237149</td>\n",
       "      <td>0.155670</td>\n",
       "      <td>0.380300</td>\n",
       "      <td>0.413559</td>\n",
       "      <td>MA</td>\n",
       "      <td>Biden</td>\n",
       "      <td>Biden</td>\n",
       "      <td>1</td>\n",
       "      <td>0.230686</td>\n",
       "      <td>0.101619</td>\n",
       "      <td>0.369936</td>\n",
       "      <td>0.269965</td>\n",
       "    </tr>\n",
       "    <tr>\n",
       "      <th>4</th>\n",
       "      <td>Florida</td>\n",
       "      <td>679529</td>\n",
       "      <td>182091</td>\n",
       "      <td>140167</td>\n",
       "      <td>108537</td>\n",
       "      <td>93633</td>\n",
       "      <td>74465</td>\n",
       "      <td>80636</td>\n",
       "      <td>0.267966</td>\n",
       "      <td>0.137791</td>\n",
       "      <td>0.422686</td>\n",
       "      <td>0.376438</td>\n",
       "      <td>FL</td>\n",
       "      <td>Trump</td>\n",
       "      <td>Trump</td>\n",
       "      <td>1</td>\n",
       "      <td>0.206271</td>\n",
       "      <td>0.109583</td>\n",
       "      <td>0.325368</td>\n",
       "      <td>0.299376</td>\n",
       "    </tr>\n",
       "    <tr>\n",
       "      <th>5</th>\n",
       "      <td>Minnesota</td>\n",
       "      <td>106348</td>\n",
       "      <td>25830</td>\n",
       "      <td>24066</td>\n",
       "      <td>16846</td>\n",
       "      <td>16114</td>\n",
       "      <td>10804</td>\n",
       "      <td>12688</td>\n",
       "      <td>0.242882</td>\n",
       "      <td>0.151521</td>\n",
       "      <td>0.387013</td>\n",
       "      <td>0.406858</td>\n",
       "      <td>MN</td>\n",
       "      <td>Biden</td>\n",
       "      <td>Biden</td>\n",
       "      <td>1</td>\n",
       "      <td>0.226295</td>\n",
       "      <td>0.101591</td>\n",
       "      <td>0.360583</td>\n",
       "      <td>0.272787</td>\n",
       "    </tr>\n",
       "    <tr>\n",
       "      <th>6</th>\n",
       "      <td>California</td>\n",
       "      <td>973653</td>\n",
       "      <td>237889</td>\n",
       "      <td>219873</td>\n",
       "      <td>152896</td>\n",
       "      <td>148577</td>\n",
       "      <td>97989</td>\n",
       "      <td>116429</td>\n",
       "      <td>0.244326</td>\n",
       "      <td>0.152597</td>\n",
       "      <td>0.389562</td>\n",
       "      <td>0.409309</td>\n",
       "      <td>CA</td>\n",
       "      <td>Biden</td>\n",
       "      <td>Biden</td>\n",
       "      <td>1</td>\n",
       "      <td>0.225823</td>\n",
       "      <td>0.100641</td>\n",
       "      <td>0.360059</td>\n",
       "      <td>0.269946</td>\n",
       "    </tr>\n",
       "    <tr>\n",
       "      <th>7</th>\n",
       "      <td>Washington</td>\n",
       "      <td>305040</td>\n",
       "      <td>72305</td>\n",
       "      <td>68692</td>\n",
       "      <td>49123</td>\n",
       "      <td>47588</td>\n",
       "      <td>30219</td>\n",
       "      <td>37113</td>\n",
       "      <td>0.237034</td>\n",
       "      <td>0.156006</td>\n",
       "      <td>0.380312</td>\n",
       "      <td>0.414097</td>\n",
       "      <td>WA</td>\n",
       "      <td>Biden</td>\n",
       "      <td>Biden</td>\n",
       "      <td>1</td>\n",
       "      <td>0.225190</td>\n",
       "      <td>0.099066</td>\n",
       "      <td>0.361309</td>\n",
       "      <td>0.262957</td>\n",
       "    </tr>\n",
       "    <tr>\n",
       "      <th>8</th>\n",
       "      <td>South Carolina</td>\n",
       "      <td>91249</td>\n",
       "      <td>24328</td>\n",
       "      <td>18559</td>\n",
       "      <td>14370</td>\n",
       "      <td>12768</td>\n",
       "      <td>10083</td>\n",
       "      <td>11141</td>\n",
       "      <td>0.266611</td>\n",
       "      <td>0.139925</td>\n",
       "      <td>0.424891</td>\n",
       "      <td>0.375618</td>\n",
       "      <td>SC</td>\n",
       "      <td>Trump</td>\n",
       "      <td>Trump</td>\n",
       "      <td>1</td>\n",
       "      <td>0.203389</td>\n",
       "      <td>0.110500</td>\n",
       "      <td>0.324135</td>\n",
       "      <td>0.296629</td>\n",
       "    </tr>\n",
       "    <tr>\n",
       "      <th>9</th>\n",
       "      <td>Nevada</td>\n",
       "      <td>87471</td>\n",
       "      <td>22671</td>\n",
       "      <td>18780</td>\n",
       "      <td>13695</td>\n",
       "      <td>12656</td>\n",
       "      <td>9310</td>\n",
       "      <td>10359</td>\n",
       "      <td>0.259183</td>\n",
       "      <td>0.144688</td>\n",
       "      <td>0.411109</td>\n",
       "      <td>0.391524</td>\n",
       "      <td>NV</td>\n",
       "      <td>Trump</td>\n",
       "      <td>Biden</td>\n",
       "      <td>0</td>\n",
       "      <td>0.214700</td>\n",
       "      <td>0.106435</td>\n",
       "      <td>0.340551</td>\n",
       "      <td>0.288012</td>\n",
       "    </tr>\n",
       "    <tr>\n",
       "      <th>10</th>\n",
       "      <td>Texas</td>\n",
       "      <td>728105</td>\n",
       "      <td>190647</td>\n",
       "      <td>146858</td>\n",
       "      <td>112016</td>\n",
       "      <td>106222</td>\n",
       "      <td>81251</td>\n",
       "      <td>91111</td>\n",
       "      <td>0.261840</td>\n",
       "      <td>0.145888</td>\n",
       "      <td>0.424111</td>\n",
       "      <td>0.381293</td>\n",
       "      <td>TX</td>\n",
       "      <td>Trump</td>\n",
       "      <td>Trump</td>\n",
       "      <td>1</td>\n",
       "      <td>0.201699</td>\n",
       "      <td>0.111592</td>\n",
       "      <td>0.326699</td>\n",
       "      <td>0.291657</td>\n",
       "    </tr>\n",
       "    <tr>\n",
       "      <th>11</th>\n",
       "      <td>Illinois</td>\n",
       "      <td>209126</td>\n",
       "      <td>49807</td>\n",
       "      <td>47207</td>\n",
       "      <td>33109</td>\n",
       "      <td>32027</td>\n",
       "      <td>21512</td>\n",
       "      <td>25464</td>\n",
       "      <td>0.238167</td>\n",
       "      <td>0.153147</td>\n",
       "      <td>0.382769</td>\n",
       "      <td>0.405390</td>\n",
       "      <td>IL</td>\n",
       "      <td>Biden</td>\n",
       "      <td>Biden</td>\n",
       "      <td>1</td>\n",
       "      <td>0.225735</td>\n",
       "      <td>0.102866</td>\n",
       "      <td>0.362788</td>\n",
       "      <td>0.272293</td>\n",
       "    </tr>\n",
       "    <tr>\n",
       "      <th>12</th>\n",
       "      <td>Oregon</td>\n",
       "      <td>132304</td>\n",
       "      <td>32483</td>\n",
       "      <td>31454</td>\n",
       "      <td>21149</td>\n",
       "      <td>19268</td>\n",
       "      <td>13075</td>\n",
       "      <td>14875</td>\n",
       "      <td>0.245518</td>\n",
       "      <td>0.145634</td>\n",
       "      <td>0.381767</td>\n",
       "      <td>0.408065</td>\n",
       "      <td>OR</td>\n",
       "      <td>Biden</td>\n",
       "      <td>Biden</td>\n",
       "      <td>1</td>\n",
       "      <td>0.237740</td>\n",
       "      <td>0.098825</td>\n",
       "      <td>0.369673</td>\n",
       "      <td>0.276907</td>\n",
       "    </tr>\n",
       "    <tr>\n",
       "      <th>13</th>\n",
       "      <td>Louisiana</td>\n",
       "      <td>73033</td>\n",
       "      <td>19448</td>\n",
       "      <td>14311</td>\n",
       "      <td>11350</td>\n",
       "      <td>10307</td>\n",
       "      <td>8396</td>\n",
       "      <td>9221</td>\n",
       "      <td>0.266291</td>\n",
       "      <td>0.141128</td>\n",
       "      <td>0.431133</td>\n",
       "      <td>0.369109</td>\n",
       "      <td>LA</td>\n",
       "      <td>Trump</td>\n",
       "      <td>Trump</td>\n",
       "      <td>1</td>\n",
       "      <td>0.195953</td>\n",
       "      <td>0.114962</td>\n",
       "      <td>0.317254</td>\n",
       "      <td>0.300673</td>\n",
       "    </tr>\n",
       "    <tr>\n",
       "      <th>14</th>\n",
       "      <td>Wisconsin</td>\n",
       "      <td>92774</td>\n",
       "      <td>22632</td>\n",
       "      <td>20476</td>\n",
       "      <td>14854</td>\n",
       "      <td>14057</td>\n",
       "      <td>9463</td>\n",
       "      <td>11292</td>\n",
       "      <td>0.243948</td>\n",
       "      <td>0.151519</td>\n",
       "      <td>0.390463</td>\n",
       "      <td>0.403798</td>\n",
       "      <td>WI</td>\n",
       "      <td>Biden</td>\n",
       "      <td>Biden</td>\n",
       "      <td>1</td>\n",
       "      <td>0.220708</td>\n",
       "      <td>0.102001</td>\n",
       "      <td>0.353266</td>\n",
       "      <td>0.271832</td>\n",
       "    </tr>\n",
       "    <tr>\n",
       "      <th>15</th>\n",
       "      <td>Hawaii</td>\n",
       "      <td>39411</td>\n",
       "      <td>10327</td>\n",
       "      <td>8781</td>\n",
       "      <td>5915</td>\n",
       "      <td>5533</td>\n",
       "      <td>4489</td>\n",
       "      <td>4366</td>\n",
       "      <td>0.262033</td>\n",
       "      <td>0.140392</td>\n",
       "      <td>0.412700</td>\n",
       "      <td>0.384557</td>\n",
       "      <td>HI</td>\n",
       "      <td>Trump</td>\n",
       "      <td>Biden</td>\n",
       "      <td>0</td>\n",
       "      <td>0.222806</td>\n",
       "      <td>0.113902</td>\n",
       "      <td>0.350917</td>\n",
       "      <td>0.311996</td>\n",
       "    </tr>\n",
       "    <tr>\n",
       "      <th>16</th>\n",
       "      <td>Indiana</td>\n",
       "      <td>104144</td>\n",
       "      <td>27066</td>\n",
       "      <td>22132</td>\n",
       "      <td>16214</td>\n",
       "      <td>15091</td>\n",
       "      <td>11083</td>\n",
       "      <td>12558</td>\n",
       "      <td>0.259890</td>\n",
       "      <td>0.144905</td>\n",
       "      <td>0.413777</td>\n",
       "      <td>0.389626</td>\n",
       "      <td>IN</td>\n",
       "      <td>Trump</td>\n",
       "      <td>Trump</td>\n",
       "      <td>1</td>\n",
       "      <td>0.212513</td>\n",
       "      <td>0.106420</td>\n",
       "      <td>0.338348</td>\n",
       "      <td>0.286146</td>\n",
       "    </tr>\n",
       "    <tr>\n",
       "      <th>17</th>\n",
       "      <td>Maryland</td>\n",
       "      <td>111763</td>\n",
       "      <td>26730</td>\n",
       "      <td>25276</td>\n",
       "      <td>17455</td>\n",
       "      <td>17062</td>\n",
       "      <td>11697</td>\n",
       "      <td>13543</td>\n",
       "      <td>0.239167</td>\n",
       "      <td>0.152662</td>\n",
       "      <td>0.384820</td>\n",
       "      <td>0.403338</td>\n",
       "      <td>MD</td>\n",
       "      <td>Biden</td>\n",
       "      <td>Biden</td>\n",
       "      <td>1</td>\n",
       "      <td>0.226157</td>\n",
       "      <td>0.104659</td>\n",
       "      <td>0.363888</td>\n",
       "      <td>0.276512</td>\n",
       "    </tr>\n",
       "    <tr>\n",
       "      <th>18</th>\n",
       "      <td>Michigan</td>\n",
       "      <td>196196</td>\n",
       "      <td>48578</td>\n",
       "      <td>44276</td>\n",
       "      <td>31201</td>\n",
       "      <td>28792</td>\n",
       "      <td>20238</td>\n",
       "      <td>23111</td>\n",
       "      <td>0.247599</td>\n",
       "      <td>0.146751</td>\n",
       "      <td>0.391584</td>\n",
       "      <td>0.399107</td>\n",
       "      <td>MI</td>\n",
       "      <td>Biden</td>\n",
       "      <td>Biden</td>\n",
       "      <td>1</td>\n",
       "      <td>0.225672</td>\n",
       "      <td>0.103152</td>\n",
       "      <td>0.356906</td>\n",
       "      <td>0.280534</td>\n",
       "    </tr>\n",
       "    <tr>\n",
       "      <th>19</th>\n",
       "      <td>Alaska</td>\n",
       "      <td>21824</td>\n",
       "      <td>5860</td>\n",
       "      <td>4856</td>\n",
       "      <td>3588</td>\n",
       "      <td>2824</td>\n",
       "      <td>2254</td>\n",
       "      <td>2442</td>\n",
       "      <td>0.268512</td>\n",
       "      <td>0.129399</td>\n",
       "      <td>0.409676</td>\n",
       "      <td>0.375532</td>\n",
       "      <td>AK</td>\n",
       "      <td>Trump</td>\n",
       "      <td>Trump</td>\n",
       "      <td>1</td>\n",
       "      <td>0.222507</td>\n",
       "      <td>0.103281</td>\n",
       "      <td>0.339485</td>\n",
       "      <td>0.299734</td>\n",
       "    </tr>\n",
       "    <tr>\n",
       "      <th>20</th>\n",
       "      <td>Utah</td>\n",
       "      <td>44600</td>\n",
       "      <td>10761</td>\n",
       "      <td>10327</td>\n",
       "      <td>6920</td>\n",
       "      <td>6461</td>\n",
       "      <td>4785</td>\n",
       "      <td>5346</td>\n",
       "      <td>0.241278</td>\n",
       "      <td>0.144865</td>\n",
       "      <td>0.384212</td>\n",
       "      <td>0.389405</td>\n",
       "      <td>UT</td>\n",
       "      <td>Biden</td>\n",
       "      <td>Trump</td>\n",
       "      <td>0</td>\n",
       "      <td>0.231547</td>\n",
       "      <td>0.107287</td>\n",
       "      <td>0.368716</td>\n",
       "      <td>0.288392</td>\n",
       "    </tr>\n",
       "    <tr>\n",
       "      <th>21</th>\n",
       "      <td>Iowa</td>\n",
       "      <td>44157</td>\n",
       "      <td>11049</td>\n",
       "      <td>9777</td>\n",
       "      <td>7139</td>\n",
       "      <td>6437</td>\n",
       "      <td>4481</td>\n",
       "      <td>5274</td>\n",
       "      <td>0.250221</td>\n",
       "      <td>0.145775</td>\n",
       "      <td>0.395101</td>\n",
       "      <td>0.397542</td>\n",
       "      <td>IA</td>\n",
       "      <td>Biden</td>\n",
       "      <td>Trump</td>\n",
       "      <td>0</td>\n",
       "      <td>0.221414</td>\n",
       "      <td>0.101479</td>\n",
       "      <td>0.349616</td>\n",
       "      <td>0.276742</td>\n",
       "    </tr>\n",
       "    <tr>\n",
       "      <th>22</th>\n",
       "      <td>Arizona</td>\n",
       "      <td>206162</td>\n",
       "      <td>53138</td>\n",
       "      <td>44431</td>\n",
       "      <td>32842</td>\n",
       "      <td>29253</td>\n",
       "      <td>22203</td>\n",
       "      <td>24295</td>\n",
       "      <td>0.257749</td>\n",
       "      <td>0.141893</td>\n",
       "      <td>0.407466</td>\n",
       "      <td>0.386173</td>\n",
       "      <td>AZ</td>\n",
       "      <td>Trump</td>\n",
       "      <td>Biden</td>\n",
       "      <td>0</td>\n",
       "      <td>0.215515</td>\n",
       "      <td>0.107697</td>\n",
       "      <td>0.340700</td>\n",
       "      <td>0.293105</td>\n",
       "    </tr>\n",
       "    <tr>\n",
       "      <th>23</th>\n",
       "      <td>Kentucky</td>\n",
       "      <td>75241</td>\n",
       "      <td>19552</td>\n",
       "      <td>15409</td>\n",
       "      <td>11663</td>\n",
       "      <td>10977</td>\n",
       "      <td>8370</td>\n",
       "      <td>9270</td>\n",
       "      <td>0.259858</td>\n",
       "      <td>0.145891</td>\n",
       "      <td>0.419355</td>\n",
       "      <td>0.383583</td>\n",
       "      <td>KY</td>\n",
       "      <td>Trump</td>\n",
       "      <td>Trump</td>\n",
       "      <td>1</td>\n",
       "      <td>0.204795</td>\n",
       "      <td>0.111243</td>\n",
       "      <td>0.330495</td>\n",
       "      <td>0.292483</td>\n",
       "    </tr>\n",
       "    <tr>\n",
       "      <th>24</th>\n",
       "      <td>Virginia</td>\n",
       "      <td>183936</td>\n",
       "      <td>45655</td>\n",
       "      <td>39872</td>\n",
       "      <td>28759</td>\n",
       "      <td>27973</td>\n",
       "      <td>19395</td>\n",
       "      <td>22282</td>\n",
       "      <td>0.248211</td>\n",
       "      <td>0.152080</td>\n",
       "      <td>0.399480</td>\n",
       "      <td>0.401622</td>\n",
       "      <td>VA</td>\n",
       "      <td>Biden</td>\n",
       "      <td>Biden</td>\n",
       "      <td>1</td>\n",
       "      <td>0.216771</td>\n",
       "      <td>0.105444</td>\n",
       "      <td>0.348879</td>\n",
       "      <td>0.278464</td>\n",
       "    </tr>\n",
       "    <tr>\n",
       "      <th>25</th>\n",
       "      <td>New York</td>\n",
       "      <td>501803</td>\n",
       "      <td>122675</td>\n",
       "      <td>112152</td>\n",
       "      <td>79110</td>\n",
       "      <td>77178</td>\n",
       "      <td>50564</td>\n",
       "      <td>60124</td>\n",
       "      <td>0.244468</td>\n",
       "      <td>0.153801</td>\n",
       "      <td>0.390763</td>\n",
       "      <td>0.410814</td>\n",
       "      <td>NM</td>\n",
       "      <td>Biden</td>\n",
       "      <td>Biden</td>\n",
       "      <td>1</td>\n",
       "      <td>0.223498</td>\n",
       "      <td>0.100765</td>\n",
       "      <td>0.357244</td>\n",
       "      <td>0.269149</td>\n",
       "    </tr>\n",
       "    <tr>\n",
       "      <th>26</th>\n",
       "      <td>Oklahoma</td>\n",
       "      <td>69271</td>\n",
       "      <td>18449</td>\n",
       "      <td>13666</td>\n",
       "      <td>10912</td>\n",
       "      <td>9675</td>\n",
       "      <td>8016</td>\n",
       "      <td>8553</td>\n",
       "      <td>0.266331</td>\n",
       "      <td>0.139669</td>\n",
       "      <td>0.428777</td>\n",
       "      <td>0.368656</td>\n",
       "      <td>OK</td>\n",
       "      <td>Trump</td>\n",
       "      <td>Trump</td>\n",
       "      <td>1</td>\n",
       "      <td>0.197283</td>\n",
       "      <td>0.115719</td>\n",
       "      <td>0.317615</td>\n",
       "      <td>0.305441</td>\n",
       "    </tr>\n",
       "    <tr>\n",
       "      <th>27</th>\n",
       "      <td>Georgia</td>\n",
       "      <td>200948</td>\n",
       "      <td>51347</td>\n",
       "      <td>41152</td>\n",
       "      <td>31013</td>\n",
       "      <td>30043</td>\n",
       "      <td>21786</td>\n",
       "      <td>25607</td>\n",
       "      <td>0.255524</td>\n",
       "      <td>0.149506</td>\n",
       "      <td>0.415725</td>\n",
       "      <td>0.387972</td>\n",
       "      <td>GA</td>\n",
       "      <td>Trump</td>\n",
       "      <td>Biden</td>\n",
       "      <td>0</td>\n",
       "      <td>0.204789</td>\n",
       "      <td>0.108416</td>\n",
       "      <td>0.333182</td>\n",
       "      <td>0.281342</td>\n",
       "    </tr>\n",
       "    <tr>\n",
       "      <th>28</th>\n",
       "      <td>North Dakota</td>\n",
       "      <td>7674</td>\n",
       "      <td>1934</td>\n",
       "      <td>1735</td>\n",
       "      <td>1360</td>\n",
       "      <td>1023</td>\n",
       "      <td>768</td>\n",
       "      <td>854</td>\n",
       "      <td>0.252020</td>\n",
       "      <td>0.133307</td>\n",
       "      <td>0.384569</td>\n",
       "      <td>0.386767</td>\n",
       "      <td>ND</td>\n",
       "      <td>Biden</td>\n",
       "      <td>Trump</td>\n",
       "      <td>0</td>\n",
       "      <td>0.226088</td>\n",
       "      <td>0.100078</td>\n",
       "      <td>0.344999</td>\n",
       "      <td>0.290359</td>\n",
       "    </tr>\n",
       "    <tr>\n",
       "      <th>29</th>\n",
       "      <td>Tennessee</td>\n",
       "      <td>134089</td>\n",
       "      <td>36979</td>\n",
       "      <td>26454</td>\n",
       "      <td>21381</td>\n",
       "      <td>18387</td>\n",
       "      <td>14679</td>\n",
       "      <td>16209</td>\n",
       "      <td>0.275780</td>\n",
       "      <td>0.137125</td>\n",
       "      <td>0.436001</td>\n",
       "      <td>0.373151</td>\n",
       "      <td>TN</td>\n",
       "      <td>Trump</td>\n",
       "      <td>Trump</td>\n",
       "      <td>1</td>\n",
       "      <td>0.197287</td>\n",
       "      <td>0.109472</td>\n",
       "      <td>0.311906</td>\n",
       "      <td>0.297900</td>\n",
       "    </tr>\n",
       "    <tr>\n",
       "      <th>30</th>\n",
       "      <td>Nebraska</td>\n",
       "      <td>32315</td>\n",
       "      <td>8524</td>\n",
       "      <td>6914</td>\n",
       "      <td>5077</td>\n",
       "      <td>4636</td>\n",
       "      <td>3356</td>\n",
       "      <td>3808</td>\n",
       "      <td>0.263778</td>\n",
       "      <td>0.143463</td>\n",
       "      <td>0.415501</td>\n",
       "      <td>0.392881</td>\n",
       "      <td>NE</td>\n",
       "      <td>Trump</td>\n",
       "      <td>Trump</td>\n",
       "      <td>1</td>\n",
       "      <td>0.213956</td>\n",
       "      <td>0.103853</td>\n",
       "      <td>0.337022</td>\n",
       "      <td>0.284407</td>\n",
       "    </tr>\n",
       "    <tr>\n",
       "      <th>31</th>\n",
       "      <td>Kansas</td>\n",
       "      <td>62921</td>\n",
       "      <td>15325</td>\n",
       "      <td>13591</td>\n",
       "      <td>9835</td>\n",
       "      <td>9521</td>\n",
       "      <td>6825</td>\n",
       "      <td>7824</td>\n",
       "      <td>0.243559</td>\n",
       "      <td>0.151317</td>\n",
       "      <td>0.395474</td>\n",
       "      <td>0.393918</td>\n",
       "      <td>KS</td>\n",
       "      <td>Biden</td>\n",
       "      <td>Trump</td>\n",
       "      <td>0</td>\n",
       "      <td>0.216001</td>\n",
       "      <td>0.108469</td>\n",
       "      <td>0.350726</td>\n",
       "      <td>0.282375</td>\n",
       "    </tr>\n",
       "    <tr>\n",
       "      <th>32</th>\n",
       "      <td>Arkansas</td>\n",
       "      <td>48476</td>\n",
       "      <td>12773</td>\n",
       "      <td>9844</td>\n",
       "      <td>7568</td>\n",
       "      <td>6871</td>\n",
       "      <td>5451</td>\n",
       "      <td>5969</td>\n",
       "      <td>0.263491</td>\n",
       "      <td>0.141740</td>\n",
       "      <td>0.423157</td>\n",
       "      <td>0.375649</td>\n",
       "      <td>AR</td>\n",
       "      <td>Trump</td>\n",
       "      <td>Trump</td>\n",
       "      <td>1</td>\n",
       "      <td>0.203070</td>\n",
       "      <td>0.112447</td>\n",
       "      <td>0.326122</td>\n",
       "      <td>0.298015</td>\n",
       "    </tr>\n",
       "    <tr>\n",
       "      <th>33</th>\n",
       "      <td>Idaho</td>\n",
       "      <td>30356</td>\n",
       "      <td>7752</td>\n",
       "      <td>6437</td>\n",
       "      <td>4876</td>\n",
       "      <td>4259</td>\n",
       "      <td>3419</td>\n",
       "      <td>3613</td>\n",
       "      <td>0.255370</td>\n",
       "      <td>0.140302</td>\n",
       "      <td>0.406609</td>\n",
       "      <td>0.377203</td>\n",
       "      <td>ID</td>\n",
       "      <td>Trump</td>\n",
       "      <td>Trump</td>\n",
       "      <td>1</td>\n",
       "      <td>0.212050</td>\n",
       "      <td>0.112630</td>\n",
       "      <td>0.337634</td>\n",
       "      <td>0.302808</td>\n",
       "    </tr>\n",
       "    <tr>\n",
       "      <th>34</th>\n",
       "      <td>Ohio</td>\n",
       "      <td>228451</td>\n",
       "      <td>57491</td>\n",
       "      <td>49288</td>\n",
       "      <td>36438</td>\n",
       "      <td>33538</td>\n",
       "      <td>24236</td>\n",
       "      <td>27460</td>\n",
       "      <td>0.251656</td>\n",
       "      <td>0.146806</td>\n",
       "      <td>0.401426</td>\n",
       "      <td>0.393481</td>\n",
       "      <td>OH</td>\n",
       "      <td>Biden</td>\n",
       "      <td>Trump</td>\n",
       "      <td>0</td>\n",
       "      <td>0.215749</td>\n",
       "      <td>0.106088</td>\n",
       "      <td>0.344149</td>\n",
       "      <td>0.284347</td>\n",
       "    </tr>\n",
       "    <tr>\n",
       "      <th>35</th>\n",
       "      <td>New Mexico</td>\n",
       "      <td>37242</td>\n",
       "      <td>9104</td>\n",
       "      <td>8524</td>\n",
       "      <td>5993</td>\n",
       "      <td>5470</td>\n",
       "      <td>3671</td>\n",
       "      <td>4480</td>\n",
       "      <td>0.244455</td>\n",
       "      <td>0.146877</td>\n",
       "      <td>0.385420</td>\n",
       "      <td>0.401586</td>\n",
       "      <td>NY</td>\n",
       "      <td>Biden</td>\n",
       "      <td>Biden</td>\n",
       "      <td>1</td>\n",
       "      <td>0.228881</td>\n",
       "      <td>0.098572</td>\n",
       "      <td>0.360865</td>\n",
       "      <td>0.269510</td>\n",
       "    </tr>\n",
       "    <tr>\n",
       "      <th>36</th>\n",
       "      <td>North Carolina</td>\n",
       "      <td>186695</td>\n",
       "      <td>47480</td>\n",
       "      <td>40292</td>\n",
       "      <td>29442</td>\n",
       "      <td>27248</td>\n",
       "      <td>19506</td>\n",
       "      <td>22727</td>\n",
       "      <td>0.254319</td>\n",
       "      <td>0.145949</td>\n",
       "      <td>0.405071</td>\n",
       "      <td>0.392165</td>\n",
       "      <td>NC</td>\n",
       "      <td>Biden</td>\n",
       "      <td>Trump</td>\n",
       "      <td>0</td>\n",
       "      <td>0.215817</td>\n",
       "      <td>0.104481</td>\n",
       "      <td>0.343747</td>\n",
       "      <td>0.280739</td>\n",
       "    </tr>\n",
       "    <tr>\n",
       "      <th>37</th>\n",
       "      <td>Alabama</td>\n",
       "      <td>83309</td>\n",
       "      <td>22773</td>\n",
       "      <td>15982</td>\n",
       "      <td>13003</td>\n",
       "      <td>11460</td>\n",
       "      <td>9794</td>\n",
       "      <td>10297</td>\n",
       "      <td>0.273356</td>\n",
       "      <td>0.137560</td>\n",
       "      <td>0.439990</td>\n",
       "      <td>0.363221</td>\n",
       "      <td>AL</td>\n",
       "      <td>Trump</td>\n",
       "      <td>Trump</td>\n",
       "      <td>1</td>\n",
       "      <td>0.191840</td>\n",
       "      <td>0.117562</td>\n",
       "      <td>0.308783</td>\n",
       "      <td>0.310418</td>\n",
       "    </tr>\n",
       "    <tr>\n",
       "      <th>38</th>\n",
       "      <td>Wyoming</td>\n",
       "      <td>9604</td>\n",
       "      <td>2635</td>\n",
       "      <td>1982</td>\n",
       "      <td>1595</td>\n",
       "      <td>1319</td>\n",
       "      <td>988</td>\n",
       "      <td>1085</td>\n",
       "      <td>0.274365</td>\n",
       "      <td>0.137339</td>\n",
       "      <td>0.424179</td>\n",
       "      <td>0.388856</td>\n",
       "      <td>WY</td>\n",
       "      <td>Trump</td>\n",
       "      <td>Trump</td>\n",
       "      <td>1</td>\n",
       "      <td>0.206372</td>\n",
       "      <td>0.102874</td>\n",
       "      <td>0.319060</td>\n",
       "      <td>0.291274</td>\n",
       "    </tr>\n",
       "    <tr>\n",
       "      <th>39</th>\n",
       "      <td>South Dakota</td>\n",
       "      <td>12595</td>\n",
       "      <td>3243</td>\n",
       "      <td>2575</td>\n",
       "      <td>1958</td>\n",
       "      <td>2013</td>\n",
       "      <td>1318</td>\n",
       "      <td>1488</td>\n",
       "      <td>0.257483</td>\n",
       "      <td>0.159825</td>\n",
       "      <td>0.417052</td>\n",
       "      <td>0.417722</td>\n",
       "      <td>SD</td>\n",
       "      <td>Biden</td>\n",
       "      <td>Trump</td>\n",
       "      <td>0</td>\n",
       "      <td>0.204446</td>\n",
       "      <td>0.104645</td>\n",
       "      <td>0.331147</td>\n",
       "      <td>0.273501</td>\n",
       "    </tr>\n",
       "    <tr>\n",
       "      <th>40</th>\n",
       "      <td>Delaware</td>\n",
       "      <td>23906</td>\n",
       "      <td>5457</td>\n",
       "      <td>5320</td>\n",
       "      <td>3726</td>\n",
       "      <td>3778</td>\n",
       "      <td>2501</td>\n",
       "      <td>3124</td>\n",
       "      <td>0.228269</td>\n",
       "      <td>0.158036</td>\n",
       "      <td>0.376267</td>\n",
       "      <td>0.401787</td>\n",
       "      <td>DE</td>\n",
       "      <td>Biden</td>\n",
       "      <td>Biden</td>\n",
       "      <td>1</td>\n",
       "      <td>0.222538</td>\n",
       "      <td>0.104618</td>\n",
       "      <td>0.366821</td>\n",
       "      <td>0.265979</td>\n",
       "    </tr>\n",
       "    <tr>\n",
       "      <th>41</th>\n",
       "      <td>Connecticut</td>\n",
       "      <td>63522</td>\n",
       "      <td>14888</td>\n",
       "      <td>14285</td>\n",
       "      <td>9888</td>\n",
       "      <td>9995</td>\n",
       "      <td>6429</td>\n",
       "      <td>8037</td>\n",
       "      <td>0.234375</td>\n",
       "      <td>0.157347</td>\n",
       "      <td>0.381147</td>\n",
       "      <td>0.408610</td>\n",
       "      <td>CT</td>\n",
       "      <td>Biden</td>\n",
       "      <td>Biden</td>\n",
       "      <td>1</td>\n",
       "      <td>0.224883</td>\n",
       "      <td>0.101209</td>\n",
       "      <td>0.365710</td>\n",
       "      <td>0.262827</td>\n",
       "    </tr>\n",
       "    <tr>\n",
       "      <th>42</th>\n",
       "      <td>Missouri</td>\n",
       "      <td>83161</td>\n",
       "      <td>21626</td>\n",
       "      <td>17441</td>\n",
       "      <td>13203</td>\n",
       "      <td>11728</td>\n",
       "      <td>9106</td>\n",
       "      <td>10057</td>\n",
       "      <td>0.260050</td>\n",
       "      <td>0.141028</td>\n",
       "      <td>0.413736</td>\n",
       "      <td>0.379658</td>\n",
       "      <td>MO</td>\n",
       "      <td>Trump</td>\n",
       "      <td>Trump</td>\n",
       "      <td>1</td>\n",
       "      <td>0.209726</td>\n",
       "      <td>0.109498</td>\n",
       "      <td>0.333671</td>\n",
       "      <td>0.294778</td>\n",
       "    </tr>\n",
       "    <tr>\n",
       "      <th>43</th>\n",
       "      <td>Maine</td>\n",
       "      <td>34085</td>\n",
       "      <td>8369</td>\n",
       "      <td>8118</td>\n",
       "      <td>5774</td>\n",
       "      <td>4753</td>\n",
       "      <td>3313</td>\n",
       "      <td>3758</td>\n",
       "      <td>0.245533</td>\n",
       "      <td>0.139446</td>\n",
       "      <td>0.375949</td>\n",
       "      <td>0.401979</td>\n",
       "      <td>ME</td>\n",
       "      <td>Biden</td>\n",
       "      <td>Biden</td>\n",
       "      <td>1</td>\n",
       "      <td>0.238169</td>\n",
       "      <td>0.097198</td>\n",
       "      <td>0.364674</td>\n",
       "      <td>0.280193</td>\n",
       "    </tr>\n",
       "    <tr>\n",
       "      <th>44</th>\n",
       "      <td>Mississippi</td>\n",
       "      <td>31535</td>\n",
       "      <td>9064</td>\n",
       "      <td>6253</td>\n",
       "      <td>4993</td>\n",
       "      <td>4133</td>\n",
       "      <td>3431</td>\n",
       "      <td>3661</td>\n",
       "      <td>0.287427</td>\n",
       "      <td>0.131061</td>\n",
       "      <td>0.446283</td>\n",
       "      <td>0.368196</td>\n",
       "      <td>MS</td>\n",
       "      <td>Trump</td>\n",
       "      <td>Trump</td>\n",
       "      <td>1</td>\n",
       "      <td>0.198288</td>\n",
       "      <td>0.108800</td>\n",
       "      <td>0.307878</td>\n",
       "      <td>0.305657</td>\n",
       "    </tr>\n",
       "    <tr>\n",
       "      <th>45</th>\n",
       "      <td>Montana</td>\n",
       "      <td>23404</td>\n",
       "      <td>6045</td>\n",
       "      <td>4990</td>\n",
       "      <td>3795</td>\n",
       "      <td>3289</td>\n",
       "      <td>2419</td>\n",
       "      <td>2866</td>\n",
       "      <td>0.258289</td>\n",
       "      <td>0.140532</td>\n",
       "      <td>0.407620</td>\n",
       "      <td>0.383602</td>\n",
       "      <td>MT</td>\n",
       "      <td>Trump</td>\n",
       "      <td>Trump</td>\n",
       "      <td>1</td>\n",
       "      <td>0.213211</td>\n",
       "      <td>0.103358</td>\n",
       "      <td>0.336480</td>\n",
       "      <td>0.282132</td>\n",
       "    </tr>\n",
       "    <tr>\n",
       "      <th>46</th>\n",
       "      <td>Rhode Island</td>\n",
       "      <td>19392</td>\n",
       "      <td>4776</td>\n",
       "      <td>4412</td>\n",
       "      <td>2997</td>\n",
       "      <td>2864</td>\n",
       "      <td>1990</td>\n",
       "      <td>2353</td>\n",
       "      <td>0.246287</td>\n",
       "      <td>0.147690</td>\n",
       "      <td>0.391957</td>\n",
       "      <td>0.397391</td>\n",
       "      <td>RI</td>\n",
       "      <td>Biden</td>\n",
       "      <td>Biden</td>\n",
       "      <td>1</td>\n",
       "      <td>0.227517</td>\n",
       "      <td>0.102620</td>\n",
       "      <td>0.362085</td>\n",
       "      <td>0.276120</td>\n",
       "    </tr>\n",
       "    <tr>\n",
       "      <th>47</th>\n",
       "      <td>West Virginia</td>\n",
       "      <td>9893</td>\n",
       "      <td>2628</td>\n",
       "      <td>2002</td>\n",
       "      <td>1462</td>\n",
       "      <td>1439</td>\n",
       "      <td>1082</td>\n",
       "      <td>1280</td>\n",
       "      <td>0.265642</td>\n",
       "      <td>0.145456</td>\n",
       "      <td>0.431385</td>\n",
       "      <td>0.378585</td>\n",
       "      <td>WV</td>\n",
       "      <td>Trump</td>\n",
       "      <td>Trump</td>\n",
       "      <td>1</td>\n",
       "      <td>0.202365</td>\n",
       "      <td>0.109370</td>\n",
       "      <td>0.328628</td>\n",
       "      <td>0.284662</td>\n",
       "    </tr>\n",
       "    <tr>\n",
       "      <th>48</th>\n",
       "      <td>New Hampshire</td>\n",
       "      <td>29655</td>\n",
       "      <td>7312</td>\n",
       "      <td>6532</td>\n",
       "      <td>4512</td>\n",
       "      <td>4579</td>\n",
       "      <td>3143</td>\n",
       "      <td>3577</td>\n",
       "      <td>0.246569</td>\n",
       "      <td>0.154409</td>\n",
       "      <td>0.398344</td>\n",
       "      <td>0.405257</td>\n",
       "      <td>NH</td>\n",
       "      <td>Biden</td>\n",
       "      <td>Biden</td>\n",
       "      <td>1</td>\n",
       "      <td>0.220266</td>\n",
       "      <td>0.105985</td>\n",
       "      <td>0.355851</td>\n",
       "      <td>0.278166</td>\n",
       "    </tr>\n",
       "    <tr>\n",
       "      <th>49</th>\n",
       "      <td>Vermont</td>\n",
       "      <td>15536</td>\n",
       "      <td>3657</td>\n",
       "      <td>3888</td>\n",
       "      <td>2529</td>\n",
       "      <td>2262</td>\n",
       "      <td>1460</td>\n",
       "      <td>1740</td>\n",
       "      <td>0.235389</td>\n",
       "      <td>0.145597</td>\n",
       "      <td>0.363014</td>\n",
       "      <td>0.414134</td>\n",
       "      <td>VT</td>\n",
       "      <td>Biden</td>\n",
       "      <td>Biden</td>\n",
       "      <td>1</td>\n",
       "      <td>0.250257</td>\n",
       "      <td>0.093975</td>\n",
       "      <td>0.385944</td>\n",
       "      <td>0.267301</td>\n",
       "    </tr>\n",
       "  </tbody>\n",
       "</table>\n",
       "</div>"
      ],
      "text/plain": [
       "             state  total_tweets  Trump_P  Trump_N  Trump_Na  Biden_P  \\\n",
       "0     Pennsylvania        254404    63484    55171     40406    38226   \n",
       "1       New Jersey        162481    40968    35375     25372    24350   \n",
       "2         Colorado        143612    35116    33106     22356    21400   \n",
       "3    Massachusetts        153022    36289    35300     23833    23821   \n",
       "4          Florida        679529   182091   140167    108537    93633   \n",
       "5        Minnesota        106348    25830    24066     16846    16114   \n",
       "6       California        973653   237889   219873    152896   148577   \n",
       "7       Washington        305040    72305    68692     49123    47588   \n",
       "8   South Carolina         91249    24328    18559     14370    12768   \n",
       "9           Nevada         87471    22671    18780     13695    12656   \n",
       "10           Texas        728105   190647   146858    112016   106222   \n",
       "11        Illinois        209126    49807    47207     33109    32027   \n",
       "12          Oregon        132304    32483    31454     21149    19268   \n",
       "13       Louisiana         73033    19448    14311     11350    10307   \n",
       "14       Wisconsin         92774    22632    20476     14854    14057   \n",
       "15          Hawaii         39411    10327     8781      5915     5533   \n",
       "16         Indiana        104144    27066    22132     16214    15091   \n",
       "17        Maryland        111763    26730    25276     17455    17062   \n",
       "18        Michigan        196196    48578    44276     31201    28792   \n",
       "19          Alaska         21824     5860     4856      3588     2824   \n",
       "20            Utah         44600    10761    10327      6920     6461   \n",
       "21            Iowa         44157    11049     9777      7139     6437   \n",
       "22         Arizona        206162    53138    44431     32842    29253   \n",
       "23        Kentucky         75241    19552    15409     11663    10977   \n",
       "24        Virginia        183936    45655    39872     28759    27973   \n",
       "25        New York        501803   122675   112152     79110    77178   \n",
       "26        Oklahoma         69271    18449    13666     10912     9675   \n",
       "27         Georgia        200948    51347    41152     31013    30043   \n",
       "28    North Dakota          7674     1934     1735      1360     1023   \n",
       "29       Tennessee        134089    36979    26454     21381    18387   \n",
       "30        Nebraska         32315     8524     6914      5077     4636   \n",
       "31          Kansas         62921    15325    13591      9835     9521   \n",
       "32        Arkansas         48476    12773     9844      7568     6871   \n",
       "33           Idaho         30356     7752     6437      4876     4259   \n",
       "34            Ohio        228451    57491    49288     36438    33538   \n",
       "35      New Mexico         37242     9104     8524      5993     5470   \n",
       "36  North Carolina        186695    47480    40292     29442    27248   \n",
       "37         Alabama         83309    22773    15982     13003    11460   \n",
       "38         Wyoming          9604     2635     1982      1595     1319   \n",
       "39    South Dakota         12595     3243     2575      1958     2013   \n",
       "40        Delaware         23906     5457     5320      3726     3778   \n",
       "41     Connecticut         63522    14888    14285      9888     9995   \n",
       "42        Missouri         83161    21626    17441     13203    11728   \n",
       "43           Maine         34085     8369     8118      5774     4753   \n",
       "44     Mississippi         31535     9064     6253      4993     4133   \n",
       "45         Montana         23404     6045     4990      3795     3289   \n",
       "46    Rhode Island         19392     4776     4412      2997     2864   \n",
       "47   West Virginia          9893     2628     2002      1462     1439   \n",
       "48   New Hampshire         29655     7312     6532      4512     4579   \n",
       "49         Vermont         15536     3657     3888      2529     2262   \n",
       "\n",
       "    Biden_N  Biden_Na  Trump_P_perc_total  Biden_P_perc_total  \\\n",
       "0     26713     30404            0.249540            0.150257   \n",
       "1     17160     19256            0.252140            0.149864   \n",
       "2     14664     16970            0.244520            0.149013   \n",
       "3     15550     18229            0.237149            0.155670   \n",
       "4     74465     80636            0.267966            0.137791   \n",
       "5     10804     12688            0.242882            0.151521   \n",
       "6     97989    116429            0.244326            0.152597   \n",
       "7     30219     37113            0.237034            0.156006   \n",
       "8     10083     11141            0.266611            0.139925   \n",
       "9      9310     10359            0.259183            0.144688   \n",
       "10    81251     91111            0.261840            0.145888   \n",
       "11    21512     25464            0.238167            0.153147   \n",
       "12    13075     14875            0.245518            0.145634   \n",
       "13     8396      9221            0.266291            0.141128   \n",
       "14     9463     11292            0.243948            0.151519   \n",
       "15     4489      4366            0.262033            0.140392   \n",
       "16    11083     12558            0.259890            0.144905   \n",
       "17    11697     13543            0.239167            0.152662   \n",
       "18    20238     23111            0.247599            0.146751   \n",
       "19     2254      2442            0.268512            0.129399   \n",
       "20     4785      5346            0.241278            0.144865   \n",
       "21     4481      5274            0.250221            0.145775   \n",
       "22    22203     24295            0.257749            0.141893   \n",
       "23     8370      9270            0.259858            0.145891   \n",
       "24    19395     22282            0.248211            0.152080   \n",
       "25    50564     60124            0.244468            0.153801   \n",
       "26     8016      8553            0.266331            0.139669   \n",
       "27    21786     25607            0.255524            0.149506   \n",
       "28      768       854            0.252020            0.133307   \n",
       "29    14679     16209            0.275780            0.137125   \n",
       "30     3356      3808            0.263778            0.143463   \n",
       "31     6825      7824            0.243559            0.151317   \n",
       "32     5451      5969            0.263491            0.141740   \n",
       "33     3419      3613            0.255370            0.140302   \n",
       "34    24236     27460            0.251656            0.146806   \n",
       "35     3671      4480            0.244455            0.146877   \n",
       "36    19506     22727            0.254319            0.145949   \n",
       "37     9794     10297            0.273356            0.137560   \n",
       "38      988      1085            0.274365            0.137339   \n",
       "39     1318      1488            0.257483            0.159825   \n",
       "40     2501      3124            0.228269            0.158036   \n",
       "41     6429      8037            0.234375            0.157347   \n",
       "42     9106     10057            0.260050            0.141028   \n",
       "43     3313      3758            0.245533            0.139446   \n",
       "44     3431      3661            0.287427            0.131061   \n",
       "45     2419      2866            0.258289            0.140532   \n",
       "46     1990      2353            0.246287            0.147690   \n",
       "47     1082      1280            0.265642            0.145456   \n",
       "48     3143      3577            0.246569            0.154409   \n",
       "49     1460      1740            0.235389            0.145597   \n",
       "\n",
       "    Trump_P_perc_only  Biden_P_perc_only state_code predicted_winner winner  \\\n",
       "0            0.399117           0.400931         PA            Biden  Biden   \n",
       "1            0.402772           0.400718         NJ            Biden  Biden   \n",
       "2            0.387688           0.403515         CO            Biden  Biden   \n",
       "3            0.380300           0.413559         MA            Biden  Biden   \n",
       "4            0.422686           0.376438         FL            Trump  Trump   \n",
       "5            0.387013           0.406858         MN            Biden  Biden   \n",
       "6            0.389562           0.409309         CA            Biden  Biden   \n",
       "7            0.380312           0.414097         WA            Biden  Biden   \n",
       "8            0.424891           0.375618         SC            Trump  Trump   \n",
       "9            0.411109           0.391524         NV            Trump  Biden   \n",
       "10           0.424111           0.381293         TX            Trump  Trump   \n",
       "11           0.382769           0.405390         IL            Biden  Biden   \n",
       "12           0.381767           0.408065         OR            Biden  Biden   \n",
       "13           0.431133           0.369109         LA            Trump  Trump   \n",
       "14           0.390463           0.403798         WI            Biden  Biden   \n",
       "15           0.412700           0.384557         HI            Trump  Biden   \n",
       "16           0.413777           0.389626         IN            Trump  Trump   \n",
       "17           0.384820           0.403338         MD            Biden  Biden   \n",
       "18           0.391584           0.399107         MI            Biden  Biden   \n",
       "19           0.409676           0.375532         AK            Trump  Trump   \n",
       "20           0.384212           0.389405         UT            Biden  Trump   \n",
       "21           0.395101           0.397542         IA            Biden  Trump   \n",
       "22           0.407466           0.386173         AZ            Trump  Biden   \n",
       "23           0.419355           0.383583         KY            Trump  Trump   \n",
       "24           0.399480           0.401622         VA            Biden  Biden   \n",
       "25           0.390763           0.410814         NM            Biden  Biden   \n",
       "26           0.428777           0.368656         OK            Trump  Trump   \n",
       "27           0.415725           0.387972         GA            Trump  Biden   \n",
       "28           0.384569           0.386767         ND            Biden  Trump   \n",
       "29           0.436001           0.373151         TN            Trump  Trump   \n",
       "30           0.415501           0.392881         NE            Trump  Trump   \n",
       "31           0.395474           0.393918         KS            Biden  Trump   \n",
       "32           0.423157           0.375649         AR            Trump  Trump   \n",
       "33           0.406609           0.377203         ID            Trump  Trump   \n",
       "34           0.401426           0.393481         OH            Biden  Trump   \n",
       "35           0.385420           0.401586         NY            Biden  Biden   \n",
       "36           0.405071           0.392165         NC            Biden  Trump   \n",
       "37           0.439990           0.363221         AL            Trump  Trump   \n",
       "38           0.424179           0.388856         WY            Trump  Trump   \n",
       "39           0.417052           0.417722         SD            Biden  Trump   \n",
       "40           0.376267           0.401787         DE            Biden  Biden   \n",
       "41           0.381147           0.408610         CT            Biden  Biden   \n",
       "42           0.413736           0.379658         MO            Trump  Trump   \n",
       "43           0.375949           0.401979         ME            Biden  Biden   \n",
       "44           0.446283           0.368196         MS            Trump  Trump   \n",
       "45           0.407620           0.383602         MT            Trump  Trump   \n",
       "46           0.391957           0.397391         RI            Biden  Biden   \n",
       "47           0.431385           0.378585         WV            Trump  Trump   \n",
       "48           0.398344           0.405257         NH            Biden  Biden   \n",
       "49           0.363014           0.414134         VT            Biden  Biden   \n",
       "\n",
       "    correct  Trump_N_perc_total  Biden_N_perc_total  Trump_N_perc_only  \\\n",
       "0         1            0.216864            0.105002           0.346854   \n",
       "1         1            0.217718            0.105612           0.347785   \n",
       "2         1            0.230524            0.102108           0.365497   \n",
       "3         1            0.230686            0.101619           0.369936   \n",
       "4         1            0.206271            0.109583           0.325368   \n",
       "5         1            0.226295            0.101591           0.360583   \n",
       "6         1            0.225823            0.100641           0.360059   \n",
       "7         1            0.225190            0.099066           0.361309   \n",
       "8         1            0.203389            0.110500           0.324135   \n",
       "9         0            0.214700            0.106435           0.340551   \n",
       "10        1            0.201699            0.111592           0.326699   \n",
       "11        1            0.225735            0.102866           0.362788   \n",
       "12        1            0.237740            0.098825           0.369673   \n",
       "13        1            0.195953            0.114962           0.317254   \n",
       "14        1            0.220708            0.102001           0.353266   \n",
       "15        0            0.222806            0.113902           0.350917   \n",
       "16        1            0.212513            0.106420           0.338348   \n",
       "17        1            0.226157            0.104659           0.363888   \n",
       "18        1            0.225672            0.103152           0.356906   \n",
       "19        1            0.222507            0.103281           0.339485   \n",
       "20        0            0.231547            0.107287           0.368716   \n",
       "21        0            0.221414            0.101479           0.349616   \n",
       "22        0            0.215515            0.107697           0.340700   \n",
       "23        1            0.204795            0.111243           0.330495   \n",
       "24        1            0.216771            0.105444           0.348879   \n",
       "25        1            0.223498            0.100765           0.357244   \n",
       "26        1            0.197283            0.115719           0.317615   \n",
       "27        0            0.204789            0.108416           0.333182   \n",
       "28        0            0.226088            0.100078           0.344999   \n",
       "29        1            0.197287            0.109472           0.311906   \n",
       "30        1            0.213956            0.103853           0.337022   \n",
       "31        0            0.216001            0.108469           0.350726   \n",
       "32        1            0.203070            0.112447           0.326122   \n",
       "33        1            0.212050            0.112630           0.337634   \n",
       "34        0            0.215749            0.106088           0.344149   \n",
       "35        1            0.228881            0.098572           0.360865   \n",
       "36        0            0.215817            0.104481           0.343747   \n",
       "37        1            0.191840            0.117562           0.308783   \n",
       "38        1            0.206372            0.102874           0.319060   \n",
       "39        0            0.204446            0.104645           0.331147   \n",
       "40        1            0.222538            0.104618           0.366821   \n",
       "41        1            0.224883            0.101209           0.365710   \n",
       "42        1            0.209726            0.109498           0.333671   \n",
       "43        1            0.238169            0.097198           0.364674   \n",
       "44        1            0.198288            0.108800           0.307878   \n",
       "45        1            0.213211            0.103358           0.336480   \n",
       "46        1            0.227517            0.102620           0.362085   \n",
       "47        1            0.202365            0.109370           0.328628   \n",
       "48        1            0.220266            0.105985           0.355851   \n",
       "49        1            0.250257            0.093975           0.385944   \n",
       "\n",
       "    Biden_N_perc_only  \n",
       "0            0.280178  \n",
       "1            0.282395  \n",
       "2            0.276502  \n",
       "3            0.269965  \n",
       "4            0.299376  \n",
       "5            0.272787  \n",
       "6            0.269946  \n",
       "7            0.262957  \n",
       "8            0.296629  \n",
       "9            0.288012  \n",
       "10           0.291657  \n",
       "11           0.272293  \n",
       "12           0.276907  \n",
       "13           0.300673  \n",
       "14           0.271832  \n",
       "15           0.311996  \n",
       "16           0.286146  \n",
       "17           0.276512  \n",
       "18           0.280534  \n",
       "19           0.299734  \n",
       "20           0.288392  \n",
       "21           0.276742  \n",
       "22           0.293105  \n",
       "23           0.292483  \n",
       "24           0.278464  \n",
       "25           0.269149  \n",
       "26           0.305441  \n",
       "27           0.281342  \n",
       "28           0.290359  \n",
       "29           0.297900  \n",
       "30           0.284407  \n",
       "31           0.282375  \n",
       "32           0.298015  \n",
       "33           0.302808  \n",
       "34           0.284347  \n",
       "35           0.269510  \n",
       "36           0.280739  \n",
       "37           0.310418  \n",
       "38           0.291274  \n",
       "39           0.273501  \n",
       "40           0.265979  \n",
       "41           0.262827  \n",
       "42           0.294778  \n",
       "43           0.280193  \n",
       "44           0.305657  \n",
       "45           0.282132  \n",
       "46           0.276120  \n",
       "47           0.284662  \n",
       "48           0.278166  \n",
       "49           0.267301  "
      ]
     },
     "execution_count": 77,
     "metadata": {},
     "output_type": "execute_result"
    }
   ],
   "source": [
    "# Negative tweets perc of total number of tweets\n",
    "overview_df['Trump_N_perc_total'] = overview_df['Trump_N'] / overview_df['total_tweets']\n",
    "overview_df['Biden_N_perc_total'] = overview_df['Biden_N'] / overview_df['total_tweets']\n",
    "\n",
    "# Negative tweets perc of numver of tweets of each candidate\n",
    "overview_df['Trump_N_perc_only'] = overview_df['Trump_N'] / (overview_df['Trump_P'] + overview_df['Trump_N'] + overview_df['Trump_Na'])\n",
    "overview_df['Biden_N_perc_only'] = overview_df['Biden_N'] / (overview_df['Biden_P'] + overview_df['Biden_N'] + overview_df['Biden_Na'])\n",
    "\n",
    "\n",
    "\n"
   ]
  },
  {
   "cell_type": "code",
   "execution_count": 81,
   "metadata": {},
   "outputs": [
    {
     "name": "stdout",
     "output_type": "stream",
     "text": [
      "             state  total_tweets  Trump_P  Trump_N  Trump_Na  Biden_P  \\\n",
      "0     Pennsylvania        254404    63484    55171     40406    38226   \n",
      "1       New Jersey        162481    40968    35375     25372    24350   \n",
      "2         Colorado        143612    35116    33106     22356    21400   \n",
      "3    Massachusetts        153022    36289    35300     23833    23821   \n",
      "4          Florida        679529   182091   140167    108537    93633   \n",
      "5        Minnesota        106348    25830    24066     16846    16114   \n",
      "6       California        973653   237889   219873    152896   148577   \n",
      "7       Washington        305040    72305    68692     49123    47588   \n",
      "8   South Carolina         91249    24328    18559     14370    12768   \n",
      "9           Nevada         87471    22671    18780     13695    12656   \n",
      "10           Texas        728105   190647   146858    112016   106222   \n",
      "11        Illinois        209126    49807    47207     33109    32027   \n",
      "12          Oregon        132304    32483    31454     21149    19268   \n",
      "13       Louisiana         73033    19448    14311     11350    10307   \n",
      "14       Wisconsin         92774    22632    20476     14854    14057   \n",
      "15          Hawaii         39411    10327     8781      5915     5533   \n",
      "16         Indiana        104144    27066    22132     16214    15091   \n",
      "17        Maryland        111763    26730    25276     17455    17062   \n",
      "18        Michigan        196196    48578    44276     31201    28792   \n",
      "19          Alaska         21824     5860     4856      3588     2824   \n",
      "20            Utah         44600    10761    10327      6920     6461   \n",
      "21            Iowa         44157    11049     9777      7139     6437   \n",
      "22         Arizona        206162    53138    44431     32842    29253   \n",
      "23        Kentucky         75241    19552    15409     11663    10977   \n",
      "24        Virginia        183936    45655    39872     28759    27973   \n",
      "25        New York        501803   122675   112152     79110    77178   \n",
      "26        Oklahoma         69271    18449    13666     10912     9675   \n",
      "27         Georgia        200948    51347    41152     31013    30043   \n",
      "28    North Dakota          7674     1934     1735      1360     1023   \n",
      "29       Tennessee        134089    36979    26454     21381    18387   \n",
      "30        Nebraska         32315     8524     6914      5077     4636   \n",
      "31          Kansas         62921    15325    13591      9835     9521   \n",
      "32        Arkansas         48476    12773     9844      7568     6871   \n",
      "33           Idaho         30356     7752     6437      4876     4259   \n",
      "34            Ohio        228451    57491    49288     36438    33538   \n",
      "35      New Mexico         37242     9104     8524      5993     5470   \n",
      "36  North Carolina        186695    47480    40292     29442    27248   \n",
      "37         Alabama         83309    22773    15982     13003    11460   \n",
      "38         Wyoming          9604     2635     1982      1595     1319   \n",
      "39    South Dakota         12595     3243     2575      1958     2013   \n",
      "40        Delaware         23906     5457     5320      3726     3778   \n",
      "41     Connecticut         63522    14888    14285      9888     9995   \n",
      "42        Missouri         83161    21626    17441     13203    11728   \n",
      "43           Maine         34085     8369     8118      5774     4753   \n",
      "44     Mississippi         31535     9064     6253      4993     4133   \n",
      "45         Montana         23404     6045     4990      3795     3289   \n",
      "46    Rhode Island         19392     4776     4412      2997     2864   \n",
      "47   West Virginia          9893     2628     2002      1462     1439   \n",
      "48   New Hampshire         29655     7312     6532      4512     4579   \n",
      "49         Vermont         15536     3657     3888      2529     2262   \n",
      "\n",
      "    Biden_N  Biden_Na  Trump_P_perc_total  Biden_P_perc_total  \\\n",
      "0     26713     30404            0.249540            0.150257   \n",
      "1     17160     19256            0.252140            0.149864   \n",
      "2     14664     16970            0.244520            0.149013   \n",
      "3     15550     18229            0.237149            0.155670   \n",
      "4     74465     80636            0.267966            0.137791   \n",
      "5     10804     12688            0.242882            0.151521   \n",
      "6     97989    116429            0.244326            0.152597   \n",
      "7     30219     37113            0.237034            0.156006   \n",
      "8     10083     11141            0.266611            0.139925   \n",
      "9      9310     10359            0.259183            0.144688   \n",
      "10    81251     91111            0.261840            0.145888   \n",
      "11    21512     25464            0.238167            0.153147   \n",
      "12    13075     14875            0.245518            0.145634   \n",
      "13     8396      9221            0.266291            0.141128   \n",
      "14     9463     11292            0.243948            0.151519   \n",
      "15     4489      4366            0.262033            0.140392   \n",
      "16    11083     12558            0.259890            0.144905   \n",
      "17    11697     13543            0.239167            0.152662   \n",
      "18    20238     23111            0.247599            0.146751   \n",
      "19     2254      2442            0.268512            0.129399   \n",
      "20     4785      5346            0.241278            0.144865   \n",
      "21     4481      5274            0.250221            0.145775   \n",
      "22    22203     24295            0.257749            0.141893   \n",
      "23     8370      9270            0.259858            0.145891   \n",
      "24    19395     22282            0.248211            0.152080   \n",
      "25    50564     60124            0.244468            0.153801   \n",
      "26     8016      8553            0.266331            0.139669   \n",
      "27    21786     25607            0.255524            0.149506   \n",
      "28      768       854            0.252020            0.133307   \n",
      "29    14679     16209            0.275780            0.137125   \n",
      "30     3356      3808            0.263778            0.143463   \n",
      "31     6825      7824            0.243559            0.151317   \n",
      "32     5451      5969            0.263491            0.141740   \n",
      "33     3419      3613            0.255370            0.140302   \n",
      "34    24236     27460            0.251656            0.146806   \n",
      "35     3671      4480            0.244455            0.146877   \n",
      "36    19506     22727            0.254319            0.145949   \n",
      "37     9794     10297            0.273356            0.137560   \n",
      "38      988      1085            0.274365            0.137339   \n",
      "39     1318      1488            0.257483            0.159825   \n",
      "40     2501      3124            0.228269            0.158036   \n",
      "41     6429      8037            0.234375            0.157347   \n",
      "42     9106     10057            0.260050            0.141028   \n",
      "43     3313      3758            0.245533            0.139446   \n",
      "44     3431      3661            0.287427            0.131061   \n",
      "45     2419      2866            0.258289            0.140532   \n",
      "46     1990      2353            0.246287            0.147690   \n",
      "47     1082      1280            0.265642            0.145456   \n",
      "48     3143      3577            0.246569            0.154409   \n",
      "49     1460      1740            0.235389            0.145597   \n",
      "\n",
      "    Trump_P_perc_only  Biden_P_perc_only state_code predicted_winner winner  \\\n",
      "0            0.399117           0.400931         PA            Biden  Biden   \n",
      "1            0.402772           0.400718         NJ            Biden  Biden   \n",
      "2            0.387688           0.403515         CO            Biden  Biden   \n",
      "3            0.380300           0.413559         MA            Biden  Biden   \n",
      "4            0.422686           0.376438         FL            Biden  Trump   \n",
      "5            0.387013           0.406858         MN            Biden  Biden   \n",
      "6            0.389562           0.409309         CA            Biden  Biden   \n",
      "7            0.380312           0.414097         WA            Biden  Biden   \n",
      "8            0.424891           0.375618         SC            Biden  Trump   \n",
      "9            0.411109           0.391524         NV            Biden  Biden   \n",
      "10           0.424111           0.381293         TX            Biden  Trump   \n",
      "11           0.382769           0.405390         IL            Biden  Biden   \n",
      "12           0.381767           0.408065         OR            Biden  Biden   \n",
      "13           0.431133           0.369109         LA            Biden  Trump   \n",
      "14           0.390463           0.403798         WI            Biden  Biden   \n",
      "15           0.412700           0.384557         HI            Biden  Biden   \n",
      "16           0.413777           0.389626         IN            Biden  Trump   \n",
      "17           0.384820           0.403338         MD            Biden  Biden   \n",
      "18           0.391584           0.399107         MI            Biden  Biden   \n",
      "19           0.409676           0.375532         AK            Biden  Trump   \n",
      "20           0.384212           0.389405         UT            Biden  Trump   \n",
      "21           0.395101           0.397542         IA            Biden  Trump   \n",
      "22           0.407466           0.386173         AZ            Biden  Biden   \n",
      "23           0.419355           0.383583         KY            Biden  Trump   \n",
      "24           0.399480           0.401622         VA            Biden  Biden   \n",
      "25           0.390763           0.410814         NM            Biden  Biden   \n",
      "26           0.428777           0.368656         OK            Biden  Trump   \n",
      "27           0.415725           0.387972         GA            Biden  Biden   \n",
      "28           0.384569           0.386767         ND            Biden  Trump   \n",
      "29           0.436001           0.373151         TN            Biden  Trump   \n",
      "30           0.415501           0.392881         NE            Biden  Trump   \n",
      "31           0.395474           0.393918         KS            Biden  Trump   \n",
      "32           0.423157           0.375649         AR            Biden  Trump   \n",
      "33           0.406609           0.377203         ID            Biden  Trump   \n",
      "34           0.401426           0.393481         OH            Biden  Trump   \n",
      "35           0.385420           0.401586         NY            Biden  Biden   \n",
      "36           0.405071           0.392165         NC            Biden  Trump   \n",
      "37           0.439990           0.363221         AL            Trump  Trump   \n",
      "38           0.424179           0.388856         WY            Biden  Trump   \n",
      "39           0.417052           0.417722         SD            Biden  Trump   \n",
      "40           0.376267           0.401787         DE            Biden  Biden   \n",
      "41           0.381147           0.408610         CT            Biden  Biden   \n",
      "42           0.413736           0.379658         MO            Biden  Trump   \n",
      "43           0.375949           0.401979         ME            Biden  Biden   \n",
      "44           0.446283           0.368196         MS            Biden  Trump   \n",
      "45           0.407620           0.383602         MT            Biden  Trump   \n",
      "46           0.391957           0.397391         RI            Biden  Biden   \n",
      "47           0.431385           0.378585         WV            Biden  Trump   \n",
      "48           0.398344           0.405257         NH            Biden  Biden   \n",
      "49           0.363014           0.414134         VT            Biden  Biden   \n",
      "\n",
      "    correct  Trump_N_perc_total  Biden_N_perc_total  Trump_N_perc_only  \\\n",
      "0         1            0.216864            0.105002           0.346854   \n",
      "1         1            0.217718            0.105612           0.347785   \n",
      "2         1            0.230524            0.102108           0.365497   \n",
      "3         1            0.230686            0.101619           0.369936   \n",
      "4         0            0.206271            0.109583           0.325368   \n",
      "5         1            0.226295            0.101591           0.360583   \n",
      "6         1            0.225823            0.100641           0.360059   \n",
      "7         1            0.225190            0.099066           0.361309   \n",
      "8         0            0.203389            0.110500           0.324135   \n",
      "9         1            0.214700            0.106435           0.340551   \n",
      "10        0            0.201699            0.111592           0.326699   \n",
      "11        1            0.225735            0.102866           0.362788   \n",
      "12        1            0.237740            0.098825           0.369673   \n",
      "13        0            0.195953            0.114962           0.317254   \n",
      "14        1            0.220708            0.102001           0.353266   \n",
      "15        1            0.222806            0.113902           0.350917   \n",
      "16        0            0.212513            0.106420           0.338348   \n",
      "17        1            0.226157            0.104659           0.363888   \n",
      "18        1            0.225672            0.103152           0.356906   \n",
      "19        0            0.222507            0.103281           0.339485   \n",
      "20        0            0.231547            0.107287           0.368716   \n",
      "21        0            0.221414            0.101479           0.349616   \n",
      "22        1            0.215515            0.107697           0.340700   \n",
      "23        0            0.204795            0.111243           0.330495   \n",
      "24        1            0.216771            0.105444           0.348879   \n",
      "25        1            0.223498            0.100765           0.357244   \n",
      "26        0            0.197283            0.115719           0.317615   \n",
      "27        1            0.204789            0.108416           0.333182   \n",
      "28        0            0.226088            0.100078           0.344999   \n",
      "29        0            0.197287            0.109472           0.311906   \n",
      "30        0            0.213956            0.103853           0.337022   \n",
      "31        0            0.216001            0.108469           0.350726   \n",
      "32        0            0.203070            0.112447           0.326122   \n",
      "33        0            0.212050            0.112630           0.337634   \n",
      "34        0            0.215749            0.106088           0.344149   \n",
      "35        1            0.228881            0.098572           0.360865   \n",
      "36        0            0.215817            0.104481           0.343747   \n",
      "37        0            0.191840            0.117562           0.308783   \n",
      "38        0            0.206372            0.102874           0.319060   \n",
      "39        0            0.204446            0.104645           0.331147   \n",
      "40        1            0.222538            0.104618           0.366821   \n",
      "41        1            0.224883            0.101209           0.365710   \n",
      "42        0            0.209726            0.109498           0.333671   \n",
      "43        1            0.238169            0.097198           0.364674   \n",
      "44        0            0.198288            0.108800           0.307878   \n",
      "45        0            0.213211            0.103358           0.336480   \n",
      "46        1            0.227517            0.102620           0.362085   \n",
      "47        0            0.202365            0.109370           0.328628   \n",
      "48        1            0.220266            0.105985           0.355851   \n",
      "49        1            0.250257            0.093975           0.385944   \n",
      "\n",
      "    Biden_N_perc_only  \n",
      "0            0.280178  \n",
      "1            0.282395  \n",
      "2            0.276502  \n",
      "3            0.269965  \n",
      "4            0.299376  \n",
      "5            0.272787  \n",
      "6            0.269946  \n",
      "7            0.262957  \n",
      "8            0.296629  \n",
      "9            0.288012  \n",
      "10           0.291657  \n",
      "11           0.272293  \n",
      "12           0.276907  \n",
      "13           0.300673  \n",
      "14           0.271832  \n",
      "15           0.311996  \n",
      "16           0.286146  \n",
      "17           0.276512  \n",
      "18           0.280534  \n",
      "19           0.299734  \n",
      "20           0.288392  \n",
      "21           0.276742  \n",
      "22           0.293105  \n",
      "23           0.292483  \n",
      "24           0.278464  \n",
      "25           0.269149  \n",
      "26           0.305441  \n",
      "27           0.281342  \n",
      "28           0.290359  \n",
      "29           0.297900  \n",
      "30           0.284407  \n",
      "31           0.282375  \n",
      "32           0.298015  \n",
      "33           0.302808  \n",
      "34           0.284347  \n",
      "35           0.269510  \n",
      "36           0.280739  \n",
      "37           0.310418  \n",
      "38           0.291274  \n",
      "39           0.273501  \n",
      "40           0.265979  \n",
      "41           0.262827  \n",
      "42           0.294778  \n",
      "43           0.280193  \n",
      "44           0.305657  \n",
      "45           0.282132  \n",
      "46           0.276120  \n",
      "47           0.284662  \n",
      "48           0.278166  \n",
      "49           0.267301  \n"
     ]
    },
    {
     "data": {
      "application/vnd.plotly.v1+json": {
       "config": {
        "plotlyServerURL": "https://plot.ly"
       },
       "data": [
        {
         "colorscale": [
          [
           0,
           "#636efa"
          ],
          [
           1,
           "#636efa"
          ]
         ],
         "geo": "geo",
         "hovertemplate": "predicted_winner=Biden<br>state_code=%{location}<extra></extra>",
         "locationmode": "USA-states",
         "locations": [
          "PA",
          "NJ",
          "CO",
          "MA",
          "FL",
          "MN",
          "CA",
          "WA",
          "SC",
          "NV",
          "TX",
          "IL",
          "OR",
          "LA",
          "WI",
          "HI",
          "IN",
          "MD",
          "MI",
          "AK",
          "UT",
          "IA",
          "AZ",
          "KY",
          "VA",
          "NM",
          "OK",
          "GA",
          "ND",
          "TN",
          "NE",
          "KS",
          "AR",
          "ID",
          "OH",
          "NY",
          "NC",
          "WY",
          "SD",
          "DE",
          "CT",
          "MO",
          "ME",
          "MS",
          "MT",
          "RI",
          "WV",
          "NH",
          "VT"
         ],
         "name": "Biden",
         "showlegend": true,
         "showscale": false,
         "type": "choropleth",
         "z": [
          1,
          1,
          1,
          1,
          1,
          1,
          1,
          1,
          1,
          1,
          1,
          1,
          1,
          1,
          1,
          1,
          1,
          1,
          1,
          1,
          1,
          1,
          1,
          1,
          1,
          1,
          1,
          1,
          1,
          1,
          1,
          1,
          1,
          1,
          1,
          1,
          1,
          1,
          1,
          1,
          1,
          1,
          1,
          1,
          1,
          1,
          1,
          1,
          1
         ]
        },
        {
         "colorscale": [
          [
           0,
           "#EF553B"
          ],
          [
           1,
           "#EF553B"
          ]
         ],
         "geo": "geo",
         "hovertemplate": "predicted_winner=Trump<br>state_code=%{location}<extra></extra>",
         "locationmode": "USA-states",
         "locations": [
          "AL"
         ],
         "name": "Trump",
         "showlegend": true,
         "showscale": false,
         "type": "choropleth",
         "z": [
          1
         ]
        }
       ],
       "layout": {
        "geo": {
         "center": {},
         "domain": {
          "x": [
           0,
           1
          ],
          "y": [
           0,
           1
          ]
         },
         "scope": "usa"
        },
        "legend": {
         "title": {
          "text": "predicted_winner"
         },
         "tracegroupgap": 0
        },
        "margin": {
         "t": 60
        },
        "template": {
         "data": {
          "bar": [
           {
            "error_x": {
             "color": "#2a3f5f"
            },
            "error_y": {
             "color": "#2a3f5f"
            },
            "marker": {
             "line": {
              "color": "#E5ECF6",
              "width": 0.5
             },
             "pattern": {
              "fillmode": "overlay",
              "size": 10,
              "solidity": 0.2
             }
            },
            "type": "bar"
           }
          ],
          "barpolar": [
           {
            "marker": {
             "line": {
              "color": "#E5ECF6",
              "width": 0.5
             },
             "pattern": {
              "fillmode": "overlay",
              "size": 10,
              "solidity": 0.2
             }
            },
            "type": "barpolar"
           }
          ],
          "carpet": [
           {
            "aaxis": {
             "endlinecolor": "#2a3f5f",
             "gridcolor": "white",
             "linecolor": "white",
             "minorgridcolor": "white",
             "startlinecolor": "#2a3f5f"
            },
            "baxis": {
             "endlinecolor": "#2a3f5f",
             "gridcolor": "white",
             "linecolor": "white",
             "minorgridcolor": "white",
             "startlinecolor": "#2a3f5f"
            },
            "type": "carpet"
           }
          ],
          "choropleth": [
           {
            "colorbar": {
             "outlinewidth": 0,
             "ticks": ""
            },
            "type": "choropleth"
           }
          ],
          "contour": [
           {
            "colorbar": {
             "outlinewidth": 0,
             "ticks": ""
            },
            "colorscale": [
             [
              0,
              "#0d0887"
             ],
             [
              0.1111111111111111,
              "#46039f"
             ],
             [
              0.2222222222222222,
              "#7201a8"
             ],
             [
              0.3333333333333333,
              "#9c179e"
             ],
             [
              0.4444444444444444,
              "#bd3786"
             ],
             [
              0.5555555555555556,
              "#d8576b"
             ],
             [
              0.6666666666666666,
              "#ed7953"
             ],
             [
              0.7777777777777778,
              "#fb9f3a"
             ],
             [
              0.8888888888888888,
              "#fdca26"
             ],
             [
              1,
              "#f0f921"
             ]
            ],
            "type": "contour"
           }
          ],
          "contourcarpet": [
           {
            "colorbar": {
             "outlinewidth": 0,
             "ticks": ""
            },
            "type": "contourcarpet"
           }
          ],
          "heatmap": [
           {
            "colorbar": {
             "outlinewidth": 0,
             "ticks": ""
            },
            "colorscale": [
             [
              0,
              "#0d0887"
             ],
             [
              0.1111111111111111,
              "#46039f"
             ],
             [
              0.2222222222222222,
              "#7201a8"
             ],
             [
              0.3333333333333333,
              "#9c179e"
             ],
             [
              0.4444444444444444,
              "#bd3786"
             ],
             [
              0.5555555555555556,
              "#d8576b"
             ],
             [
              0.6666666666666666,
              "#ed7953"
             ],
             [
              0.7777777777777778,
              "#fb9f3a"
             ],
             [
              0.8888888888888888,
              "#fdca26"
             ],
             [
              1,
              "#f0f921"
             ]
            ],
            "type": "heatmap"
           }
          ],
          "heatmapgl": [
           {
            "colorbar": {
             "outlinewidth": 0,
             "ticks": ""
            },
            "colorscale": [
             [
              0,
              "#0d0887"
             ],
             [
              0.1111111111111111,
              "#46039f"
             ],
             [
              0.2222222222222222,
              "#7201a8"
             ],
             [
              0.3333333333333333,
              "#9c179e"
             ],
             [
              0.4444444444444444,
              "#bd3786"
             ],
             [
              0.5555555555555556,
              "#d8576b"
             ],
             [
              0.6666666666666666,
              "#ed7953"
             ],
             [
              0.7777777777777778,
              "#fb9f3a"
             ],
             [
              0.8888888888888888,
              "#fdca26"
             ],
             [
              1,
              "#f0f921"
             ]
            ],
            "type": "heatmapgl"
           }
          ],
          "histogram": [
           {
            "marker": {
             "pattern": {
              "fillmode": "overlay",
              "size": 10,
              "solidity": 0.2
             }
            },
            "type": "histogram"
           }
          ],
          "histogram2d": [
           {
            "colorbar": {
             "outlinewidth": 0,
             "ticks": ""
            },
            "colorscale": [
             [
              0,
              "#0d0887"
             ],
             [
              0.1111111111111111,
              "#46039f"
             ],
             [
              0.2222222222222222,
              "#7201a8"
             ],
             [
              0.3333333333333333,
              "#9c179e"
             ],
             [
              0.4444444444444444,
              "#bd3786"
             ],
             [
              0.5555555555555556,
              "#d8576b"
             ],
             [
              0.6666666666666666,
              "#ed7953"
             ],
             [
              0.7777777777777778,
              "#fb9f3a"
             ],
             [
              0.8888888888888888,
              "#fdca26"
             ],
             [
              1,
              "#f0f921"
             ]
            ],
            "type": "histogram2d"
           }
          ],
          "histogram2dcontour": [
           {
            "colorbar": {
             "outlinewidth": 0,
             "ticks": ""
            },
            "colorscale": [
             [
              0,
              "#0d0887"
             ],
             [
              0.1111111111111111,
              "#46039f"
             ],
             [
              0.2222222222222222,
              "#7201a8"
             ],
             [
              0.3333333333333333,
              "#9c179e"
             ],
             [
              0.4444444444444444,
              "#bd3786"
             ],
             [
              0.5555555555555556,
              "#d8576b"
             ],
             [
              0.6666666666666666,
              "#ed7953"
             ],
             [
              0.7777777777777778,
              "#fb9f3a"
             ],
             [
              0.8888888888888888,
              "#fdca26"
             ],
             [
              1,
              "#f0f921"
             ]
            ],
            "type": "histogram2dcontour"
           }
          ],
          "mesh3d": [
           {
            "colorbar": {
             "outlinewidth": 0,
             "ticks": ""
            },
            "type": "mesh3d"
           }
          ],
          "parcoords": [
           {
            "line": {
             "colorbar": {
              "outlinewidth": 0,
              "ticks": ""
             }
            },
            "type": "parcoords"
           }
          ],
          "pie": [
           {
            "automargin": true,
            "type": "pie"
           }
          ],
          "scatter": [
           {
            "fillpattern": {
             "fillmode": "overlay",
             "size": 10,
             "solidity": 0.2
            },
            "type": "scatter"
           }
          ],
          "scatter3d": [
           {
            "line": {
             "colorbar": {
              "outlinewidth": 0,
              "ticks": ""
             }
            },
            "marker": {
             "colorbar": {
              "outlinewidth": 0,
              "ticks": ""
             }
            },
            "type": "scatter3d"
           }
          ],
          "scattercarpet": [
           {
            "marker": {
             "colorbar": {
              "outlinewidth": 0,
              "ticks": ""
             }
            },
            "type": "scattercarpet"
           }
          ],
          "scattergeo": [
           {
            "marker": {
             "colorbar": {
              "outlinewidth": 0,
              "ticks": ""
             }
            },
            "type": "scattergeo"
           }
          ],
          "scattergl": [
           {
            "marker": {
             "colorbar": {
              "outlinewidth": 0,
              "ticks": ""
             }
            },
            "type": "scattergl"
           }
          ],
          "scattermapbox": [
           {
            "marker": {
             "colorbar": {
              "outlinewidth": 0,
              "ticks": ""
             }
            },
            "type": "scattermapbox"
           }
          ],
          "scatterpolar": [
           {
            "marker": {
             "colorbar": {
              "outlinewidth": 0,
              "ticks": ""
             }
            },
            "type": "scatterpolar"
           }
          ],
          "scatterpolargl": [
           {
            "marker": {
             "colorbar": {
              "outlinewidth": 0,
              "ticks": ""
             }
            },
            "type": "scatterpolargl"
           }
          ],
          "scatterternary": [
           {
            "marker": {
             "colorbar": {
              "outlinewidth": 0,
              "ticks": ""
             }
            },
            "type": "scatterternary"
           }
          ],
          "surface": [
           {
            "colorbar": {
             "outlinewidth": 0,
             "ticks": ""
            },
            "colorscale": [
             [
              0,
              "#0d0887"
             ],
             [
              0.1111111111111111,
              "#46039f"
             ],
             [
              0.2222222222222222,
              "#7201a8"
             ],
             [
              0.3333333333333333,
              "#9c179e"
             ],
             [
              0.4444444444444444,
              "#bd3786"
             ],
             [
              0.5555555555555556,
              "#d8576b"
             ],
             [
              0.6666666666666666,
              "#ed7953"
             ],
             [
              0.7777777777777778,
              "#fb9f3a"
             ],
             [
              0.8888888888888888,
              "#fdca26"
             ],
             [
              1,
              "#f0f921"
             ]
            ],
            "type": "surface"
           }
          ],
          "table": [
           {
            "cells": {
             "fill": {
              "color": "#EBF0F8"
             },
             "line": {
              "color": "white"
             }
            },
            "header": {
             "fill": {
              "color": "#C8D4E3"
             },
             "line": {
              "color": "white"
             }
            },
            "type": "table"
           }
          ]
         },
         "layout": {
          "annotationdefaults": {
           "arrowcolor": "#2a3f5f",
           "arrowhead": 0,
           "arrowwidth": 1
          },
          "autotypenumbers": "strict",
          "coloraxis": {
           "colorbar": {
            "outlinewidth": 0,
            "ticks": ""
           }
          },
          "colorscale": {
           "diverging": [
            [
             0,
             "#8e0152"
            ],
            [
             0.1,
             "#c51b7d"
            ],
            [
             0.2,
             "#de77ae"
            ],
            [
             0.3,
             "#f1b6da"
            ],
            [
             0.4,
             "#fde0ef"
            ],
            [
             0.5,
             "#f7f7f7"
            ],
            [
             0.6,
             "#e6f5d0"
            ],
            [
             0.7,
             "#b8e186"
            ],
            [
             0.8,
             "#7fbc41"
            ],
            [
             0.9,
             "#4d9221"
            ],
            [
             1,
             "#276419"
            ]
           ],
           "sequential": [
            [
             0,
             "#0d0887"
            ],
            [
             0.1111111111111111,
             "#46039f"
            ],
            [
             0.2222222222222222,
             "#7201a8"
            ],
            [
             0.3333333333333333,
             "#9c179e"
            ],
            [
             0.4444444444444444,
             "#bd3786"
            ],
            [
             0.5555555555555556,
             "#d8576b"
            ],
            [
             0.6666666666666666,
             "#ed7953"
            ],
            [
             0.7777777777777778,
             "#fb9f3a"
            ],
            [
             0.8888888888888888,
             "#fdca26"
            ],
            [
             1,
             "#f0f921"
            ]
           ],
           "sequentialminus": [
            [
             0,
             "#0d0887"
            ],
            [
             0.1111111111111111,
             "#46039f"
            ],
            [
             0.2222222222222222,
             "#7201a8"
            ],
            [
             0.3333333333333333,
             "#9c179e"
            ],
            [
             0.4444444444444444,
             "#bd3786"
            ],
            [
             0.5555555555555556,
             "#d8576b"
            ],
            [
             0.6666666666666666,
             "#ed7953"
            ],
            [
             0.7777777777777778,
             "#fb9f3a"
            ],
            [
             0.8888888888888888,
             "#fdca26"
            ],
            [
             1,
             "#f0f921"
            ]
           ]
          },
          "colorway": [
           "#636efa",
           "#EF553B",
           "#00cc96",
           "#ab63fa",
           "#FFA15A",
           "#19d3f3",
           "#FF6692",
           "#B6E880",
           "#FF97FF",
           "#FECB52"
          ],
          "font": {
           "color": "#2a3f5f"
          },
          "geo": {
           "bgcolor": "white",
           "lakecolor": "white",
           "landcolor": "#E5ECF6",
           "showlakes": true,
           "showland": true,
           "subunitcolor": "white"
          },
          "hoverlabel": {
           "align": "left"
          },
          "hovermode": "closest",
          "mapbox": {
           "style": "light"
          },
          "paper_bgcolor": "white",
          "plot_bgcolor": "#E5ECF6",
          "polar": {
           "angularaxis": {
            "gridcolor": "white",
            "linecolor": "white",
            "ticks": ""
           },
           "bgcolor": "#E5ECF6",
           "radialaxis": {
            "gridcolor": "white",
            "linecolor": "white",
            "ticks": ""
           }
          },
          "scene": {
           "xaxis": {
            "backgroundcolor": "#E5ECF6",
            "gridcolor": "white",
            "gridwidth": 2,
            "linecolor": "white",
            "showbackground": true,
            "ticks": "",
            "zerolinecolor": "white"
           },
           "yaxis": {
            "backgroundcolor": "#E5ECF6",
            "gridcolor": "white",
            "gridwidth": 2,
            "linecolor": "white",
            "showbackground": true,
            "ticks": "",
            "zerolinecolor": "white"
           },
           "zaxis": {
            "backgroundcolor": "#E5ECF6",
            "gridcolor": "white",
            "gridwidth": 2,
            "linecolor": "white",
            "showbackground": true,
            "ticks": "",
            "zerolinecolor": "white"
           }
          },
          "shapedefaults": {
           "line": {
            "color": "#2a3f5f"
           }
          },
          "ternary": {
           "aaxis": {
            "gridcolor": "white",
            "linecolor": "white",
            "ticks": ""
           },
           "baxis": {
            "gridcolor": "white",
            "linecolor": "white",
            "ticks": ""
           },
           "bgcolor": "#E5ECF6",
           "caxis": {
            "gridcolor": "white",
            "linecolor": "white",
            "ticks": ""
           }
          },
          "title": {
           "x": 0.05
          },
          "xaxis": {
           "automargin": true,
           "gridcolor": "white",
           "linecolor": "white",
           "ticks": "",
           "title": {
            "standoff": 15
           },
           "zerolinecolor": "white",
           "zerolinewidth": 2
          },
          "yaxis": {
           "automargin": true,
           "gridcolor": "white",
           "linecolor": "white",
           "ticks": "",
           "title": {
            "standoff": 15
           },
           "zerolinecolor": "white",
           "zerolinewidth": 2
          }
         }
        }
       }
      },
      "text/html": [
       "<div>                            <div id=\"c77aa4dc-34c7-4057-8c98-5c95e27092ed\" class=\"plotly-graph-div\" style=\"height:525px; width:100%;\"></div>            <script type=\"text/javascript\">                require([\"plotly\"], function(Plotly) {                    window.PLOTLYENV=window.PLOTLYENV || {};                                    if (document.getElementById(\"c77aa4dc-34c7-4057-8c98-5c95e27092ed\")) {                    Plotly.newPlot(                        \"c77aa4dc-34c7-4057-8c98-5c95e27092ed\",                        [{\"colorscale\":[[0.0,\"#636efa\"],[1.0,\"#636efa\"]],\"geo\":\"geo\",\"hovertemplate\":\"predicted_winner=Biden<br>state_code=%{location}<extra></extra>\",\"locationmode\":\"USA-states\",\"locations\":[\"PA\",\"NJ\",\"CO\",\"MA\",\"FL\",\"MN\",\"CA\",\"WA\",\"SC\",\"NV\",\"TX\",\"IL\",\"OR\",\"LA\",\"WI\",\"HI\",\"IN\",\"MD\",\"MI\",\"AK\",\"UT\",\"IA\",\"AZ\",\"KY\",\"VA\",\"NM\",\"OK\",\"GA\",\"ND\",\"TN\",\"NE\",\"KS\",\"AR\",\"ID\",\"OH\",\"NY\",\"NC\",\"WY\",\"SD\",\"DE\",\"CT\",\"MO\",\"ME\",\"MS\",\"MT\",\"RI\",\"WV\",\"NH\",\"VT\"],\"name\":\"Biden\",\"showlegend\":true,\"showscale\":false,\"z\":[1,1,1,1,1,1,1,1,1,1,1,1,1,1,1,1,1,1,1,1,1,1,1,1,1,1,1,1,1,1,1,1,1,1,1,1,1,1,1,1,1,1,1,1,1,1,1,1,1],\"type\":\"choropleth\"},{\"colorscale\":[[0.0,\"#EF553B\"],[1.0,\"#EF553B\"]],\"geo\":\"geo\",\"hovertemplate\":\"predicted_winner=Trump<br>state_code=%{location}<extra></extra>\",\"locationmode\":\"USA-states\",\"locations\":[\"AL\"],\"name\":\"Trump\",\"showlegend\":true,\"showscale\":false,\"z\":[1],\"type\":\"choropleth\"}],                        {\"template\":{\"data\":{\"histogram2dcontour\":[{\"type\":\"histogram2dcontour\",\"colorbar\":{\"outlinewidth\":0,\"ticks\":\"\"},\"colorscale\":[[0.0,\"#0d0887\"],[0.1111111111111111,\"#46039f\"],[0.2222222222222222,\"#7201a8\"],[0.3333333333333333,\"#9c179e\"],[0.4444444444444444,\"#bd3786\"],[0.5555555555555556,\"#d8576b\"],[0.6666666666666666,\"#ed7953\"],[0.7777777777777778,\"#fb9f3a\"],[0.8888888888888888,\"#fdca26\"],[1.0,\"#f0f921\"]]}],\"choropleth\":[{\"type\":\"choropleth\",\"colorbar\":{\"outlinewidth\":0,\"ticks\":\"\"}}],\"histogram2d\":[{\"type\":\"histogram2d\",\"colorbar\":{\"outlinewidth\":0,\"ticks\":\"\"},\"colorscale\":[[0.0,\"#0d0887\"],[0.1111111111111111,\"#46039f\"],[0.2222222222222222,\"#7201a8\"],[0.3333333333333333,\"#9c179e\"],[0.4444444444444444,\"#bd3786\"],[0.5555555555555556,\"#d8576b\"],[0.6666666666666666,\"#ed7953\"],[0.7777777777777778,\"#fb9f3a\"],[0.8888888888888888,\"#fdca26\"],[1.0,\"#f0f921\"]]}],\"heatmap\":[{\"type\":\"heatmap\",\"colorbar\":{\"outlinewidth\":0,\"ticks\":\"\"},\"colorscale\":[[0.0,\"#0d0887\"],[0.1111111111111111,\"#46039f\"],[0.2222222222222222,\"#7201a8\"],[0.3333333333333333,\"#9c179e\"],[0.4444444444444444,\"#bd3786\"],[0.5555555555555556,\"#d8576b\"],[0.6666666666666666,\"#ed7953\"],[0.7777777777777778,\"#fb9f3a\"],[0.8888888888888888,\"#fdca26\"],[1.0,\"#f0f921\"]]}],\"heatmapgl\":[{\"type\":\"heatmapgl\",\"colorbar\":{\"outlinewidth\":0,\"ticks\":\"\"},\"colorscale\":[[0.0,\"#0d0887\"],[0.1111111111111111,\"#46039f\"],[0.2222222222222222,\"#7201a8\"],[0.3333333333333333,\"#9c179e\"],[0.4444444444444444,\"#bd3786\"],[0.5555555555555556,\"#d8576b\"],[0.6666666666666666,\"#ed7953\"],[0.7777777777777778,\"#fb9f3a\"],[0.8888888888888888,\"#fdca26\"],[1.0,\"#f0f921\"]]}],\"contourcarpet\":[{\"type\":\"contourcarpet\",\"colorbar\":{\"outlinewidth\":0,\"ticks\":\"\"}}],\"contour\":[{\"type\":\"contour\",\"colorbar\":{\"outlinewidth\":0,\"ticks\":\"\"},\"colorscale\":[[0.0,\"#0d0887\"],[0.1111111111111111,\"#46039f\"],[0.2222222222222222,\"#7201a8\"],[0.3333333333333333,\"#9c179e\"],[0.4444444444444444,\"#bd3786\"],[0.5555555555555556,\"#d8576b\"],[0.6666666666666666,\"#ed7953\"],[0.7777777777777778,\"#fb9f3a\"],[0.8888888888888888,\"#fdca26\"],[1.0,\"#f0f921\"]]}],\"surface\":[{\"type\":\"surface\",\"colorbar\":{\"outlinewidth\":0,\"ticks\":\"\"},\"colorscale\":[[0.0,\"#0d0887\"],[0.1111111111111111,\"#46039f\"],[0.2222222222222222,\"#7201a8\"],[0.3333333333333333,\"#9c179e\"],[0.4444444444444444,\"#bd3786\"],[0.5555555555555556,\"#d8576b\"],[0.6666666666666666,\"#ed7953\"],[0.7777777777777778,\"#fb9f3a\"],[0.8888888888888888,\"#fdca26\"],[1.0,\"#f0f921\"]]}],\"mesh3d\":[{\"type\":\"mesh3d\",\"colorbar\":{\"outlinewidth\":0,\"ticks\":\"\"}}],\"scatter\":[{\"fillpattern\":{\"fillmode\":\"overlay\",\"size\":10,\"solidity\":0.2},\"type\":\"scatter\"}],\"parcoords\":[{\"type\":\"parcoords\",\"line\":{\"colorbar\":{\"outlinewidth\":0,\"ticks\":\"\"}}}],\"scatterpolargl\":[{\"type\":\"scatterpolargl\",\"marker\":{\"colorbar\":{\"outlinewidth\":0,\"ticks\":\"\"}}}],\"bar\":[{\"error_x\":{\"color\":\"#2a3f5f\"},\"error_y\":{\"color\":\"#2a3f5f\"},\"marker\":{\"line\":{\"color\":\"#E5ECF6\",\"width\":0.5},\"pattern\":{\"fillmode\":\"overlay\",\"size\":10,\"solidity\":0.2}},\"type\":\"bar\"}],\"scattergeo\":[{\"type\":\"scattergeo\",\"marker\":{\"colorbar\":{\"outlinewidth\":0,\"ticks\":\"\"}}}],\"scatterpolar\":[{\"type\":\"scatterpolar\",\"marker\":{\"colorbar\":{\"outlinewidth\":0,\"ticks\":\"\"}}}],\"histogram\":[{\"marker\":{\"pattern\":{\"fillmode\":\"overlay\",\"size\":10,\"solidity\":0.2}},\"type\":\"histogram\"}],\"scattergl\":[{\"type\":\"scattergl\",\"marker\":{\"colorbar\":{\"outlinewidth\":0,\"ticks\":\"\"}}}],\"scatter3d\":[{\"type\":\"scatter3d\",\"line\":{\"colorbar\":{\"outlinewidth\":0,\"ticks\":\"\"}},\"marker\":{\"colorbar\":{\"outlinewidth\":0,\"ticks\":\"\"}}}],\"scattermapbox\":[{\"type\":\"scattermapbox\",\"marker\":{\"colorbar\":{\"outlinewidth\":0,\"ticks\":\"\"}}}],\"scatterternary\":[{\"type\":\"scatterternary\",\"marker\":{\"colorbar\":{\"outlinewidth\":0,\"ticks\":\"\"}}}],\"scattercarpet\":[{\"type\":\"scattercarpet\",\"marker\":{\"colorbar\":{\"outlinewidth\":0,\"ticks\":\"\"}}}],\"carpet\":[{\"aaxis\":{\"endlinecolor\":\"#2a3f5f\",\"gridcolor\":\"white\",\"linecolor\":\"white\",\"minorgridcolor\":\"white\",\"startlinecolor\":\"#2a3f5f\"},\"baxis\":{\"endlinecolor\":\"#2a3f5f\",\"gridcolor\":\"white\",\"linecolor\":\"white\",\"minorgridcolor\":\"white\",\"startlinecolor\":\"#2a3f5f\"},\"type\":\"carpet\"}],\"table\":[{\"cells\":{\"fill\":{\"color\":\"#EBF0F8\"},\"line\":{\"color\":\"white\"}},\"header\":{\"fill\":{\"color\":\"#C8D4E3\"},\"line\":{\"color\":\"white\"}},\"type\":\"table\"}],\"barpolar\":[{\"marker\":{\"line\":{\"color\":\"#E5ECF6\",\"width\":0.5},\"pattern\":{\"fillmode\":\"overlay\",\"size\":10,\"solidity\":0.2}},\"type\":\"barpolar\"}],\"pie\":[{\"automargin\":true,\"type\":\"pie\"}]},\"layout\":{\"autotypenumbers\":\"strict\",\"colorway\":[\"#636efa\",\"#EF553B\",\"#00cc96\",\"#ab63fa\",\"#FFA15A\",\"#19d3f3\",\"#FF6692\",\"#B6E880\",\"#FF97FF\",\"#FECB52\"],\"font\":{\"color\":\"#2a3f5f\"},\"hovermode\":\"closest\",\"hoverlabel\":{\"align\":\"left\"},\"paper_bgcolor\":\"white\",\"plot_bgcolor\":\"#E5ECF6\",\"polar\":{\"bgcolor\":\"#E5ECF6\",\"angularaxis\":{\"gridcolor\":\"white\",\"linecolor\":\"white\",\"ticks\":\"\"},\"radialaxis\":{\"gridcolor\":\"white\",\"linecolor\":\"white\",\"ticks\":\"\"}},\"ternary\":{\"bgcolor\":\"#E5ECF6\",\"aaxis\":{\"gridcolor\":\"white\",\"linecolor\":\"white\",\"ticks\":\"\"},\"baxis\":{\"gridcolor\":\"white\",\"linecolor\":\"white\",\"ticks\":\"\"},\"caxis\":{\"gridcolor\":\"white\",\"linecolor\":\"white\",\"ticks\":\"\"}},\"coloraxis\":{\"colorbar\":{\"outlinewidth\":0,\"ticks\":\"\"}},\"colorscale\":{\"sequential\":[[0.0,\"#0d0887\"],[0.1111111111111111,\"#46039f\"],[0.2222222222222222,\"#7201a8\"],[0.3333333333333333,\"#9c179e\"],[0.4444444444444444,\"#bd3786\"],[0.5555555555555556,\"#d8576b\"],[0.6666666666666666,\"#ed7953\"],[0.7777777777777778,\"#fb9f3a\"],[0.8888888888888888,\"#fdca26\"],[1.0,\"#f0f921\"]],\"sequentialminus\":[[0.0,\"#0d0887\"],[0.1111111111111111,\"#46039f\"],[0.2222222222222222,\"#7201a8\"],[0.3333333333333333,\"#9c179e\"],[0.4444444444444444,\"#bd3786\"],[0.5555555555555556,\"#d8576b\"],[0.6666666666666666,\"#ed7953\"],[0.7777777777777778,\"#fb9f3a\"],[0.8888888888888888,\"#fdca26\"],[1.0,\"#f0f921\"]],\"diverging\":[[0,\"#8e0152\"],[0.1,\"#c51b7d\"],[0.2,\"#de77ae\"],[0.3,\"#f1b6da\"],[0.4,\"#fde0ef\"],[0.5,\"#f7f7f7\"],[0.6,\"#e6f5d0\"],[0.7,\"#b8e186\"],[0.8,\"#7fbc41\"],[0.9,\"#4d9221\"],[1,\"#276419\"]]},\"xaxis\":{\"gridcolor\":\"white\",\"linecolor\":\"white\",\"ticks\":\"\",\"title\":{\"standoff\":15},\"zerolinecolor\":\"white\",\"automargin\":true,\"zerolinewidth\":2},\"yaxis\":{\"gridcolor\":\"white\",\"linecolor\":\"white\",\"ticks\":\"\",\"title\":{\"standoff\":15},\"zerolinecolor\":\"white\",\"automargin\":true,\"zerolinewidth\":2},\"scene\":{\"xaxis\":{\"backgroundcolor\":\"#E5ECF6\",\"gridcolor\":\"white\",\"linecolor\":\"white\",\"showbackground\":true,\"ticks\":\"\",\"zerolinecolor\":\"white\",\"gridwidth\":2},\"yaxis\":{\"backgroundcolor\":\"#E5ECF6\",\"gridcolor\":\"white\",\"linecolor\":\"white\",\"showbackground\":true,\"ticks\":\"\",\"zerolinecolor\":\"white\",\"gridwidth\":2},\"zaxis\":{\"backgroundcolor\":\"#E5ECF6\",\"gridcolor\":\"white\",\"linecolor\":\"white\",\"showbackground\":true,\"ticks\":\"\",\"zerolinecolor\":\"white\",\"gridwidth\":2}},\"shapedefaults\":{\"line\":{\"color\":\"#2a3f5f\"}},\"annotationdefaults\":{\"arrowcolor\":\"#2a3f5f\",\"arrowhead\":0,\"arrowwidth\":1},\"geo\":{\"bgcolor\":\"white\",\"landcolor\":\"#E5ECF6\",\"subunitcolor\":\"white\",\"showland\":true,\"showlakes\":true,\"lakecolor\":\"white\"},\"title\":{\"x\":0.05},\"mapbox\":{\"style\":\"light\"}}},\"geo\":{\"domain\":{\"x\":[0.0,1.0],\"y\":[0.0,1.0]},\"center\":{},\"scope\":\"usa\"},\"legend\":{\"title\":{\"text\":\"predicted_winner\"},\"tracegroupgap\":0},\"margin\":{\"t\":60}},                        {\"responsive\": true}                    ).then(function(){\n",
       "                            \n",
       "var gd = document.getElementById('c77aa4dc-34c7-4057-8c98-5c95e27092ed');\n",
       "var x = new MutationObserver(function (mutations, observer) {{\n",
       "        var display = window.getComputedStyle(gd).display;\n",
       "        if (!display || display === 'none') {{\n",
       "            console.log([gd, 'removed!']);\n",
       "            Plotly.purge(gd);\n",
       "            observer.disconnect();\n",
       "        }}\n",
       "}});\n",
       "\n",
       "// Listen for the removal of the full notebook cells\n",
       "var notebookContainer = gd.closest('#notebook-container');\n",
       "if (notebookContainer) {{\n",
       "    x.observe(notebookContainer, {childList: true});\n",
       "}}\n",
       "\n",
       "// Listen for the clearing of the current output cell\n",
       "var outputEl = gd.closest('.output');\n",
       "if (outputEl) {{\n",
       "    x.observe(outputEl, {childList: true});\n",
       "}}\n",
       "\n",
       "                        })                };                });            </script>        </div>"
      ]
     },
     "metadata": {},
     "output_type": "display_data"
    },
    {
     "name": "stdout",
     "output_type": "stream",
     "text": [
      "0.52\n"
     ]
    }
   ],
   "source": [
    "overview_df['predicted_winner'] = np.where(overview_df[\"Trump_N_perc_only\"] > \n",
    "                                            overview_df[\"Biden_N_perc_only\"], 'Biden', 'Trump')\n",
    "\n",
    "print(overview_df)\n",
    "fig = px.choropleth(overview_df, color='predicted_winner', locations='state_code', locationmode=\"USA-states\", scope=\"usa\")\n",
    "fig.show()\n",
    "overview_df[\"correct\"] = np.where(overview_df[\"predicted_winner\"] == overview_df[\"winner\"], 1, 0)\n",
    "accuracy = np.sum(overview_df[\"correct\"]) / len(overview_df[\"correct\"])\n",
    "print(accuracy)"
   ]
  },
  {
   "cell_type": "code",
   "execution_count": null,
   "metadata": {},
   "outputs": [],
   "source": []
  }
 ],
 "metadata": {
  "kernelspec": {
   "display_name": "Python 3 (ipykernel)",
   "language": "python",
   "name": "python3"
  },
  "language_info": {
   "codemirror_mode": {
    "name": "ipython",
    "version": 3
   },
   "file_extension": ".py",
   "mimetype": "text/x-python",
   "name": "python",
   "nbconvert_exporter": "python",
   "pygments_lexer": "ipython3",
   "version": "3.8.13"
  },
  "varInspector": {
   "cols": {
    "lenName": 16,
    "lenType": 16,
    "lenVar": 40
   },
   "kernels_config": {
    "python": {
     "delete_cmd_postfix": "",
     "delete_cmd_prefix": "del ",
     "library": "var_list.py",
     "varRefreshCmd": "print(var_dic_list())"
    },
    "r": {
     "delete_cmd_postfix": ") ",
     "delete_cmd_prefix": "rm(",
     "library": "var_list.r",
     "varRefreshCmd": "cat(var_dic_list()) "
    }
   },
   "types_to_exclude": [
    "module",
    "function",
    "builtin_function_or_method",
    "instance",
    "_Feature"
   ],
   "window_display": false
  }
 },
 "nbformat": 4,
 "nbformat_minor": 4
}
